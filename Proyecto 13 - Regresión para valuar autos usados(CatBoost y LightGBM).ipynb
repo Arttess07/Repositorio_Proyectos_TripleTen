{
 "cells": [
  {
   "cell_type": "markdown",
   "metadata": {},
   "source": [
    "El servicio de venta de autos usados Rusty Bargain está desarrollando una aplicación para atraer nuevos clientes. Gracias a esa app, puedes averiguar rápidamente el valor de mercado de tu coche. Tienes acceso al historial: especificaciones técnicas, versiones de equipamiento y precios. Tienes que crear un modelo que determine el valor de mercado.\n",
    "A Rusty Bargain le interesa:\n",
    "- la calidad de la predicción;\n",
    "- la velocidad de la predicción;\n",
    "- el tiempo requerido para el entrenamiento"
   ]
  },
  {
   "cell_type": "markdown",
   "metadata": {},
   "source": [
    "## Preparación de datos"
   ]
  },
  {
   "cell_type": "markdown",
   "metadata": {},
   "source": [
    "Antes de poder trabajar en crear nuestro modelo, debemos de revisar si toda la información provista es pertinente.\n",
    "También es necesario darle estructura en caso de que los títulos de las columnas nos resulten confusos.\n",
    "Haremos una limpieza de los datos provistos y nos quedaremos únicamente con la información útil para entrenar nuestro modelo."
   ]
  },
  {
   "cell_type": "code",
   "execution_count": 1,
   "metadata": {},
   "outputs": [
    {
     "name": "stdout",
     "output_type": "stream",
     "text": [
      "Requirement already satisfied: lightgbm in /opt/conda/envs/python3/lib/python3.9/site-packages (3.3.1)\n",
      "Requirement already satisfied: wheel in /opt/conda/envs/python3/lib/python3.9/site-packages (from lightgbm) (0.43.0)\n",
      "Requirement already satisfied: numpy in /opt/conda/envs/python3/lib/python3.9/site-packages (from lightgbm) (1.21.2)\n",
      "Requirement already satisfied: scipy in /opt/conda/envs/python3/lib/python3.9/site-packages (from lightgbm) (1.10.1)\n",
      "Requirement already satisfied: scikit-learn!=0.22.0 in /opt/conda/envs/python3/lib/python3.9/site-packages (from lightgbm) (0.24.1)\n",
      "Requirement already satisfied: joblib>=0.11 in /opt/conda/envs/python3/lib/python3.9/site-packages (from scikit-learn!=0.22.0->lightgbm) (1.4.2)\n",
      "Requirement already satisfied: threadpoolctl>=2.0.0 in /opt/conda/envs/python3/lib/python3.9/site-packages (from scikit-learn!=0.22.0->lightgbm) (3.5.0)\n",
      "Note: you may need to restart the kernel to use updated packages.\n"
     ]
    }
   ],
   "source": [
    "pip install lightgbm"
   ]
  },
  {
   "cell_type": "code",
   "execution_count": 2,
   "metadata": {},
   "outputs": [
    {
     "name": "stdout",
     "output_type": "stream",
     "text": [
      "Requirement already satisfied: catboost in /opt/conda/envs/python3/lib/python3.9/site-packages (1.0.3)\n",
      "Requirement already satisfied: graphviz in /opt/conda/envs/python3/lib/python3.9/site-packages (from catboost) (0.20.3)\n",
      "Requirement already satisfied: matplotlib in /opt/conda/envs/python3/lib/python3.9/site-packages (from catboost) (3.3.4)\n",
      "Requirement already satisfied: numpy>=1.16.0 in /opt/conda/envs/python3/lib/python3.9/site-packages (from catboost) (1.21.2)\n",
      "Requirement already satisfied: pandas>=0.24.0 in /opt/conda/envs/python3/lib/python3.9/site-packages (from catboost) (1.2.4)\n",
      "Requirement already satisfied: scipy in /opt/conda/envs/python3/lib/python3.9/site-packages (from catboost) (1.10.1)\n",
      "Requirement already satisfied: plotly in /opt/conda/envs/python3/lib/python3.9/site-packages (from catboost) (5.4.0)\n",
      "Requirement already satisfied: six in /opt/conda/envs/python3/lib/python3.9/site-packages (from catboost) (1.16.0)\n",
      "Requirement already satisfied: python-dateutil>=2.7.3 in /opt/conda/envs/python3/lib/python3.9/site-packages (from pandas>=0.24.0->catboost) (2.9.0)\n",
      "Requirement already satisfied: pytz>=2017.3 in /opt/conda/envs/python3/lib/python3.9/site-packages (from pandas>=0.24.0->catboost) (2024.1)\n",
      "Requirement already satisfied: cycler>=0.10 in /opt/conda/envs/python3/lib/python3.9/site-packages (from matplotlib->catboost) (0.12.1)\n",
      "Requirement already satisfied: kiwisolver>=1.0.1 in /opt/conda/envs/python3/lib/python3.9/site-packages (from matplotlib->catboost) (1.4.5)\n",
      "Requirement already satisfied: pillow>=6.2.0 in /opt/conda/envs/python3/lib/python3.9/site-packages (from matplotlib->catboost) (8.4.0)\n",
      "Requirement already satisfied: pyparsing!=2.0.4,!=2.1.2,!=2.1.6,>=2.0.3 in /opt/conda/envs/python3/lib/python3.9/site-packages (from matplotlib->catboost) (3.1.2)\n",
      "Requirement already satisfied: tenacity>=6.2.0 in /opt/conda/envs/python3/lib/python3.9/site-packages (from plotly->catboost) (8.3.0)\n",
      "Note: you may need to restart the kernel to use updated packages.\n"
     ]
    }
   ],
   "source": [
    "pip install catboost"
   ]
  },
  {
   "cell_type": "code",
   "execution_count": 3,
   "metadata": {},
   "outputs": [],
   "source": [
    "import pandas as pd #Instalamos liberías necesarias para entrenar nuestro modelo\n",
    "import numpy as np\n",
    "import math\n",
    "from sklearn.model_selection import train_test_split\n",
    "from sklearn.preprocessing import OrdinalEncoder\n",
    "from sklearn.metrics import mean_squared_error\n",
    "from catboost import CatBoostRegressor\n",
    "from lightgbm import LGBMRegressor\n",
    "from sklearn.ensemble import RandomForestRegressor\n",
    "import time"
   ]
  },
  {
   "cell_type": "code",
   "execution_count": 4,
   "metadata": {},
   "outputs": [
    {
     "name": "stdout",
     "output_type": "stream",
     "text": [
      "<class 'pandas.core.frame.DataFrame'>\n",
      "RangeIndex: 354369 entries, 0 to 354368\n",
      "Data columns (total 16 columns):\n",
      " #   Column                 Non-Null Count   Dtype \n",
      "---  ------                 --------------   ----- \n",
      " 0   download_profile_date  354369 non-null  object\n",
      " 1   price                  354369 non-null  int64 \n",
      " 2   vehicle_type           316879 non-null  object\n",
      " 3   reg_year               354369 non-null  int64 \n",
      " 4   gearbox                334536 non-null  object\n",
      " 5   power_cv               354369 non-null  int64 \n",
      " 6   vehicle_model          334664 non-null  object\n",
      " 7   mileage                354369 non-null  int64 \n",
      " 8   vehicle_reg_month      354369 non-null  int64 \n",
      " 9   fuel_type              321474 non-null  object\n",
      " 10  brand                  354369 non-null  object\n",
      " 11  not_repaired           283215 non-null  object\n",
      " 12  profile_date_creation  354369 non-null  object\n",
      " 13  number_of_pics         354369 non-null  int64 \n",
      " 14  postal_code            354369 non-null  int64 \n",
      " 15  user_last_active_date  354369 non-null  object\n",
      "dtypes: int64(7), object(9)\n",
      "memory usage: 43.3+ MB\n",
      "None\n"
     ]
    }
   ],
   "source": [
    "df = pd.read_csv('/datasets/car_data.csv') #Leemos data\n",
    "df = df.rename(columns={'DateCrawled':'download_profile_date','Price':'price','VehicleType':'vehicle_type','RegistrationYear':'reg_year','Gearbox':'gearbox','Power':'power_cv','Model':'vehicle_model','Mileage':'mileage','RegistrationMonth':'vehicle_reg_month','FuelType':'fuel_type','Brand':'brand','NotRepaired':'not_repaired','DateCreated':'profile_date_creation','NumberOfPictures':'number_of_pics','PostalCode':'postal_code','LastSeen':'user_last_active_date'}) #Renombramos columnas para facilitar lectura\n",
    "print(df.info()) #Revisamos contenidos"
   ]
  },
  {
   "cell_type": "markdown",
   "metadata": {},
   "source": [
    "Decidí eliminar estas columnas ya que no creo que sean relevantes para la predicción del precio del automovil.\n",
    "Las variables dentro de estas columnas no nos sirvan para hacer un modelo como el que buscamos."
   ]
  },
  {
   "cell_type": "code",
   "execution_count": 5,
   "metadata": {},
   "outputs": [],
   "source": [
    "df = df.drop(['download_profile_date', 'profile_date_creation', 'number_of_pics', 'postal_code', 'user_last_active_date', 'vehicle_reg_month'], axis=1)"
   ]
  },
  {
   "cell_type": "code",
   "execution_count": 6,
   "metadata": {},
   "outputs": [
    {
     "name": "stdout",
     "output_type": "stream",
     "text": [
      "price                0\n",
      "vehicle_type     37490\n",
      "reg_year             0\n",
      "gearbox          19833\n",
      "power_cv             0\n",
      "vehicle_model    19705\n",
      "mileage              0\n",
      "fuel_type        32895\n",
      "brand                0\n",
      "not_repaired     71154\n",
      "dtype: int64\n",
      "\n",
      "45040\n"
     ]
    }
   ],
   "source": [
    "print(df.isna().sum()) #Revisamos datos nulos en nuestro DataFrame\n",
    "print()\n",
    "print(df.duplicated().sum()) #Revisamos si existen datos duplicados"
   ]
  },
  {
   "cell_type": "markdown",
   "metadata": {},
   "source": [
    "Llenamos los valores núlos con un valor de Unkown, ya que no sabemos que información corresponde en estas columnas.\n",
    "Información como tipo de vehículo, caja de cambios, modelo y tipo de combustible, son variables no numéricas que el usuarios nos debería de proveer."
   ]
  },
  {
   "cell_type": "code",
   "execution_count": 7,
   "metadata": {},
   "outputs": [],
   "source": [
    "df = df.fillna('Unknown') "
   ]
  },
  {
   "cell_type": "code",
   "execution_count": 8,
   "metadata": {},
   "outputs": [
    {
     "name": "stdout",
     "output_type": "stream",
     "text": [
      "0\n",
      "\n",
      "   price vehicle_type  reg_year gearbox  power_cv vehicle_model  mileage  \\\n",
      "0    480      Unknown      1993  manual         0          golf   150000   \n",
      "1  18300        coupe      2011  manual       190       Unknown   125000   \n",
      "2   9800          suv      2004    auto       163         grand   125000   \n",
      "3   1500        small      2001  manual        75          golf   150000   \n",
      "4   3600        small      2008  manual        69         fabia    90000   \n",
      "\n",
      "  fuel_type       brand not_repaired  \n",
      "0    petrol  volkswagen      Unknown  \n",
      "1  gasoline        audi          yes  \n",
      "2  gasoline        jeep      Unknown  \n",
      "3    petrol  volkswagen           no  \n",
      "4  gasoline       skoda           no  \n"
     ]
    }
   ],
   "source": [
    "df = df.drop_duplicates() #Removemos datos duplicados de nuestra base de datos\n",
    "print(df.duplicated().sum()) #Validamos que ya no existan duplicados\n",
    "print()\n",
    "print(df.head(5)) #Checamos como quedó nuestro data frame"
   ]
  },
  {
   "cell_type": "markdown",
   "metadata": {},
   "source": [
    "Creamos otro data frame que contenga sólo lo9s datos que sí conocemos. De esa manera podemos entrenar el modelo con variables conocidas y comparar los resultados."
   ]
  },
  {
   "cell_type": "code",
   "execution_count": 9,
   "metadata": {},
   "outputs": [
    {
     "name": "stdout",
     "output_type": "stream",
     "text": [
      "   price vehicle_type  reg_year gearbox  power_cv vehicle_model  mileage  \\\n",
      "3   1500        small      2001  manual        75          golf   150000   \n",
      "4   3600        small      2008  manual        69         fabia    90000   \n",
      "5    650        sedan      1995  manual       102           3er   150000   \n",
      "6   2200  convertible      2004  manual       109       2_reihe   150000   \n",
      "7      0        sedan      1980  manual        50         other    40000   \n",
      "\n",
      "  fuel_type       brand not_repaired  \n",
      "3    petrol  volkswagen           no  \n",
      "4  gasoline       skoda           no  \n",
      "5    petrol         bmw          yes  \n",
      "6    petrol     peugeot           no  \n",
      "7    petrol  volkswagen           no  \n"
     ]
    }
   ],
   "source": [
    "df_no_unknown= df[(df.vehicle_type != 'Unknown') & (df.gearbox != 'Unknown') & (df.vehicle_model!= 'Unknown') & (df.fuel_type != 'Unknown') & (df.not_repaired != 'Unknown')]\n",
    "print(df_no_unknown.head(5))#Validamos que los datos unkown hayan sido removidos."
   ]
  },
  {
   "cell_type": "code",
   "execution_count": 10,
   "metadata": {},
   "outputs": [
    {
     "data": {
      "text/html": [
       "<div>\n",
       "<style scoped>\n",
       "    .dataframe tbody tr th:only-of-type {\n",
       "        vertical-align: middle;\n",
       "    }\n",
       "\n",
       "    .dataframe tbody tr th {\n",
       "        vertical-align: top;\n",
       "    }\n",
       "\n",
       "    .dataframe thead th {\n",
       "        text-align: right;\n",
       "    }\n",
       "</style>\n",
       "<table border=\"1\" class=\"dataframe\">\n",
       "  <thead>\n",
       "    <tr style=\"text-align: right;\">\n",
       "      <th></th>\n",
       "      <th>price</th>\n",
       "      <th>reg_year</th>\n",
       "      <th>power_cv</th>\n",
       "      <th>mileage</th>\n",
       "    </tr>\n",
       "  </thead>\n",
       "  <tbody>\n",
       "    <tr>\n",
       "      <th>count</th>\n",
       "      <td>309329.000000</td>\n",
       "      <td>309329.000000</td>\n",
       "      <td>309329.000000</td>\n",
       "      <td>309329.000000</td>\n",
       "    </tr>\n",
       "    <tr>\n",
       "      <th>mean</th>\n",
       "      <td>4486.937196</td>\n",
       "      <td>2004.360105</td>\n",
       "      <td>110.976908</td>\n",
       "      <td>127217.735809</td>\n",
       "    </tr>\n",
       "    <tr>\n",
       "      <th>std</th>\n",
       "      <td>4564.852796</td>\n",
       "      <td>92.541399</td>\n",
       "      <td>200.969473</td>\n",
       "      <td>38532.941010</td>\n",
       "    </tr>\n",
       "    <tr>\n",
       "      <th>min</th>\n",
       "      <td>0.000000</td>\n",
       "      <td>1000.000000</td>\n",
       "      <td>0.000000</td>\n",
       "      <td>5000.000000</td>\n",
       "    </tr>\n",
       "    <tr>\n",
       "      <th>25%</th>\n",
       "      <td>1100.000000</td>\n",
       "      <td>1999.000000</td>\n",
       "      <td>69.000000</td>\n",
       "      <td>125000.000000</td>\n",
       "    </tr>\n",
       "    <tr>\n",
       "      <th>50%</th>\n",
       "      <td>2800.000000</td>\n",
       "      <td>2003.000000</td>\n",
       "      <td>105.000000</td>\n",
       "      <td>150000.000000</td>\n",
       "    </tr>\n",
       "    <tr>\n",
       "      <th>75%</th>\n",
       "      <td>6500.000000</td>\n",
       "      <td>2008.000000</td>\n",
       "      <td>143.000000</td>\n",
       "      <td>150000.000000</td>\n",
       "    </tr>\n",
       "    <tr>\n",
       "      <th>max</th>\n",
       "      <td>20000.000000</td>\n",
       "      <td>9999.000000</td>\n",
       "      <td>20000.000000</td>\n",
       "      <td>150000.000000</td>\n",
       "    </tr>\n",
       "  </tbody>\n",
       "</table>\n",
       "</div>"
      ],
      "text/plain": [
       "               price       reg_year       power_cv        mileage\n",
       "count  309329.000000  309329.000000  309329.000000  309329.000000\n",
       "mean     4486.937196    2004.360105     110.976908  127217.735809\n",
       "std      4564.852796      92.541399     200.969473   38532.941010\n",
       "min         0.000000    1000.000000       0.000000    5000.000000\n",
       "25%      1100.000000    1999.000000      69.000000  125000.000000\n",
       "50%      2800.000000    2003.000000     105.000000  150000.000000\n",
       "75%      6500.000000    2008.000000     143.000000  150000.000000\n",
       "max     20000.000000    9999.000000   20000.000000  150000.000000"
      ]
     },
     "execution_count": 10,
     "metadata": {},
     "output_type": "execute_result"
    }
   ],
   "source": [
    "df.describe()"
   ]
  },
  {
   "cell_type": "code",
   "execution_count": 11,
   "metadata": {},
   "outputs": [
    {
     "data": {
      "text/html": [
       "<div>\n",
       "<style scoped>\n",
       "    .dataframe tbody tr th:only-of-type {\n",
       "        vertical-align: middle;\n",
       "    }\n",
       "\n",
       "    .dataframe tbody tr th {\n",
       "        vertical-align: top;\n",
       "    }\n",
       "\n",
       "    .dataframe thead th {\n",
       "        text-align: right;\n",
       "    }\n",
       "</style>\n",
       "<table border=\"1\" class=\"dataframe\">\n",
       "  <thead>\n",
       "    <tr style=\"text-align: right;\">\n",
       "      <th></th>\n",
       "      <th>price</th>\n",
       "      <th>reg_year</th>\n",
       "      <th>power_cv</th>\n",
       "      <th>mileage</th>\n",
       "    </tr>\n",
       "  </thead>\n",
       "  <tbody>\n",
       "    <tr>\n",
       "      <th>count</th>\n",
       "      <td>209576.000000</td>\n",
       "      <td>209576.000000</td>\n",
       "      <td>209576.000000</td>\n",
       "      <td>209576.000000</td>\n",
       "    </tr>\n",
       "    <tr>\n",
       "      <th>mean</th>\n",
       "      <td>5261.494527</td>\n",
       "      <td>2002.991278</td>\n",
       "      <td>121.071091</td>\n",
       "      <td>126003.192159</td>\n",
       "    </tr>\n",
       "    <tr>\n",
       "      <th>std</th>\n",
       "      <td>4779.064833</td>\n",
       "      <td>6.305215</td>\n",
       "      <td>149.265029</td>\n",
       "      <td>37817.461136</td>\n",
       "    </tr>\n",
       "    <tr>\n",
       "      <th>min</th>\n",
       "      <td>0.000000</td>\n",
       "      <td>1910.000000</td>\n",
       "      <td>0.000000</td>\n",
       "      <td>5000.000000</td>\n",
       "    </tr>\n",
       "    <tr>\n",
       "      <th>25%</th>\n",
       "      <td>1500.000000</td>\n",
       "      <td>1999.000000</td>\n",
       "      <td>76.000000</td>\n",
       "      <td>100000.000000</td>\n",
       "    </tr>\n",
       "    <tr>\n",
       "      <th>50%</th>\n",
       "      <td>3600.000000</td>\n",
       "      <td>2004.000000</td>\n",
       "      <td>114.000000</td>\n",
       "      <td>150000.000000</td>\n",
       "    </tr>\n",
       "    <tr>\n",
       "      <th>75%</th>\n",
       "      <td>7750.000000</td>\n",
       "      <td>2007.000000</td>\n",
       "      <td>150.000000</td>\n",
       "      <td>150000.000000</td>\n",
       "    </tr>\n",
       "    <tr>\n",
       "      <th>max</th>\n",
       "      <td>20000.000000</td>\n",
       "      <td>2018.000000</td>\n",
       "      <td>20000.000000</td>\n",
       "      <td>150000.000000</td>\n",
       "    </tr>\n",
       "  </tbody>\n",
       "</table>\n",
       "</div>"
      ],
      "text/plain": [
       "               price       reg_year       power_cv        mileage\n",
       "count  209576.000000  209576.000000  209576.000000  209576.000000\n",
       "mean     5261.494527    2002.991278     121.071091  126003.192159\n",
       "std      4779.064833       6.305215     149.265029   37817.461136\n",
       "min         0.000000    1910.000000       0.000000    5000.000000\n",
       "25%      1500.000000    1999.000000      76.000000  100000.000000\n",
       "50%      3600.000000    2004.000000     114.000000  150000.000000\n",
       "75%      7750.000000    2007.000000     150.000000  150000.000000\n",
       "max     20000.000000    2018.000000   20000.000000  150000.000000"
      ]
     },
     "execution_count": 11,
     "metadata": {},
     "output_type": "execute_result"
    }
   ],
   "source": [
    "df_no_unknown.describe()"
   ]
  },
  {
   "cell_type": "markdown",
   "metadata": {},
   "source": [
    "Revisamos la descripción de nuestros dataframes para conocer los distintos percentiles, mínimos y máximos.\n",
    "Al parecer nuestro dataframe \"df\" contiene información que no hace sentido.\n",
    "Por ejemplo, tenemos años de registro en el año 1,000 y 9,999 lo cual son rangos muy altos que no son necsearios.\n",
    "También existen autos sin Power CV, esto no debería ser posible ya que todos los autos tienen caballos de fuerza.\n",
    "Según la página oficial de Mapfre el mínimo de CV permitido para cualquier tipo de auto es de 60CV y el rango máximo es de 2332CV según Gemini de Google, usaremos estos rangos para filtrar nuestro dataframe."
   ]
  },
  {
   "cell_type": "code",
   "execution_count": 12,
   "metadata": {},
   "outputs": [
    {
     "data": {
      "text/html": [
       "<div>\n",
       "<style scoped>\n",
       "    .dataframe tbody tr th:only-of-type {\n",
       "        vertical-align: middle;\n",
       "    }\n",
       "\n",
       "    .dataframe tbody tr th {\n",
       "        vertical-align: top;\n",
       "    }\n",
       "\n",
       "    .dataframe thead th {\n",
       "        text-align: right;\n",
       "    }\n",
       "</style>\n",
       "<table border=\"1\" class=\"dataframe\">\n",
       "  <thead>\n",
       "    <tr style=\"text-align: right;\">\n",
       "      <th></th>\n",
       "      <th>price</th>\n",
       "      <th>reg_year</th>\n",
       "      <th>power_cv</th>\n",
       "      <th>mileage</th>\n",
       "    </tr>\n",
       "  </thead>\n",
       "  <tbody>\n",
       "    <tr>\n",
       "      <th>count</th>\n",
       "      <td>253600.000000</td>\n",
       "      <td>253600.000000</td>\n",
       "      <td>253600.000000</td>\n",
       "      <td>253600.000000</td>\n",
       "    </tr>\n",
       "    <tr>\n",
       "      <th>mean</th>\n",
       "      <td>5034.294231</td>\n",
       "      <td>2003.643178</td>\n",
       "      <td>127.715398</td>\n",
       "      <td>127821.451104</td>\n",
       "    </tr>\n",
       "    <tr>\n",
       "      <th>std</th>\n",
       "      <td>4690.193804</td>\n",
       "      <td>6.847204</td>\n",
       "      <td>66.423579</td>\n",
       "      <td>37335.928628</td>\n",
       "    </tr>\n",
       "    <tr>\n",
       "      <th>min</th>\n",
       "      <td>0.000000</td>\n",
       "      <td>1910.000000</td>\n",
       "      <td>60.000000</td>\n",
       "      <td>5000.000000</td>\n",
       "    </tr>\n",
       "    <tr>\n",
       "      <th>25%</th>\n",
       "      <td>1450.000000</td>\n",
       "      <td>1999.000000</td>\n",
       "      <td>90.000000</td>\n",
       "      <td>125000.000000</td>\n",
       "    </tr>\n",
       "    <tr>\n",
       "      <th>50%</th>\n",
       "      <td>3450.000000</td>\n",
       "      <td>2004.000000</td>\n",
       "      <td>116.000000</td>\n",
       "      <td>150000.000000</td>\n",
       "    </tr>\n",
       "    <tr>\n",
       "      <th>75%</th>\n",
       "      <td>7300.000000</td>\n",
       "      <td>2008.000000</td>\n",
       "      <td>150.000000</td>\n",
       "      <td>150000.000000</td>\n",
       "    </tr>\n",
       "    <tr>\n",
       "      <th>max</th>\n",
       "      <td>20000.000000</td>\n",
       "      <td>2019.000000</td>\n",
       "      <td>2331.000000</td>\n",
       "      <td>150000.000000</td>\n",
       "    </tr>\n",
       "  </tbody>\n",
       "</table>\n",
       "</div>"
      ],
      "text/plain": [
       "               price       reg_year       power_cv        mileage\n",
       "count  253600.000000  253600.000000  253600.000000  253600.000000\n",
       "mean     5034.294231    2003.643178     127.715398  127821.451104\n",
       "std      4690.193804       6.847204      66.423579   37335.928628\n",
       "min         0.000000    1910.000000      60.000000    5000.000000\n",
       "25%      1450.000000    1999.000000      90.000000  125000.000000\n",
       "50%      3450.000000    2004.000000     116.000000  150000.000000\n",
       "75%      7300.000000    2008.000000     150.000000  150000.000000\n",
       "max     20000.000000    2019.000000    2331.000000  150000.000000"
      ]
     },
     "execution_count": 12,
     "metadata": {},
     "output_type": "execute_result"
    }
   ],
   "source": [
    "df = df[(df['reg_year'] >= 1910) & (df['reg_year'] <= 2024)]\n",
    "df = df[(df['power_cv'] >= 60) & (df['power_cv'] <= 2332)]\n",
    "df.describe()"
   ]
  },
  {
   "cell_type": "code",
   "execution_count": 13,
   "metadata": {},
   "outputs": [
    {
     "data": {
      "text/html": [
       "<div>\n",
       "<style scoped>\n",
       "    .dataframe tbody tr th:only-of-type {\n",
       "        vertical-align: middle;\n",
       "    }\n",
       "\n",
       "    .dataframe tbody tr th {\n",
       "        vertical-align: top;\n",
       "    }\n",
       "\n",
       "    .dataframe thead th {\n",
       "        text-align: right;\n",
       "    }\n",
       "</style>\n",
       "<table border=\"1\" class=\"dataframe\">\n",
       "  <thead>\n",
       "    <tr style=\"text-align: right;\">\n",
       "      <th></th>\n",
       "      <th>price</th>\n",
       "      <th>reg_year</th>\n",
       "      <th>power_cv</th>\n",
       "      <th>mileage</th>\n",
       "    </tr>\n",
       "  </thead>\n",
       "  <tbody>\n",
       "    <tr>\n",
       "      <th>count</th>\n",
       "      <td>188914.000000</td>\n",
       "      <td>188914.000000</td>\n",
       "      <td>188914.000000</td>\n",
       "      <td>188914.000000</td>\n",
       "    </tr>\n",
       "    <tr>\n",
       "      <th>mean</th>\n",
       "      <td>5601.949898</td>\n",
       "      <td>2003.428168</td>\n",
       "      <td>129.470870</td>\n",
       "      <td>125985.845411</td>\n",
       "    </tr>\n",
       "    <tr>\n",
       "      <th>std</th>\n",
       "      <td>4826.988275</td>\n",
       "      <td>5.992009</td>\n",
       "      <td>61.549348</td>\n",
       "      <td>37810.700567</td>\n",
       "    </tr>\n",
       "    <tr>\n",
       "      <th>min</th>\n",
       "      <td>0.000000</td>\n",
       "      <td>1930.000000</td>\n",
       "      <td>60.000000</td>\n",
       "      <td>5000.000000</td>\n",
       "    </tr>\n",
       "    <tr>\n",
       "      <th>25%</th>\n",
       "      <td>1799.000000</td>\n",
       "      <td>2000.000000</td>\n",
       "      <td>90.000000</td>\n",
       "      <td>100000.000000</td>\n",
       "    </tr>\n",
       "    <tr>\n",
       "      <th>50%</th>\n",
       "      <td>3999.000000</td>\n",
       "      <td>2004.000000</td>\n",
       "      <td>117.000000</td>\n",
       "      <td>150000.000000</td>\n",
       "    </tr>\n",
       "    <tr>\n",
       "      <th>75%</th>\n",
       "      <td>8150.000000</td>\n",
       "      <td>2008.000000</td>\n",
       "      <td>150.000000</td>\n",
       "      <td>150000.000000</td>\n",
       "    </tr>\n",
       "    <tr>\n",
       "      <th>max</th>\n",
       "      <td>20000.000000</td>\n",
       "      <td>2018.000000</td>\n",
       "      <td>2331.000000</td>\n",
       "      <td>150000.000000</td>\n",
       "    </tr>\n",
       "  </tbody>\n",
       "</table>\n",
       "</div>"
      ],
      "text/plain": [
       "               price       reg_year       power_cv        mileage\n",
       "count  188914.000000  188914.000000  188914.000000  188914.000000\n",
       "mean     5601.949898    2003.428168     129.470870  125985.845411\n",
       "std      4826.988275       5.992009      61.549348   37810.700567\n",
       "min         0.000000    1930.000000      60.000000    5000.000000\n",
       "25%      1799.000000    2000.000000      90.000000  100000.000000\n",
       "50%      3999.000000    2004.000000     117.000000  150000.000000\n",
       "75%      8150.000000    2008.000000     150.000000  150000.000000\n",
       "max     20000.000000    2018.000000    2331.000000  150000.000000"
      ]
     },
     "execution_count": 13,
     "metadata": {},
     "output_type": "execute_result"
    }
   ],
   "source": [
    "df_no_unknown = df_no_unknown[(df_no_unknown['power_cv'] >= 60) & (df_no_unknown['power_cv'] <= 2332)]\n",
    "df_no_unknown.describe()"
   ]
  },
  {
   "cell_type": "markdown",
   "metadata": {},
   "source": [
    "Como recomendación de mi tutor voy a transformar las columnas de 'brand' y 'vehicle_model' en variables ordinarias.\n",
    "Así hacemos más pequeño el dataframe de con las características dummy para entranar el modelo."
   ]
  },
  {
   "cell_type": "code",
   "execution_count": 14,
   "metadata": {},
   "outputs": [],
   "source": [
    "df[['brand', 'vehicle_model']] = OrdinalEncoder().fit_transform(df[['brand', 'vehicle_model']])\n",
    "df_no_unknown[['brand', 'vehicle_model']] = OrdinalEncoder().fit_transform(df_no_unknown[['brand', 'vehicle_model']])"
   ]
  },
  {
   "cell_type": "code",
   "execution_count": 15,
   "metadata": {},
   "outputs": [
    {
     "data": {
      "text/html": [
       "<div>\n",
       "<style scoped>\n",
       "    .dataframe tbody tr th:only-of-type {\n",
       "        vertical-align: middle;\n",
       "    }\n",
       "\n",
       "    .dataframe tbody tr th {\n",
       "        vertical-align: top;\n",
       "    }\n",
       "\n",
       "    .dataframe thead th {\n",
       "        text-align: right;\n",
       "    }\n",
       "</style>\n",
       "<table border=\"1\" class=\"dataframe\">\n",
       "  <thead>\n",
       "    <tr style=\"text-align: right;\">\n",
       "      <th></th>\n",
       "      <th>price</th>\n",
       "      <th>vehicle_type</th>\n",
       "      <th>reg_year</th>\n",
       "      <th>gearbox</th>\n",
       "      <th>power_cv</th>\n",
       "      <th>vehicle_model</th>\n",
       "      <th>mileage</th>\n",
       "      <th>fuel_type</th>\n",
       "      <th>brand</th>\n",
       "      <th>not_repaired</th>\n",
       "    </tr>\n",
       "  </thead>\n",
       "  <tbody>\n",
       "    <tr>\n",
       "      <th>1</th>\n",
       "      <td>18300</td>\n",
       "      <td>coupe</td>\n",
       "      <td>2011</td>\n",
       "      <td>manual</td>\n",
       "      <td>190</td>\n",
       "      <td>25.0</td>\n",
       "      <td>125000</td>\n",
       "      <td>gasoline</td>\n",
       "      <td>1.0</td>\n",
       "      <td>yes</td>\n",
       "    </tr>\n",
       "    <tr>\n",
       "      <th>2</th>\n",
       "      <td>9800</td>\n",
       "      <td>suv</td>\n",
       "      <td>2004</td>\n",
       "      <td>auto</td>\n",
       "      <td>163</td>\n",
       "      <td>117.0</td>\n",
       "      <td>125000</td>\n",
       "      <td>gasoline</td>\n",
       "      <td>14.0</td>\n",
       "      <td>Unknown</td>\n",
       "    </tr>\n",
       "    <tr>\n",
       "      <th>3</th>\n",
       "      <td>1500</td>\n",
       "      <td>small</td>\n",
       "      <td>2001</td>\n",
       "      <td>manual</td>\n",
       "      <td>75</td>\n",
       "      <td>116.0</td>\n",
       "      <td>150000</td>\n",
       "      <td>petrol</td>\n",
       "      <td>38.0</td>\n",
       "      <td>no</td>\n",
       "    </tr>\n",
       "    <tr>\n",
       "      <th>4</th>\n",
       "      <td>3600</td>\n",
       "      <td>small</td>\n",
       "      <td>2008</td>\n",
       "      <td>manual</td>\n",
       "      <td>69</td>\n",
       "      <td>101.0</td>\n",
       "      <td>90000</td>\n",
       "      <td>gasoline</td>\n",
       "      <td>31.0</td>\n",
       "      <td>no</td>\n",
       "    </tr>\n",
       "    <tr>\n",
       "      <th>5</th>\n",
       "      <td>650</td>\n",
       "      <td>sedan</td>\n",
       "      <td>1995</td>\n",
       "      <td>manual</td>\n",
       "      <td>102</td>\n",
       "      <td>11.0</td>\n",
       "      <td>150000</td>\n",
       "      <td>petrol</td>\n",
       "      <td>2.0</td>\n",
       "      <td>yes</td>\n",
       "    </tr>\n",
       "  </tbody>\n",
       "</table>\n",
       "</div>"
      ],
      "text/plain": [
       "   price vehicle_type  reg_year gearbox  power_cv  vehicle_model  mileage  \\\n",
       "1  18300        coupe      2011  manual       190           25.0   125000   \n",
       "2   9800          suv      2004    auto       163          117.0   125000   \n",
       "3   1500        small      2001  manual        75          116.0   150000   \n",
       "4   3600        small      2008  manual        69          101.0    90000   \n",
       "5    650        sedan      1995  manual       102           11.0   150000   \n",
       "\n",
       "  fuel_type  brand not_repaired  \n",
       "1  gasoline    1.0          yes  \n",
       "2  gasoline   14.0      Unknown  \n",
       "3    petrol   38.0           no  \n",
       "4  gasoline   31.0           no  \n",
       "5    petrol    2.0          yes  "
      ]
     },
     "execution_count": 15,
     "metadata": {},
     "output_type": "execute_result"
    }
   ],
   "source": [
    "df.head()"
   ]
  },
  {
   "cell_type": "code",
   "execution_count": 16,
   "metadata": {},
   "outputs": [
    {
     "data": {
      "text/html": [
       "<div>\n",
       "<style scoped>\n",
       "    .dataframe tbody tr th:only-of-type {\n",
       "        vertical-align: middle;\n",
       "    }\n",
       "\n",
       "    .dataframe tbody tr th {\n",
       "        vertical-align: top;\n",
       "    }\n",
       "\n",
       "    .dataframe thead th {\n",
       "        text-align: right;\n",
       "    }\n",
       "</style>\n",
       "<table border=\"1\" class=\"dataframe\">\n",
       "  <thead>\n",
       "    <tr style=\"text-align: right;\">\n",
       "      <th></th>\n",
       "      <th>price</th>\n",
       "      <th>vehicle_type</th>\n",
       "      <th>reg_year</th>\n",
       "      <th>gearbox</th>\n",
       "      <th>power_cv</th>\n",
       "      <th>vehicle_model</th>\n",
       "      <th>mileage</th>\n",
       "      <th>fuel_type</th>\n",
       "      <th>brand</th>\n",
       "      <th>not_repaired</th>\n",
       "    </tr>\n",
       "  </thead>\n",
       "  <tbody>\n",
       "    <tr>\n",
       "      <th>3</th>\n",
       "      <td>1500</td>\n",
       "      <td>small</td>\n",
       "      <td>2001</td>\n",
       "      <td>manual</td>\n",
       "      <td>75</td>\n",
       "      <td>115.0</td>\n",
       "      <td>150000</td>\n",
       "      <td>petrol</td>\n",
       "      <td>36.0</td>\n",
       "      <td>no</td>\n",
       "    </tr>\n",
       "    <tr>\n",
       "      <th>4</th>\n",
       "      <td>3600</td>\n",
       "      <td>small</td>\n",
       "      <td>2008</td>\n",
       "      <td>manual</td>\n",
       "      <td>69</td>\n",
       "      <td>100.0</td>\n",
       "      <td>90000</td>\n",
       "      <td>gasoline</td>\n",
       "      <td>31.0</td>\n",
       "      <td>no</td>\n",
       "    </tr>\n",
       "    <tr>\n",
       "      <th>5</th>\n",
       "      <td>650</td>\n",
       "      <td>sedan</td>\n",
       "      <td>1995</td>\n",
       "      <td>manual</td>\n",
       "      <td>102</td>\n",
       "      <td>11.0</td>\n",
       "      <td>150000</td>\n",
       "      <td>petrol</td>\n",
       "      <td>2.0</td>\n",
       "      <td>yes</td>\n",
       "    </tr>\n",
       "    <tr>\n",
       "      <th>6</th>\n",
       "      <td>2200</td>\n",
       "      <td>convertible</td>\n",
       "      <td>2004</td>\n",
       "      <td>manual</td>\n",
       "      <td>109</td>\n",
       "      <td>8.0</td>\n",
       "      <td>150000</td>\n",
       "      <td>petrol</td>\n",
       "      <td>25.0</td>\n",
       "      <td>no</td>\n",
       "    </tr>\n",
       "    <tr>\n",
       "      <th>10</th>\n",
       "      <td>2000</td>\n",
       "      <td>sedan</td>\n",
       "      <td>2004</td>\n",
       "      <td>manual</td>\n",
       "      <td>105</td>\n",
       "      <td>10.0</td>\n",
       "      <td>150000</td>\n",
       "      <td>petrol</td>\n",
       "      <td>19.0</td>\n",
       "      <td>no</td>\n",
       "    </tr>\n",
       "  </tbody>\n",
       "</table>\n",
       "</div>"
      ],
      "text/plain": [
       "    price vehicle_type  reg_year gearbox  power_cv  vehicle_model  mileage  \\\n",
       "3    1500        small      2001  manual        75          115.0   150000   \n",
       "4    3600        small      2008  manual        69          100.0    90000   \n",
       "5     650        sedan      1995  manual       102           11.0   150000   \n",
       "6    2200  convertible      2004  manual       109            8.0   150000   \n",
       "10   2000        sedan      2004  manual       105           10.0   150000   \n",
       "\n",
       "   fuel_type  brand not_repaired  \n",
       "3     petrol   36.0           no  \n",
       "4   gasoline   31.0           no  \n",
       "5     petrol    2.0          yes  \n",
       "6     petrol   25.0           no  \n",
       "10    petrol   19.0           no  "
      ]
     },
     "execution_count": 16,
     "metadata": {},
     "output_type": "execute_result"
    }
   ],
   "source": [
    "df_no_unknown.head()"
   ]
  },
  {
   "cell_type": "code",
   "execution_count": 17,
   "metadata": {},
   "outputs": [],
   "source": [
    "variables_categoricas = ['vehicle_type', 'gearbox', 'fuel_type', 'not_repaired']"
   ]
  },
  {
   "cell_type": "code",
   "execution_count": 18,
   "metadata": {},
   "outputs": [
    {
     "name": "stdout",
     "output_type": "stream",
     "text": [
      "   price  reg_year  power_cv  vehicle_model  mileage  brand  vehicle_type_bus  \\\n",
      "1  18300      2011       190           25.0   125000    1.0                 0   \n",
      "2   9800      2004       163          117.0   125000   14.0                 0   \n",
      "3   1500      2001        75          116.0   150000   38.0                 0   \n",
      "4   3600      2008        69          101.0    90000   31.0                 0   \n",
      "5    650      1995       102           11.0   150000    2.0                 0   \n",
      "\n",
      "   vehicle_type_convertible  vehicle_type_coupe  vehicle_type_other  ...  \\\n",
      "1                         0                   1                   0  ...   \n",
      "2                         0                   0                   0  ...   \n",
      "3                         0                   0                   0  ...   \n",
      "4                         0                   0                   0  ...   \n",
      "5                         0                   0                   0  ...   \n",
      "\n",
      "   gearbox_manual  fuel_type_cng  fuel_type_electric  fuel_type_gasoline  \\\n",
      "1               1              0                   0                   1   \n",
      "2               0              0                   0                   1   \n",
      "3               1              0                   0                   0   \n",
      "4               1              0                   0                   1   \n",
      "5               1              0                   0                   0   \n",
      "\n",
      "   fuel_type_hybrid  fuel_type_lpg  fuel_type_other  fuel_type_petrol  \\\n",
      "1                 0              0                0                 0   \n",
      "2                 0              0                0                 0   \n",
      "3                 0              0                0                 1   \n",
      "4                 0              0                0                 0   \n",
      "5                 0              0                0                 1   \n",
      "\n",
      "   not_repaired_no  not_repaired_yes  \n",
      "1                0                 1  \n",
      "2                0                 0  \n",
      "3                1                 0  \n",
      "4                1                 0  \n",
      "5                0                 1  \n",
      "\n",
      "[5 rows x 25 columns]\n"
     ]
    }
   ],
   "source": [
    "df_model = pd.get_dummies(df, drop_first=True, columns=variables_categoricas) #Volvemos las variables categóricas en booleanos\n",
    "\n",
    "print(df_model.head(5)) #Revisamos como queda nuestro dataframe"
   ]
  },
  {
   "cell_type": "code",
   "execution_count": 19,
   "metadata": {},
   "outputs": [
    {
     "name": "stdout",
     "output_type": "stream",
     "text": [
      "    price  reg_year  power_cv  vehicle_model  mileage  brand  \\\n",
      "3    1500      2001        75          115.0   150000   36.0   \n",
      "4    3600      2008        69          100.0    90000   31.0   \n",
      "5     650      1995       102           11.0   150000    2.0   \n",
      "6    2200      2004       109            8.0   150000   25.0   \n",
      "10   2000      2004       105           10.0   150000   19.0   \n",
      "\n",
      "    vehicle_type_convertible  vehicle_type_coupe  vehicle_type_other  \\\n",
      "3                          0                   0                   0   \n",
      "4                          0                   0                   0   \n",
      "5                          0                   0                   0   \n",
      "6                          1                   0                   0   \n",
      "10                         0                   0                   0   \n",
      "\n",
      "    vehicle_type_sedan  ...  vehicle_type_suv  vehicle_type_wagon  \\\n",
      "3                    0  ...                 0                   0   \n",
      "4                    0  ...                 0                   0   \n",
      "5                    1  ...                 0                   0   \n",
      "6                    0  ...                 0                   0   \n",
      "10                   1  ...                 0                   0   \n",
      "\n",
      "    gearbox_manual  fuel_type_electric  fuel_type_gasoline  fuel_type_hybrid  \\\n",
      "3                1                   0                   0                 0   \n",
      "4                1                   0                   1                 0   \n",
      "5                1                   0                   0                 0   \n",
      "6                1                   0                   0                 0   \n",
      "10               1                   0                   0                 0   \n",
      "\n",
      "    fuel_type_lpg  fuel_type_other  fuel_type_petrol  not_repaired_yes  \n",
      "3               0                0                 1                 0  \n",
      "4               0                0                 0                 0  \n",
      "5               0                0                 1                 1  \n",
      "6               0                0                 1                 0  \n",
      "10              0                0                 1                 0  \n",
      "\n",
      "[5 rows x 21 columns]\n"
     ]
    }
   ],
   "source": [
    "df_model_no_unknown = pd.get_dummies(df_no_unknown, drop_first=True, columns=variables_categoricas) #Hacemos booleanos para dataframe sin unknowns\n",
    "\n",
    "print(df_model_no_unknown.head(5)) #Revisamos como queda nuestro dataframe"
   ]
  },
  {
   "cell_type": "markdown",
   "metadata": {},
   "source": [
    "## Entrenamiento del modelo "
   ]
  },
  {
   "cell_type": "markdown",
   "metadata": {},
   "source": [
    "Ya que tenemos la data limpia y necesaria para crear nuestro modelo, podemo empezar a desarrollarlo y entrenarlo con la data.\n",
    "Crearemos distintos tipos de modelos y evaluaremos cual sería el mejor para este problema en específico.\n",
    "También entrenaremos el modelo con la información disponible y también lo entrenaremos quitando los valores de Unknown.\n",
    "Ya que estos datos faltantes podrían afectar la eficiencia del modelo al hacer predicciones, evaluaremos cual es la mejor opción.\n",
    "\n",
    "Los dataframes con dummies nos servirán para entrenar una regresión lineal y un bosque de decisiones.\n",
    "Los modelos de CatBoost y LighTGBM no necesitan este tratamiento así que podemos entrenarlos con datos que no fueron tratados como booleanos."
   ]
  },
  {
   "cell_type": "markdown",
   "metadata": {},
   "source": [
    "Por sugerencia de mi mentos volví a separar los datos sets para tener un data set de prueba adicional.\n",
    "También se simplificaron las variables y el contenido dentro de estas.\n",
    "\n",
    "Por motivos prácticos usaré el dataframe que contiene la información de Unknown, para entrenar los modelos cuando no tenemos toda la información disponible dentro de las variables."
   ]
  },
  {
   "cell_type": "code",
   "execution_count": 20,
   "metadata": {},
   "outputs": [],
   "source": [
    "train_valid, test = train_test_split(df_model, test_size=0.30, random_state=12345)\n",
    "train, valid = train_test_split(train_valid, test_size=0.30, random_state=54321)\n",
    "#Dividimos data sets de entrenamiento, validación y prueba.\n",
    "#Estos datasets están codificados con el método One Hot"
   ]
  },
  {
   "cell_type": "code",
   "execution_count": 21,
   "metadata": {},
   "outputs": [],
   "source": [
    "feat_train = train.drop('price', axis=1)\n",
    "target_train = train['price']\n",
    "\n",
    "feat_valid = valid.drop('price', axis=1)\n",
    "target_valid = valid['price']\n",
    "\n",
    "feat_test = test.drop('price', axis=1)\n",
    "target_test = test['price']"
   ]
  },
  {
   "cell_type": "code",
   "execution_count": 22,
   "metadata": {},
   "outputs": [],
   "source": [
    "df[variables_categoricas] = df[variables_categoricas].astype('category')\n",
    "#Para poder usar los modelos de CatBoost y LightGBM las variables categoricas deben ser cambiadas a tipo de datos de categoría"
   ]
  },
  {
   "cell_type": "code",
   "execution_count": 23,
   "metadata": {},
   "outputs": [],
   "source": [
    "train_valid_cat, test_cat = train_test_split(df, test_size=0.30, random_state=12345)\n",
    "train_cat, valid_cat = train_test_split(train_valid_cat, test_size=0.30, random_state=54321)\n",
    "#Dividimos data sets de entrenamiento, validación y prueba.\n",
    "#Estos datasets no están codificados con dummies One Hot, se usarán para probar los modelos CatBoost y LightGBM"
   ]
  },
  {
   "cell_type": "code",
   "execution_count": 24,
   "metadata": {},
   "outputs": [],
   "source": [
    "feat_train_cat = train_cat.drop('price', axis=1)\n",
    "target_train_cat = train_cat['price']\n",
    "\n",
    "feat_valid_cat = valid_cat.drop('price', axis=1)\n",
    "target_valid_cat = valid_cat['price']\n",
    "\n",
    "feat_test_cat = test_cat.drop('price', axis=1)\n",
    "target_test_cat = test_cat['price']"
   ]
  },
  {
   "cell_type": "code",
   "execution_count": 25,
   "metadata": {},
   "outputs": [],
   "source": [
    "def rmse(valid, predict): #Definimos función que nos ayude a encontrar el error cuadrático medio\n",
    "    return math.sqrt(mean_squared_error(valid, predict))"
   ]
  },
  {
   "cell_type": "markdown",
   "metadata": {},
   "source": [
    "## Análisis del modelo"
   ]
  },
  {
   "cell_type": "markdown",
   "metadata": {},
   "source": [
    "### Modelo de regresión LightGBM\n",
    "\n",
    "Para entrenar el modelo de LightGBM decidí usar los siguientes hiperparámetro:\n",
    "\n",
    "num_iterations = el cual nos dicta el número de iteraciones que hace el modelo para reducir la métrica de error.\n",
    "\n",
    "num_leaves = es la cantidad de nodos que tendrá cada árbol, mientras que la profundidad nos da la cantidad de niveles. Los nodos son las decisiones las que llega la regresión sin tener más ramificaciones.\n",
    "\n",
    "max_depth = es la profundidad máxima por árbol de regresión dentro del algoritmo.\n",
    "\n",
    "verbose = usamos verbose para que el algoritmo nos arroje información detalladas sobre como está procesando la información nuestro algoritmo.\n",
    "\n",
    "metric = aqui indicamos cual va a ser nuestra métrica de error, varias de estas métricas ya están incluidas dentro de este hiperparámetro. Incluyendo RMSE, el error que queremos minimizar en este proyecto.\n",
    "\n",
    "random_state = establecemos que la data entre de manera aleatoria al momento de crear cada árbol de regresión."
   ]
  },
  {
   "cell_type": "code",
   "execution_count": 26,
   "metadata": {},
   "outputs": [],
   "source": [
    "light_model = LGBMRegressor(num_iterations=20, num_leaves=25, max_depth=5, verbose=1, metric='rmse', random_state=12345)"
   ]
  },
  {
   "cell_type": "code",
   "execution_count": 27,
   "metadata": {
    "scrolled": false
   },
   "outputs": [
    {
     "name": "stderr",
     "output_type": "stream",
     "text": [
      "/opt/conda/envs/python3/lib/python3.9/site-packages/lightgbm/engine.py:177: UserWarning: Found `num_iterations` in params. Will use it instead of argument\n",
      "  _log_warning(f\"Found `{alias}` in params. Will use it instead of argument\")\n",
      "/opt/conda/envs/python3/lib/python3.9/site-packages/lightgbm/basic.py:2065: UserWarning: Using categorical_feature in Dataset.\n",
      "  _log_warning('Using categorical_feature in Dataset.')\n",
      "/opt/conda/envs/python3/lib/python3.9/site-packages/lightgbm/basic.py:2068: UserWarning: categorical_feature in Dataset is overridden.\n",
      "New categorical_feature is ['fuel_type', 'gearbox', 'not_repaired', 'vehicle_type']\n",
      "  _log_warning('categorical_feature in Dataset is overridden.\\n'\n"
     ]
    },
    {
     "name": "stdout",
     "output_type": "stream",
     "text": [
      "[LightGBM] [Warning] Auto-choosing row-wise multi-threading, the overhead of testing was 0.003045 seconds.\n",
      "You can set `force_row_wise=true` to remove the overhead.\n",
      "And if memory is not enough, you can set `force_col_wise=true`.\n",
      "[LightGBM] [Info] Total Bins 645\n",
      "[LightGBM] [Info] Number of data points in the train set: 124264, number of used features: 9\n",
      "[LightGBM] [Info] Start training from score 5030.055970\n",
      "[1]\tvalid_0's rmse: 4382.71\n",
      "[2]\tvalid_0's rmse: 4109.16\n",
      "[3]\tvalid_0's rmse: 3868.66\n",
      "[4]\tvalid_0's rmse: 3662.33\n",
      "[5]\tvalid_0's rmse: 3477.22\n",
      "[6]\tvalid_0's rmse: 3309.59\n",
      "[7]\tvalid_0's rmse: 3168.01\n",
      "[8]\tvalid_0's rmse: 3042.64\n"
     ]
    },
    {
     "name": "stderr",
     "output_type": "stream",
     "text": [
      "/opt/conda/envs/python3/lib/python3.9/site-packages/lightgbm/basic.py:1780: UserWarning: Overriding the parameters from Reference Dataset.\n",
      "  _log_warning('Overriding the parameters from Reference Dataset.')\n",
      "/opt/conda/envs/python3/lib/python3.9/site-packages/lightgbm/basic.py:1513: UserWarning: categorical_column in param dict is overridden.\n",
      "  _log_warning(f'{cat_alias} in param dict is overridden.')\n"
     ]
    },
    {
     "name": "stdout",
     "output_type": "stream",
     "text": [
      "[9]\tvalid_0's rmse: 2936.61\n",
      "[10]\tvalid_0's rmse: 2840.67\n",
      "[11]\tvalid_0's rmse: 2755.96\n",
      "[12]\tvalid_0's rmse: 2683.1\n",
      "[13]\tvalid_0's rmse: 2619.23\n",
      "[14]\tvalid_0's rmse: 2559.29\n",
      "[15]\tvalid_0's rmse: 2509.05\n",
      "[16]\tvalid_0's rmse: 2462.09\n",
      "[17]\tvalid_0's rmse: 2423.11\n",
      "[18]\tvalid_0's rmse: 2384.74\n",
      "[19]\tvalid_0's rmse: 2354.12\n",
      "[20]\tvalid_0's rmse: 2322.63\n"
     ]
    },
    {
     "data": {
      "text/plain": [
       "LGBMRegressor(max_depth=5, metric='rmse', num_iterations=20, num_leaves=25,\n",
       "              random_state=12345, verbose=1)"
      ]
     },
     "execution_count": 27,
     "metadata": {},
     "output_type": "execute_result"
    }
   ],
   "source": [
    "light_model.fit(feat_train_cat, target_train_cat, eval_set=(feat_valid_cat, target_valid_cat), categorical_feature=variables_categoricas)"
   ]
  },
  {
   "cell_type": "code",
   "execution_count": 28,
   "metadata": {},
   "outputs": [
    {
     "name": "stdout",
     "output_type": "stream",
     "text": [
      "Score LightGBM set de Entrenamiento:  0.759513420181545\n",
      "Score LightGBM set de Validación:  0.7553591686321017\n",
      "Score LightGBM set de Prueba:  0.7563352879734395\n"
     ]
    }
   ],
   "source": [
    "print(\"Score LightGBM set de Entrenamiento: \", light_model.score(feat_train_cat, target_train_cat))\n",
    "print(\"Score LightGBM set de Validación: \", light_model.score(feat_valid_cat, target_valid_cat))\n",
    "print(\"Score LightGBM set de Prueba: \", light_model.score(feat_test_cat, target_test_cat))"
   ]
  },
  {
   "cell_type": "code",
   "execution_count": 29,
   "metadata": {},
   "outputs": [
    {
     "name": "stdout",
     "output_type": "stream",
     "text": [
      "Predicting time light model: 0.0990 seconds\n",
      "\n",
      "RMSE test light model: 2317.5618088798815\n"
     ]
    }
   ],
   "source": [
    "start_time_light = time.time()\n",
    "light_model_predict = light_model.predict(feat_test_cat)\n",
    "predict_time_light = time.time() - start_time_light\n",
    "print(f\"Predicting time light model: {predict_time_light:.4f} seconds\")\n",
    "print()\n",
    "print(f\"RMSE test light model: {rmse(target_test_cat, light_model_predict)}\")"
   ]
  },
  {
   "cell_type": "markdown",
   "metadata": {},
   "source": [
    "#### Conclusiones modelo LightGBM\n",
    "\n",
    "Este modelo de algoritmo ya contiene el cálculo de gradiente y un parámetro para evaluar alguna métrica de error.\n",
    "También cuanta con la bondad de no tener codificar al estilo One Hot antes de utilizar este algoritmo.\n",
    "Otro beneficio de este modelo esque tiene un tiempo de entrenamiento corto.\n",
    "A pesar de eso tiene dificultad en leer la data y las evaluaciones con los datos de validación y prueba apenas llegan a un nivel satisfactorio."
   ]
  },
  {
   "cell_type": "markdown",
   "metadata": {},
   "source": [
    "### Modelo de regresión CatBoost\n",
    "\n",
    "Para entrenar el modelo de Catboost decií usar los siguientes hiperparámetro:\n",
    "\n",
    "iterations = el cual nos dicta el número de iteraciones que hace el modelo para reducir la métrica de error.\n",
    "\n",
    "max_depth = es la profundidad máxima por árbol de regresión dentro del algoritmo.\n",
    "\n",
    "learning_rate = afecta el tiempo que tarda el algoritmo en entrenarse, mientras mayor sea la iteración menor es el learning rate.\n",
    "\n",
    "loss_function = aqui indicamos cual va a ser nuestra métrica de error, varias de estas métricas ya están incluidas dentro de este hiperparámetro. Incluyendo RMSE, el error que queremos minimizar en este poryecto.\n",
    "\n",
    "random_state = establecemos que la data entre de manera aleatoria al momento de crear cada árbol de regresión."
   ]
  },
  {
   "cell_type": "code",
   "execution_count": 41,
   "metadata": {},
   "outputs": [],
   "source": [
    "cat_model = CatBoostRegressor(iterations=20, max_depth=5, learning_rate=0.6, loss_function='RMSE', random_state=12345, cat_features=variables_categoricas)"
   ]
  },
  {
   "cell_type": "code",
   "execution_count": 42,
   "metadata": {
    "scrolled": true
   },
   "outputs": [
    {
     "name": "stdout",
     "output_type": "stream",
     "text": [
      "0:\tlearn: 3211.4993388\ttotal: 38.5ms\tremaining: 731ms\n",
      "1:\tlearn: 2692.2990815\ttotal: 77.2ms\tremaining: 695ms\n",
      "2:\tlearn: 2518.9071653\ttotal: 112ms\tremaining: 633ms\n",
      "3:\tlearn: 2409.0098537\ttotal: 145ms\tremaining: 579ms\n",
      "4:\tlearn: 2343.8156397\ttotal: 177ms\tremaining: 530ms\n",
      "5:\tlearn: 2293.1285302\ttotal: 207ms\tremaining: 483ms\n",
      "6:\tlearn: 2231.9395822\ttotal: 238ms\tremaining: 441ms\n",
      "7:\tlearn: 2208.5658698\ttotal: 269ms\tremaining: 404ms\n",
      "8:\tlearn: 2177.3337590\ttotal: 298ms\tremaining: 365ms\n",
      "9:\tlearn: 2144.3610804\ttotal: 327ms\tremaining: 327ms\n",
      "10:\tlearn: 2126.4297501\ttotal: 358ms\tremaining: 293ms\n",
      "11:\tlearn: 2111.6625073\ttotal: 389ms\tremaining: 259ms\n",
      "12:\tlearn: 2095.2591197\ttotal: 418ms\tremaining: 225ms\n",
      "13:\tlearn: 2070.7257832\ttotal: 451ms\tremaining: 193ms\n",
      "14:\tlearn: 2062.8392709\ttotal: 481ms\tremaining: 160ms\n",
      "15:\tlearn: 2053.7226697\ttotal: 510ms\tremaining: 128ms\n",
      "16:\tlearn: 2045.6973202\ttotal: 544ms\tremaining: 96ms\n",
      "17:\tlearn: 2032.1541898\ttotal: 577ms\tremaining: 64.1ms\n",
      "18:\tlearn: 2020.6107021\ttotal: 609ms\tremaining: 32ms\n",
      "19:\tlearn: 2005.5972831\ttotal: 638ms\tremaining: 0us\n"
     ]
    },
    {
     "data": {
      "text/plain": [
       "<catboost.core.CatBoostRegressor at 0x7f5ec06b5ac0>"
      ]
     },
     "execution_count": 42,
     "metadata": {},
     "output_type": "execute_result"
    }
   ],
   "source": [
    "cat_model.fit(feat_train_cat, target_train_cat)"
   ]
  },
  {
   "cell_type": "code",
   "execution_count": 43,
   "metadata": {},
   "outputs": [
    {
     "name": "stdout",
     "output_type": "stream",
     "text": [
      "Score Catboost set de Entrenamiento:  0.8172041621066013\n",
      "Score Catboost set de Validación:  0.8130045398648493\n",
      "Score Catboost set de Prueba:  0.8137058902271526\n"
     ]
    }
   ],
   "source": [
    "print(\"Score Catboost set de Entrenamiento: \", cat_model.score(feat_train_cat, target_train_cat))\n",
    "print(\"Score Catboost set de Validación: \", cat_model.score(feat_valid_cat, target_valid_cat))\n",
    "print(\"Score Catboost set de Prueba: \", cat_model.score(feat_test_cat, target_test_cat))"
   ]
  },
  {
   "cell_type": "code",
   "execution_count": 44,
   "metadata": {},
   "outputs": [
    {
     "name": "stdout",
     "output_type": "stream",
     "text": [
      "Predicting time CatBoost model: 0.0990 seconds\n",
      "\n",
      "RMSE test CatBoost model: 2026.4438200916509\n"
     ]
    }
   ],
   "source": [
    "start_time_cat = time.time()\n",
    "cat_model_predict = cat_model.predict(feat_test_cat)\n",
    "predict_time_cat = time.time() - start_time_cat\n",
    "print(f\"Predicting time CatBoost model: {predict_time_light:.4f} seconds\")\n",
    "print()\n",
    "print(f\"RMSE test CatBoost model: {rmse(target_test_cat, cat_model_predict)}\")"
   ]
  },
  {
   "cell_type": "markdown",
   "metadata": {},
   "source": [
    "#### Conclusiones modelo CatBoost\n",
    "\n",
    "Al igual que el modelo LightGBM este algoritmo incluye dentro de sus parámetros métricas de evaluación de error y se puede indidcar la cantidad de iteraciones deseadas.\n",
    "Usando métricas similares a LightGBM este modelo tiene una mejor evaluación de data sets y logra minimizar el error de la regresión con más eficiencia.\n",
    "Incluso es más rápido en entrenarse que LightGBM,"
   ]
  },
  {
   "cell_type": "markdown",
   "metadata": {},
   "source": [
    "### Modelo Random Forest Regressor\n",
    "Para este modero de bosque de regresión usaremos los siguientes hiperparámetros:\n",
    "\n",
    "n_estimators = este parámetro indica la cantidad de árboles que va a tener nuestro bosque.\n",
    "\n",
    "max_depth = aqui establecemos que tan profundo va a ser cada árbol dentro de nuestro bosque.\n",
    "\n",
    "max_leaf_nodes = aqui establecemos cuantos nodos finales vamos a tener por árbol.\n",
    "\n",
    "random_state = establecemos que la data entre de manera aleatoria al momento de crear cada árbol de regresión."
   ]
  },
  {
   "cell_type": "code",
   "execution_count": 38,
   "metadata": {},
   "outputs": [
    {
     "name": "stdout",
     "output_type": "stream",
     "text": [
      "Training time RandomForestRegressor model: 4.9284 seconds\n"
     ]
    }
   ],
   "source": [
    "forest_model = RandomForestRegressor(n_estimators=40, max_depth=15, max_leaf_nodes=60, random_state=12345)\n",
    "start_time_forest = time.time()\n",
    "forest_model.fit(feat_train, target_train)\n",
    "training_time_forest = time.time() - start_time_forest\n",
    "print(f\"Training time RandomForestRegressor model: {training_time_forest:.4f} seconds\")"
   ]
  },
  {
   "cell_type": "code",
   "execution_count": 39,
   "metadata": {},
   "outputs": [
    {
     "name": "stdout",
     "output_type": "stream",
     "text": [
      "Entrenamiento:  0.7437019624403625\n",
      "Validación:  0.7403625239101862\n",
      "Prueba:  0.7406437103699327\n"
     ]
    }
   ],
   "source": [
    "print(\"Entrenamiento: \", forest_model.score(feat_train, target_train))\n",
    "print(\"Validación: \", forest_model.score(feat_valid, target_valid))\n",
    "print(\"Prueba: \", forest_model.score(feat_test, target_test))"
   ]
  },
  {
   "cell_type": "code",
   "execution_count": 40,
   "metadata": {},
   "outputs": [
    {
     "name": "stdout",
     "output_type": "stream",
     "text": [
      "Predicting time RandomForestRegressor model: 0.1230 seconds\n",
      "\n",
      "RMSE test RandomForestRegressor model: 2391.021044473207\n"
     ]
    }
   ],
   "source": [
    "start_time_forest_predict = time.time()\n",
    "forest_predict = forest_model.predict(feat_test)\n",
    "time_predict_forest = time.time() - start_time_forest_predict\n",
    "print(f\"Predicting time RandomForestRegressor model: {time_predict_forest:.4f} seconds\")\n",
    "print()\n",
    "print(f\"RMSE test RandomForestRegressor model: {rmse(forest_predict, target_test)}\")"
   ]
  },
  {
   "cell_type": "markdown",
   "metadata": {},
   "source": [
    "#### Conclusiones modelo RandomForestRegressor\n",
    "\n",
    "Este modelo llega a iterar con la cantidad de árboles que le asignamos.\n",
    "Aqui mientras más parámetros modifiquemos más robusto será el modelo pero más lento se vuelve.\n",
    "Las valuaciones de los datasets dentro de este modelo no llegan a ser tan satisfactorios como los otros dos modelos.\n",
    "También es el modelo más lento dentro de los 3 que estamos comparando."
   ]
  },
  {
   "cell_type": "markdown",
   "metadata": {},
   "source": [
    "## Conclusiones generales\n",
    "\n",
    "Considerando los tiempos de entrenamiento y la métrica de error RMSE, el modelo que considero es el mejor es el CatBoost.\n",
    "Este modelo tiene el tiempo más corto de entrenamiento y el error más pequeño.\n",
    "Con la misma cantidad de recursos que LightGBM llega a minimizar el error de manera más eficiente.\n",
    "Además de que podemos ahorrarnos el paso de la codificación One Hot para este tipo de modelo, a diferencia del modelo RandomForestRegressor.\n",
    "Con un menor tiempo de entrenamiento y predicción, además de presentar la mejor eficiencia al iterar la mejor opción es CatBoost."
   ]
  }
 ],
 "metadata": {
  "ExecuteTimeLog": [
   {
    "duration": 297,
    "start_time": "2024-12-07T02:28:49.294Z"
   },
   {
    "duration": 456,
    "start_time": "2024-12-07T02:29:54.656Z"
   },
   {
    "duration": 490,
    "start_time": "2024-12-07T02:30:11.985Z"
   },
   {
    "duration": 6,
    "start_time": "2024-12-07T02:38:30.624Z"
   },
   {
    "duration": 515,
    "start_time": "2024-12-07T02:38:51.952Z"
   },
   {
    "duration": 502,
    "start_time": "2024-12-07T02:39:07.083Z"
   },
   {
    "duration": 284,
    "start_time": "2024-12-07T02:40:38.127Z"
   },
   {
    "duration": 296,
    "start_time": "2024-12-07T02:40:48.065Z"
   },
   {
    "duration": 287,
    "start_time": "2024-12-07T02:40:52.940Z"
   },
   {
    "duration": 501,
    "start_time": "2024-12-07T02:41:06.819Z"
   },
   {
    "duration": 492,
    "start_time": "2024-12-07T02:42:31.517Z"
   },
   {
    "duration": 175,
    "start_time": "2024-12-07T02:43:27.572Z"
   },
   {
    "duration": 22,
    "start_time": "2024-12-07T02:43:47.854Z"
   },
   {
    "duration": 178,
    "start_time": "2024-12-07T02:43:51.805Z"
   },
   {
    "duration": 166,
    "start_time": "2024-12-07T02:45:52.051Z"
   },
   {
    "duration": 112,
    "start_time": "2024-12-07T02:46:09.291Z"
   },
   {
    "duration": 67,
    "start_time": "2024-12-07T02:47:13.248Z"
   },
   {
    "duration": 63,
    "start_time": "2024-12-07T02:47:23.935Z"
   },
   {
    "duration": 172,
    "start_time": "2024-12-07T02:47:41.657Z"
   },
   {
    "duration": 301,
    "start_time": "2024-12-07T02:52:03.548Z"
   },
   {
    "duration": 13,
    "start_time": "2024-12-07T02:52:14.084Z"
   },
   {
    "duration": 11,
    "start_time": "2024-12-07T02:52:26.575Z"
   },
   {
    "duration": 14,
    "start_time": "2024-12-07T02:52:51.071Z"
   },
   {
    "duration": 20,
    "start_time": "2024-12-07T02:54:29.345Z"
   },
   {
    "duration": 2,
    "start_time": "2024-12-07T02:54:39.803Z"
   },
   {
    "duration": 504,
    "start_time": "2024-12-07T02:54:40.261Z"
   },
   {
    "duration": 18,
    "start_time": "2024-12-07T02:54:40.916Z"
   },
   {
    "duration": 169,
    "start_time": "2024-12-07T02:54:41.610Z"
   },
   {
    "duration": 66,
    "start_time": "2024-12-07T02:54:42.583Z"
   },
   {
    "duration": 149,
    "start_time": "2024-12-07T02:54:43.677Z"
   },
   {
    "duration": 14,
    "start_time": "2024-12-07T02:54:50.748Z"
   },
   {
    "duration": 11,
    "start_time": "2024-12-07T02:55:16.748Z"
   },
   {
    "duration": 12,
    "start_time": "2024-12-07T02:55:40.021Z"
   },
   {
    "duration": 11,
    "start_time": "2024-12-07T02:57:04.656Z"
   },
   {
    "duration": 12,
    "start_time": "2024-12-07T02:57:09.064Z"
   },
   {
    "duration": 270,
    "start_time": "2024-12-07T02:57:21.821Z"
   },
   {
    "duration": 536,
    "start_time": "2024-12-07T02:57:22.093Z"
   },
   {
    "duration": 30,
    "start_time": "2024-12-07T02:57:22.631Z"
   },
   {
    "duration": 214,
    "start_time": "2024-12-07T02:57:22.664Z"
   },
   {
    "duration": 86,
    "start_time": "2024-12-07T02:57:22.880Z"
   },
   {
    "duration": 154,
    "start_time": "2024-12-07T02:57:37.554Z"
   },
   {
    "duration": 136,
    "start_time": "2024-12-07T02:57:55.010Z"
   },
   {
    "duration": 221,
    "start_time": "2024-12-07T02:58:09.099Z"
   },
   {
    "duration": 222,
    "start_time": "2024-12-07T02:58:21.793Z"
   },
   {
    "duration": 227,
    "start_time": "2024-12-07T02:59:05.058Z"
   },
   {
    "duration": 320,
    "start_time": "2024-12-07T03:04:29.860Z"
   },
   {
    "duration": 544,
    "start_time": "2024-12-07T03:04:30.182Z"
   },
   {
    "duration": 31,
    "start_time": "2024-12-07T03:04:30.728Z"
   },
   {
    "duration": 203,
    "start_time": "2024-12-07T03:04:30.761Z"
   },
   {
    "duration": 82,
    "start_time": "2024-12-07T03:04:30.967Z"
   },
   {
    "duration": 273,
    "start_time": "2024-12-07T03:04:31.051Z"
   },
   {
    "duration": 325,
    "start_time": "2024-12-07T03:05:43.564Z"
   },
   {
    "duration": 527,
    "start_time": "2024-12-07T03:05:43.891Z"
   },
   {
    "duration": 30,
    "start_time": "2024-12-07T03:05:44.419Z"
   },
   {
    "duration": 205,
    "start_time": "2024-12-07T03:05:44.451Z"
   },
   {
    "duration": 72,
    "start_time": "2024-12-07T03:05:44.659Z"
   },
   {
    "duration": 255,
    "start_time": "2024-12-07T03:05:44.743Z"
   },
   {
    "duration": 10,
    "start_time": "2024-12-07T03:07:40.751Z"
   },
   {
    "duration": 2,
    "start_time": "2024-12-07T03:11:02.027Z"
   },
   {
    "duration": 273,
    "start_time": "2024-12-07T03:11:14.001Z"
   },
   {
    "duration": 274,
    "start_time": "2024-12-07T03:11:26.768Z"
   },
   {
    "duration": 812,
    "start_time": "2024-12-07T03:12:37.446Z"
   },
   {
    "duration": 2,
    "start_time": "2024-12-07T03:17:04.033Z"
   },
   {
    "duration": 17,
    "start_time": "2024-12-07T03:18:43.236Z"
   },
   {
    "duration": 37,
    "start_time": "2024-12-07T03:18:50.636Z"
   },
   {
    "duration": 28,
    "start_time": "2024-12-07T03:23:18.840Z"
   },
   {
    "duration": 80,
    "start_time": "2024-12-07T03:24:30.942Z"
   },
   {
    "duration": 90,
    "start_time": "2024-12-07T03:24:59.268Z"
   },
   {
    "duration": 265,
    "start_time": "2024-12-07T03:25:49.820Z"
   },
   {
    "duration": 541,
    "start_time": "2024-12-07T03:25:50.087Z"
   },
   {
    "duration": 34,
    "start_time": "2024-12-07T03:25:50.630Z"
   },
   {
    "duration": 209,
    "start_time": "2024-12-07T03:25:50.666Z"
   },
   {
    "duration": 92,
    "start_time": "2024-12-07T03:25:50.877Z"
   },
   {
    "duration": 256,
    "start_time": "2024-12-07T03:25:50.970Z"
   },
   {
    "duration": 85,
    "start_time": "2024-12-07T03:25:51.227Z"
   },
   {
    "duration": 3,
    "start_time": "2024-12-07T03:25:51.314Z"
   },
   {
    "duration": 294,
    "start_time": "2024-12-07T03:25:51.318Z"
   },
   {
    "duration": 10,
    "start_time": "2024-12-07T03:25:51.614Z"
   },
   {
    "duration": 308,
    "start_time": "2024-12-07T03:27:02.922Z"
   },
   {
    "duration": 176,
    "start_time": "2024-12-07T03:28:23.693Z"
   },
   {
    "duration": 181,
    "start_time": "2024-12-07T03:28:44.114Z"
   },
   {
    "duration": 176,
    "start_time": "2024-12-07T03:30:40.837Z"
   },
   {
    "duration": 766,
    "start_time": "2024-12-07T03:31:37.182Z"
   },
   {
    "duration": 536,
    "start_time": "2024-12-07T03:31:37.950Z"
   },
   {
    "duration": 27,
    "start_time": "2024-12-07T03:31:38.488Z"
   },
   {
    "duration": 204,
    "start_time": "2024-12-07T03:31:38.517Z"
   },
   {
    "duration": 85,
    "start_time": "2024-12-07T03:31:38.723Z"
   },
   {
    "duration": 255,
    "start_time": "2024-12-07T03:31:38.810Z"
   },
   {
    "duration": 86,
    "start_time": "2024-12-07T03:31:39.066Z"
   },
   {
    "duration": 2,
    "start_time": "2024-12-07T03:31:39.154Z"
   },
   {
    "duration": 297,
    "start_time": "2024-12-07T03:31:39.158Z"
   },
   {
    "duration": 207,
    "start_time": "2024-12-07T03:31:39.458Z"
   },
   {
    "duration": 175,
    "start_time": "2024-12-07T03:31:39.667Z"
   },
   {
    "duration": 850,
    "start_time": "2024-12-07T03:36:23.323Z"
   },
   {
    "duration": 950,
    "start_time": "2024-12-07T03:41:01.267Z"
   },
   {
    "duration": 761,
    "start_time": "2024-12-07T03:44:54.776Z"
   },
   {
    "duration": 537,
    "start_time": "2024-12-07T03:44:55.539Z"
   },
   {
    "duration": 26,
    "start_time": "2024-12-07T03:44:56.078Z"
   },
   {
    "duration": 201,
    "start_time": "2024-12-07T03:44:56.107Z"
   },
   {
    "duration": 86,
    "start_time": "2024-12-07T03:44:56.309Z"
   },
   {
    "duration": 265,
    "start_time": "2024-12-07T03:44:56.396Z"
   },
   {
    "duration": 82,
    "start_time": "2024-12-07T03:44:56.663Z"
   },
   {
    "duration": 3,
    "start_time": "2024-12-07T03:44:56.747Z"
   },
   {
    "duration": 297,
    "start_time": "2024-12-07T03:44:56.752Z"
   },
   {
    "duration": 191,
    "start_time": "2024-12-07T03:44:57.052Z"
   },
   {
    "duration": 1001,
    "start_time": "2024-12-07T03:44:57.246Z"
   },
   {
    "duration": 1915,
    "start_time": "2024-12-07T04:04:24.422Z"
   },
   {
    "duration": 1888,
    "start_time": "2024-12-07T04:04:28.232Z"
   },
   {
    "duration": 1834,
    "start_time": "2024-12-07T04:04:44.826Z"
   },
   {
    "duration": 1842,
    "start_time": "2024-12-07T04:04:46.662Z"
   },
   {
    "duration": 767,
    "start_time": "2024-12-07T04:04:48.506Z"
   },
   {
    "duration": 539,
    "start_time": "2024-12-07T04:04:49.275Z"
   },
   {
    "duration": 35,
    "start_time": "2024-12-07T04:04:49.816Z"
   },
   {
    "duration": 199,
    "start_time": "2024-12-07T04:04:49.853Z"
   },
   {
    "duration": 78,
    "start_time": "2024-12-07T04:04:50.054Z"
   },
   {
    "duration": 253,
    "start_time": "2024-12-07T04:04:50.142Z"
   },
   {
    "duration": 96,
    "start_time": "2024-12-07T04:04:50.397Z"
   },
   {
    "duration": 4,
    "start_time": "2024-12-07T04:04:50.498Z"
   },
   {
    "duration": 300,
    "start_time": "2024-12-07T04:04:50.504Z"
   },
   {
    "duration": 194,
    "start_time": "2024-12-07T04:04:50.806Z"
   },
   {
    "duration": 1016,
    "start_time": "2024-12-07T04:04:51.002Z"
   },
   {
    "duration": 119,
    "start_time": "2024-12-07T04:08:07.105Z"
   },
   {
    "duration": 1833,
    "start_time": "2024-12-07T04:08:13.954Z"
   },
   {
    "duration": 1904,
    "start_time": "2024-12-07T04:08:15.790Z"
   },
   {
    "duration": 869,
    "start_time": "2024-12-07T04:08:17.696Z"
   },
   {
    "duration": 528,
    "start_time": "2024-12-07T04:08:18.567Z"
   },
   {
    "duration": 28,
    "start_time": "2024-12-07T04:08:19.096Z"
   },
   {
    "duration": 200,
    "start_time": "2024-12-07T04:08:19.126Z"
   },
   {
    "duration": 75,
    "start_time": "2024-12-07T04:08:19.328Z"
   },
   {
    "duration": 261,
    "start_time": "2024-12-07T04:08:19.405Z"
   },
   {
    "duration": 94,
    "start_time": "2024-12-07T04:08:19.668Z"
   },
   {
    "duration": 2,
    "start_time": "2024-12-07T04:08:19.765Z"
   },
   {
    "duration": 291,
    "start_time": "2024-12-07T04:08:19.769Z"
   },
   {
    "duration": 192,
    "start_time": "2024-12-07T04:08:20.062Z"
   },
   {
    "duration": 1036,
    "start_time": "2024-12-07T04:08:20.256Z"
   },
   {
    "duration": 289,
    "start_time": "2024-12-07T04:12:19.076Z"
   },
   {
    "duration": 108,
    "start_time": "2024-12-07T04:12:40.693Z"
   },
   {
    "duration": 1834,
    "start_time": "2024-12-07T04:13:11.945Z"
   },
   {
    "duration": 1837,
    "start_time": "2024-12-07T04:13:13.782Z"
   },
   {
    "duration": 829,
    "start_time": "2024-12-07T04:13:15.621Z"
   },
   {
    "duration": 533,
    "start_time": "2024-12-07T04:13:16.452Z"
   },
   {
    "duration": 25,
    "start_time": "2024-12-07T04:13:16.988Z"
   },
   {
    "duration": 194,
    "start_time": "2024-12-07T04:13:17.015Z"
   },
   {
    "duration": 74,
    "start_time": "2024-12-07T04:13:17.211Z"
   },
   {
    "duration": 255,
    "start_time": "2024-12-07T04:13:17.287Z"
   },
   {
    "duration": 318,
    "start_time": "2024-12-07T04:13:17.545Z"
   },
   {
    "duration": 0,
    "start_time": "2024-12-07T04:13:17.864Z"
   },
   {
    "duration": 0,
    "start_time": "2024-12-07T04:13:17.866Z"
   },
   {
    "duration": 0,
    "start_time": "2024-12-07T04:13:17.867Z"
   },
   {
    "duration": 0,
    "start_time": "2024-12-07T04:13:17.868Z"
   },
   {
    "duration": 1,
    "start_time": "2024-12-07T04:13:17.869Z"
   },
   {
    "duration": 93,
    "start_time": "2024-12-07T04:13:32.569Z"
   },
   {
    "duration": 91,
    "start_time": "2024-12-07T04:13:48.053Z"
   },
   {
    "duration": 1865,
    "start_time": "2024-12-07T04:13:53.834Z"
   },
   {
    "duration": 1873,
    "start_time": "2024-12-07T04:13:55.701Z"
   },
   {
    "duration": 888,
    "start_time": "2024-12-07T04:13:57.576Z"
   },
   {
    "duration": 532,
    "start_time": "2024-12-07T04:13:58.467Z"
   },
   {
    "duration": 26,
    "start_time": "2024-12-07T04:13:59.001Z"
   },
   {
    "duration": 195,
    "start_time": "2024-12-07T04:13:59.029Z"
   },
   {
    "duration": 75,
    "start_time": "2024-12-07T04:13:59.226Z"
   },
   {
    "duration": 264,
    "start_time": "2024-12-07T04:13:59.303Z"
   },
   {
    "duration": 85,
    "start_time": "2024-12-07T04:13:59.570Z"
   },
   {
    "duration": 3,
    "start_time": "2024-12-07T04:13:59.658Z"
   },
   {
    "duration": 294,
    "start_time": "2024-12-07T04:13:59.663Z"
   },
   {
    "duration": 235,
    "start_time": "2024-12-07T04:13:59.959Z"
   },
   {
    "duration": 0,
    "start_time": "2024-12-07T04:14:00.195Z"
   },
   {
    "duration": 0,
    "start_time": "2024-12-07T04:14:00.197Z"
   },
   {
    "duration": 203,
    "start_time": "2024-12-07T04:14:13.069Z"
   },
   {
    "duration": 1904,
    "start_time": "2024-12-07T04:14:24.967Z"
   },
   {
    "duration": 1865,
    "start_time": "2024-12-07T04:14:26.873Z"
   },
   {
    "duration": 924,
    "start_time": "2024-12-07T04:14:28.741Z"
   },
   {
    "duration": 542,
    "start_time": "2024-12-07T04:14:29.667Z"
   },
   {
    "duration": 41,
    "start_time": "2024-12-07T04:14:30.212Z"
   },
   {
    "duration": 188,
    "start_time": "2024-12-07T04:14:30.255Z"
   },
   {
    "duration": 79,
    "start_time": "2024-12-07T04:14:30.445Z"
   },
   {
    "duration": 272,
    "start_time": "2024-12-07T04:14:30.526Z"
   },
   {
    "duration": 91,
    "start_time": "2024-12-07T04:14:30.800Z"
   },
   {
    "duration": 6,
    "start_time": "2024-12-07T04:14:30.893Z"
   },
   {
    "duration": 308,
    "start_time": "2024-12-07T04:14:30.901Z"
   },
   {
    "duration": 231,
    "start_time": "2024-12-07T04:14:31.212Z"
   },
   {
    "duration": 1006,
    "start_time": "2024-12-07T04:14:31.446Z"
   },
   {
    "duration": 111,
    "start_time": "2024-12-07T04:14:32.455Z"
   },
   {
    "duration": 126,
    "start_time": "2024-12-07T04:17:58.064Z"
   },
   {
    "duration": 378,
    "start_time": "2024-12-07T04:19:12.596Z"
   },
   {
    "duration": 3,
    "start_time": "2024-12-07T04:19:59.176Z"
   },
   {
    "duration": 19,
    "start_time": "2024-12-07T04:20:09.490Z"
   },
   {
    "duration": 2,
    "start_time": "2024-12-07T04:21:17.274Z"
   },
   {
    "duration": 159,
    "start_time": "2024-12-07T04:22:19.958Z"
   },
   {
    "duration": 1868,
    "start_time": "2024-12-07T04:22:39.182Z"
   },
   {
    "duration": 1830,
    "start_time": "2024-12-07T04:22:41.052Z"
   },
   {
    "duration": 880,
    "start_time": "2024-12-07T04:22:42.885Z"
   },
   {
    "duration": 574,
    "start_time": "2024-12-07T04:22:43.768Z"
   },
   {
    "duration": 25,
    "start_time": "2024-12-07T04:22:44.345Z"
   },
   {
    "duration": 193,
    "start_time": "2024-12-07T04:22:44.372Z"
   },
   {
    "duration": 74,
    "start_time": "2024-12-07T04:22:44.568Z"
   },
   {
    "duration": 255,
    "start_time": "2024-12-07T04:22:44.644Z"
   },
   {
    "duration": 87,
    "start_time": "2024-12-07T04:22:44.901Z"
   },
   {
    "duration": 2,
    "start_time": "2024-12-07T04:22:44.991Z"
   },
   {
    "duration": 304,
    "start_time": "2024-12-07T04:22:44.995Z"
   },
   {
    "duration": 191,
    "start_time": "2024-12-07T04:22:45.301Z"
   },
   {
    "duration": 1000,
    "start_time": "2024-12-07T04:22:45.494Z"
   },
   {
    "duration": 138,
    "start_time": "2024-12-07T04:22:46.496Z"
   },
   {
    "duration": 3,
    "start_time": "2024-12-07T04:22:46.635Z"
   },
   {
    "duration": 8747,
    "start_time": "2024-12-07T04:25:48.398Z"
   },
   {
    "duration": 8624,
    "start_time": "2024-12-07T04:27:14.826Z"
   },
   {
    "duration": 9142,
    "start_time": "2024-12-07T04:30:39.126Z"
   },
   {
    "duration": 9027,
    "start_time": "2024-12-07T04:31:01.672Z"
   },
   {
    "duration": 8966,
    "start_time": "2024-12-07T04:31:44.220Z"
   },
   {
    "duration": 8859,
    "start_time": "2024-12-07T04:32:45.722Z"
   },
   {
    "duration": 8915,
    "start_time": "2024-12-07T04:33:32.157Z"
   },
   {
    "duration": 9406,
    "start_time": "2024-12-07T04:39:14.270Z"
   },
   {
    "duration": 159,
    "start_time": "2024-12-10T03:38:28.302Z"
   },
   {
    "duration": 1985,
    "start_time": "2024-12-10T03:38:37.153Z"
   },
   {
    "duration": 1847,
    "start_time": "2024-12-10T03:38:39.140Z"
   },
   {
    "duration": 868,
    "start_time": "2024-12-10T03:38:40.989Z"
   },
   {
    "duration": 589,
    "start_time": "2024-12-10T03:38:41.859Z"
   },
   {
    "duration": 30,
    "start_time": "2024-12-10T03:38:42.449Z"
   },
   {
    "duration": 199,
    "start_time": "2024-12-10T03:38:42.480Z"
   },
   {
    "duration": 73,
    "start_time": "2024-12-10T03:38:42.681Z"
   },
   {
    "duration": 257,
    "start_time": "2024-12-10T03:38:42.756Z"
   },
   {
    "duration": 82,
    "start_time": "2024-12-10T03:38:43.015Z"
   },
   {
    "duration": 50,
    "start_time": "2024-12-10T03:38:43.100Z"
   },
   {
    "duration": 2,
    "start_time": "2024-12-10T03:38:43.152Z"
   },
   {
    "duration": 310,
    "start_time": "2024-12-10T03:38:43.156Z"
   },
   {
    "duration": 189,
    "start_time": "2024-12-10T03:38:43.468Z"
   },
   {
    "duration": 985,
    "start_time": "2024-12-10T03:38:43.660Z"
   },
   {
    "duration": 134,
    "start_time": "2024-12-10T03:38:44.647Z"
   },
   {
    "duration": 3,
    "start_time": "2024-12-10T03:38:44.782Z"
   },
   {
    "duration": 73,
    "start_time": "2024-12-10T03:40:17.769Z"
   },
   {
    "duration": 2,
    "start_time": "2024-12-10T03:51:02.051Z"
   },
   {
    "duration": 199,
    "start_time": "2024-12-12T23:32:42.956Z"
   },
   {
    "duration": 2171,
    "start_time": "2024-12-12T23:32:49.746Z"
   },
   {
    "duration": 2076,
    "start_time": "2024-12-12T23:32:51.928Z"
   },
   {
    "duration": 1012,
    "start_time": "2024-12-12T23:32:54.007Z"
   },
   {
    "duration": 687,
    "start_time": "2024-12-12T23:32:55.022Z"
   },
   {
    "duration": 41,
    "start_time": "2024-12-12T23:32:55.716Z"
   },
   {
    "duration": 213,
    "start_time": "2024-12-12T23:32:55.760Z"
   },
   {
    "duration": 80,
    "start_time": "2024-12-12T23:32:55.975Z"
   },
   {
    "duration": 296,
    "start_time": "2024-12-12T23:32:56.057Z"
   },
   {
    "duration": 94,
    "start_time": "2024-12-12T23:32:56.355Z"
   },
   {
    "duration": 44,
    "start_time": "2024-12-12T23:32:56.451Z"
   },
   {
    "duration": 56,
    "start_time": "2024-12-12T23:32:56.496Z"
   },
   {
    "duration": 4,
    "start_time": "2024-12-12T23:32:56.554Z"
   },
   {
    "duration": 330,
    "start_time": "2024-12-12T23:32:56.560Z"
   },
   {
    "duration": 221,
    "start_time": "2024-12-12T23:32:56.892Z"
   },
   {
    "duration": 1174,
    "start_time": "2024-12-12T23:32:57.115Z"
   },
   {
    "duration": 149,
    "start_time": "2024-12-12T23:32:58.291Z"
   },
   {
    "duration": 3,
    "start_time": "2024-12-12T23:32:58.442Z"
   },
   {
    "duration": 92,
    "start_time": "2024-12-12T23:36:29.117Z"
   },
   {
    "duration": 58,
    "start_time": "2024-12-12T23:36:38.709Z"
   },
   {
    "duration": 34,
    "start_time": "2024-12-12T23:36:39.537Z"
   },
   {
    "duration": 222,
    "start_time": "2024-12-12T23:37:02.605Z"
   },
   {
    "duration": 1122,
    "start_time": "2024-12-12T23:38:03.066Z"
   },
   {
    "duration": 119,
    "start_time": "2024-12-12T23:38:53.469Z"
   },
   {
    "duration": 7,
    "start_time": "2024-12-12T23:46:11.074Z"
   },
   {
    "duration": 17,
    "start_time": "2024-12-12T23:46:24.579Z"
   },
   {
    "duration": 4,
    "start_time": "2024-12-12T23:48:06.345Z"
   },
   {
    "duration": 94,
    "start_time": "2024-12-12T23:51:06.382Z"
   },
   {
    "duration": 3,
    "start_time": "2024-12-12T23:57:40.362Z"
   },
   {
    "duration": 21,
    "start_time": "2024-12-12T23:57:48.867Z"
   },
   {
    "duration": 59,
    "start_time": "2024-12-12T23:57:59.351Z"
   },
   {
    "duration": 70,
    "start_time": "2024-12-12T23:59:00.130Z"
   },
   {
    "duration": 10,
    "start_time": "2024-12-12T23:59:46.727Z"
   },
   {
    "duration": 17,
    "start_time": "2024-12-13T00:01:10.832Z"
   },
   {
    "duration": 7,
    "start_time": "2024-12-13T00:01:19.128Z"
   },
   {
    "duration": 4,
    "start_time": "2024-12-13T00:01:28.954Z"
   },
   {
    "duration": 255,
    "start_time": "2024-12-13T00:01:33.825Z"
   },
   {
    "duration": 17,
    "start_time": "2024-12-13T00:01:44.293Z"
   },
   {
    "duration": 15,
    "start_time": "2024-12-13T00:02:15.879Z"
   },
   {
    "duration": 4,
    "start_time": "2024-12-13T00:03:05.747Z"
   },
   {
    "duration": 73,
    "start_time": "2024-12-13T00:04:56.325Z"
   },
   {
    "duration": 78,
    "start_time": "2024-12-13T00:05:24.709Z"
   },
   {
    "duration": 99,
    "start_time": "2024-12-13T00:17:58.507Z"
   },
   {
    "duration": 64,
    "start_time": "2024-12-13T00:19:49.236Z"
   },
   {
    "duration": 2305,
    "start_time": "2024-12-13T00:19:58.644Z"
   },
   {
    "duration": 2427,
    "start_time": "2024-12-13T00:20:00.951Z"
   },
   {
    "duration": 1089,
    "start_time": "2024-12-13T00:20:03.380Z"
   },
   {
    "duration": 689,
    "start_time": "2024-12-13T00:20:04.472Z"
   },
   {
    "duration": 31,
    "start_time": "2024-12-13T00:20:05.164Z"
   },
   {
    "duration": 244,
    "start_time": "2024-12-13T00:20:05.196Z"
   },
   {
    "duration": 88,
    "start_time": "2024-12-13T00:20:05.442Z"
   },
   {
    "duration": 325,
    "start_time": "2024-12-13T00:20:05.532Z"
   },
   {
    "duration": 130,
    "start_time": "2024-12-13T00:20:05.860Z"
   },
   {
    "duration": 55,
    "start_time": "2024-12-13T00:20:05.994Z"
   },
   {
    "duration": 40,
    "start_time": "2024-12-13T00:20:06.052Z"
   },
   {
    "duration": 100,
    "start_time": "2024-12-13T00:20:06.093Z"
   },
   {
    "duration": 70,
    "start_time": "2024-12-13T00:20:06.196Z"
   },
   {
    "duration": 4,
    "start_time": "2024-12-13T00:20:06.268Z"
   },
   {
    "duration": 267,
    "start_time": "2024-12-13T00:20:06.274Z"
   },
   {
    "duration": 188,
    "start_time": "2024-12-13T00:20:06.543Z"
   },
   {
    "duration": 1085,
    "start_time": "2024-12-13T00:20:06.733Z"
   },
   {
    "duration": 129,
    "start_time": "2024-12-13T00:20:07.821Z"
   },
   {
    "duration": 11,
    "start_time": "2024-12-13T00:20:07.952Z"
   },
   {
    "duration": 2067,
    "start_time": "2024-12-13T01:12:05.932Z"
   },
   {
    "duration": 2105,
    "start_time": "2024-12-13T01:12:08.002Z"
   },
   {
    "duration": 994,
    "start_time": "2024-12-13T01:12:10.109Z"
   },
   {
    "duration": 592,
    "start_time": "2024-12-13T01:12:11.106Z"
   },
   {
    "duration": 52,
    "start_time": "2024-12-13T01:12:11.700Z"
   },
   {
    "duration": 218,
    "start_time": "2024-12-13T01:12:11.754Z"
   },
   {
    "duration": 77,
    "start_time": "2024-12-13T01:12:11.975Z"
   },
   {
    "duration": 286,
    "start_time": "2024-12-13T01:12:12.054Z"
   },
   {
    "duration": 77,
    "start_time": "2024-12-13T01:12:12.342Z"
   },
   {
    "duration": 46,
    "start_time": "2024-12-13T01:12:12.422Z"
   },
   {
    "duration": 25,
    "start_time": "2024-12-13T01:12:12.470Z"
   },
   {
    "duration": 76,
    "start_time": "2024-12-13T01:12:12.497Z"
   },
   {
    "duration": 64,
    "start_time": "2024-12-13T01:12:12.574Z"
   },
   {
    "duration": 3,
    "start_time": "2024-12-13T01:12:12.640Z"
   },
   {
    "duration": 261,
    "start_time": "2024-12-13T01:12:12.645Z"
   },
   {
    "duration": 159,
    "start_time": "2024-12-13T01:12:12.907Z"
   },
   {
    "duration": 911,
    "start_time": "2024-12-13T01:12:13.068Z"
   },
   {
    "duration": 99,
    "start_time": "2024-12-13T01:12:13.981Z"
   },
   {
    "duration": 2,
    "start_time": "2024-12-13T01:12:14.082Z"
   },
   {
    "duration": 254,
    "start_time": "2024-12-13T01:36:55.925Z"
   },
   {
    "duration": 2135,
    "start_time": "2024-12-13T01:37:33.932Z"
   },
   {
    "duration": 2140,
    "start_time": "2024-12-13T01:37:36.069Z"
   },
   {
    "duration": 856,
    "start_time": "2024-12-13T01:37:38.211Z"
   },
   {
    "duration": 615,
    "start_time": "2024-12-13T01:37:39.069Z"
   },
   {
    "duration": 36,
    "start_time": "2024-12-13T01:37:39.687Z"
   },
   {
    "duration": 219,
    "start_time": "2024-12-13T01:37:39.725Z"
   },
   {
    "duration": 101,
    "start_time": "2024-12-13T01:37:39.946Z"
   },
   {
    "duration": 282,
    "start_time": "2024-12-13T01:37:40.049Z"
   },
   {
    "duration": 79,
    "start_time": "2024-12-13T01:37:40.333Z"
   },
   {
    "duration": 49,
    "start_time": "2024-12-13T01:37:40.416Z"
   },
   {
    "duration": 27,
    "start_time": "2024-12-13T01:37:40.467Z"
   },
   {
    "duration": 77,
    "start_time": "2024-12-13T01:37:40.495Z"
   },
   {
    "duration": 67,
    "start_time": "2024-12-13T01:37:40.574Z"
   },
   {
    "duration": 707,
    "start_time": "2024-12-13T01:37:40.644Z"
   },
   {
    "duration": 0,
    "start_time": "2024-12-13T01:37:41.353Z"
   },
   {
    "duration": 0,
    "start_time": "2024-12-13T01:37:41.354Z"
   },
   {
    "duration": 0,
    "start_time": "2024-12-13T01:37:41.356Z"
   },
   {
    "duration": 0,
    "start_time": "2024-12-13T01:37:41.357Z"
   },
   {
    "duration": 0,
    "start_time": "2024-12-13T01:37:41.358Z"
   },
   {
    "duration": 163,
    "start_time": "2024-12-13T01:38:29.293Z"
   },
   {
    "duration": 132,
    "start_time": "2024-12-13T01:38:41.532Z"
   },
   {
    "duration": 236,
    "start_time": "2024-12-13T01:39:31.606Z"
   },
   {
    "duration": 223,
    "start_time": "2024-12-13T01:39:52.232Z"
   },
   {
    "duration": 215,
    "start_time": "2024-12-13T01:40:05.436Z"
   },
   {
    "duration": 8,
    "start_time": "2024-12-13T01:40:22.056Z"
   },
   {
    "duration": 13,
    "start_time": "2024-12-13T01:40:24.102Z"
   },
   {
    "duration": 2,
    "start_time": "2024-12-13T01:40:34.280Z"
   },
   {
    "duration": 73,
    "start_time": "2024-12-13T01:40:34.844Z"
   },
   {
    "duration": 53,
    "start_time": "2024-12-13T01:40:38.352Z"
   },
   {
    "duration": 3,
    "start_time": "2024-12-13T01:47:28.937Z"
   },
   {
    "duration": 90,
    "start_time": "2024-12-13T01:52:35.388Z"
   },
   {
    "duration": 12,
    "start_time": "2024-12-13T01:55:33.047Z"
   },
   {
    "duration": 83,
    "start_time": "2024-12-13T01:57:19.486Z"
   },
   {
    "duration": 11,
    "start_time": "2024-12-13T01:57:19.900Z"
   },
   {
    "duration": 51,
    "start_time": "2024-12-13T01:58:25.124Z"
   },
   {
    "duration": 61,
    "start_time": "2024-12-13T01:58:32.099Z"
   },
   {
    "duration": 10,
    "start_time": "2024-12-13T01:59:21.668Z"
   },
   {
    "duration": 2123,
    "start_time": "2024-12-13T02:03:36.753Z"
   },
   {
    "duration": 2082,
    "start_time": "2024-12-13T02:03:38.879Z"
   },
   {
    "duration": 931,
    "start_time": "2024-12-13T02:03:40.963Z"
   },
   {
    "duration": 606,
    "start_time": "2024-12-13T02:03:41.897Z"
   },
   {
    "duration": 38,
    "start_time": "2024-12-13T02:03:42.505Z"
   },
   {
    "duration": 204,
    "start_time": "2024-12-13T02:03:42.545Z"
   },
   {
    "duration": 88,
    "start_time": "2024-12-13T02:03:42.751Z"
   },
   {
    "duration": 269,
    "start_time": "2024-12-13T02:03:42.842Z"
   },
   {
    "duration": 91,
    "start_time": "2024-12-13T02:03:43.116Z"
   },
   {
    "duration": 46,
    "start_time": "2024-12-13T02:03:43.209Z"
   },
   {
    "duration": 27,
    "start_time": "2024-12-13T02:03:43.256Z"
   },
   {
    "duration": 77,
    "start_time": "2024-12-13T02:03:43.285Z"
   },
   {
    "duration": 35,
    "start_time": "2024-12-13T02:03:43.364Z"
   },
   {
    "duration": 276,
    "start_time": "2024-12-13T02:03:43.419Z"
   },
   {
    "duration": 19,
    "start_time": "2024-12-13T02:03:43.697Z"
   },
   {
    "duration": 12,
    "start_time": "2024-12-13T02:03:43.718Z"
   },
   {
    "duration": 13,
    "start_time": "2024-12-13T02:03:43.733Z"
   },
   {
    "duration": 72,
    "start_time": "2024-12-13T02:03:43.748Z"
   },
   {
    "duration": 62,
    "start_time": "2024-12-13T02:03:43.822Z"
   },
   {
    "duration": 95,
    "start_time": "2024-12-13T02:03:43.886Z"
   },
   {
    "duration": 12,
    "start_time": "2024-12-13T02:03:43.982Z"
   },
   {
    "duration": 75,
    "start_time": "2024-12-13T02:03:43.995Z"
   },
   {
    "duration": 12,
    "start_time": "2024-12-13T02:03:44.072Z"
   },
   {
    "duration": 4,
    "start_time": "2024-12-13T02:03:44.085Z"
   },
   {
    "duration": 3,
    "start_time": "2024-12-13T02:11:17.035Z"
   },
   {
    "duration": 2,
    "start_time": "2024-12-13T02:13:35.890Z"
   },
   {
    "duration": 3,
    "start_time": "2024-12-13T02:14:01.907Z"
   },
   {
    "duration": 33654,
    "start_time": "2024-12-13T02:24:40.386Z"
   },
   {
    "duration": 58,
    "start_time": "2024-12-13T02:25:38.591Z"
   },
   {
    "duration": 21,
    "start_time": "2024-12-13T02:25:39.006Z"
   },
   {
    "duration": 68,
    "start_time": "2024-12-13T02:27:33.299Z"
   },
   {
    "duration": 9,
    "start_time": "2024-12-13T02:28:10.741Z"
   },
   {
    "duration": 254,
    "start_time": "2024-12-13T02:31:23.732Z"
   },
   {
    "duration": 56,
    "start_time": "2024-12-13T02:31:35.836Z"
   },
   {
    "duration": 12,
    "start_time": "2024-12-13T02:32:11.583Z"
   },
   {
    "duration": 3,
    "start_time": "2024-12-13T02:37:27.972Z"
   },
   {
    "duration": 119,
    "start_time": "2024-12-13T02:38:23.627Z"
   },
   {
    "duration": 2209,
    "start_time": "2024-12-13T02:38:56.010Z"
   },
   {
    "duration": 1954,
    "start_time": "2024-12-13T02:39:55.773Z"
   },
   {
    "duration": 180,
    "start_time": "2024-12-13T02:40:26.669Z"
   },
   {
    "duration": 306,
    "start_time": "2024-12-13T02:40:39.312Z"
   },
   {
    "duration": 2925,
    "start_time": "2024-12-13T02:41:17.103Z"
   },
   {
    "duration": 1957,
    "start_time": "2024-12-13T02:41:34.285Z"
   },
   {
    "duration": 555,
    "start_time": "2024-12-13T02:43:32.308Z"
   },
   {
    "duration": 114,
    "start_time": "2024-12-13T02:45:05.220Z"
   },
   {
    "duration": 22,
    "start_time": "2024-12-13T02:46:26.277Z"
   },
   {
    "duration": 107,
    "start_time": "2024-12-13T02:47:24.235Z"
   },
   {
    "duration": 188,
    "start_time": "2024-12-13T02:48:00.174Z"
   },
   {
    "duration": 122,
    "start_time": "2024-12-13T02:48:26.528Z"
   },
   {
    "duration": 557,
    "start_time": "2024-12-13T02:49:44.625Z"
   },
   {
    "duration": 13,
    "start_time": "2024-12-13T02:50:34.036Z"
   },
   {
    "duration": 13,
    "start_time": "2024-12-13T02:50:44.437Z"
   },
   {
    "duration": 67,
    "start_time": "2024-12-13T02:52:15.709Z"
   },
   {
    "duration": 49,
    "start_time": "2024-12-13T02:52:36.628Z"
   },
   {
    "duration": 2114,
    "start_time": "2024-12-13T02:52:47.479Z"
   },
   {
    "duration": 2086,
    "start_time": "2024-12-13T02:52:49.595Z"
   },
   {
    "duration": 905,
    "start_time": "2024-12-13T02:52:51.684Z"
   },
   {
    "duration": 613,
    "start_time": "2024-12-13T02:52:52.592Z"
   },
   {
    "duration": 45,
    "start_time": "2024-12-13T02:52:53.207Z"
   },
   {
    "duration": 226,
    "start_time": "2024-12-13T02:52:53.254Z"
   },
   {
    "duration": 90,
    "start_time": "2024-12-13T02:52:53.482Z"
   },
   {
    "duration": 275,
    "start_time": "2024-12-13T02:52:53.574Z"
   },
   {
    "duration": 97,
    "start_time": "2024-12-13T02:52:53.851Z"
   },
   {
    "duration": 36,
    "start_time": "2024-12-13T02:52:53.952Z"
   },
   {
    "duration": 55,
    "start_time": "2024-12-13T02:52:53.990Z"
   },
   {
    "duration": 59,
    "start_time": "2024-12-13T02:52:54.047Z"
   },
   {
    "duration": 53,
    "start_time": "2024-12-13T02:52:54.112Z"
   },
   {
    "duration": 268,
    "start_time": "2024-12-13T02:52:54.167Z"
   },
   {
    "duration": 13,
    "start_time": "2024-12-13T02:52:54.437Z"
   },
   {
    "duration": 8,
    "start_time": "2024-12-13T02:52:54.452Z"
   },
   {
    "duration": 2,
    "start_time": "2024-12-13T02:52:54.462Z"
   },
   {
    "duration": 94,
    "start_time": "2024-12-13T02:52:54.466Z"
   },
   {
    "duration": 72,
    "start_time": "2024-12-13T02:52:54.563Z"
   },
   {
    "duration": 101,
    "start_time": "2024-12-13T02:52:54.642Z"
   },
   {
    "duration": 18,
    "start_time": "2024-12-13T02:52:54.748Z"
   },
   {
    "duration": 62,
    "start_time": "2024-12-13T02:52:54.768Z"
   },
   {
    "duration": 15,
    "start_time": "2024-12-13T02:52:54.832Z"
   },
   {
    "duration": 62,
    "start_time": "2024-12-13T02:52:54.848Z"
   },
   {
    "duration": 61,
    "start_time": "2024-12-13T02:52:54.914Z"
   },
   {
    "duration": 10,
    "start_time": "2024-12-13T02:52:54.977Z"
   },
   {
    "duration": 69,
    "start_time": "2024-12-13T02:52:54.988Z"
   },
   {
    "duration": 30,
    "start_time": "2024-12-13T02:52:55.062Z"
   },
   {
    "duration": 10,
    "start_time": "2024-12-13T02:52:55.096Z"
   },
   {
    "duration": 14,
    "start_time": "2024-12-13T02:52:55.109Z"
   },
   {
    "duration": 7,
    "start_time": "2024-12-13T02:52:55.124Z"
   },
   {
    "duration": 4718,
    "start_time": "2024-12-13T02:52:55.133Z"
   },
   {
    "duration": 5787,
    "start_time": "2024-12-13T02:53:50.248Z"
   },
   {
    "duration": 3,
    "start_time": "2024-12-13T02:54:17.537Z"
   },
   {
    "duration": 4102,
    "start_time": "2024-12-13T02:54:18.249Z"
   },
   {
    "duration": 247,
    "start_time": "2024-12-13T02:55:19.897Z"
   },
   {
    "duration": 315,
    "start_time": "2024-12-13T02:55:25.319Z"
   },
   {
    "duration": 2,
    "start_time": "2024-12-13T02:56:06.344Z"
   },
   {
    "duration": 3523,
    "start_time": "2024-12-13T02:56:37.711Z"
   },
   {
    "duration": 2,
    "start_time": "2024-12-13T03:02:40.532Z"
   },
   {
    "duration": 3,
    "start_time": "2024-12-13T03:03:25.586Z"
   },
   {
    "duration": 665,
    "start_time": "2024-12-13T03:04:06.642Z"
   },
   {
    "duration": 2,
    "start_time": "2024-12-13T03:04:22.400Z"
   },
   {
    "duration": 286,
    "start_time": "2024-12-13T03:04:24.880Z"
   },
   {
    "duration": 3,
    "start_time": "2024-12-13T03:06:59.825Z"
   },
   {
    "duration": 4101,
    "start_time": "2024-12-13T03:07:00.368Z"
   },
   {
    "duration": 27,
    "start_time": "2024-12-13T03:07:33.555Z"
   },
   {
    "duration": 3,
    "start_time": "2024-12-13T03:08:59.536Z"
   },
   {
    "duration": 131,
    "start_time": "2024-12-13T03:09:01.765Z"
   },
   {
    "duration": 8,
    "start_time": "2024-12-13T03:10:27.011Z"
   },
   {
    "duration": 2,
    "start_time": "2024-12-13T03:10:28.283Z"
   },
   {
    "duration": 4718,
    "start_time": "2024-12-13T03:10:29.017Z"
   },
   {
    "duration": 3,
    "start_time": "2024-12-13T03:10:36.668Z"
   },
   {
    "duration": 4292,
    "start_time": "2024-12-13T03:10:37.127Z"
   },
   {
    "duration": 7,
    "start_time": "2024-12-13T03:10:50.233Z"
   },
   {
    "duration": 4026,
    "start_time": "2024-12-13T03:10:50.754Z"
   },
   {
    "duration": 3,
    "start_time": "2024-12-13T03:11:16.448Z"
   },
   {
    "duration": 2297,
    "start_time": "2024-12-13T03:11:37.649Z"
   },
   {
    "duration": 2291,
    "start_time": "2024-12-13T03:13:45.602Z"
   },
   {
    "duration": 3,
    "start_time": "2024-12-13T03:14:34.441Z"
   },
   {
    "duration": 16,
    "start_time": "2024-12-13T03:20:23.495Z"
   },
   {
    "duration": 17757,
    "start_time": "2024-12-13T03:20:46.838Z"
   },
   {
    "duration": 13828,
    "start_time": "2024-12-13T03:21:24.840Z"
   },
   {
    "duration": 31144,
    "start_time": "2024-12-13T03:21:46.718Z"
   },
   {
    "duration": 2094,
    "start_time": "2024-12-13T03:22:32.202Z"
   },
   {
    "duration": 2102,
    "start_time": "2024-12-13T03:22:34.298Z"
   },
   {
    "duration": 959,
    "start_time": "2024-12-13T03:22:36.402Z"
   },
   {
    "duration": 591,
    "start_time": "2024-12-13T03:22:37.364Z"
   },
   {
    "duration": 26,
    "start_time": "2024-12-13T03:22:37.957Z"
   },
   {
    "duration": 219,
    "start_time": "2024-12-13T03:22:37.985Z"
   },
   {
    "duration": 85,
    "start_time": "2024-12-13T03:22:38.206Z"
   },
   {
    "duration": 276,
    "start_time": "2024-12-13T03:22:38.292Z"
   },
   {
    "duration": 96,
    "start_time": "2024-12-13T03:22:38.569Z"
   },
   {
    "duration": 35,
    "start_time": "2024-12-13T03:22:38.667Z"
   },
   {
    "duration": 38,
    "start_time": "2024-12-13T03:22:38.711Z"
   },
   {
    "duration": 82,
    "start_time": "2024-12-13T03:22:38.751Z"
   },
   {
    "duration": 36,
    "start_time": "2024-12-13T03:22:38.835Z"
   },
   {
    "duration": 278,
    "start_time": "2024-12-13T03:22:38.874Z"
   },
   {
    "duration": 12,
    "start_time": "2024-12-13T03:22:39.153Z"
   },
   {
    "duration": 12,
    "start_time": "2024-12-13T03:22:39.167Z"
   },
   {
    "duration": 2,
    "start_time": "2024-12-13T03:22:39.181Z"
   },
   {
    "duration": 100,
    "start_time": "2024-12-13T03:22:39.185Z"
   },
   {
    "duration": 75,
    "start_time": "2024-12-13T03:22:39.287Z"
   },
   {
    "duration": 88,
    "start_time": "2024-12-13T03:22:39.364Z"
   },
   {
    "duration": 11,
    "start_time": "2024-12-13T03:22:39.454Z"
   },
   {
    "duration": 76,
    "start_time": "2024-12-13T03:22:39.467Z"
   },
   {
    "duration": 10,
    "start_time": "2024-12-13T03:22:39.545Z"
   },
   {
    "duration": 71,
    "start_time": "2024-12-13T03:22:39.556Z"
   },
   {
    "duration": 41,
    "start_time": "2024-12-13T03:22:39.629Z"
   },
   {
    "duration": 9,
    "start_time": "2024-12-13T03:22:39.672Z"
   },
   {
    "duration": 71,
    "start_time": "2024-12-13T03:22:39.683Z"
   },
   {
    "duration": 26,
    "start_time": "2024-12-13T03:22:39.755Z"
   },
   {
    "duration": 9,
    "start_time": "2024-12-13T03:22:39.782Z"
   },
   {
    "duration": 3,
    "start_time": "2024-12-13T03:22:39.792Z"
   },
   {
    "duration": 17,
    "start_time": "2024-12-13T03:22:39.797Z"
   },
   {
    "duration": 4723,
    "start_time": "2024-12-13T03:22:39.816Z"
   },
   {
    "duration": 7,
    "start_time": "2024-12-13T03:22:44.541Z"
   },
   {
    "duration": 4069,
    "start_time": "2024-12-13T03:22:44.550Z"
   },
   {
    "duration": 8,
    "start_time": "2024-12-13T03:22:48.635Z"
   },
   {
    "duration": 4116,
    "start_time": "2024-12-13T03:22:48.647Z"
   },
   {
    "duration": 4,
    "start_time": "2024-12-13T03:22:52.765Z"
   },
   {
    "duration": 2283,
    "start_time": "2024-12-13T03:22:52.770Z"
   },
   {
    "duration": 38936,
    "start_time": "2024-12-13T03:22:55.054Z"
   },
   {
    "duration": 36074,
    "start_time": "2024-12-13T03:24:15.908Z"
   },
   {
    "duration": 12430,
    "start_time": "2024-12-13T03:25:04.652Z"
   },
   {
    "duration": 511,
    "start_time": "2024-12-13T03:27:53.137Z"
   },
   {
    "duration": 499,
    "start_time": "2024-12-13T03:28:10.086Z"
   },
   {
    "duration": 19,
    "start_time": "2024-12-13T03:28:45.353Z"
   },
   {
    "duration": 3,
    "start_time": "2024-12-13T03:29:09.751Z"
   },
   {
    "duration": 6,
    "start_time": "2024-12-13T03:29:15.138Z"
   },
   {
    "duration": 6648,
    "start_time": "2024-12-13T03:30:43.100Z"
   },
   {
    "duration": 2086,
    "start_time": "2024-12-13T03:31:45.845Z"
   },
   {
    "duration": 2074,
    "start_time": "2024-12-13T03:31:47.933Z"
   },
   {
    "duration": 977,
    "start_time": "2024-12-13T03:31:50.009Z"
   },
   {
    "duration": 591,
    "start_time": "2024-12-13T03:31:50.988Z"
   },
   {
    "duration": 41,
    "start_time": "2024-12-13T03:31:51.582Z"
   },
   {
    "duration": 214,
    "start_time": "2024-12-13T03:31:51.625Z"
   },
   {
    "duration": 68,
    "start_time": "2024-12-13T03:31:51.841Z"
   },
   {
    "duration": 303,
    "start_time": "2024-12-13T03:31:51.910Z"
   },
   {
    "duration": 81,
    "start_time": "2024-12-13T03:31:52.229Z"
   },
   {
    "duration": 43,
    "start_time": "2024-12-13T03:31:52.316Z"
   },
   {
    "duration": 26,
    "start_time": "2024-12-13T03:31:52.361Z"
   },
   {
    "duration": 82,
    "start_time": "2024-12-13T03:31:52.389Z"
   },
   {
    "duration": 39,
    "start_time": "2024-12-13T03:31:52.473Z"
   },
   {
    "duration": 277,
    "start_time": "2024-12-13T03:31:52.517Z"
   },
   {
    "duration": 16,
    "start_time": "2024-12-13T03:31:52.795Z"
   },
   {
    "duration": 27,
    "start_time": "2024-12-13T03:31:52.813Z"
   },
   {
    "duration": 5,
    "start_time": "2024-12-13T03:31:52.842Z"
   },
   {
    "duration": 73,
    "start_time": "2024-12-13T03:31:52.848Z"
   },
   {
    "duration": 63,
    "start_time": "2024-12-13T03:31:52.924Z"
   },
   {
    "duration": 91,
    "start_time": "2024-12-13T03:31:52.989Z"
   },
   {
    "duration": 11,
    "start_time": "2024-12-13T03:31:53.082Z"
   },
   {
    "duration": 75,
    "start_time": "2024-12-13T03:31:53.095Z"
   },
   {
    "duration": 10,
    "start_time": "2024-12-13T03:31:53.172Z"
   },
   {
    "duration": 86,
    "start_time": "2024-12-13T03:31:53.183Z"
   },
   {
    "duration": 60,
    "start_time": "2024-12-13T03:31:53.271Z"
   },
   {
    "duration": 15,
    "start_time": "2024-12-13T03:31:53.333Z"
   },
   {
    "duration": 48,
    "start_time": "2024-12-13T03:31:53.349Z"
   },
   {
    "duration": 57,
    "start_time": "2024-12-13T03:31:53.399Z"
   },
   {
    "duration": 20,
    "start_time": "2024-12-13T03:31:53.458Z"
   },
   {
    "duration": 3,
    "start_time": "2024-12-13T03:31:53.480Z"
   },
   {
    "duration": 3,
    "start_time": "2024-12-13T03:31:53.485Z"
   },
   {
    "duration": 5261,
    "start_time": "2024-12-13T03:31:53.489Z"
   },
   {
    "duration": 18,
    "start_time": "2024-12-13T03:31:58.813Z"
   },
   {
    "duration": 4590,
    "start_time": "2024-12-13T03:31:58.833Z"
   },
   {
    "duration": 5,
    "start_time": "2024-12-13T03:32:03.425Z"
   },
   {
    "duration": 4150,
    "start_time": "2024-12-13T03:32:03.432Z"
   },
   {
    "duration": 2,
    "start_time": "2024-12-13T03:32:07.584Z"
   },
   {
    "duration": 2291,
    "start_time": "2024-12-13T03:32:07.588Z"
   },
   {
    "duration": 12481,
    "start_time": "2024-12-13T03:32:09.881Z"
   },
   {
    "duration": 481,
    "start_time": "2024-12-13T03:32:22.365Z"
   },
   {
    "duration": 4,
    "start_time": "2024-12-13T03:32:22.851Z"
   },
   {
    "duration": 7036,
    "start_time": "2024-12-13T03:32:22.857Z"
   },
   {
    "duration": 6548,
    "start_time": "2024-12-13T03:33:17.208Z"
   },
   {
    "duration": 331,
    "start_time": "2024-12-13T03:34:00.741Z"
   },
   {
    "duration": 11,
    "start_time": "2024-12-13T03:34:15.120Z"
   },
   {
    "duration": 2259,
    "start_time": "2024-12-13T03:34:30.401Z"
   },
   {
    "duration": 59,
    "start_time": "2024-12-13T03:34:56.043Z"
   },
   {
    "duration": 1450,
    "start_time": "2024-12-13T03:35:12.079Z"
   },
   {
    "duration": 1928,
    "start_time": "2024-12-17T01:20:37.026Z"
   },
   {
    "duration": 1825,
    "start_time": "2024-12-17T01:20:38.957Z"
   },
   {
    "duration": 877,
    "start_time": "2024-12-17T01:20:40.784Z"
   },
   {
    "duration": 644,
    "start_time": "2024-12-17T01:20:41.662Z"
   },
   {
    "duration": 25,
    "start_time": "2024-12-17T01:20:42.309Z"
   },
   {
    "duration": 201,
    "start_time": "2024-12-17T01:20:42.336Z"
   },
   {
    "duration": 102,
    "start_time": "2024-12-17T01:20:42.539Z"
   },
   {
    "duration": 331,
    "start_time": "2024-12-17T01:20:42.643Z"
   },
   {
    "duration": 89,
    "start_time": "2024-12-17T01:20:42.975Z"
   },
   {
    "duration": 56,
    "start_time": "2024-12-17T01:20:43.065Z"
   },
   {
    "duration": 32,
    "start_time": "2024-12-17T01:20:43.124Z"
   },
   {
    "duration": 77,
    "start_time": "2024-12-17T01:20:43.158Z"
   },
   {
    "duration": 35,
    "start_time": "2024-12-17T01:20:43.237Z"
   },
   {
    "duration": 245,
    "start_time": "2024-12-17T01:20:43.276Z"
   },
   {
    "duration": 10,
    "start_time": "2024-12-17T01:20:43.522Z"
   },
   {
    "duration": 9,
    "start_time": "2024-12-17T01:20:43.534Z"
   },
   {
    "duration": 2,
    "start_time": "2024-12-17T01:20:43.547Z"
   },
   {
    "duration": 104,
    "start_time": "2024-12-17T01:20:43.551Z"
   },
   {
    "duration": 85,
    "start_time": "2024-12-17T01:20:43.657Z"
   },
   {
    "duration": 114,
    "start_time": "2024-12-17T01:20:43.743Z"
   },
   {
    "duration": 13,
    "start_time": "2024-12-17T01:20:43.859Z"
   },
   {
    "duration": 86,
    "start_time": "2024-12-17T01:20:43.874Z"
   },
   {
    "duration": 12,
    "start_time": "2024-12-17T01:20:43.962Z"
   },
   {
    "duration": 109,
    "start_time": "2024-12-17T01:20:43.975Z"
   },
   {
    "duration": 43,
    "start_time": "2024-12-17T01:20:44.086Z"
   },
   {
    "duration": 18,
    "start_time": "2024-12-17T01:20:44.133Z"
   },
   {
    "duration": 57,
    "start_time": "2024-12-17T01:20:44.155Z"
   },
   {
    "duration": 28,
    "start_time": "2024-12-17T01:20:44.213Z"
   },
   {
    "duration": 9,
    "start_time": "2024-12-17T01:20:44.243Z"
   },
   {
    "duration": 3,
    "start_time": "2024-12-17T01:20:44.254Z"
   },
   {
    "duration": 2,
    "start_time": "2024-12-17T01:20:44.260Z"
   },
   {
    "duration": 31183,
    "start_time": "2024-12-17T01:20:44.265Z"
   },
   {
    "duration": 53,
    "start_time": "2024-12-17T01:21:15.453Z"
   },
   {
    "duration": 164805,
    "start_time": "2024-12-17T01:21:15.508Z"
   },
   {
    "duration": 4,
    "start_time": "2024-12-17T01:24:00.315Z"
   },
   {
    "duration": 3952,
    "start_time": "2024-12-17T01:24:00.321Z"
   },
   {
    "duration": 2,
    "start_time": "2024-12-17T01:24:04.275Z"
   },
   {
    "duration": 2183,
    "start_time": "2024-12-17T01:24:04.280Z"
   },
   {
    "duration": 11605,
    "start_time": "2024-12-17T01:24:06.465Z"
   },
   {
    "duration": 460,
    "start_time": "2024-12-17T01:24:18.072Z"
   },
   {
    "duration": 5,
    "start_time": "2024-12-17T01:24:18.538Z"
   },
   {
    "duration": 6068,
    "start_time": "2024-12-17T01:24:18.545Z"
   },
   {
    "duration": 1409,
    "start_time": "2024-12-17T01:24:24.617Z"
   },
   {
    "duration": 304,
    "start_time": "2024-12-17T01:24:26.029Z"
   },
   {
    "duration": 5,
    "start_time": "2024-12-17T01:24:26.334Z"
   },
   {
    "duration": 5,
    "start_time": "2024-12-17T01:47:06.751Z"
   },
   {
    "duration": 2,
    "start_time": "2024-12-17T01:47:13.040Z"
   },
   {
    "duration": 1914,
    "start_time": "2024-12-17T01:47:15.697Z"
   },
   {
    "duration": 3,
    "start_time": "2024-12-17T01:47:47.520Z"
   },
   {
    "duration": 1829,
    "start_time": "2024-12-17T01:47:48.024Z"
   },
   {
    "duration": 3,
    "start_time": "2024-12-17T01:48:05.889Z"
   },
   {
    "duration": 501,
    "start_time": "2024-12-17T01:48:06.307Z"
   },
   {
    "duration": 3,
    "start_time": "2024-12-17T01:50:31.330Z"
   },
   {
    "duration": 1956,
    "start_time": "2024-12-17T01:50:31.865Z"
   },
   {
    "duration": 3,
    "start_time": "2024-12-17T01:51:07.726Z"
   },
   {
    "duration": 816,
    "start_time": "2024-12-17T01:51:08.187Z"
   },
   {
    "duration": 2,
    "start_time": "2024-12-17T01:51:56.414Z"
   },
   {
    "duration": 562,
    "start_time": "2024-12-17T01:51:57.406Z"
   },
   {
    "duration": 3,
    "start_time": "2024-12-17T01:52:16.705Z"
   },
   {
    "duration": 188,
    "start_time": "2024-12-17T01:52:17.439Z"
   },
   {
    "duration": 2,
    "start_time": "2024-12-17T01:52:24.201Z"
   },
   {
    "duration": 497,
    "start_time": "2024-12-17T01:52:24.615Z"
   },
   {
    "duration": 15,
    "start_time": "2024-12-17T01:53:21.224Z"
   },
   {
    "duration": 3,
    "start_time": "2024-12-17T01:53:33.145Z"
   },
   {
    "duration": 486,
    "start_time": "2024-12-17T01:53:34.125Z"
   },
   {
    "duration": 2,
    "start_time": "2024-12-17T01:57:09.741Z"
   },
   {
    "duration": 491,
    "start_time": "2024-12-17T01:57:10.403Z"
   },
   {
    "duration": 3,
    "start_time": "2024-12-17T01:57:20.423Z"
   },
   {
    "duration": 487,
    "start_time": "2024-12-17T01:57:20.826Z"
   },
   {
    "duration": 3,
    "start_time": "2024-12-17T01:57:29.765Z"
   },
   {
    "duration": 492,
    "start_time": "2024-12-17T01:57:30.083Z"
   },
   {
    "duration": 2,
    "start_time": "2024-12-17T01:57:40.894Z"
   },
   {
    "duration": 480,
    "start_time": "2024-12-17T01:57:41.758Z"
   },
   {
    "duration": 3,
    "start_time": "2024-12-17T01:57:47.174Z"
   },
   {
    "duration": 485,
    "start_time": "2024-12-17T01:57:47.539Z"
   },
   {
    "duration": 3,
    "start_time": "2024-12-17T02:04:03.645Z"
   },
   {
    "duration": 611,
    "start_time": "2024-12-17T02:04:04.102Z"
   },
   {
    "duration": 2,
    "start_time": "2024-12-17T02:10:40.825Z"
   },
   {
    "duration": 537,
    "start_time": "2024-12-17T02:10:41.187Z"
   },
   {
    "duration": 3,
    "start_time": "2024-12-17T02:10:50.435Z"
   },
   {
    "duration": 586,
    "start_time": "2024-12-17T02:10:50.726Z"
   },
   {
    "duration": 394,
    "start_time": "2024-12-17T02:15:01.712Z"
   },
   {
    "duration": 65,
    "start_time": "2024-12-17T02:16:38.850Z"
   },
   {
    "duration": 2,
    "start_time": "2024-12-17T02:16:56.048Z"
   },
   {
    "duration": 477,
    "start_time": "2024-12-17T02:16:56.863Z"
   },
   {
    "duration": 63,
    "start_time": "2024-12-17T02:17:30.579Z"
   },
   {
    "duration": 262,
    "start_time": "2024-12-17T02:17:54.357Z"
   },
   {
    "duration": 25,
    "start_time": "2024-12-17T02:19:29.673Z"
   },
   {
    "duration": 134,
    "start_time": "2024-12-17T02:19:50.949Z"
   },
   {
    "duration": 86,
    "start_time": "2024-12-17T02:20:31.138Z"
   },
   {
    "duration": 153,
    "start_time": "2024-12-17T02:21:05.052Z"
   },
   {
    "duration": 27,
    "start_time": "2024-12-17T02:21:22.966Z"
   },
   {
    "duration": 48,
    "start_time": "2024-12-17T02:21:34.657Z"
   },
   {
    "duration": 29,
    "start_time": "2024-12-17T02:22:21.209Z"
   },
   {
    "duration": 1785,
    "start_time": "2024-12-17T02:23:07.630Z"
   },
   {
    "duration": 189,
    "start_time": "2024-12-17T02:23:10.440Z"
   },
   {
    "duration": 43,
    "start_time": "2024-12-17T02:23:11.795Z"
   },
   {
    "duration": 9,
    "start_time": "2024-12-17T02:23:12.416Z"
   },
   {
    "duration": 2409,
    "start_time": "2024-12-17T02:23:17.785Z"
   },
   {
    "duration": 268,
    "start_time": "2024-12-17T02:23:21.401Z"
   },
   {
    "duration": 60,
    "start_time": "2024-12-17T02:23:22.674Z"
   },
   {
    "duration": 4,
    "start_time": "2024-12-17T02:23:23.323Z"
   },
   {
    "duration": 3330,
    "start_time": "2024-12-17T02:23:31.955Z"
   },
   {
    "duration": 392,
    "start_time": "2024-12-17T02:23:35.948Z"
   },
   {
    "duration": 89,
    "start_time": "2024-12-17T02:23:37.451Z"
   },
   {
    "duration": 5,
    "start_time": "2024-12-17T02:23:38.049Z"
   },
   {
    "duration": 2,
    "start_time": "2024-12-17T02:24:30.532Z"
   },
   {
    "duration": 635,
    "start_time": "2024-12-17T02:24:32.885Z"
   },
   {
    "duration": 320,
    "start_time": "2024-12-17T02:24:39.393Z"
   },
   {
    "duration": 33,
    "start_time": "2024-12-17T02:24:40.693Z"
   },
   {
    "duration": 3,
    "start_time": "2024-12-17T02:24:54.671Z"
   },
   {
    "duration": 483,
    "start_time": "2024-12-17T02:24:55.820Z"
   },
   {
    "duration": 65,
    "start_time": "2024-12-17T02:24:58.809Z"
   },
   {
    "duration": 29,
    "start_time": "2024-12-17T02:24:59.760Z"
   },
   {
    "duration": 3223,
    "start_time": "2024-12-17T02:25:03.283Z"
   },
   {
    "duration": 393,
    "start_time": "2024-12-17T02:25:07.466Z"
   },
   {
    "duration": 3,
    "start_time": "2024-12-17T02:25:31.375Z"
   },
   {
    "duration": 650,
    "start_time": "2024-12-17T02:25:32.014Z"
   },
   {
    "duration": 66,
    "start_time": "2024-12-17T02:25:35.327Z"
   },
   {
    "duration": 30,
    "start_time": "2024-12-17T02:25:36.446Z"
   },
   {
    "duration": 3233,
    "start_time": "2024-12-17T02:25:38.506Z"
   },
   {
    "duration": 400,
    "start_time": "2024-12-17T02:25:41.741Z"
   },
   {
    "duration": 85,
    "start_time": "2024-12-17T02:25:44.884Z"
   },
   {
    "duration": 4,
    "start_time": "2024-12-17T02:25:45.622Z"
   },
   {
    "duration": 14,
    "start_time": "2024-12-17T02:27:23.886Z"
   },
   {
    "duration": 4,
    "start_time": "2024-12-17T02:27:42.189Z"
   },
   {
    "duration": 431,
    "start_time": "2024-12-17T02:27:42.985Z"
   },
   {
    "duration": 2,
    "start_time": "2024-12-17T02:27:55.773Z"
   },
   {
    "duration": 508,
    "start_time": "2024-12-17T02:27:58.007Z"
   },
   {
    "duration": 3,
    "start_time": "2024-12-17T02:28:10.554Z"
   },
   {
    "duration": 590,
    "start_time": "2024-12-17T02:28:11.621Z"
   },
   {
    "duration": 2,
    "start_time": "2024-12-17T02:29:54.947Z"
   },
   {
    "duration": 652,
    "start_time": "2024-12-17T02:29:55.473Z"
   },
   {
    "duration": 3,
    "start_time": "2024-12-17T02:30:20.690Z"
   },
   {
    "duration": 15001,
    "start_time": "2024-12-17T02:30:21.275Z"
   },
   {
    "duration": 87,
    "start_time": "2024-12-17T02:30:38.911Z"
   },
   {
    "duration": 38,
    "start_time": "2024-12-17T02:30:41.789Z"
   },
   {
    "duration": 3288,
    "start_time": "2024-12-17T02:30:42.981Z"
   },
   {
    "duration": 2,
    "start_time": "2024-12-17T02:31:01.222Z"
   },
   {
    "duration": 1253,
    "start_time": "2024-12-17T02:31:01.915Z"
   },
   {
    "duration": 74,
    "start_time": "2024-12-17T02:31:11.602Z"
   },
   {
    "duration": 25,
    "start_time": "2024-12-17T02:31:34.225Z"
   },
   {
    "duration": 1781,
    "start_time": "2024-12-17T02:39:16.677Z"
   },
   {
    "duration": 155,
    "start_time": "2024-12-17T02:39:19.742Z"
   },
   {
    "duration": 36,
    "start_time": "2024-12-17T02:39:21.111Z"
   },
   {
    "duration": 5,
    "start_time": "2024-12-17T02:39:21.689Z"
   },
   {
    "duration": 2101,
    "start_time": "2024-12-17T02:39:28.767Z"
   },
   {
    "duration": 193,
    "start_time": "2024-12-17T02:39:31.695Z"
   },
   {
    "duration": 43,
    "start_time": "2024-12-17T02:39:32.962Z"
   },
   {
    "duration": 4,
    "start_time": "2024-12-17T02:39:33.469Z"
   },
   {
    "duration": 2203,
    "start_time": "2024-12-17T02:39:41.102Z"
   },
   {
    "duration": 207,
    "start_time": "2024-12-17T02:39:44.652Z"
   },
   {
    "duration": 47,
    "start_time": "2024-12-17T02:39:45.773Z"
   },
   {
    "duration": 4,
    "start_time": "2024-12-17T02:39:46.303Z"
   },
   {
    "duration": 62,
    "start_time": "2024-12-17T02:45:50.615Z"
   },
   {
    "duration": 5,
    "start_time": "2024-12-17T02:45:51.263Z"
   },
   {
    "duration": 2219,
    "start_time": "2024-12-17T02:47:45.524Z"
   },
   {
    "duration": 203,
    "start_time": "2024-12-17T02:47:49.588Z"
   },
   {
    "duration": 2236,
    "start_time": "2024-12-17T02:48:37.735Z"
   },
   {
    "duration": 2230,
    "start_time": "2024-12-17T02:49:45.596Z"
   },
   {
    "duration": 3,
    "start_time": "2024-12-17T02:52:13.034Z"
   },
   {
    "duration": 2191,
    "start_time": "2024-12-17T02:53:03.428Z"
   },
   {
    "duration": 2186,
    "start_time": "2024-12-17T02:54:55.056Z"
   },
   {
    "duration": 72,
    "start_time": "2024-12-17T02:55:40.770Z"
   },
   {
    "duration": 32,
    "start_time": "2024-12-17T02:56:49.553Z"
   },
   {
    "duration": 4,
    "start_time": "2024-12-17T02:57:52.736Z"
   },
   {
    "duration": 30,
    "start_time": "2024-12-17T02:58:07.466Z"
   },
   {
    "duration": 30,
    "start_time": "2024-12-17T02:58:16.357Z"
   },
   {
    "duration": 2239,
    "start_time": "2024-12-17T02:59:15.094Z"
   },
   {
    "duration": 62,
    "start_time": "2024-12-17T02:59:30.835Z"
   },
   {
    "duration": 63,
    "start_time": "2024-12-17T02:59:53.118Z"
   },
   {
    "duration": 2188,
    "start_time": "2024-12-17T03:00:04.930Z"
   },
   {
    "duration": 73,
    "start_time": "2024-12-17T03:00:41.634Z"
   },
   {
    "duration": 24,
    "start_time": "2024-12-17T03:01:57.746Z"
   },
   {
    "duration": 73,
    "start_time": "2024-12-17T03:02:32.240Z"
   },
   {
    "duration": 25,
    "start_time": "2024-12-17T03:03:39.952Z"
   },
   {
    "duration": 64,
    "start_time": "2024-12-17T03:04:24.358Z"
   },
   {
    "duration": 63,
    "start_time": "2024-12-17T03:04:50.855Z"
   },
   {
    "duration": 2212,
    "start_time": "2024-12-17T03:05:42.822Z"
   },
   {
    "duration": 203,
    "start_time": "2024-12-17T03:05:46.153Z"
   },
   {
    "duration": 63,
    "start_time": "2024-12-17T03:05:46.983Z"
   },
   {
    "duration": 63,
    "start_time": "2024-12-17T03:06:25.232Z"
   },
   {
    "duration": 1825,
    "start_time": "2024-12-17T03:06:45.430Z"
   },
   {
    "duration": 1832,
    "start_time": "2024-12-17T03:06:47.257Z"
   },
   {
    "duration": 832,
    "start_time": "2024-12-17T03:06:49.091Z"
   },
   {
    "duration": 536,
    "start_time": "2024-12-17T03:06:49.926Z"
   },
   {
    "duration": 25,
    "start_time": "2024-12-17T03:06:50.465Z"
   },
   {
    "duration": 186,
    "start_time": "2024-12-17T03:06:50.505Z"
   },
   {
    "duration": 85,
    "start_time": "2024-12-17T03:06:50.693Z"
   },
   {
    "duration": 245,
    "start_time": "2024-12-17T03:06:50.780Z"
   },
   {
    "duration": 84,
    "start_time": "2024-12-17T03:06:51.027Z"
   },
   {
    "duration": 37,
    "start_time": "2024-12-17T03:06:51.113Z"
   },
   {
    "duration": 25,
    "start_time": "2024-12-17T03:06:51.152Z"
   },
   {
    "duration": 82,
    "start_time": "2024-12-17T03:06:51.178Z"
   },
   {
    "duration": 43,
    "start_time": "2024-12-17T03:06:51.262Z"
   },
   {
    "duration": 238,
    "start_time": "2024-12-17T03:06:51.309Z"
   },
   {
    "duration": 10,
    "start_time": "2024-12-17T03:06:51.549Z"
   },
   {
    "duration": 8,
    "start_time": "2024-12-17T03:06:51.561Z"
   },
   {
    "duration": 2,
    "start_time": "2024-12-17T03:06:51.571Z"
   },
   {
    "duration": 95,
    "start_time": "2024-12-17T03:06:51.575Z"
   },
   {
    "duration": 64,
    "start_time": "2024-12-17T03:06:51.671Z"
   },
   {
    "duration": 74,
    "start_time": "2024-12-17T03:06:51.737Z"
   },
   {
    "duration": 12,
    "start_time": "2024-12-17T03:06:51.812Z"
   },
   {
    "duration": 45,
    "start_time": "2024-12-17T03:06:51.826Z"
   },
   {
    "duration": 10,
    "start_time": "2024-12-17T03:06:51.873Z"
   },
   {
    "duration": 76,
    "start_time": "2024-12-17T03:06:51.884Z"
   },
   {
    "duration": 44,
    "start_time": "2024-12-17T03:06:51.962Z"
   },
   {
    "duration": 10,
    "start_time": "2024-12-17T03:06:52.007Z"
   },
   {
    "duration": 48,
    "start_time": "2024-12-17T03:06:52.019Z"
   },
   {
    "duration": 42,
    "start_time": "2024-12-17T03:06:52.069Z"
   },
   {
    "duration": 9,
    "start_time": "2024-12-17T03:06:52.112Z"
   },
   {
    "duration": 3,
    "start_time": "2024-12-17T03:06:52.124Z"
   },
   {
    "duration": 3,
    "start_time": "2024-12-17T03:06:52.129Z"
   },
   {
    "duration": 692,
    "start_time": "2024-12-17T03:06:52.136Z"
   },
   {
    "duration": 318,
    "start_time": "2024-12-17T03:06:52.904Z"
   },
   {
    "duration": 102,
    "start_time": "2024-12-17T03:06:53.224Z"
   },
   {
    "duration": 2,
    "start_time": "2024-12-17T03:06:53.406Z"
   },
   {
    "duration": 1328,
    "start_time": "2024-12-17T03:06:53.410Z"
   },
   {
    "duration": 75,
    "start_time": "2024-12-17T03:06:54.739Z"
   },
   {
    "duration": 25,
    "start_time": "2024-12-17T03:06:54.816Z"
   },
   {
    "duration": 2241,
    "start_time": "2024-12-17T03:06:54.843Z"
   },
   {
    "duration": 212,
    "start_time": "2024-12-17T03:06:57.086Z"
   },
   {
    "duration": 64,
    "start_time": "2024-12-17T03:06:57.306Z"
   },
   {
    "duration": 3,
    "start_time": "2024-12-17T03:40:39.865Z"
   },
   {
    "duration": 2027,
    "start_time": "2024-12-17T03:40:40.704Z"
   },
   {
    "duration": 98,
    "start_time": "2024-12-17T03:40:46.392Z"
   },
   {
    "duration": 26,
    "start_time": "2024-12-17T03:40:47.519Z"
   },
   {
    "duration": 26,
    "start_time": "2024-12-17T03:40:55.618Z"
   },
   {
    "duration": 399,
    "start_time": "2024-12-17T03:41:06.187Z"
   },
   {
    "duration": 33,
    "start_time": "2024-12-17T03:41:34.495Z"
   },
   {
    "duration": 3184,
    "start_time": "2024-12-17T03:41:53.008Z"
   },
   {
    "duration": 260,
    "start_time": "2024-12-17T03:42:16.828Z"
   },
   {
    "duration": 65,
    "start_time": "2024-12-17T03:42:37.670Z"
   },
   {
    "duration": 28,
    "start_time": "2024-12-17T03:42:50.446Z"
   },
   {
    "duration": 3163,
    "start_time": "2024-12-17T03:43:32.834Z"
   },
   {
    "duration": 262,
    "start_time": "2024-12-17T03:43:36.961Z"
   },
   {
    "duration": 88,
    "start_time": "2024-12-17T03:43:38.051Z"
   },
   {
    "duration": 1876,
    "start_time": "2024-12-17T03:43:50.865Z"
   },
   {
    "duration": 1845,
    "start_time": "2024-12-17T03:43:52.744Z"
   },
   {
    "duration": 955,
    "start_time": "2024-12-17T03:43:54.591Z"
   },
   {
    "duration": 573,
    "start_time": "2024-12-17T03:43:55.549Z"
   },
   {
    "duration": 26,
    "start_time": "2024-12-17T03:43:56.124Z"
   },
   {
    "duration": 182,
    "start_time": "2024-12-17T03:43:56.151Z"
   },
   {
    "duration": 73,
    "start_time": "2024-12-17T03:43:56.335Z"
   },
   {
    "duration": 246,
    "start_time": "2024-12-17T03:43:56.410Z"
   },
   {
    "duration": 77,
    "start_time": "2024-12-17T03:43:56.659Z"
   },
   {
    "duration": 36,
    "start_time": "2024-12-17T03:43:56.739Z"
   },
   {
    "duration": 47,
    "start_time": "2024-12-17T03:43:56.776Z"
   },
   {
    "duration": 58,
    "start_time": "2024-12-17T03:43:56.825Z"
   },
   {
    "duration": 43,
    "start_time": "2024-12-17T03:43:56.885Z"
   },
   {
    "duration": 240,
    "start_time": "2024-12-17T03:43:56.930Z"
   },
   {
    "duration": 9,
    "start_time": "2024-12-17T03:43:57.172Z"
   },
   {
    "duration": 23,
    "start_time": "2024-12-17T03:43:57.183Z"
   },
   {
    "duration": 3,
    "start_time": "2024-12-17T03:43:57.207Z"
   },
   {
    "duration": 68,
    "start_time": "2024-12-17T03:43:57.211Z"
   },
   {
    "duration": 67,
    "start_time": "2024-12-17T03:43:57.281Z"
   },
   {
    "duration": 78,
    "start_time": "2024-12-17T03:43:57.350Z"
   },
   {
    "duration": 12,
    "start_time": "2024-12-17T03:43:57.429Z"
   },
   {
    "duration": 66,
    "start_time": "2024-12-17T03:43:57.444Z"
   },
   {
    "duration": 36,
    "start_time": "2024-12-17T03:43:57.512Z"
   },
   {
    "duration": 9,
    "start_time": "2024-12-17T03:43:57.550Z"
   },
   {
    "duration": 3,
    "start_time": "2024-12-17T03:43:57.561Z"
   },
   {
    "duration": 3,
    "start_time": "2024-12-17T03:43:57.565Z"
   },
   {
    "duration": 639,
    "start_time": "2024-12-17T03:43:57.570Z"
   },
   {
    "duration": 304,
    "start_time": "2024-12-17T03:43:58.214Z"
   },
   {
    "duration": 103,
    "start_time": "2024-12-17T03:43:58.520Z"
   },
   {
    "duration": 3,
    "start_time": "2024-12-17T03:43:58.624Z"
   },
   {
    "duration": 2076,
    "start_time": "2024-12-17T03:43:58.704Z"
   },
   {
    "duration": 106,
    "start_time": "2024-12-17T03:44:00.782Z"
   },
   {
    "duration": 37,
    "start_time": "2024-12-17T03:44:00.890Z"
   },
   {
    "duration": 3277,
    "start_time": "2024-12-17T03:44:00.929Z"
   },
   {
    "duration": 235,
    "start_time": "2024-12-17T03:44:04.208Z"
   },
   {
    "duration": 0,
    "start_time": "2024-12-17T03:44:04.445Z"
   },
   {
    "duration": 263,
    "start_time": "2024-12-17T03:44:18.775Z"
   },
   {
    "duration": 81,
    "start_time": "2024-12-17T03:44:20.731Z"
   },
   {
    "duration": 4932,
    "start_time": "2024-12-17T03:44:55.516Z"
   },
   {
    "duration": 420,
    "start_time": "2024-12-17T03:45:01.704Z"
   },
   {
    "duration": 126,
    "start_time": "2024-12-17T03:45:03.174Z"
   },
   {
    "duration": 3,
    "start_time": "2024-12-17T03:53:11.191Z"
   },
   {
    "duration": 811,
    "start_time": "2024-12-17T03:53:12.222Z"
   },
   {
    "duration": 91,
    "start_time": "2024-12-17T03:53:16.115Z"
   },
   {
    "duration": 29,
    "start_time": "2024-12-17T03:53:17.021Z"
   },
   {
    "duration": 10,
    "start_time": "2024-12-17T15:11:39.447Z"
   }
  ],
  "kernelspec": {
   "display_name": "Python 3 (ipykernel)",
   "language": "python",
   "name": "python3"
  },
  "language_info": {
   "codemirror_mode": {
    "name": "ipython",
    "version": 3
   },
   "file_extension": ".py",
   "mimetype": "text/x-python",
   "name": "python",
   "nbconvert_exporter": "python",
   "pygments_lexer": "ipython3",
   "version": "3.9.19"
  },
  "toc": {
   "base_numbering": 1,
   "nav_menu": {},
   "number_sections": true,
   "sideBar": true,
   "skip_h1_title": true,
   "title_cell": "Table of Contents",
   "title_sidebar": "Contents",
   "toc_cell": false,
   "toc_position": {},
   "toc_section_display": true,
   "toc_window_display": false
  }
 },
 "nbformat": 4,
 "nbformat_minor": 2
}
