{
 "cells": [
  {
   "cell_type": "markdown",
   "metadata": {},
   "source": [
    "# 1. Introducción\n",
    "\n",
    "Nuestro cliente Beta Bank nos ha pedido un modelo para predecir cuando un cliente va a abandonar el banco.\n",
    "Necesitan saber que clientes son más probables a abandonar el banco y requieren que nuestro modelo tenga una fiabilidad de al menos 59%.\n",
    "Nos han proporcionado una base de datos de los clientes con las características de comportamiento y nos indicaron cuales clientes han abandonado el banco."
   ]
  },
  {
   "cell_type": "markdown",
   "metadata": {},
   "source": [
    "# 1.1 Carga de datos y limpieza\n",
    "\n",
    "Empezamos por cargar la información que vamos a usar para nuestro modelo y limpiamos los datos para poder entrenar el modelo."
   ]
  },
  {
   "cell_type": "code",
   "execution_count": 1,
   "metadata": {},
   "outputs": [],
   "source": [
    "import pandas as pd #Importamos librería básica para leer dataset"
   ]
  },
  {
   "cell_type": "code",
   "execution_count": 2,
   "metadata": {},
   "outputs": [],
   "source": [
    "df = pd.read_csv('/datasets/Churn.csv') #Leemos dataset"
   ]
  },
  {
   "cell_type": "code",
   "execution_count": 3,
   "metadata": {},
   "outputs": [
    {
     "name": "stdout",
     "output_type": "stream",
     "text": [
      "<class 'pandas.core.frame.DataFrame'>\n",
      "RangeIndex: 10000 entries, 0 to 9999\n",
      "Data columns (total 14 columns):\n",
      " #   Column           Non-Null Count  Dtype  \n",
      "---  ------           --------------  -----  \n",
      " 0   RowNumber        10000 non-null  int64  \n",
      " 1   CustomerId       10000 non-null  int64  \n",
      " 2   Surname          10000 non-null  object \n",
      " 3   CreditScore      10000 non-null  int64  \n",
      " 4   Geography        10000 non-null  object \n",
      " 5   Gender           10000 non-null  object \n",
      " 6   Age              10000 non-null  int64  \n",
      " 7   Tenure           9091 non-null   float64\n",
      " 8   Balance          10000 non-null  float64\n",
      " 9   NumOfProducts    10000 non-null  int64  \n",
      " 10  HasCrCard        10000 non-null  int64  \n",
      " 11  IsActiveMember   10000 non-null  int64  \n",
      " 12  EstimatedSalary  10000 non-null  float64\n",
      " 13  Exited           10000 non-null  int64  \n",
      "dtypes: float64(3), int64(8), object(3)\n",
      "memory usage: 1.1+ MB\n",
      "None\n"
     ]
    }
   ],
   "source": [
    "print(df.info()) #Imprimimos información disponible"
   ]
  },
  {
   "cell_type": "code",
   "execution_count": 4,
   "metadata": {},
   "outputs": [
    {
     "name": "stdout",
     "output_type": "stream",
     "text": [
      "RowNumber            0\n",
      "CustomerId           0\n",
      "Surname              0\n",
      "CreditScore          0\n",
      "Geography            0\n",
      "Gender               0\n",
      "Age                  0\n",
      "Tenure             909\n",
      "Balance              0\n",
      "NumOfProducts        0\n",
      "HasCrCard            0\n",
      "IsActiveMember       0\n",
      "EstimatedSalary      0\n",
      "Exited               0\n",
      "dtype: int64\n",
      "\n",
      "0\n"
     ]
    }
   ],
   "source": [
    "print(df.isna().sum()) #Revisamos datos nulos en nuestro DataFrame\n",
    "print()\n",
    "print(df.duplicated().sum()) #Revisamos duplicados dentro del DataFrame"
   ]
  },
  {
   "cell_type": "code",
   "execution_count": 5,
   "metadata": {},
   "outputs": [],
   "source": [
    "df['Tenure'] = df['Tenure'].fillna(df['Tenure'].median()) #Llenamos los datos nulos con la mediana para que no nos afecte los cálculos que estaremos realizando con el DataFrame"
   ]
  },
  {
   "cell_type": "code",
   "execution_count": 6,
   "metadata": {},
   "outputs": [
    {
     "name": "stdout",
     "output_type": "stream",
     "text": [
      "RowNumber          0\n",
      "CustomerId         0\n",
      "Surname            0\n",
      "CreditScore        0\n",
      "Geography          0\n",
      "Gender             0\n",
      "Age                0\n",
      "Tenure             0\n",
      "Balance            0\n",
      "NumOfProducts      0\n",
      "HasCrCard          0\n",
      "IsActiveMember     0\n",
      "EstimatedSalary    0\n",
      "Exited             0\n",
      "dtype: int64\n"
     ]
    }
   ],
   "source": [
    "print(df.isna().sum()) #Validamos que se hayan llenado los datos en Tenure correctamente"
   ]
  },
  {
   "cell_type": "code",
   "execution_count": 7,
   "metadata": {},
   "outputs": [],
   "source": [
    "variables_categoricas = ['Geography', 'Gender'] #Dividimos la data en las variables necesarias que nos ayudaran a entrenar el modelo\n",
    "variables_numericas = ['CreditScore', 'Age', 'Tenure', 'Balance', 'NumOfProducts', 'HasCrCard', 'IsActiveMember', 'EstimatedSalary']\n",
    "variables_no_informativas = ['RowNumber', 'CustomerId', 'Surname'] #Estas variables_no_informativas no nos sirven para poder entrenar el modelo"
   ]
  },
  {
   "cell_type": "code",
   "execution_count": 8,
   "metadata": {},
   "outputs": [
    {
     "name": "stdout",
     "output_type": "stream",
     "text": [
      "<class 'pandas.core.frame.DataFrame'>\n",
      "RangeIndex: 10000 entries, 0 to 9999\n",
      "Data columns (total 11 columns):\n",
      " #   Column           Non-Null Count  Dtype  \n",
      "---  ------           --------------  -----  \n",
      " 0   CreditScore      10000 non-null  int64  \n",
      " 1   Geography        10000 non-null  object \n",
      " 2   Gender           10000 non-null  object \n",
      " 3   Age              10000 non-null  int64  \n",
      " 4   Tenure           10000 non-null  float64\n",
      " 5   Balance          10000 non-null  float64\n",
      " 6   NumOfProducts    10000 non-null  int64  \n",
      " 7   HasCrCard        10000 non-null  int64  \n",
      " 8   IsActiveMember   10000 non-null  int64  \n",
      " 9   EstimatedSalary  10000 non-null  float64\n",
      " 10  Exited           10000 non-null  int64  \n",
      "dtypes: float64(3), int64(6), object(2)\n",
      "memory usage: 859.5+ KB\n",
      "None\n"
     ]
    }
   ],
   "source": [
    "df_informativo = df.drop(variables_no_informativas, axis=1)\n",
    "print(df_informativo.info())"
   ]
  },
  {
   "cell_type": "code",
   "execution_count": 9,
   "metadata": {},
   "outputs": [
    {
     "name": "stdout",
     "output_type": "stream",
     "text": [
      "      CreditScore  Age  Tenure    Balance  NumOfProducts  HasCrCard  \\\n",
      "0             619   42     2.0       0.00              1          1   \n",
      "1             608   41     1.0   83807.86              1          0   \n",
      "2             502   42     8.0  159660.80              3          1   \n",
      "3             699   39     1.0       0.00              2          0   \n",
      "4             850   43     2.0  125510.82              1          1   \n",
      "...           ...  ...     ...        ...            ...        ...   \n",
      "9995          771   39     5.0       0.00              2          1   \n",
      "9996          516   35    10.0   57369.61              1          1   \n",
      "9997          709   36     7.0       0.00              1          0   \n",
      "9998          772   42     3.0   75075.31              2          1   \n",
      "9999          792   28     5.0  130142.79              1          1   \n",
      "\n",
      "      IsActiveMember  EstimatedSalary  Exited  Geography_Germany  \\\n",
      "0                  1        101348.88       1                  0   \n",
      "1                  1        112542.58       0                  0   \n",
      "2                  0        113931.57       1                  0   \n",
      "3                  0         93826.63       0                  0   \n",
      "4                  1         79084.10       0                  0   \n",
      "...              ...              ...     ...                ...   \n",
      "9995               0         96270.64       0                  0   \n",
      "9996               1        101699.77       0                  0   \n",
      "9997               1         42085.58       1                  0   \n",
      "9998               0         92888.52       1                  1   \n",
      "9999               0         38190.78       0                  0   \n",
      "\n",
      "      Geography_Spain  Gender_Male  \n",
      "0                   0            0  \n",
      "1                   1            0  \n",
      "2                   0            0  \n",
      "3                   0            0  \n",
      "4                   1            0  \n",
      "...               ...          ...  \n",
      "9995                0            1  \n",
      "9996                0            1  \n",
      "9997                0            0  \n",
      "9998                0            1  \n",
      "9999                0            0  \n",
      "\n",
      "[10000 rows x 12 columns]\n"
     ]
    }
   ],
   "source": [
    "df_para_modelo = pd.get_dummies(df_informativo, drop_first=True, columns=variables_categoricas)\n",
    "print(df_para_modelo)\n",
    "#Preparamos las variables categoricas para poder entrenar el modelo. Usamos get_dummies para volver las variables_categoricas en booleanos para entrenamiento.\n",
    "#Dentro de get_dummies usamos el parámetro drop_first para quitar la primera columna de los datos booleanos categóricos ya que sería redundante tener esta información"
   ]
  },
  {
   "cell_type": "code",
   "execution_count": 10,
   "metadata": {},
   "outputs": [],
   "source": [
    "from sklearn.model_selection import train_test_split"
   ]
  },
  {
   "cell_type": "code",
   "execution_count": 11,
   "metadata": {},
   "outputs": [],
   "source": [
    "train_valid, test = train_test_split(df_para_modelo, test_size=0.20, random_state=12345)\n",
    "train, valid = train_test_split(train_valid, test_size=0.25, random_state=12345)\n",
    "#Dividimos los datos para entrenar el modelo"
   ]
  },
  {
   "cell_type": "code",
   "execution_count": 12,
   "metadata": {},
   "outputs": [],
   "source": [
    "features_train = train.drop('Exited', axis=1)\n",
    "target_train = train['Exited']\n",
    "\n",
    "features_valid = valid.drop('Exited', axis=1)\n",
    "target_valid = valid['Exited']\n",
    "\n",
    "features_test = test.drop('Exited', axis=1)\n",
    "target_test = test['Exited']\n",
    "#Definimos las características y objetivos para entrenar el modelo"
   ]
  },
  {
   "cell_type": "code",
   "execution_count": 13,
   "metadata": {},
   "outputs": [
    {
     "name": "stdout",
     "output_type": "stream",
     "text": [
      "(6000, 11)\n",
      "(2000, 11)\n",
      "(2000, 11)\n"
     ]
    }
   ],
   "source": [
    "print(features_train.shape)\n",
    "print(features_valid.shape)\n",
    "print(features_test.shape)\n",
    "#Validamos el equilibrio de los datos para el modelo"
   ]
  },
  {
   "cell_type": "code",
   "execution_count": 14,
   "metadata": {},
   "outputs": [
    {
     "data": {
      "text/plain": [
       "StandardScaler()"
      ]
     },
     "execution_count": 14,
     "metadata": {},
     "output_type": "execute_result"
    }
   ],
   "source": [
    "from sklearn.preprocessing import StandardScaler\n",
    "scaler = StandardScaler()\n",
    "scaler.fit(features_train[variables_numericas])\n",
    "#Creamor una variable para poder estandarizar las variables no numéricas dentro de nuestro modelo"
   ]
  },
  {
   "cell_type": "code",
   "execution_count": 15,
   "metadata": {
    "scrolled": true
   },
   "outputs": [],
   "source": [
    "features_train_scaled = scaler.transform(features_train[variables_numericas])\n",
    "features_valid_scaled = scaler.transform(features_valid[variables_numericas])\n",
    "features_test_scaled = scaler.transform(features_test[variables_numericas])\n",
    "\n",
    "#Transformamos las variables numéricas a un escala estándard para poder entrenar el modelo"
   ]
  },
  {
   "cell_type": "code",
   "execution_count": 16,
   "metadata": {},
   "outputs": [
    {
     "name": "stdout",
     "output_type": "stream",
     "text": [
      "0    0.7963\n",
      "1    0.2037\n",
      "Name: Exited, dtype: float64\n"
     ]
    },
    {
     "data": {
      "text/plain": [
       "<AxesSubplot:>"
      ]
     },
     "execution_count": 16,
     "metadata": {},
     "output_type": "execute_result"
    },
    {
     "data": {
      "image/png": "[encoded data removed]",
      "text/plain": [
       "<Figure size 640x480 with 1 Axes>"
      ]
     },
     "metadata": {},
     "output_type": "display_data"
    }
   ],
   "source": [
    "exited_frequency = df_para_modelo['Exited'].value_counts(normalize=True)\n",
    "print(exited_frequency)\n",
    "exited_frequency.plot(kind='bar')\n",
    "\n",
    "#Revisamos la frecuencia en la que los usuarios abandonan el servicio del banco, para saber que tan desequilibrados están los datos.\n",
    "#Con la gráfica podemos observar que tenemos más datos sobre clientes que conservan sus products bancarios. \n",
    "#La data está sesgada hacia clientes que no abandonan al banco."
   ]
  },
  {
   "cell_type": "code",
   "execution_count": 17,
   "metadata": {
    "scrolled": true
   },
   "outputs": [
    {
     "name": "stdout",
     "output_type": "stream",
     "text": [
      "[[1389  220]\n",
      " [ 197  194]]\n"
     ]
    }
   ],
   "source": [
    "from sklearn.tree import DecisionTreeClassifier\n",
    "from sklearn.metrics import confusion_matrix\n",
    "model_tree = DecisionTreeClassifier(random_state=12345)\n",
    "model_tree.fit(features_train, target_train)\n",
    "predicted_valid = model_tree.predict(features_valid)\n",
    "\n",
    "confusion_matrix = confusion_matrix(target_valid, predicted_valid)\n",
    "print(confusion_matrix)\n",
    "\n",
    "#Revisamos con la matrix de confusión la viabilidad del modelo. En este caso tenemos una gran cantidad de verdaderos negativos.\n",
    "#Esto nos indica que el modelo piensa que los clientes no abandonan los servicios del banco; cuando realmente si se abandonan."
   ]
  },
  {
   "cell_type": "code",
   "execution_count": 18,
   "metadata": {},
   "outputs": [
    {
     "name": "stdout",
     "output_type": "stream",
     "text": [
      "Recall/sensibilidad del modelo: 0.4961636828644501\n",
      "\n",
      "Precisión del modelo: 0.46859903381642515\n"
     ]
    }
   ],
   "source": [
    "from sklearn.metrics import recall_score\n",
    "from sklearn.metrics import precision_score\n",
    "\n",
    "sensibilidad = recall_score(target_valid, predicted_valid)\n",
    "precision = precision_score(target_valid, predicted_valid)\n",
    "print(f\"Recall/sensibilidad del modelo:\", sensibilidad)\n",
    "print()\n",
    "print(f\"Precisión del modelo:\", precision)\n",
    "\n",
    "#Revisamos la sensibilidad y precision del modelo, en este caso el modelo está prediciendo correctamente menos de la mitad de las respuesta.\n",
    "#El modelo tiene una precisión del 46% lo cual es baja para el modelo, necesitamos crear una mayor precisión."
   ]
  },
  {
   "cell_type": "code",
   "execution_count": 19,
   "metadata": {},
   "outputs": [
    {
     "name": "stdout",
     "output_type": "stream",
     "text": [
      "F1: 0.4819875776397516\n"
     ]
    }
   ],
   "source": [
    "from sklearn.metrics import f1_score\n",
    "\n",
    "f1 = f1_score(target_valid, predicted_valid)\n",
    "\n",
    "print(f\"F1:\", f1)\n",
    "\n",
    "#El valor de F1 es bajo, lo que nos indica que la mayoría de las predicciones se van a hacer de modo incorrecto.\n",
    "#Usar un árbol de decisión no va a ser valido, tendremos que usar un modelo más robusto de clasificación"
   ]
  },
  {
   "cell_type": "code",
   "execution_count": null,
   "metadata": {},
   "outputs": [],
   "source": []
  }
 ],
 "metadata": {
  "ExecuteTimeLog": [
   {
    "duration": 14,
    "start_time": "2024-10-22T01:28:30.668Z"
   },
   {
    "duration": 375,
    "start_time": "2024-10-22T01:28:36.519Z"
   },
   {
    "duration": 60,
    "start_time": "2024-10-22T01:29:03.616Z"
   },
   {
    "duration": 13,
    "start_time": "2024-10-22T01:29:14.670Z"
   },
   {
    "duration": 14,
    "start_time": "2024-10-22T01:29:22.345Z"
   },
   {
    "duration": 18,
    "start_time": "2024-10-22T01:31:49.713Z"
   },
   {
    "duration": 5,
    "start_time": "2024-10-22T01:32:57.096Z"
   },
   {
    "duration": 208,
    "start_time": "2024-10-22T01:36:23.296Z"
   },
   {
    "duration": 4,
    "start_time": "2024-10-22T01:36:32.913Z"
   },
   {
    "duration": 7,
    "start_time": "2024-10-22T01:36:47.292Z"
   },
   {
    "duration": 3,
    "start_time": "2024-10-22T01:41:07.903Z"
   },
   {
    "duration": 7,
    "start_time": "2024-10-22T01:41:23.859Z"
   },
   {
    "duration": 2,
    "start_time": "2024-10-22T01:45:30.682Z"
   },
   {
    "duration": 4,
    "start_time": "2024-10-22T01:46:46.868Z"
   },
   {
    "duration": 16,
    "start_time": "2024-10-22T01:47:04.109Z"
   },
   {
    "duration": 11,
    "start_time": "2024-10-22T01:47:12.039Z"
   },
   {
    "duration": 12,
    "start_time": "2024-10-22T01:49:06.863Z"
   },
   {
    "duration": 484,
    "start_time": "2024-10-22T01:52:46.467Z"
   },
   {
    "duration": 47,
    "start_time": "2024-10-22T01:55:53.615Z"
   },
   {
    "duration": 6,
    "start_time": "2024-10-22T01:56:00.078Z"
   },
   {
    "duration": 6,
    "start_time": "2024-10-22T02:02:56.601Z"
   },
   {
    "duration": 6,
    "start_time": "2024-10-22T02:06:15.363Z"
   },
   {
    "duration": 3,
    "start_time": "2024-10-22T02:06:51.016Z"
   },
   {
    "duration": 2,
    "start_time": "2024-10-22T02:09:06.665Z"
   },
   {
    "duration": 421,
    "start_time": "2024-10-22T02:11:39.359Z"
   },
   {
    "duration": 43,
    "start_time": "2024-10-22T02:13:05.873Z"
   },
   {
    "duration": 10,
    "start_time": "2024-10-22T02:13:32.772Z"
   },
   {
    "duration": 60,
    "start_time": "2024-10-22T02:13:36.479Z"
   },
   {
    "duration": 131,
    "start_time": "2024-10-22T02:15:09.706Z"
   },
   {
    "duration": 3,
    "start_time": "2024-10-22T02:15:34.474Z"
   },
   {
    "duration": 12,
    "start_time": "2024-10-22T02:15:37.300Z"
   },
   {
    "duration": 33,
    "start_time": "2024-10-22T02:15:39.210Z"
   },
   {
    "duration": 2,
    "start_time": "2024-10-22T02:15:42.381Z"
   },
   {
    "duration": 8,
    "start_time": "2024-10-22T02:15:43.250Z"
   },
   {
    "duration": 6,
    "start_time": "2024-10-22T02:15:43.875Z"
   },
   {
    "duration": 3,
    "start_time": "2024-10-22T02:15:44.636Z"
   },
   {
    "duration": 7,
    "start_time": "2024-10-22T02:15:45.848Z"
   },
   {
    "duration": 9,
    "start_time": "2024-10-22T02:16:46.671Z"
   },
   {
    "duration": 19,
    "start_time": "2024-10-22T02:17:29.925Z"
   },
   {
    "duration": 30,
    "start_time": "2024-10-22T02:18:04.826Z"
   },
   {
    "duration": 11,
    "start_time": "2024-10-22T02:18:16.784Z"
   },
   {
    "duration": 10,
    "start_time": "2024-10-22T02:18:33.890Z"
   },
   {
    "duration": 15,
    "start_time": "2024-10-22T02:25:05.612Z"
   },
   {
    "duration": 4,
    "start_time": "2024-10-22T02:25:32.853Z"
   },
   {
    "duration": 2235,
    "start_time": "2024-10-22T02:25:53.173Z"
   },
   {
    "duration": 27,
    "start_time": "2024-10-22T02:34:47.090Z"
   },
   {
    "duration": 2,
    "start_time": "2024-10-22T02:35:18.247Z"
   },
   {
    "duration": 34,
    "start_time": "2024-10-22T02:35:40.121Z"
   },
   {
    "duration": 34,
    "start_time": "2024-10-22T02:36:46.874Z"
   },
   {
    "duration": 32,
    "start_time": "2024-10-22T02:38:09.589Z"
   },
   {
    "duration": 92,
    "start_time": "2024-10-22T02:40:17.862Z"
   },
   {
    "duration": 31,
    "start_time": "2024-10-22T02:42:15.609Z"
   },
   {
    "duration": 6,
    "start_time": "2024-10-22T02:51:13.257Z"
   },
   {
    "duration": 7,
    "start_time": "2024-10-22T02:51:33.439Z"
   },
   {
    "duration": 4,
    "start_time": "2024-10-22T02:54:18.333Z"
   },
   {
    "duration": 4,
    "start_time": "2024-10-22T02:54:22.537Z"
   },
   {
    "duration": 8,
    "start_time": "2024-10-22T02:54:27.737Z"
   },
   {
    "duration": 8,
    "start_time": "2024-10-22T02:54:51.104Z"
   },
   {
    "duration": 39,
    "start_time": "2024-10-22T02:55:15.139Z"
   },
   {
    "duration": 41,
    "start_time": "2024-10-22T02:55:24.851Z"
   },
   {
    "duration": 8,
    "start_time": "2024-10-22T02:58:22.579Z"
   },
   {
    "duration": 319,
    "start_time": "2024-10-22T03:00:49.047Z"
   },
   {
    "duration": 24,
    "start_time": "2024-10-22T03:00:49.369Z"
   },
   {
    "duration": 19,
    "start_time": "2024-10-22T03:00:49.395Z"
   },
   {
    "duration": 15,
    "start_time": "2024-10-22T03:00:49.417Z"
   },
   {
    "duration": 4,
    "start_time": "2024-10-22T03:00:49.433Z"
   },
   {
    "duration": 6,
    "start_time": "2024-10-22T03:00:49.439Z"
   },
   {
    "duration": 4,
    "start_time": "2024-10-22T03:00:49.449Z"
   },
   {
    "duration": 12,
    "start_time": "2024-10-22T03:00:49.454Z"
   },
   {
    "duration": 17,
    "start_time": "2024-10-22T03:00:49.468Z"
   },
   {
    "duration": 481,
    "start_time": "2024-10-22T03:00:49.489Z"
   },
   {
    "duration": 7,
    "start_time": "2024-10-22T03:00:49.971Z"
   },
   {
    "duration": 7,
    "start_time": "2024-10-22T03:00:49.979Z"
   },
   {
    "duration": 3,
    "start_time": "2024-10-22T03:00:49.988Z"
   },
   {
    "duration": 9,
    "start_time": "2024-10-22T03:00:49.993Z"
   },
   {
    "duration": 28,
    "start_time": "2024-10-22T03:00:50.004Z"
   },
   {
    "duration": 247,
    "start_time": "2024-10-22T03:00:50.034Z"
   },
   {
    "duration": 107,
    "start_time": "2024-10-22T03:00:50.283Z"
   },
   {
    "duration": 7,
    "start_time": "2024-10-22T03:00:50.392Z"
   },
   {
    "duration": 5,
    "start_time": "2024-10-22T03:00:50.400Z"
   },
   {
    "duration": 10,
    "start_time": "2024-10-22T03:08:54.419Z"
   },
   {
    "duration": 343,
    "start_time": "2024-10-22T03:42:53.988Z"
   },
   {
    "duration": 588,
    "start_time": "2024-10-22T03:44:50.615Z"
   },
   {
    "duration": 591,
    "start_time": "2024-10-22T03:45:25.914Z"
   },
   {
    "duration": 23,
    "start_time": "2024-10-22T03:50:04.329Z"
   },
   {
    "duration": 3291,
    "start_time": "2024-10-22T03:53:44.469Z"
   },
   {
    "duration": 14,
    "start_time": "2024-10-22T03:59:22.080Z"
   },
   {
    "duration": 24,
    "start_time": "2024-10-22T03:59:30.255Z"
   },
   {
    "duration": 175,
    "start_time": "2024-10-22T04:00:25.615Z"
   },
   {
    "duration": 177,
    "start_time": "2024-10-22T04:00:42.491Z"
   }
  ],
  "kernelspec": {
   "display_name": "Python 3 (ipykernel)",
   "language": "python",
   "name": "python3"
  },
  "language_info": {
   "codemirror_mode": {
    "name": "ipython",
    "version": 3
   },
   "file_extension": ".py",
   "mimetype": "text/x-python",
   "name": "python",
   "nbconvert_exporter": "python",
   "pygments_lexer": "ipython3",
   "version": "3.9.19"
  },
  "toc": {
   "base_numbering": 1,
   "nav_menu": {},
   "number_sections": true,
   "sideBar": true,
   "skip_h1_title": true,
   "title_cell": "Table of Contents",
   "title_sidebar": "Contents",
   "toc_cell": false,
   "toc_position": {},
   "toc_section_display": true,
   "toc_window_display": false
  }
 },
 "nbformat": 4,
 "nbformat_minor": 2
}
