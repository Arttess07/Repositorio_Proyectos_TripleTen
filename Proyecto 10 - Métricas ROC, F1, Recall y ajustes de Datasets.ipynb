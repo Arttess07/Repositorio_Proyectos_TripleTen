{
 "cells": [
  {
   "cell_type": "markdown",
   "metadata": {},
   "source": [
    "# 1. Introducción\n",
    "\n",
    "Nuestro cliente Beta Bank nos ha pedido un modelo para predecir cuando un cliente va a abandonar el banco.\n",
    "Necesitan saber que clientes son más probables a abandonar el banco y requieren que nuestro modelo tenga una fiabilidad de al menos 59%.\n",
    "Nos han proporcionado una base de datos de los clientes con las características de comportamiento y nos indicaron cuales clientes han abandonado el banco."
   ]
  },
  {
   "cell_type": "markdown",
   "metadata": {},
   "source": [
    "# 1.1 Carga de datos y limpieza\n",
    "\n",
    "Empezamos por cargar la información que vamos a usar para nuestro modelo y limpiamos los datos para poder entrenar el modelo."
   ]
  },
  {
   "cell_type": "code",
   "execution_count": 1,
   "metadata": {},
   "outputs": [],
   "source": [
    "import pandas as pd #Importamos librería básica para leer dataset\n",
    "from sklearn.model_selection import train_test_split #Importar función para dividr datasets de entrenamiento y prueba\n",
    "from sklearn.preprocessing import StandardScaler #Importamos función para estandarizar los datos numéricos\n",
    "from sklearn.tree import DecisionTreeClassifier #Importamos nuestro modelo de algoritmo a entrenar\n",
    "from sklearn.metrics import confusion_matrix #Importamos función para conocer la matriz de predicciones verdaderas megativas contra verdaderas positivas\n",
    "from sklearn.metrics import recall_score #Importamos función que califica la sensibilidad del modelo\n",
    "from sklearn.metrics import precision_score #Importamos función que califica la precisión del modelo\n",
    "from sklearn.metrics import f1_score #Importamos función F1 este combina la sensibilidad y precisión, y califica la relación de estas calificaciones dentro de nuestro modelo\n",
    "from sklearn.utils import shuffle #Importamos función para barajear datos al azar\n",
    "import matplotlib.pyplot as plt #Importamos librería para graficar\n",
    "from sklearn.metrics import precision_recall_curve #importamos función para trazar linea de precisicón vs sensibilidad\n",
    "from sklearn.metrics import roc_curve #Importamos función para trazar la curva ROC\n",
    "from sklearn.metrics import roc_auc_score\n",
    "from sklearn.ensemble import RandomForestClassifier"
   ]
  },
  {
   "cell_type": "code",
   "execution_count": 2,
   "metadata": {},
   "outputs": [],
   "source": [
    "df = pd.read_csv('/datasets/Churn.csv') #Leemos dataset"
   ]
  },
  {
   "cell_type": "code",
   "execution_count": 3,
   "metadata": {},
   "outputs": [
    {
     "name": "stdout",
     "output_type": "stream",
     "text": [
      "<class 'pandas.core.frame.DataFrame'>\n",
      "RangeIndex: 10000 entries, 0 to 9999\n",
      "Data columns (total 14 columns):\n",
      " #   Column           Non-Null Count  Dtype  \n",
      "---  ------           --------------  -----  \n",
      " 0   RowNumber        10000 non-null  int64  \n",
      " 1   CustomerId       10000 non-null  int64  \n",
      " 2   Surname          10000 non-null  object \n",
      " 3   CreditScore      10000 non-null  int64  \n",
      " 4   Geography        10000 non-null  object \n",
      " 5   Gender           10000 non-null  object \n",
      " 6   Age              10000 non-null  int64  \n",
      " 7   Tenure           9091 non-null   float64\n",
      " 8   Balance          10000 non-null  float64\n",
      " 9   NumOfProducts    10000 non-null  int64  \n",
      " 10  HasCrCard        10000 non-null  int64  \n",
      " 11  IsActiveMember   10000 non-null  int64  \n",
      " 12  EstimatedSalary  10000 non-null  float64\n",
      " 13  Exited           10000 non-null  int64  \n",
      "dtypes: float64(3), int64(8), object(3)\n",
      "memory usage: 1.1+ MB\n",
      "None\n"
     ]
    }
   ],
   "source": [
    "print(df.info()) #Imprimimos información disponible"
   ]
  },
  {
   "cell_type": "code",
   "execution_count": 4,
   "metadata": {},
   "outputs": [
    {
     "name": "stdout",
     "output_type": "stream",
     "text": [
      "RowNumber            0\n",
      "CustomerId           0\n",
      "Surname              0\n",
      "CreditScore          0\n",
      "Geography            0\n",
      "Gender               0\n",
      "Age                  0\n",
      "Tenure             909\n",
      "Balance              0\n",
      "NumOfProducts        0\n",
      "HasCrCard            0\n",
      "IsActiveMember       0\n",
      "EstimatedSalary      0\n",
      "Exited               0\n",
      "dtype: int64\n",
      "\n",
      "0\n"
     ]
    }
   ],
   "source": [
    "print(df.isna().sum()) #Revisamos datos nulos en nuestro DataFrame\n",
    "print()\n",
    "print(df.duplicated().sum()) #Revisamos duplicados dentro del DataFrame"
   ]
  },
  {
   "cell_type": "code",
   "execution_count": 5,
   "metadata": {},
   "outputs": [],
   "source": [
    "df['Tenure'] = df['Tenure'].fillna(df['Tenure'].median()) #Llenamos los datos nulos con la mediana para que no nos afecte los cálculos que estaremos realizando con el DataFrame"
   ]
  },
  {
   "cell_type": "code",
   "execution_count": 6,
   "metadata": {},
   "outputs": [
    {
     "name": "stdout",
     "output_type": "stream",
     "text": [
      "RowNumber          0\n",
      "CustomerId         0\n",
      "Surname            0\n",
      "CreditScore        0\n",
      "Geography          0\n",
      "Gender             0\n",
      "Age                0\n",
      "Tenure             0\n",
      "Balance            0\n",
      "NumOfProducts      0\n",
      "HasCrCard          0\n",
      "IsActiveMember     0\n",
      "EstimatedSalary    0\n",
      "Exited             0\n",
      "dtype: int64\n"
     ]
    }
   ],
   "source": [
    "print(df.isna().sum()) #Validamos que se hayan llenado los datos en Tenure correctamente"
   ]
  },
  {
   "cell_type": "markdown",
   "metadata": {},
   "source": [
    "# 2. División de data sets para entrenar nuestro modelo\n",
    "\n",
    "Ahora que tenemos la información limpia y lista para ser usada, ya podemos dividirla para porder entrenar nuestro modelo.\n",
    "Validar el modelo para mejorarlo y tener un set de prueba para elegir un mejor modelo.\n",
    "También estandarizarelos la información usando el modelo One Hit y Escalando las características numéricas."
   ]
  },
  {
   "cell_type": "code",
   "execution_count": 7,
   "metadata": {},
   "outputs": [],
   "source": [
    "variables_categoricas = ['Geography', 'Gender'] #Dividimos la data en las variables necesarias que nos ayudaran a entrenar el modelo\n",
    "variables_numericas = ['CreditScore', 'Age', 'Tenure', 'Balance', 'NumOfProducts', 'HasCrCard', 'IsActiveMember', 'EstimatedSalary']\n",
    "variables_no_informativas = ['RowNumber', 'CustomerId', 'Surname'] #Estas variables_no_informativas no nos sirven para poder entrenar el modelo"
   ]
  },
  {
   "cell_type": "code",
   "execution_count": 8,
   "metadata": {},
   "outputs": [
    {
     "name": "stdout",
     "output_type": "stream",
     "text": [
      "<class 'pandas.core.frame.DataFrame'>\n",
      "RangeIndex: 10000 entries, 0 to 9999\n",
      "Data columns (total 11 columns):\n",
      " #   Column           Non-Null Count  Dtype  \n",
      "---  ------           --------------  -----  \n",
      " 0   CreditScore      10000 non-null  int64  \n",
      " 1   Geography        10000 non-null  object \n",
      " 2   Gender           10000 non-null  object \n",
      " 3   Age              10000 non-null  int64  \n",
      " 4   Tenure           10000 non-null  float64\n",
      " 5   Balance          10000 non-null  float64\n",
      " 6   NumOfProducts    10000 non-null  int64  \n",
      " 7   HasCrCard        10000 non-null  int64  \n",
      " 8   IsActiveMember   10000 non-null  int64  \n",
      " 9   EstimatedSalary  10000 non-null  float64\n",
      " 10  Exited           10000 non-null  int64  \n",
      "dtypes: float64(3), int64(6), object(2)\n",
      "memory usage: 859.5+ KB\n",
      "None\n"
     ]
    }
   ],
   "source": [
    "df_informativo = df.drop(variables_no_informativas, axis=1)\n",
    "print(df_informativo.info())"
   ]
  },
  {
   "cell_type": "code",
   "execution_count": 9,
   "metadata": {},
   "outputs": [
    {
     "name": "stdout",
     "output_type": "stream",
     "text": [
      "      CreditScore  Age  Tenure    Balance  NumOfProducts  HasCrCard  \\\n",
      "0             619   42     2.0       0.00              1          1   \n",
      "1             608   41     1.0   83807.86              1          0   \n",
      "2             502   42     8.0  159660.80              3          1   \n",
      "3             699   39     1.0       0.00              2          0   \n",
      "4             850   43     2.0  125510.82              1          1   \n",
      "...           ...  ...     ...        ...            ...        ...   \n",
      "9995          771   39     5.0       0.00              2          1   \n",
      "9996          516   35    10.0   57369.61              1          1   \n",
      "9997          709   36     7.0       0.00              1          0   \n",
      "9998          772   42     3.0   75075.31              2          1   \n",
      "9999          792   28     5.0  130142.79              1          1   \n",
      "\n",
      "      IsActiveMember  EstimatedSalary  Exited  Geography_Germany  \\\n",
      "0                  1        101348.88       1                  0   \n",
      "1                  1        112542.58       0                  0   \n",
      "2                  0        113931.57       1                  0   \n",
      "3                  0         93826.63       0                  0   \n",
      "4                  1         79084.10       0                  0   \n",
      "...              ...              ...     ...                ...   \n",
      "9995               0         96270.64       0                  0   \n",
      "9996               1        101699.77       0                  0   \n",
      "9997               1         42085.58       1                  0   \n",
      "9998               0         92888.52       1                  1   \n",
      "9999               0         38190.78       0                  0   \n",
      "\n",
      "      Geography_Spain  Gender_Male  \n",
      "0                   0            0  \n",
      "1                   1            0  \n",
      "2                   0            0  \n",
      "3                   0            0  \n",
      "4                   1            0  \n",
      "...               ...          ...  \n",
      "9995                0            1  \n",
      "9996                0            1  \n",
      "9997                0            0  \n",
      "9998                0            1  \n",
      "9999                0            0  \n",
      "\n",
      "[10000 rows x 12 columns]\n"
     ]
    }
   ],
   "source": [
    "df_para_modelo = pd.get_dummies(df_informativo, drop_first=True, columns=variables_categoricas)\n",
    "print(df_para_modelo)\n",
    "#Preparamos las variables categoricas para poder entrenar el modelo. Usamos get_dummies para volver las variables_categoricas en booleanos para entrenamiento.\n",
    "#Dentro de get_dummies usamos el parámetro drop_first para quitar la primera columna de los datos booleanos categóricos ya que sería redundante tener esta información"
   ]
  },
  {
   "cell_type": "code",
   "execution_count": 10,
   "metadata": {},
   "outputs": [],
   "source": [
    "train_valid, test =  \n",
    "train, valid = train_test_split(train_valid, test_size=0.25, random_state=12345)\n",
    "#Dividimos los datos para entrenar el modelo"
   ]
  },
  {
   "cell_type": "code",
   "execution_count": 11,
   "metadata": {},
   "outputs": [],
   "source": [
    "features_train = train.drop('Exited', axis=1)\n",
    "target_train = train['Exited']\n",
    "\n",
    "features_valid = valid.drop('Exited', axis=1)\n",
    "target_valid = valid['Exited']\n",
    "\n",
    "features_test = test.drop('Exited', axis=1)\n",
    "target_test = test['Exited']\n",
    "#Definimos las características y objetivos para entrenar el modelo"
   ]
  },
  {
   "cell_type": "code",
   "execution_count": 12,
   "metadata": {},
   "outputs": [
    {
     "name": "stdout",
     "output_type": "stream",
     "text": [
      "(6000, 11)\n",
      "(2000, 11)\n",
      "(2000, 11)\n"
     ]
    }
   ],
   "source": [
    "print(features_train.shape)\n",
    "print(features_valid.shape)\n",
    "print(features_test.shape)\n",
    "#Validamos el equilibrio de los datos para el modelo"
   ]
  },
  {
   "cell_type": "markdown",
   "metadata": {},
   "source": [
    "# 3. Validación y calificación del modelo\n",
    "\n",
    "Realizamos validaciones de nuestro modelo para conocer que tan sensible y preciso es.\n",
    "Nos interesa tener una precisión de mínimo un 59% aqui veremos que tan lejos estamos de nuestro objetivo."
   ]
  },
  {
   "cell_type": "code",
   "execution_count": 13,
   "metadata": {
    "scrolled": true
   },
   "outputs": [
    {
     "name": "stdout",
     "output_type": "stream",
     "text": [
      "0    0.7963\n",
      "1    0.2037\n",
      "Name: Exited, dtype: float64\n"
     ]
    },
    {
     "data": {
      "text/plain": [
       "<AxesSubplot:>"
      ]
     },
     "execution_count": 13,
     "metadata": {},
     "output_type": "execute_result"
    },
    {
     "data": {
      "image/png": "[encoded data removed]",
      "text/plain": [
       "<Figure size 640x480 with 1 Axes>"
      ]
     },
     "metadata": {},
     "output_type": "display_data"
    }
   ],
   "source": [
    "exited_frequency = df_para_modelo['Exited'].value_counts(normalize=True)\n",
    "print(exited_frequency)\n",
    "exited_frequency.plot(kind='bar')\n",
    "\n",
    "#Revisamos la frecuencia en la que los usuarios abandonan el servicio del banco, para saber que tan desequilibrados están los datos.\n",
    "#Con la gráfica podemos observar que tenemos más datos sobre clientes que conservan sus products bancarios. \n",
    "#La data está sesgada hacia clientes que no abandonan al banco."
   ]
  },
  {
   "cell_type": "code",
   "execution_count": 14,
   "metadata": {
    "scrolled": true
   },
   "outputs": [
    {
     "name": "stdout",
     "output_type": "stream",
     "text": [
      "[[1389  220]\n",
      " [ 197  194]]\n"
     ]
    }
   ],
   "source": [
    "model_tree = DecisionTreeClassifier(random_state=12345)\n",
    "model_tree.fit(features_train, target_train)\n",
    "predicted_valid = model_tree.predict(features_valid)\n",
    "\n",
    "confusion_matrix = confusion_matrix(target_valid, predicted_valid)\n",
    "print(confusion_matrix)\n",
    "\n",
    "#Revisamos con la matrix de confusión la viabilidad del modelo. En este caso tenemos una gran cantidad de verdaderos negativos.\n",
    "#Esto nos indica que el modelo piensa que los clientes no abandonan los servicios del banco; cuando realmente si se abandonan."
   ]
  },
  {
   "cell_type": "code",
   "execution_count": 15,
   "metadata": {},
   "outputs": [
    {
     "name": "stdout",
     "output_type": "stream",
     "text": [
      "Recall/sensibilidad del modelo: 0.4961636828644501\n",
      "\n",
      "Precisión del modelo: 0.46859903381642515\n"
     ]
    }
   ],
   "source": [
    "sensibilidad = recall_score(target_valid, predicted_valid)\n",
    "precision = precision_score(target_valid, predicted_valid)\n",
    "print(f\"Recall/sensibilidad del modelo:\", sensibilidad)\n",
    "print()\n",
    "print(f\"Precisión del modelo:\", precision)\n",
    "\n",
    "#Revisamos la sensibilidad y precision del modelo, en este caso el modelo está prediciendo correctamente menos de la mitad de las respuesta.\n",
    "#El modelo tiene una precisión del 46% lo cual es baja para el modelo, necesitamos crear una mayor precisión."
   ]
  },
  {
   "cell_type": "code",
   "execution_count": 16,
   "metadata": {},
   "outputs": [
    {
     "name": "stdout",
     "output_type": "stream",
     "text": [
      "F1: 0.4819875776397516\n"
     ]
    }
   ],
   "source": [
    "f1 = f1_score(target_valid, predicted_valid)\n",
    "\n",
    "print(f\"F1:\", f1)\n",
    "\n",
    "#El valor de F1 es bajo, lo que nos indica que la mayoría de las predicciones se van a hacer de modo incorrecto.\n",
    "#Usar un árbol de decisión no va a ser valido, tendremos que usar un modelo más robusto de clasificación"
   ]
  },
  {
   "cell_type": "code",
   "execution_count": 17,
   "metadata": {},
   "outputs": [
    {
     "name": "stdout",
     "output_type": "stream",
     "text": [
      "F1: 0.4708926261319535\n"
     ]
    }
   ],
   "source": [
    "model_balanced = DecisionTreeClassifier(random_state=12345, class_weight='balanced')\n",
    "model_balanced.fit(features_train, target_train)\n",
    "predicted_valid = model_balanced.predict(features_valid)\n",
    "print('F1:', f1_score(target_valid, predicted_valid))\n",
    "\n",
    "#Hacemos un balance de clases para ver si nuetro modelo mejor.\n",
    "#Esta mejora es muy pequeña aún no estamos cerca de nuestro objetivo"
   ]
  },
  {
   "cell_type": "code",
   "execution_count": 18,
   "metadata": {},
   "outputs": [
    {
     "name": "stdout",
     "output_type": "stream",
     "text": [
      "Cantidad de árboles: 1\n",
      "Entrenamiento:  0.929\n",
      "Validación:  0.793\n",
      "Prueba:  0.79\n",
      "\n",
      "Cantidad de árboles: 2\n",
      "Entrenamiento:  0.9283333333333333\n",
      "Validación:  0.823\n",
      "Prueba:  0.81\n",
      "\n",
      "Cantidad de árboles: 3\n",
      "Entrenamiento:  0.9651666666666666\n",
      "Validación:  0.8285\n",
      "Prueba:  0.8175\n",
      "\n",
      "Cantidad de árboles: 4\n",
      "Entrenamiento:  0.9571666666666667\n",
      "Validación:  0.841\n",
      "Prueba:  0.8235\n",
      "\n",
      "Cantidad de árboles: 5\n",
      "Entrenamiento:  0.9786666666666667\n",
      "Validación:  0.8375\n",
      "Prueba:  0.8295\n",
      "\n",
      "Cantidad de árboles: 6\n",
      "Entrenamiento:  0.9723333333333334\n",
      "Validación:  0.8495\n",
      "Prueba:  0.8325\n",
      "\n",
      "Cantidad de árboles: 7\n",
      "Entrenamiento:  0.9846666666666667\n",
      "Validación:  0.8485\n",
      "Prueba:  0.8375\n",
      "\n",
      "Cantidad de árboles: 8\n",
      "Entrenamiento:  0.9801666666666666\n",
      "Validación:  0.853\n",
      "Prueba:  0.8355\n",
      "\n",
      "Cantidad de árboles: 9\n",
      "Entrenamiento:  0.9863333333333333\n",
      "Validación:  0.8555\n",
      "Prueba:  0.8415\n",
      "\n",
      "Cantidad de árboles: 10\n",
      "Entrenamiento:  0.9835\n",
      "Validación:  0.8555\n",
      "Prueba:  0.84\n",
      "\n",
      "Cantidad de árboles: 11\n",
      "Entrenamiento:  0.9888333333333333\n",
      "Validación:  0.8545\n",
      "Prueba:  0.845\n",
      "\n",
      "Cantidad de árboles: 12\n",
      "Entrenamiento:  0.9873333333333333\n",
      "Validación:  0.857\n",
      "Prueba:  0.8455\n",
      "\n",
      "Cantidad de árboles: 13\n",
      "Entrenamiento:  0.9913333333333333\n",
      "Validación:  0.86\n",
      "Prueba:  0.844\n",
      "\n",
      "Cantidad de árboles: 14\n",
      "Entrenamiento:  0.99\n",
      "Validación:  0.864\n",
      "Prueba:  0.841\n",
      "\n",
      "Cantidad de árboles: 15\n",
      "Entrenamiento:  0.9933333333333333\n",
      "Validación:  0.861\n",
      "Prueba:  0.849\n",
      "\n",
      "Cantidad de árboles: 16\n",
      "Entrenamiento:  0.991\n",
      "Validación:  0.8625\n",
      "Prueba:  0.846\n",
      "\n",
      "Cantidad de árboles: 17\n",
      "Entrenamiento:  0.9945\n",
      "Validación:  0.86\n",
      "Prueba:  0.8485\n",
      "\n",
      "Cantidad de árboles: 18\n",
      "Entrenamiento:  0.9923333333333333\n",
      "Validación:  0.861\n",
      "Prueba:  0.8455\n",
      "\n",
      "Cantidad de árboles: 19\n",
      "Entrenamiento:  0.9948333333333333\n",
      "Validación:  0.8625\n",
      "Prueba:  0.8485\n",
      "\n",
      "Cantidad de árboles: 20\n",
      "Entrenamiento:  0.9935\n",
      "Validación:  0.8605\n",
      "Prueba:  0.846\n",
      "\n",
      "Cantidad de árboles: 21\n",
      "Entrenamiento:  0.9963333333333333\n",
      "Validación:  0.864\n",
      "Prueba:  0.8465\n",
      "\n",
      "Cantidad de árboles: 22\n",
      "Entrenamiento:  0.9945\n",
      "Validación:  0.862\n",
      "Prueba:  0.843\n",
      "\n",
      "Cantidad de árboles: 23\n",
      "Entrenamiento:  0.9963333333333333\n",
      "Validación:  0.8625\n",
      "Prueba:  0.844\n",
      "\n",
      "Cantidad de árboles: 24\n",
      "Entrenamiento:  0.9956666666666667\n",
      "Validación:  0.862\n",
      "Prueba:  0.8445\n",
      "\n",
      "Cantidad de árboles: 25\n",
      "Entrenamiento:  0.9981666666666666\n",
      "Validación:  0.8595\n",
      "Prueba:  0.8485\n",
      "\n",
      "Cantidad de árboles: 26\n",
      "Entrenamiento:  0.9966666666666667\n",
      "Validación:  0.86\n",
      "Prueba:  0.8445\n",
      "\n",
      "Cantidad de árboles: 27\n",
      "Entrenamiento:  0.9988333333333334\n",
      "Validación:  0.861\n",
      "Prueba:  0.845\n",
      "\n",
      "Cantidad de árboles: 28\n",
      "Entrenamiento:  0.9976666666666667\n",
      "Validación:  0.8615\n",
      "Prueba:  0.8425\n",
      "\n",
      "Cantidad de árboles: 29\n",
      "Entrenamiento:  0.9985\n",
      "Validación:  0.8605\n",
      "Prueba:  0.8465\n",
      "\n",
      "Cantidad de árboles: 30\n",
      "Entrenamiento:  0.9981666666666666\n",
      "Validación:  0.863\n",
      "Prueba:  0.8415\n",
      "\n"
     ]
    }
   ],
   "source": [
    "for trees in range (1,31): \n",
    "    forest_model = RandomForestClassifier(n_estimators=trees, random_state=12345, class_weight='balanced') #Almacenamos nuestro modelo e indicamos un estado de azar, también definimos la cantidad de arboles dentro de nuestro bosque\n",
    "    forest_model.fit(features_train, target_train) #Creamos nuestro modelo entrenado para Bosque de Decisiones\n",
    "    print(\"Cantidad de árboles:\", trees)\n",
    "    print(\"Entrenamiento: \", forest_model.score(features_train, target_train)) #Aqui validamos la exactitud del bosque\n",
    "    print(\"Validación: \", forest_model.score(features_valid, target_valid))\n",
    "    print(\"Prueba: \", forest_model.score(features_test, target_test))\n",
    "    print()\n",
    "    #Creamos un for para poder conocer cuántos árboles me van a brindar la validación más alta de mi modelo.\n",
    "    #En este caso tener 25 árboles dentro del modelo nos dá la validación más alta\n",
    "    #1 sólo árbol nos da un F1 muy bajo"
   ]
  },
  {
   "cell_type": "code",
   "execution_count": 19,
   "metadata": {},
   "outputs": [
    {
     "name": "stdout",
     "output_type": "stream",
     "text": [
      "F1: 0.5504\n"
     ]
    }
   ],
   "source": [
    "forest_model = RandomForestClassifier(n_estimators=25, random_state=12345, class_weight='balanced')\n",
    "forest_model.fit(features_train, target_train)\n",
    "predicted_valid = forest_model.predict(features_valid)\n",
    "print('F1:', f1_score(target_valid, predicted_valid))\n",
    "\n",
    "#Validamos la sensibilidad y precisión del modelo usando un bosque.\n",
    "#Nuestro valor de f1 mejora significativamente, pero aún hace falta equilibrar las clases.\n",
    "#También indicamos en el modelo que ambas clases tienen el mismo peso para no sesgar los resultados."
   ]
  },
  {
   "cell_type": "markdown",
   "metadata": {},
   "source": [
    "# 4. Ajuste de clases y equilibrio\n",
    "\n",
    "Sabemos que hay un sesgo de información donde el modelo es más probable a predecir que los clientes no abandonarán el banco.\n",
    "Esta sensibilidad hace que nuestro modelo no sea preciso, es necesario equilibrar las clases para mejorar la precisión."
   ]
  },
  {
   "cell_type": "code",
   "execution_count": 20,
   "metadata": {},
   "outputs": [],
   "source": [
    "def upsample(features, target, repeat):\n",
    "    features_zeros = features[target == 0] #Dividimos las características y objetivos por clase\n",
    "    features_ones = features[target == 1]\n",
    "    target_zeros = target[target == 0]\n",
    "    target_ones = target[target == 1]\n",
    "\n",
    "    features_upsampled = pd.concat([features_zeros] + ([features_ones] * repeat)) #Concateneamos o juntamos las características y objetivos aumentado la clase menos frecuente\n",
    "    target_upsampled = pd.concat([target_zeros] + ([target_ones] * repeat))\n",
    "\n",
    "    features_upsampled, target_upsampled = shuffle( #Barajeamos la información de la data para que se presente al azar\n",
    "        features_upsampled, target_upsampled, random_state=12345\n",
    "    )\n",
    "\n",
    "    return features_upsampled, target_upsampled\n",
    "\n",
    "\n",
    "features_upsampled, target_upsampled = upsample( #Usamos la función definida para aumentar la clase rara 40 veces\n",
    "    features_train, target_train, 40               \n",
    ")\n",
    "\n",
    "#Definimos una función para poder hacer menos rara la clase '1' que corresponde a los clientes que abandonan."
   ]
  },
  {
   "cell_type": "code",
   "execution_count": 21,
   "metadata": {},
   "outputs": [
    {
     "name": "stdout",
     "output_type": "stream",
     "text": [
      "F1: 0.5956284153005464\n"
     ]
    }
   ],
   "source": [
    "forest_model.fit(features_upsampled, target_upsampled)\n",
    "predicted_valid_up = forest_model.predict(features_valid)\n",
    "\n",
    "print('F1:', f1_score(target_valid, predicted_valid_up))\n",
    "\n",
    "#Validamos la calificación del modelo luego de ajustar la clase rara con un Sobremuestreo\n",
    "#Si ajustamos la clase más rara y repetimos los datos gasta 40 veces llegamos a la precisión que buscamos"
   ]
  },
  {
   "cell_type": "code",
   "execution_count": 22,
   "metadata": {},
   "outputs": [],
   "source": [
    "def downsample(features, target, fraction):\n",
    "    features_zeros = features[target == 0]\n",
    "    features_ones = features[target == 1]\n",
    "    target_zeros = target[target == 0]\n",
    "    target_ones = target[target == 1]\n",
    "\n",
    "    features_downsampled = pd.concat(\n",
    "        [features_zeros.sample(frac=fraction, random_state=12345)]\n",
    "        + [features_ones]\n",
    "    )\n",
    "    target_downsampled = pd.concat(\n",
    "        [target_zeros.sample(frac=fraction, random_state=12345)]\n",
    "        + [target_ones]\n",
    "    )\n",
    "\n",
    "    features_downsampled, target_downsampled = shuffle(\n",
    "        features_downsampled, target_downsampled, random_state=12345\n",
    "    )\n",
    "\n",
    "    return features_downsampled, target_downsampled\n",
    "\n",
    "features_downsampled, target_downsampled = downsample(\n",
    "    features_train, target_train, 0.5\n",
    ")\n",
    "\n",
    "#Definimos una función para disminuir la clase más frecuente y entrenamos el modelo con un Submuestreo"
   ]
  },
  {
   "cell_type": "code",
   "execution_count": 23,
   "metadata": {},
   "outputs": [
    {
     "name": "stdout",
     "output_type": "stream",
     "text": [
      "F1: 0.5841836734693878\n"
     ]
    }
   ],
   "source": [
    "forest_model.fit(features_downsampled, target_downsampled)\n",
    "predicted_valid_down = forest_model.predict(features_valid)\n",
    "\n",
    "print('F1:', f1_score(target_valid, predicted_valid_down))\n",
    "\n",
    "#Validamos la calificación de sensibilidad y precisión basado en un Submuestro.\n",
    "#Nuestro modelo ha mejorado mucho pero aún no llegamos al 59%, será mejor usar el Sobremuestreo"
   ]
  },
  {
   "cell_type": "code",
   "execution_count": 24,
   "metadata": {},
   "outputs": [],
   "source": [
    "features_upsampled_train, target_upsampled_train = upsample(\n",
    "    features_train, target_train, 40)\n",
    "\n",
    "features_upsampled_valid, target_upsampled_valid = upsample(\n",
    "    features_valid, target_valid, 40)\n",
    "\n",
    "features_upsampled_test, target_upsampled_test = upsample(\n",
    "    features_test, target_test, 40)\n",
    "\n",
    "#Usamos nuestro función ya definida para ajustar las clases para todos nuestros datasets pare el modelo"
   ]
  },
  {
   "cell_type": "code",
   "execution_count": 25,
   "metadata": {
    "scrolled": true
   },
   "outputs": [
    {
     "data": {
      "image/png": "[encoded data removed]",
      "text/plain": [
       "<Figure size 600x600 with 1 Axes>"
      ]
     },
     "metadata": {},
     "output_type": "display_data"
    }
   ],
   "source": [
    "forest_model.fit(features_upsampled_train, target_upsampled_train)\n",
    "\n",
    "probabilities_valid = forest_model.predict_proba(features_upsampled_valid)\n",
    "precision, recall, thresholds = precision_recall_curve(\n",
    "    target_upsampled_valid, probabilities_valid[:, 1]\n",
    ")\n",
    "\n",
    "plt.figure(figsize=(6, 6))\n",
    "plt.step(recall, precision, where='post')\n",
    "plt.xlabel('Sensibilidad')\n",
    "plt.ylabel('Precisión')\n",
    "plt.ylim([0.0, 1.05])\n",
    "plt.xlim([0.0, 1.0])\n",
    "plt.title('Curva de Precisión-Sensibilidad')\n",
    "plt.show()\n",
    "\n",
    "#Revisamos la relación de la Precisión vs. Sensibilidad del modelo usando nuestras nuevas clases ya equilibradas.\n",
    "#La precisión de nuestro modelo a incrementado significativamente y es sensible a la información provista"
   ]
  },
  {
   "cell_type": "code",
   "execution_count": 26,
   "metadata": {
    "scrolled": false
   },
   "outputs": [
    {
     "data": {
      "image/png": "[encoded data removed]",
      "text/plain": [
       "<Figure size 640x480 with 1 Axes>"
      ]
     },
     "metadata": {},
     "output_type": "display_data"
    }
   ],
   "source": [
    "forest_model.fit(features_upsampled_train, target_upsampled_train)\n",
    "\n",
    "probabilities_valid = forest_model.predict_proba(features_upsampled_valid)\n",
    "probabilities_one_valid = probabilities_valid[:, 1]\n",
    "\n",
    "fpr, tpr, thresholds = roc_curve(target_upsampled_valid, probabilities_one_valid)\n",
    "\n",
    "plt.figure()\n",
    "plt.plot(fpr, tpr)\n",
    "plt.xlabel('Tasa de Verdaderos Negativos')\n",
    "plt.ylabel('Tasa de Verdaderos Positivos')\n",
    "plt.title('Curva de ROC')\n",
    "plt.show()\n",
    "\n",
    "#Vemos la relación de Verdaderos Positivos vs Verdaderos Negativos con nuestros nuevos data set y revisamos la relación.\n",
    "#Nuestro modelo ha mejorado en la manera en que predice los resultados con mayor precisión"
   ]
  },
  {
   "cell_type": "code",
   "execution_count": 27,
   "metadata": {},
   "outputs": [
    {
     "name": "stdout",
     "output_type": "stream",
     "text": [
      "Espacio AUC ROC debajo de nuestra línea en gráfico: 0.826467647615157\n"
     ]
    }
   ],
   "source": [
    "forest_model.fit(features_upsampled_train, target_upsampled_train)\n",
    "\n",
    "probabilities_valid = forest_model.predict_proba(features_upsampled_valid)\n",
    "probabilities_one_valid = probabilities_valid[:, 1]\n",
    "\n",
    "auc_roc = roc_auc_score(target_upsampled_valid, probabilities_one_valid)\n",
    "\n",
    "print(\"Espacio AUC ROC debajo de nuestra línea en gráfico:\", auc_roc)\n",
    "\n",
    "#El espacio debajo de nuestra curva es del 82% al ser tan cercano a 1 podemos decir que nuestro modelo es suficientemente robusto para este proyecto"
   ]
  },
  {
   "cell_type": "code",
   "execution_count": 28,
   "metadata": {},
   "outputs": [
    {
     "name": "stdout",
     "output_type": "stream",
     "text": [
      "F1: 0.7123310051872729\n"
     ]
    }
   ],
   "source": [
    "forest_model.fit(features_upsampled_train, target_upsampled_train)\n",
    "predicted_valid_upsampled = forest_model.predict(features_upsampled_valid)\n",
    "\n",
    "print('F1:', f1_score(target_upsampled_valid, predicted_valid_upsampled))\n",
    "\n",
    "#Ahora que ya hemos ajustado las clases, tenemos una precisión de modelo del 71%\n",
    "#Nuestro modelo ha mejorado de manera significativa y nos va a ser muy útil para lo que nos piden en el banco"
   ]
  },
  {
   "cell_type": "code",
   "execution_count": 29,
   "metadata": {
    "scrolled": false
   },
   "outputs": [
    {
     "name": "stdout",
     "output_type": "stream",
     "text": [
      "Entrenamiento:  0.9999439681739228\n",
      "Validación:  0.5916864745782364\n",
      "Prueba:  0.5901999678335924\n",
      "\n",
      "Recall/sensibilidad del modelo: 0.5575447570332481\n",
      "Precisión del modelo: 0.9860906932036639\n",
      "F1: 0.7123310051872729\n"
     ]
    }
   ],
   "source": [
    "print(\"Entrenamiento: \", forest_model.score(features_upsampled_train, target_upsampled_train))\n",
    "print(\"Validación: \", forest_model.score(features_upsampled_valid, target_upsampled_valid))\n",
    "print(\"Prueba: \", forest_model.score(features_upsampled_test, target_upsampled_test))\n",
    "print()\n",
    "recall_forest = recall_score(target_upsampled_valid, predicted_valid_upsampled)\n",
    "precision_forest = precision_score(target_upsampled_valid, predicted_valid_upsampled)\n",
    "print(f\"Recall/sensibilidad del modelo:\", recall_forest)\n",
    "print(f\"Precisión del modelo:\", precision_forest)\n",
    "print('F1:', f1_score(target_upsampled_valid, predicted_valid_upsampled))"
   ]
  },
  {
   "cell_type": "markdown",
   "metadata": {},
   "source": [
    "# 5. Conclusiones\n",
    "\n",
    "Para poder llegar al modelo ideal en el que llegamos a tener una precisión del f1 0.59 tuvimos que ecperimentar con distintos modelos de decisión.\n",
    "\n",
    "Al saber que un sólo árbol de decisión no iba a ser suficiente decidimos utilizar un bosque de decisciones para nuestro modelo.\n",
    "Hicismo pruebas para llegar a la mejor bosque con un total de 25 árboles para mayor precisión en las predicciones.\n",
    "\n",
    "Teniendo un modelo más preciso buscamos la manera de ajustar las clases para poder entrenar al modelo con el mejor dataset posible.\n",
    "\n",
    "En este caso lo más conveniente fue utilizar un sobremuestreo de los datos que tenemos de la clase de clientes que abandonan el banco.\n",
    "\n",
    "Ya teniendo la combinación ideal de datos hicimos validaciones nuevamente, dando como resultado un f1 de 0.71, mayor que lo que nos pedían en el banco."
   ]
  }
 ],
 "metadata": {
  "ExecuteTimeLog": [
   {
    "duration": 14,
    "start_time": "2024-10-22T01:28:30.668Z"
   },
   {
    "duration": 375,
    "start_time": "2024-10-22T01:28:36.519Z"
   },
   {
    "duration": 60,
    "start_time": "2024-10-22T01:29:03.616Z"
   },
   {
    "duration": 13,
    "start_time": "2024-10-22T01:29:14.670Z"
   },
   {
    "duration": 14,
    "start_time": "2024-10-22T01:29:22.345Z"
   },
   {
    "duration": 18,
    "start_time": "2024-10-22T01:31:49.713Z"
   },
   {
    "duration": 5,
    "start_time": "2024-10-22T01:32:57.096Z"
   },
   {
    "duration": 208,
    "start_time": "2024-10-22T01:36:23.296Z"
   },
   {
    "duration": 4,
    "start_time": "2024-10-22T01:36:32.913Z"
   },
   {
    "duration": 7,
    "start_time": "2024-10-22T01:36:47.292Z"
   },
   {
    "duration": 3,
    "start_time": "2024-10-22T01:41:07.903Z"
   },
   {
    "duration": 7,
    "start_time": "2024-10-22T01:41:23.859Z"
   },
   {
    "duration": 2,
    "start_time": "2024-10-22T01:45:30.682Z"
   },
   {
    "duration": 4,
    "start_time": "2024-10-22T01:46:46.868Z"
   },
   {
    "duration": 16,
    "start_time": "2024-10-22T01:47:04.109Z"
   },
   {
    "duration": 11,
    "start_time": "2024-10-22T01:47:12.039Z"
   },
   {
    "duration": 12,
    "start_time": "2024-10-22T01:49:06.863Z"
   },
   {
    "duration": 484,
    "start_time": "2024-10-22T01:52:46.467Z"
   },
   {
    "duration": 47,
    "start_time": "2024-10-22T01:55:53.615Z"
   },
   {
    "duration": 6,
    "start_time": "2024-10-22T01:56:00.078Z"
   },
   {
    "duration": 6,
    "start_time": "2024-10-22T02:02:56.601Z"
   },
   {
    "duration": 6,
    "start_time": "2024-10-22T02:06:15.363Z"
   },
   {
    "duration": 3,
    "start_time": "2024-10-22T02:06:51.016Z"
   },
   {
    "duration": 2,
    "start_time": "2024-10-22T02:09:06.665Z"
   },
   {
    "duration": 421,
    "start_time": "2024-10-22T02:11:39.359Z"
   },
   {
    "duration": 43,
    "start_time": "2024-10-22T02:13:05.873Z"
   },
   {
    "duration": 10,
    "start_time": "2024-10-22T02:13:32.772Z"
   },
   {
    "duration": 60,
    "start_time": "2024-10-22T02:13:36.479Z"
   },
   {
    "duration": 131,
    "start_time": "2024-10-22T02:15:09.706Z"
   },
   {
    "duration": 3,
    "start_time": "2024-10-22T02:15:34.474Z"
   },
   {
    "duration": 12,
    "start_time": "2024-10-22T02:15:37.300Z"
   },
   {
    "duration": 33,
    "start_time": "2024-10-22T02:15:39.210Z"
   },
   {
    "duration": 2,
    "start_time": "2024-10-22T02:15:42.381Z"
   },
   {
    "duration": 8,
    "start_time": "2024-10-22T02:15:43.250Z"
   },
   {
    "duration": 6,
    "start_time": "2024-10-22T02:15:43.875Z"
   },
   {
    "duration": 3,
    "start_time": "2024-10-22T02:15:44.636Z"
   },
   {
    "duration": 7,
    "start_time": "2024-10-22T02:15:45.848Z"
   },
   {
    "duration": 9,
    "start_time": "2024-10-22T02:16:46.671Z"
   },
   {
    "duration": 19,
    "start_time": "2024-10-22T02:17:29.925Z"
   },
   {
    "duration": 30,
    "start_time": "2024-10-22T02:18:04.826Z"
   },
   {
    "duration": 11,
    "start_time": "2024-10-22T02:18:16.784Z"
   },
   {
    "duration": 10,
    "start_time": "2024-10-22T02:18:33.890Z"
   },
   {
    "duration": 15,
    "start_time": "2024-10-22T02:25:05.612Z"
   },
   {
    "duration": 4,
    "start_time": "2024-10-22T02:25:32.853Z"
   },
   {
    "duration": 2235,
    "start_time": "2024-10-22T02:25:53.173Z"
   },
   {
    "duration": 27,
    "start_time": "2024-10-22T02:34:47.090Z"
   },
   {
    "duration": 2,
    "start_time": "2024-10-22T02:35:18.247Z"
   },
   {
    "duration": 34,
    "start_time": "2024-10-22T02:35:40.121Z"
   },
   {
    "duration": 34,
    "start_time": "2024-10-22T02:36:46.874Z"
   },
   {
    "duration": 32,
    "start_time": "2024-10-22T02:38:09.589Z"
   },
   {
    "duration": 92,
    "start_time": "2024-10-22T02:40:17.862Z"
   },
   {
    "duration": 31,
    "start_time": "2024-10-22T02:42:15.609Z"
   },
   {
    "duration": 6,
    "start_time": "2024-10-22T02:51:13.257Z"
   },
   {
    "duration": 7,
    "start_time": "2024-10-22T02:51:33.439Z"
   },
   {
    "duration": 4,
    "start_time": "2024-10-22T02:54:18.333Z"
   },
   {
    "duration": 4,
    "start_time": "2024-10-22T02:54:22.537Z"
   },
   {
    "duration": 8,
    "start_time": "2024-10-22T02:54:27.737Z"
   },
   {
    "duration": 8,
    "start_time": "2024-10-22T02:54:51.104Z"
   },
   {
    "duration": 39,
    "start_time": "2024-10-22T02:55:15.139Z"
   },
   {
    "duration": 41,
    "start_time": "2024-10-22T02:55:24.851Z"
   },
   {
    "duration": 8,
    "start_time": "2024-10-22T02:58:22.579Z"
   },
   {
    "duration": 319,
    "start_time": "2024-10-22T03:00:49.047Z"
   },
   {
    "duration": 24,
    "start_time": "2024-10-22T03:00:49.369Z"
   },
   {
    "duration": 19,
    "start_time": "2024-10-22T03:00:49.395Z"
   },
   {
    "duration": 15,
    "start_time": "2024-10-22T03:00:49.417Z"
   },
   {
    "duration": 4,
    "start_time": "2024-10-22T03:00:49.433Z"
   },
   {
    "duration": 6,
    "start_time": "2024-10-22T03:00:49.439Z"
   },
   {
    "duration": 4,
    "start_time": "2024-10-22T03:00:49.449Z"
   },
   {
    "duration": 12,
    "start_time": "2024-10-22T03:00:49.454Z"
   },
   {
    "duration": 17,
    "start_time": "2024-10-22T03:00:49.468Z"
   },
   {
    "duration": 481,
    "start_time": "2024-10-22T03:00:49.489Z"
   },
   {
    "duration": 7,
    "start_time": "2024-10-22T03:00:49.971Z"
   },
   {
    "duration": 7,
    "start_time": "2024-10-22T03:00:49.979Z"
   },
   {
    "duration": 3,
    "start_time": "2024-10-22T03:00:49.988Z"
   },
   {
    "duration": 9,
    "start_time": "2024-10-22T03:00:49.993Z"
   },
   {
    "duration": 28,
    "start_time": "2024-10-22T03:00:50.004Z"
   },
   {
    "duration": 247,
    "start_time": "2024-10-22T03:00:50.034Z"
   },
   {
    "duration": 107,
    "start_time": "2024-10-22T03:00:50.283Z"
   },
   {
    "duration": 7,
    "start_time": "2024-10-22T03:00:50.392Z"
   },
   {
    "duration": 5,
    "start_time": "2024-10-22T03:00:50.400Z"
   },
   {
    "duration": 10,
    "start_time": "2024-10-22T03:08:54.419Z"
   },
   {
    "duration": 343,
    "start_time": "2024-10-22T03:42:53.988Z"
   },
   {
    "duration": 588,
    "start_time": "2024-10-22T03:44:50.615Z"
   },
   {
    "duration": 591,
    "start_time": "2024-10-22T03:45:25.914Z"
   },
   {
    "duration": 23,
    "start_time": "2024-10-22T03:50:04.329Z"
   },
   {
    "duration": 3291,
    "start_time": "2024-10-22T03:53:44.469Z"
   },
   {
    "duration": 14,
    "start_time": "2024-10-22T03:59:22.080Z"
   },
   {
    "duration": 24,
    "start_time": "2024-10-22T03:59:30.255Z"
   },
   {
    "duration": 175,
    "start_time": "2024-10-22T04:00:25.615Z"
   },
   {
    "duration": 177,
    "start_time": "2024-10-22T04:00:42.491Z"
   },
   {
    "duration": 18,
    "start_time": "2024-10-22T04:09:43.225Z"
   },
   {
    "duration": 31,
    "start_time": "2024-10-22T04:09:59.571Z"
   },
   {
    "duration": 22,
    "start_time": "2024-10-22T04:10:23.131Z"
   },
   {
    "duration": 30,
    "start_time": "2024-10-22T04:10:43.979Z"
   },
   {
    "duration": 337,
    "start_time": "2024-10-23T00:10:47.749Z"
   },
   {
    "duration": 18,
    "start_time": "2024-10-23T00:10:48.090Z"
   },
   {
    "duration": 12,
    "start_time": "2024-10-23T00:10:48.110Z"
   },
   {
    "duration": 15,
    "start_time": "2024-10-23T00:10:48.132Z"
   },
   {
    "duration": 5,
    "start_time": "2024-10-23T00:10:48.149Z"
   },
   {
    "duration": 5,
    "start_time": "2024-10-23T00:10:48.156Z"
   },
   {
    "duration": 3,
    "start_time": "2024-10-23T00:10:48.163Z"
   },
   {
    "duration": 10,
    "start_time": "2024-10-23T00:10:48.168Z"
   },
   {
    "duration": 13,
    "start_time": "2024-10-23T00:10:48.180Z"
   },
   {
    "duration": 516,
    "start_time": "2024-10-23T00:10:48.196Z"
   },
   {
    "duration": 7,
    "start_time": "2024-10-23T00:10:48.714Z"
   },
   {
    "duration": 10,
    "start_time": "2024-10-23T00:10:48.722Z"
   },
   {
    "duration": 4,
    "start_time": "2024-10-23T00:10:48.733Z"
   },
   {
    "duration": 11,
    "start_time": "2024-10-23T00:10:48.738Z"
   },
   {
    "duration": 8,
    "start_time": "2024-10-23T00:10:48.750Z"
   },
   {
    "duration": 239,
    "start_time": "2024-10-23T00:10:48.761Z"
   },
   {
    "duration": 110,
    "start_time": "2024-10-23T00:10:49.002Z"
   },
   {
    "duration": 7,
    "start_time": "2024-10-23T00:10:49.114Z"
   },
   {
    "duration": 5,
    "start_time": "2024-10-23T00:10:49.131Z"
   },
   {
    "duration": 31,
    "start_time": "2024-10-23T00:10:49.137Z"
   },
   {
    "duration": 775,
    "start_time": "2024-10-24T15:19:02.994Z"
   },
   {
    "duration": 29,
    "start_time": "2024-10-24T15:19:03.771Z"
   },
   {
    "duration": 11,
    "start_time": "2024-10-24T15:19:03.801Z"
   },
   {
    "duration": 9,
    "start_time": "2024-10-24T15:19:03.814Z"
   },
   {
    "duration": 3,
    "start_time": "2024-10-24T15:19:03.825Z"
   },
   {
    "duration": 16,
    "start_time": "2024-10-24T15:19:03.830Z"
   },
   {
    "duration": 2,
    "start_time": "2024-10-24T15:19:03.849Z"
   },
   {
    "duration": 10,
    "start_time": "2024-10-24T15:19:03.853Z"
   },
   {
    "duration": 14,
    "start_time": "2024-10-24T15:19:03.864Z"
   },
   {
    "duration": 6,
    "start_time": "2024-10-24T15:19:03.881Z"
   },
   {
    "duration": 5,
    "start_time": "2024-10-24T15:19:03.888Z"
   },
   {
    "duration": 3,
    "start_time": "2024-10-24T15:19:03.895Z"
   },
   {
    "duration": 45,
    "start_time": "2024-10-24T15:19:03.900Z"
   },
   {
    "duration": 9,
    "start_time": "2024-10-24T15:19:03.947Z"
   },
   {
    "duration": 2001,
    "start_time": "2024-10-24T15:19:03.957Z"
   },
   {
    "duration": 32,
    "start_time": "2024-10-24T15:19:05.960Z"
   },
   {
    "duration": 6,
    "start_time": "2024-10-24T15:19:05.994Z"
   },
   {
    "duration": 5,
    "start_time": "2024-10-24T15:19:06.001Z"
   },
   {
    "duration": 55,
    "start_time": "2024-10-24T15:19:06.007Z"
   },
   {
    "duration": 245,
    "start_time": "2024-10-24T15:23:57.925Z"
   },
   {
    "duration": 780,
    "start_time": "2024-10-24T15:24:45.503Z"
   },
   {
    "duration": 17,
    "start_time": "2024-10-24T15:24:46.286Z"
   },
   {
    "duration": 12,
    "start_time": "2024-10-24T15:24:46.304Z"
   },
   {
    "duration": 25,
    "start_time": "2024-10-24T15:24:46.318Z"
   },
   {
    "duration": 4,
    "start_time": "2024-10-24T15:24:46.346Z"
   },
   {
    "duration": 7,
    "start_time": "2024-10-24T15:24:46.351Z"
   },
   {
    "duration": 3,
    "start_time": "2024-10-24T15:24:46.359Z"
   },
   {
    "duration": 10,
    "start_time": "2024-10-24T15:24:46.363Z"
   },
   {
    "duration": 15,
    "start_time": "2024-10-24T15:24:46.376Z"
   },
   {
    "duration": 8,
    "start_time": "2024-10-24T15:24:46.393Z"
   },
   {
    "duration": 6,
    "start_time": "2024-10-24T15:24:46.442Z"
   },
   {
    "duration": 3,
    "start_time": "2024-10-24T15:24:46.450Z"
   },
   {
    "duration": 13,
    "start_time": "2024-10-24T15:24:46.456Z"
   },
   {
    "duration": 10,
    "start_time": "2024-10-24T15:24:46.472Z"
   },
   {
    "duration": 316,
    "start_time": "2024-10-24T15:24:46.483Z"
   },
   {
    "duration": 32,
    "start_time": "2024-10-24T15:24:46.801Z"
   },
   {
    "duration": 12,
    "start_time": "2024-10-24T15:24:46.834Z"
   },
   {
    "duration": 4,
    "start_time": "2024-10-24T15:24:46.847Z"
   },
   {
    "duration": 31,
    "start_time": "2024-10-24T15:24:46.853Z"
   },
   {
    "duration": 11,
    "start_time": "2024-10-24T15:24:46.886Z"
   },
   {
    "duration": 240,
    "start_time": "2024-10-24T15:26:32.298Z"
   },
   {
    "duration": 13,
    "start_time": "2024-10-24T15:26:38.347Z"
   },
   {
    "duration": 52,
    "start_time": "2024-10-24T15:27:17.410Z"
   },
   {
    "duration": 16,
    "start_time": "2024-10-24T15:27:43.741Z"
   },
   {
    "duration": 74,
    "start_time": "2024-10-24T15:27:44.358Z"
   },
   {
    "duration": 19,
    "start_time": "2024-10-24T15:27:50.721Z"
   },
   {
    "duration": 99,
    "start_time": "2024-10-24T15:27:51.148Z"
   },
   {
    "duration": 11,
    "start_time": "2024-10-24T15:29:01.415Z"
   },
   {
    "duration": 41,
    "start_time": "2024-10-24T15:29:01.860Z"
   },
   {
    "duration": 27,
    "start_time": "2024-10-24T15:29:07.174Z"
   },
   {
    "duration": 155,
    "start_time": "2024-10-24T15:29:07.597Z"
   },
   {
    "duration": 19,
    "start_time": "2024-10-24T15:29:12.593Z"
   },
   {
    "duration": 102,
    "start_time": "2024-10-24T15:29:13.041Z"
   },
   {
    "duration": 99,
    "start_time": "2024-10-24T15:30:17.386Z"
   },
   {
    "duration": 4,
    "start_time": "2024-10-24T15:30:56.257Z"
   },
   {
    "duration": 10,
    "start_time": "2024-10-24T15:31:13.274Z"
   },
   {
    "duration": 13,
    "start_time": "2024-10-24T15:31:40.464Z"
   },
   {
    "duration": 11,
    "start_time": "2024-10-24T15:31:54.877Z"
   },
   {
    "duration": 16,
    "start_time": "2024-10-24T15:31:55.288Z"
   },
   {
    "duration": 17,
    "start_time": "2024-10-24T15:35:20.820Z"
   },
   {
    "duration": 97,
    "start_time": "2024-10-24T15:35:21.304Z"
   },
   {
    "duration": 10,
    "start_time": "2024-10-24T15:35:22.570Z"
   },
   {
    "duration": 17,
    "start_time": "2024-10-24T15:35:23.345Z"
   },
   {
    "duration": 11,
    "start_time": "2024-10-24T15:38:31.011Z"
   },
   {
    "duration": 20,
    "start_time": "2024-10-24T15:38:31.588Z"
   },
   {
    "duration": 9,
    "start_time": "2024-10-24T15:38:39.245Z"
   },
   {
    "duration": 23,
    "start_time": "2024-10-24T15:38:39.633Z"
   },
   {
    "duration": 9,
    "start_time": "2024-10-24T15:38:45.412Z"
   },
   {
    "duration": 22,
    "start_time": "2024-10-24T15:38:45.812Z"
   },
   {
    "duration": 882,
    "start_time": "2024-10-24T15:43:52.429Z"
   },
   {
    "duration": 16,
    "start_time": "2024-10-24T15:43:53.313Z"
   },
   {
    "duration": 18,
    "start_time": "2024-10-24T15:43:53.331Z"
   },
   {
    "duration": 9,
    "start_time": "2024-10-24T15:43:53.351Z"
   },
   {
    "duration": 4,
    "start_time": "2024-10-24T15:43:53.362Z"
   },
   {
    "duration": 5,
    "start_time": "2024-10-24T15:43:53.367Z"
   },
   {
    "duration": 3,
    "start_time": "2024-10-24T15:43:53.374Z"
   },
   {
    "duration": 10,
    "start_time": "2024-10-24T15:43:53.378Z"
   },
   {
    "duration": 13,
    "start_time": "2024-10-24T15:43:53.389Z"
   },
   {
    "duration": 42,
    "start_time": "2024-10-24T15:43:53.404Z"
   },
   {
    "duration": 5,
    "start_time": "2024-10-24T15:43:53.448Z"
   },
   {
    "duration": 3,
    "start_time": "2024-10-24T15:43:53.456Z"
   },
   {
    "duration": 8,
    "start_time": "2024-10-24T15:43:53.461Z"
   },
   {
    "duration": 8,
    "start_time": "2024-10-24T15:43:53.471Z"
   },
   {
    "duration": 190,
    "start_time": "2024-10-24T15:43:53.481Z"
   },
   {
    "duration": 32,
    "start_time": "2024-10-24T15:43:53.673Z"
   },
   {
    "duration": 6,
    "start_time": "2024-10-24T15:43:53.707Z"
   },
   {
    "duration": 5,
    "start_time": "2024-10-24T15:43:53.715Z"
   },
   {
    "duration": 50,
    "start_time": "2024-10-24T15:43:53.721Z"
   },
   {
    "duration": 19,
    "start_time": "2024-10-24T15:43:53.773Z"
   },
   {
    "duration": 112,
    "start_time": "2024-10-24T15:43:53.793Z"
   },
   {
    "duration": 10,
    "start_time": "2024-10-24T15:43:53.907Z"
   },
   {
    "duration": 33,
    "start_time": "2024-10-24T15:43:53.918Z"
   },
   {
    "duration": 133,
    "start_time": "2024-10-24T15:46:33.204Z"
   },
   {
    "duration": 127,
    "start_time": "2024-10-24T15:47:22.548Z"
   },
   {
    "duration": 276,
    "start_time": "2024-10-24T15:48:54.429Z"
   },
   {
    "duration": 126,
    "start_time": "2024-10-24T15:49:02.408Z"
   },
   {
    "duration": 903,
    "start_time": "2024-10-24T15:50:22.502Z"
   },
   {
    "duration": 15,
    "start_time": "2024-10-24T15:50:23.408Z"
   },
   {
    "duration": 19,
    "start_time": "2024-10-24T15:50:23.424Z"
   },
   {
    "duration": 10,
    "start_time": "2024-10-24T15:50:23.445Z"
   },
   {
    "duration": 3,
    "start_time": "2024-10-24T15:50:23.458Z"
   },
   {
    "duration": 5,
    "start_time": "2024-10-24T15:50:23.463Z"
   },
   {
    "duration": 3,
    "start_time": "2024-10-24T15:50:23.469Z"
   },
   {
    "duration": 9,
    "start_time": "2024-10-24T15:50:23.474Z"
   },
   {
    "duration": 12,
    "start_time": "2024-10-24T15:50:23.485Z"
   },
   {
    "duration": 5,
    "start_time": "2024-10-24T15:50:23.499Z"
   },
   {
    "duration": 6,
    "start_time": "2024-10-24T15:50:23.542Z"
   },
   {
    "duration": 3,
    "start_time": "2024-10-24T15:50:23.550Z"
   },
   {
    "duration": 8,
    "start_time": "2024-10-24T15:50:23.556Z"
   },
   {
    "duration": 8,
    "start_time": "2024-10-24T15:50:23.568Z"
   },
   {
    "duration": 183,
    "start_time": "2024-10-24T15:50:23.577Z"
   },
   {
    "duration": 32,
    "start_time": "2024-10-24T15:50:23.762Z"
   },
   {
    "duration": 6,
    "start_time": "2024-10-24T15:50:23.796Z"
   },
   {
    "duration": 4,
    "start_time": "2024-10-24T15:50:23.804Z"
   },
   {
    "duration": 54,
    "start_time": "2024-10-24T15:50:23.811Z"
   },
   {
    "duration": 20,
    "start_time": "2024-10-24T15:50:23.867Z"
   },
   {
    "duration": 110,
    "start_time": "2024-10-24T15:50:23.889Z"
   },
   {
    "duration": 9,
    "start_time": "2024-10-24T15:50:24.001Z"
   },
   {
    "duration": 33,
    "start_time": "2024-10-24T15:50:24.012Z"
   },
   {
    "duration": 134,
    "start_time": "2024-10-24T15:50:24.047Z"
   },
   {
    "duration": 447,
    "start_time": "2024-10-24T15:51:36.906Z"
   },
   {
    "duration": 77,
    "start_time": "2024-10-24T15:52:17.769Z"
   },
   {
    "duration": 10,
    "start_time": "2024-10-24T15:52:54.958Z"
   },
   {
    "duration": 27,
    "start_time": "2024-10-24T15:52:55.268Z"
   },
   {
    "duration": 7,
    "start_time": "2024-10-24T15:56:24.926Z"
   },
   {
    "duration": 97,
    "start_time": "2024-10-24T15:56:25.330Z"
   },
   {
    "duration": 17,
    "start_time": "2024-10-24T15:57:00.865Z"
   },
   {
    "duration": 98,
    "start_time": "2024-10-24T15:57:02.872Z"
   },
   {
    "duration": 10,
    "start_time": "2024-10-24T15:59:21.961Z"
   },
   {
    "duration": 41,
    "start_time": "2024-10-24T15:59:22.972Z"
   },
   {
    "duration": 19,
    "start_time": "2024-10-24T15:59:52.175Z"
   },
   {
    "duration": 98,
    "start_time": "2024-10-24T15:59:52.452Z"
   },
   {
    "duration": 10,
    "start_time": "2024-10-24T16:00:28.375Z"
   },
   {
    "duration": 22,
    "start_time": "2024-10-24T16:00:28.809Z"
   },
   {
    "duration": 274,
    "start_time": "2024-10-24T16:01:50.450Z"
   },
   {
    "duration": 911,
    "start_time": "2024-10-24T16:02:05.474Z"
   },
   {
    "duration": 16,
    "start_time": "2024-10-24T16:02:06.387Z"
   },
   {
    "duration": 10,
    "start_time": "2024-10-24T16:02:06.405Z"
   },
   {
    "duration": 9,
    "start_time": "2024-10-24T16:02:06.417Z"
   },
   {
    "duration": 3,
    "start_time": "2024-10-24T16:02:06.444Z"
   },
   {
    "duration": 5,
    "start_time": "2024-10-24T16:02:06.449Z"
   },
   {
    "duration": 4,
    "start_time": "2024-10-24T16:02:06.455Z"
   },
   {
    "duration": 10,
    "start_time": "2024-10-24T16:02:06.460Z"
   },
   {
    "duration": 12,
    "start_time": "2024-10-24T16:02:06.472Z"
   },
   {
    "duration": 7,
    "start_time": "2024-10-24T16:02:06.488Z"
   },
   {
    "duration": 6,
    "start_time": "2024-10-24T16:02:06.496Z"
   },
   {
    "duration": 3,
    "start_time": "2024-10-24T16:02:06.542Z"
   },
   {
    "duration": 9,
    "start_time": "2024-10-24T16:02:06.547Z"
   },
   {
    "duration": 8,
    "start_time": "2024-10-24T16:02:06.558Z"
   },
   {
    "duration": 176,
    "start_time": "2024-10-24T16:02:06.568Z"
   },
   {
    "duration": 32,
    "start_time": "2024-10-24T16:02:06.745Z"
   },
   {
    "duration": 7,
    "start_time": "2024-10-24T16:02:06.779Z"
   },
   {
    "duration": 5,
    "start_time": "2024-10-24T16:02:06.787Z"
   },
   {
    "duration": 55,
    "start_time": "2024-10-24T16:02:06.794Z"
   },
   {
    "duration": 20,
    "start_time": "2024-10-24T16:02:06.850Z"
   },
   {
    "duration": 105,
    "start_time": "2024-10-24T16:02:06.872Z"
   },
   {
    "duration": 10,
    "start_time": "2024-10-24T16:02:06.979Z"
   },
   {
    "duration": 20,
    "start_time": "2024-10-24T16:02:06.991Z"
   },
   {
    "duration": 148,
    "start_time": "2024-10-24T16:02:07.013Z"
   },
   {
    "duration": 130,
    "start_time": "2024-10-24T16:02:07.162Z"
   },
   {
    "duration": 136,
    "start_time": "2024-10-24T16:02:55.132Z"
   },
   {
    "duration": 129,
    "start_time": "2024-10-24T16:02:56.342Z"
   },
   {
    "duration": 125,
    "start_time": "2024-10-24T16:04:02.102Z"
   },
   {
    "duration": 255,
    "start_time": "2024-10-24T16:06:43.077Z"
   },
   {
    "duration": 927,
    "start_time": "2024-10-24T16:07:08.878Z"
   },
   {
    "duration": 16,
    "start_time": "2024-10-24T16:07:09.807Z"
   },
   {
    "duration": 24,
    "start_time": "2024-10-24T16:07:09.825Z"
   },
   {
    "duration": 11,
    "start_time": "2024-10-24T16:07:09.852Z"
   },
   {
    "duration": 3,
    "start_time": "2024-10-24T16:07:09.865Z"
   },
   {
    "duration": 5,
    "start_time": "2024-10-24T16:07:09.870Z"
   },
   {
    "duration": 3,
    "start_time": "2024-10-24T16:07:09.876Z"
   },
   {
    "duration": 10,
    "start_time": "2024-10-24T16:07:09.881Z"
   },
   {
    "duration": 14,
    "start_time": "2024-10-24T16:07:09.892Z"
   },
   {
    "duration": 6,
    "start_time": "2024-10-24T16:07:09.945Z"
   },
   {
    "duration": 6,
    "start_time": "2024-10-24T16:07:09.953Z"
   },
   {
    "duration": 3,
    "start_time": "2024-10-24T16:07:09.960Z"
   },
   {
    "duration": 8,
    "start_time": "2024-10-24T16:07:09.965Z"
   },
   {
    "duration": 8,
    "start_time": "2024-10-24T16:07:09.975Z"
   },
   {
    "duration": 191,
    "start_time": "2024-10-24T16:07:09.985Z"
   },
   {
    "duration": 32,
    "start_time": "2024-10-24T16:07:10.178Z"
   },
   {
    "duration": 6,
    "start_time": "2024-10-24T16:07:10.212Z"
   },
   {
    "duration": 4,
    "start_time": "2024-10-24T16:07:10.220Z"
   },
   {
    "duration": 33,
    "start_time": "2024-10-24T16:07:10.245Z"
   },
   {
    "duration": 19,
    "start_time": "2024-10-24T16:07:10.279Z"
   },
   {
    "duration": 112,
    "start_time": "2024-10-24T16:07:10.300Z"
   },
   {
    "duration": 9,
    "start_time": "2024-10-24T16:07:10.414Z"
   },
   {
    "duration": 35,
    "start_time": "2024-10-24T16:07:10.425Z"
   },
   {
    "duration": 145,
    "start_time": "2024-10-24T16:07:10.462Z"
   },
   {
    "duration": 134,
    "start_time": "2024-10-24T16:07:10.609Z"
   },
   {
    "duration": 32,
    "start_time": "2024-10-24T16:07:10.745Z"
   },
   {
    "duration": 3,
    "start_time": "2024-10-24T16:13:20.870Z"
   },
   {
    "duration": 32,
    "start_time": "2024-10-24T16:13:46.217Z"
   },
   {
    "duration": 222,
    "start_time": "2024-10-24T16:15:24.333Z"
   },
   {
    "duration": 31,
    "start_time": "2024-10-24T16:15:37.012Z"
   },
   {
    "duration": 19,
    "start_time": "2024-10-24T16:15:37.894Z"
   },
   {
    "duration": 91,
    "start_time": "2024-10-24T16:15:39.648Z"
   },
   {
    "duration": 25,
    "start_time": "2024-10-24T16:15:51.991Z"
   },
   {
    "duration": 10,
    "start_time": "2024-10-24T16:18:08.789Z"
   },
   {
    "duration": 17,
    "start_time": "2024-10-24T16:19:51.281Z"
   },
   {
    "duration": 28,
    "start_time": "2024-10-24T16:20:36.078Z"
   },
   {
    "duration": 3339,
    "start_time": "2024-10-24T16:20:43.554Z"
   },
   {
    "duration": 86,
    "start_time": "2024-10-24T16:24:03.446Z"
   },
   {
    "duration": 15,
    "start_time": "2024-10-24T16:26:45.030Z"
   },
   {
    "duration": 30,
    "start_time": "2024-10-24T16:27:08.043Z"
   },
   {
    "duration": 28,
    "start_time": "2024-10-24T16:27:35.093Z"
   },
   {
    "duration": 2991,
    "start_time": "2024-10-24T16:27:55.234Z"
   },
   {
    "duration": 79,
    "start_time": "2024-10-24T16:28:16.804Z"
   },
   {
    "duration": 112,
    "start_time": "2024-10-24T16:28:48.288Z"
   },
   {
    "duration": 56,
    "start_time": "2024-10-24T16:29:30.356Z"
   },
   {
    "duration": 157,
    "start_time": "2024-10-24T16:30:12.454Z"
   },
   {
    "duration": 11,
    "start_time": "2024-10-24T16:33:32.891Z"
   },
   {
    "duration": 986,
    "start_time": "2024-10-24T16:33:38.511Z"
   },
   {
    "duration": 24,
    "start_time": "2024-10-24T16:33:39.501Z"
   },
   {
    "duration": 20,
    "start_time": "2024-10-24T16:33:39.528Z"
   },
   {
    "duration": 12,
    "start_time": "2024-10-24T16:33:39.551Z"
   },
   {
    "duration": 4,
    "start_time": "2024-10-24T16:33:39.565Z"
   },
   {
    "duration": 9,
    "start_time": "2024-10-24T16:33:39.572Z"
   },
   {
    "duration": 4,
    "start_time": "2024-10-24T16:33:39.585Z"
   },
   {
    "duration": 11,
    "start_time": "2024-10-24T16:33:39.590Z"
   },
   {
    "duration": 47,
    "start_time": "2024-10-24T16:33:39.603Z"
   },
   {
    "duration": 8,
    "start_time": "2024-10-24T16:33:39.655Z"
   },
   {
    "duration": 6,
    "start_time": "2024-10-24T16:33:39.665Z"
   },
   {
    "duration": 3,
    "start_time": "2024-10-24T16:33:39.673Z"
   },
   {
    "duration": 9,
    "start_time": "2024-10-24T16:33:39.678Z"
   },
   {
    "duration": 12,
    "start_time": "2024-10-24T16:33:39.689Z"
   },
   {
    "duration": 209,
    "start_time": "2024-10-24T16:33:39.703Z"
   },
   {
    "duration": 41,
    "start_time": "2024-10-24T16:33:39.914Z"
   },
   {
    "duration": 7,
    "start_time": "2024-10-24T16:33:39.957Z"
   },
   {
    "duration": 6,
    "start_time": "2024-10-24T16:33:39.966Z"
   },
   {
    "duration": 31,
    "start_time": "2024-10-24T16:33:39.973Z"
   },
   {
    "duration": 3387,
    "start_time": "2024-10-24T16:33:40.006Z"
   },
   {
    "duration": 93,
    "start_time": "2024-10-24T16:33:43.395Z"
   },
   {
    "duration": 254,
    "start_time": "2024-10-24T16:33:43.490Z"
   },
   {
    "duration": 0,
    "start_time": "2024-10-24T16:33:43.746Z"
   },
   {
    "duration": 0,
    "start_time": "2024-10-24T16:33:43.748Z"
   },
   {
    "duration": 0,
    "start_time": "2024-10-24T16:33:43.749Z"
   },
   {
    "duration": 0,
    "start_time": "2024-10-24T16:33:43.751Z"
   },
   {
    "duration": 0,
    "start_time": "2024-10-24T16:33:43.752Z"
   },
   {
    "duration": 0,
    "start_time": "2024-10-24T16:33:43.754Z"
   },
   {
    "duration": 11,
    "start_time": "2024-10-24T16:34:39.055Z"
   },
   {
    "duration": 97,
    "start_time": "2024-10-24T16:34:40.168Z"
   },
   {
    "duration": 42,
    "start_time": "2024-10-24T16:34:41.373Z"
   },
   {
    "duration": 962,
    "start_time": "2024-10-24T16:35:18.846Z"
   },
   {
    "duration": 15,
    "start_time": "2024-10-24T16:35:19.811Z"
   },
   {
    "duration": 19,
    "start_time": "2024-10-24T16:35:19.828Z"
   },
   {
    "duration": 11,
    "start_time": "2024-10-24T16:35:19.848Z"
   },
   {
    "duration": 4,
    "start_time": "2024-10-24T16:35:19.862Z"
   },
   {
    "duration": 5,
    "start_time": "2024-10-24T16:35:19.867Z"
   },
   {
    "duration": 3,
    "start_time": "2024-10-24T16:35:19.874Z"
   },
   {
    "duration": 10,
    "start_time": "2024-10-24T16:35:19.879Z"
   },
   {
    "duration": 13,
    "start_time": "2024-10-24T16:35:19.891Z"
   },
   {
    "duration": 44,
    "start_time": "2024-10-24T16:35:19.905Z"
   },
   {
    "duration": 6,
    "start_time": "2024-10-24T16:35:19.951Z"
   },
   {
    "duration": 4,
    "start_time": "2024-10-24T16:35:19.958Z"
   },
   {
    "duration": 7,
    "start_time": "2024-10-24T16:35:19.964Z"
   },
   {
    "duration": 9,
    "start_time": "2024-10-24T16:35:19.975Z"
   },
   {
    "duration": 196,
    "start_time": "2024-10-24T16:35:19.986Z"
   },
   {
    "duration": 29,
    "start_time": "2024-10-24T16:35:20.184Z"
   },
   {
    "duration": 6,
    "start_time": "2024-10-24T16:35:20.215Z"
   },
   {
    "duration": 21,
    "start_time": "2024-10-24T16:35:20.223Z"
   },
   {
    "duration": 29,
    "start_time": "2024-10-24T16:35:20.246Z"
   },
   {
    "duration": 3185,
    "start_time": "2024-10-24T16:35:20.277Z"
   },
   {
    "duration": 89,
    "start_time": "2024-10-24T16:35:23.464Z"
   },
   {
    "duration": 306,
    "start_time": "2024-10-24T16:35:23.555Z"
   },
   {
    "duration": 0,
    "start_time": "2024-10-24T16:35:23.863Z"
   },
   {
    "duration": 0,
    "start_time": "2024-10-24T16:35:23.865Z"
   },
   {
    "duration": 0,
    "start_time": "2024-10-24T16:35:23.866Z"
   },
   {
    "duration": 0,
    "start_time": "2024-10-24T16:35:23.867Z"
   },
   {
    "duration": 0,
    "start_time": "2024-10-24T16:35:23.868Z"
   },
   {
    "duration": 0,
    "start_time": "2024-10-24T16:35:23.870Z"
   },
   {
    "duration": 20,
    "start_time": "2024-10-24T16:35:41.884Z"
   },
   {
    "duration": 324,
    "start_time": "2024-10-24T16:36:18.444Z"
   },
   {
    "duration": 347,
    "start_time": "2024-10-24T16:36:31.181Z"
   },
   {
    "duration": 23,
    "start_time": "2024-10-24T16:36:41.895Z"
   },
   {
    "duration": 377,
    "start_time": "2024-10-24T16:36:42.358Z"
   },
   {
    "duration": 15,
    "start_time": "2024-10-24T16:36:49.879Z"
   },
   {
    "duration": 294,
    "start_time": "2024-10-24T16:36:50.320Z"
   },
   {
    "duration": 211,
    "start_time": "2024-10-24T16:37:02.468Z"
   },
   {
    "duration": 87,
    "start_time": "2024-10-24T16:37:08.740Z"
   },
   {
    "duration": 277,
    "start_time": "2024-10-24T16:37:17.044Z"
   },
   {
    "duration": 16,
    "start_time": "2024-10-24T16:37:37.720Z"
   },
   {
    "duration": 10,
    "start_time": "2024-10-24T16:37:45.210Z"
   },
   {
    "duration": 64,
    "start_time": "2024-10-24T16:37:45.657Z"
   },
   {
    "duration": 10,
    "start_time": "2024-10-24T16:37:53.084Z"
   },
   {
    "duration": 78,
    "start_time": "2024-10-24T16:37:53.530Z"
   },
   {
    "duration": 9,
    "start_time": "2024-10-24T16:37:59.482Z"
   },
   {
    "duration": 74,
    "start_time": "2024-10-24T16:37:59.876Z"
   },
   {
    "duration": 10,
    "start_time": "2024-10-24T16:38:03.488Z"
   },
   {
    "duration": 68,
    "start_time": "2024-10-24T16:38:03.905Z"
   },
   {
    "duration": 10,
    "start_time": "2024-10-24T16:38:07.994Z"
   },
   {
    "duration": 62,
    "start_time": "2024-10-24T16:38:08.355Z"
   },
   {
    "duration": 11,
    "start_time": "2024-10-24T16:38:12.301Z"
   },
   {
    "duration": 57,
    "start_time": "2024-10-24T16:38:12.634Z"
   },
   {
    "duration": 10,
    "start_time": "2024-10-24T16:38:18.151Z"
   },
   {
    "duration": 63,
    "start_time": "2024-10-24T16:38:18.451Z"
   },
   {
    "duration": 124,
    "start_time": "2024-10-24T16:38:22.609Z"
   },
   {
    "duration": 196,
    "start_time": "2024-10-24T16:38:25.933Z"
   },
   {
    "duration": 32,
    "start_time": "2024-10-24T16:38:29.167Z"
   },
   {
    "duration": 10,
    "start_time": "2024-10-24T16:39:13.095Z"
   },
   {
    "duration": 60,
    "start_time": "2024-10-24T16:39:13.574Z"
   },
   {
    "duration": 10,
    "start_time": "2024-10-24T16:39:20.717Z"
   },
   {
    "duration": 63,
    "start_time": "2024-10-24T16:39:21.138Z"
   },
   {
    "duration": 10,
    "start_time": "2024-10-24T16:39:27.063Z"
   },
   {
    "duration": 62,
    "start_time": "2024-10-24T16:39:27.350Z"
   },
   {
    "duration": 9,
    "start_time": "2024-10-24T16:39:33.280Z"
   },
   {
    "duration": 65,
    "start_time": "2024-10-24T16:39:33.754Z"
   },
   {
    "duration": 10,
    "start_time": "2024-10-24T16:39:39.596Z"
   },
   {
    "duration": 64,
    "start_time": "2024-10-24T16:39:39.905Z"
   },
   {
    "duration": 10,
    "start_time": "2024-10-24T16:39:44.416Z"
   },
   {
    "duration": 63,
    "start_time": "2024-10-24T16:39:44.868Z"
   },
   {
    "duration": 4,
    "start_time": "2024-10-24T16:40:34.015Z"
   },
   {
    "duration": 954,
    "start_time": "2024-10-24T16:40:38.848Z"
   },
   {
    "duration": 16,
    "start_time": "2024-10-24T16:40:39.804Z"
   },
   {
    "duration": 10,
    "start_time": "2024-10-24T16:40:39.821Z"
   },
   {
    "duration": 10,
    "start_time": "2024-10-24T16:40:39.844Z"
   },
   {
    "duration": 5,
    "start_time": "2024-10-24T16:40:39.855Z"
   },
   {
    "duration": 5,
    "start_time": "2024-10-24T16:40:39.861Z"
   },
   {
    "duration": 2,
    "start_time": "2024-10-24T16:40:39.868Z"
   },
   {
    "duration": 9,
    "start_time": "2024-10-24T16:40:39.872Z"
   },
   {
    "duration": 13,
    "start_time": "2024-10-24T16:40:39.882Z"
   },
   {
    "duration": 6,
    "start_time": "2024-10-24T16:40:39.898Z"
   },
   {
    "duration": 6,
    "start_time": "2024-10-24T16:40:39.945Z"
   },
   {
    "duration": 4,
    "start_time": "2024-10-24T16:40:39.952Z"
   },
   {
    "duration": 7,
    "start_time": "2024-10-24T16:40:39.958Z"
   },
   {
    "duration": 8,
    "start_time": "2024-10-24T16:40:39.967Z"
   },
   {
    "duration": 192,
    "start_time": "2024-10-24T16:40:39.977Z"
   },
   {
    "duration": 29,
    "start_time": "2024-10-24T16:40:40.171Z"
   },
   {
    "duration": 6,
    "start_time": "2024-10-24T16:40:40.202Z"
   },
   {
    "duration": 4,
    "start_time": "2024-10-24T16:40:40.209Z"
   },
   {
    "duration": 53,
    "start_time": "2024-10-24T16:40:40.215Z"
   },
   {
    "duration": 3117,
    "start_time": "2024-10-24T16:40:40.270Z"
   },
   {
    "duration": 97,
    "start_time": "2024-10-24T16:40:43.388Z"
   },
   {
    "duration": 17,
    "start_time": "2024-10-24T16:40:43.487Z"
   },
   {
    "duration": 291,
    "start_time": "2024-10-24T16:40:43.505Z"
   },
   {
    "duration": 10,
    "start_time": "2024-10-24T16:40:43.798Z"
   },
   {
    "duration": 78,
    "start_time": "2024-10-24T16:40:43.809Z"
   },
   {
    "duration": 127,
    "start_time": "2024-10-24T16:40:43.888Z"
   },
   {
    "duration": 131,
    "start_time": "2024-10-24T16:40:44.017Z"
   },
   {
    "duration": 31,
    "start_time": "2024-10-24T16:40:44.153Z"
   },
   {
    "duration": 4,
    "start_time": "2024-10-24T16:41:04.227Z"
   },
   {
    "duration": 66,
    "start_time": "2024-10-24T16:41:17.715Z"
   },
   {
    "duration": 63,
    "start_time": "2024-10-24T16:42:02.525Z"
   },
   {
    "duration": 4,
    "start_time": "2024-10-24T16:42:12.767Z"
   },
   {
    "duration": 903,
    "start_time": "2024-10-24T16:42:17.288Z"
   },
   {
    "duration": 16,
    "start_time": "2024-10-24T16:42:18.193Z"
   },
   {
    "duration": 9,
    "start_time": "2024-10-24T16:42:18.211Z"
   },
   {
    "duration": 22,
    "start_time": "2024-10-24T16:42:18.223Z"
   },
   {
    "duration": 4,
    "start_time": "2024-10-24T16:42:18.246Z"
   },
   {
    "duration": 5,
    "start_time": "2024-10-24T16:42:18.252Z"
   },
   {
    "duration": 3,
    "start_time": "2024-10-24T16:42:18.259Z"
   },
   {
    "duration": 12,
    "start_time": "2024-10-24T16:42:18.263Z"
   },
   {
    "duration": 14,
    "start_time": "2024-10-24T16:42:18.277Z"
   },
   {
    "duration": 7,
    "start_time": "2024-10-24T16:42:18.295Z"
   },
   {
    "duration": 43,
    "start_time": "2024-10-24T16:42:18.303Z"
   },
   {
    "duration": 3,
    "start_time": "2024-10-24T16:42:18.348Z"
   },
   {
    "duration": 7,
    "start_time": "2024-10-24T16:42:18.353Z"
   },
   {
    "duration": 9,
    "start_time": "2024-10-24T16:42:18.362Z"
   },
   {
    "duration": 180,
    "start_time": "2024-10-24T16:42:18.372Z"
   },
   {
    "duration": 30,
    "start_time": "2024-10-24T16:42:18.554Z"
   },
   {
    "duration": 6,
    "start_time": "2024-10-24T16:42:18.586Z"
   },
   {
    "duration": 5,
    "start_time": "2024-10-24T16:42:18.593Z"
   },
   {
    "duration": 54,
    "start_time": "2024-10-24T16:42:18.600Z"
   },
   {
    "duration": 3097,
    "start_time": "2024-10-24T16:42:18.655Z"
   },
   {
    "duration": 95,
    "start_time": "2024-10-24T16:42:21.754Z"
   },
   {
    "duration": 19,
    "start_time": "2024-10-24T16:42:21.851Z"
   },
   {
    "duration": 289,
    "start_time": "2024-10-24T16:42:21.871Z"
   },
   {
    "duration": 9,
    "start_time": "2024-10-24T16:42:22.162Z"
   },
   {
    "duration": 73,
    "start_time": "2024-10-24T16:42:22.173Z"
   },
   {
    "duration": 128,
    "start_time": "2024-10-24T16:42:22.249Z"
   },
   {
    "duration": 135,
    "start_time": "2024-10-24T16:42:22.378Z"
   },
   {
    "duration": 40,
    "start_time": "2024-10-24T16:42:22.517Z"
   },
   {
    "duration": 361,
    "start_time": "2024-10-24T16:42:43.404Z"
   },
   {
    "duration": 177,
    "start_time": "2024-10-24T16:43:02.280Z"
   },
   {
    "duration": 182,
    "start_time": "2024-10-24T16:43:14.092Z"
   },
   {
    "duration": 87,
    "start_time": "2024-10-24T16:43:32.863Z"
   },
   {
    "duration": 155,
    "start_time": "2024-10-24T16:43:57.672Z"
   },
   {
    "duration": 186,
    "start_time": "2024-10-24T16:44:05.057Z"
   },
   {
    "duration": 92,
    "start_time": "2024-10-24T16:45:29.070Z"
   },
   {
    "duration": 19,
    "start_time": "2024-10-24T16:45:34.229Z"
   },
   {
    "duration": 297,
    "start_time": "2024-10-24T16:45:35.363Z"
   },
   {
    "duration": 10,
    "start_time": "2024-10-24T16:45:37.273Z"
   },
   {
    "duration": 63,
    "start_time": "2024-10-24T16:45:38.688Z"
   },
   {
    "duration": 9,
    "start_time": "2024-10-24T16:45:44.026Z"
   },
   {
    "duration": 59,
    "start_time": "2024-10-24T16:45:44.305Z"
   },
   {
    "duration": 9,
    "start_time": "2024-10-24T16:45:52.184Z"
   },
   {
    "duration": 67,
    "start_time": "2024-10-24T16:45:52.568Z"
   },
   {
    "duration": 138,
    "start_time": "2024-10-24T16:47:03.237Z"
   },
   {
    "duration": 16,
    "start_time": "2024-10-24T16:47:14.041Z"
   },
   {
    "duration": 463,
    "start_time": "2024-10-24T16:47:14.715Z"
   },
   {
    "duration": 11,
    "start_time": "2024-10-24T16:47:18.189Z"
   },
   {
    "duration": 95,
    "start_time": "2024-10-24T16:47:18.652Z"
   },
   {
    "duration": 162,
    "start_time": "2024-10-24T16:47:50.612Z"
   },
   {
    "duration": 18,
    "start_time": "2024-10-24T16:47:55.943Z"
   },
   {
    "duration": 483,
    "start_time": "2024-10-24T16:47:56.522Z"
   },
   {
    "duration": 10,
    "start_time": "2024-10-24T16:47:58.971Z"
   },
   {
    "duration": 100,
    "start_time": "2024-10-24T16:47:59.375Z"
   },
   {
    "duration": 176,
    "start_time": "2024-10-24T16:48:40.376Z"
   },
   {
    "duration": 15,
    "start_time": "2024-10-24T16:48:45.941Z"
   },
   {
    "duration": 555,
    "start_time": "2024-10-24T16:48:46.575Z"
   },
   {
    "duration": 10,
    "start_time": "2024-10-24T16:48:49.217Z"
   },
   {
    "duration": 115,
    "start_time": "2024-10-24T16:48:49.724Z"
   },
   {
    "duration": 10,
    "start_time": "2024-10-24T16:48:55.773Z"
   },
   {
    "duration": 106,
    "start_time": "2024-10-24T16:48:56.206Z"
   },
   {
    "duration": 9,
    "start_time": "2024-10-24T16:49:00.923Z"
   },
   {
    "duration": 123,
    "start_time": "2024-10-24T16:49:01.185Z"
   },
   {
    "duration": 148,
    "start_time": "2024-10-24T16:49:51.639Z"
   },
   {
    "duration": 17,
    "start_time": "2024-10-24T16:49:54.746Z"
   },
   {
    "duration": 484,
    "start_time": "2024-10-24T16:49:55.340Z"
   },
   {
    "duration": 10,
    "start_time": "2024-10-24T16:49:56.829Z"
   },
   {
    "duration": 107,
    "start_time": "2024-10-24T16:49:57.655Z"
   },
   {
    "duration": 10,
    "start_time": "2024-10-24T16:50:02.455Z"
   },
   {
    "duration": 100,
    "start_time": "2024-10-24T16:50:02.755Z"
   },
   {
    "duration": 9,
    "start_time": "2024-10-24T16:53:23.842Z"
   },
   {
    "duration": 62,
    "start_time": "2024-10-24T16:53:24.148Z"
   },
   {
    "duration": 10,
    "start_time": "2024-10-24T16:53:28.901Z"
   },
   {
    "duration": 135,
    "start_time": "2024-10-24T16:53:29.146Z"
   },
   {
    "duration": 11,
    "start_time": "2024-10-24T16:53:35.270Z"
   },
   {
    "duration": 105,
    "start_time": "2024-10-24T16:53:35.585Z"
   },
   {
    "duration": 25,
    "start_time": "2024-10-24T16:53:59.319Z"
   },
   {
    "duration": 561,
    "start_time": "2024-10-24T16:53:59.636Z"
   },
   {
    "duration": 21,
    "start_time": "2024-10-24T16:54:06.016Z"
   },
   {
    "duration": 664,
    "start_time": "2024-10-24T16:54:06.295Z"
   },
   {
    "duration": 18,
    "start_time": "2024-10-24T16:54:52.118Z"
   },
   {
    "duration": 680,
    "start_time": "2024-10-24T16:54:52.728Z"
   },
   {
    "duration": 11,
    "start_time": "2024-10-24T16:54:55.823Z"
   },
   {
    "duration": 101,
    "start_time": "2024-10-24T16:54:56.171Z"
   },
   {
    "duration": 240,
    "start_time": "2024-10-24T16:54:57.741Z"
   },
   {
    "duration": 249,
    "start_time": "2024-10-24T16:54:59.979Z"
   },
   {
    "duration": 151,
    "start_time": "2024-10-24T16:55:01.580Z"
   },
   {
    "duration": 18,
    "start_time": "2024-10-24T16:58:32.234Z"
   },
   {
    "duration": 49,
    "start_time": "2024-10-24T16:59:45.174Z"
   },
   {
    "duration": 863,
    "start_time": "2024-10-24T17:05:37.325Z"
   },
   {
    "duration": 16,
    "start_time": "2024-10-24T17:05:38.190Z"
   },
   {
    "duration": 10,
    "start_time": "2024-10-24T17:05:38.208Z"
   },
   {
    "duration": 24,
    "start_time": "2024-10-24T17:05:38.221Z"
   },
   {
    "duration": 5,
    "start_time": "2024-10-24T17:05:38.247Z"
   },
   {
    "duration": 5,
    "start_time": "2024-10-24T17:05:38.254Z"
   },
   {
    "duration": 3,
    "start_time": "2024-10-24T17:05:38.261Z"
   },
   {
    "duration": 10,
    "start_time": "2024-10-24T17:05:38.266Z"
   },
   {
    "duration": 13,
    "start_time": "2024-10-24T17:05:38.278Z"
   },
   {
    "duration": 6,
    "start_time": "2024-10-24T17:05:38.294Z"
   },
   {
    "duration": 41,
    "start_time": "2024-10-24T17:05:38.302Z"
   },
   {
    "duration": 3,
    "start_time": "2024-10-24T17:05:38.345Z"
   },
   {
    "duration": 165,
    "start_time": "2024-10-24T17:05:38.349Z"
   },
   {
    "duration": 240,
    "start_time": "2024-10-24T17:05:38.515Z"
   },
   {
    "duration": 0,
    "start_time": "2024-10-24T17:05:38.757Z"
   },
   {
    "duration": 0,
    "start_time": "2024-10-24T17:05:38.759Z"
   },
   {
    "duration": 0,
    "start_time": "2024-10-24T17:05:38.760Z"
   },
   {
    "duration": 0,
    "start_time": "2024-10-24T17:05:38.762Z"
   },
   {
    "duration": 0,
    "start_time": "2024-10-24T17:05:38.762Z"
   },
   {
    "duration": 0,
    "start_time": "2024-10-24T17:05:38.764Z"
   },
   {
    "duration": 0,
    "start_time": "2024-10-24T17:05:38.765Z"
   },
   {
    "duration": 0,
    "start_time": "2024-10-24T17:05:38.766Z"
   },
   {
    "duration": 0,
    "start_time": "2024-10-24T17:05:38.767Z"
   },
   {
    "duration": 0,
    "start_time": "2024-10-24T17:05:38.769Z"
   },
   {
    "duration": 0,
    "start_time": "2024-10-24T17:05:38.770Z"
   },
   {
    "duration": 0,
    "start_time": "2024-10-24T17:05:38.772Z"
   },
   {
    "duration": 0,
    "start_time": "2024-10-24T17:05:38.773Z"
   },
   {
    "duration": 0,
    "start_time": "2024-10-24T17:05:38.774Z"
   },
   {
    "duration": 0,
    "start_time": "2024-10-24T17:05:38.776Z"
   },
   {
    "duration": 31,
    "start_time": "2024-10-24T17:06:20.769Z"
   },
   {
    "duration": 946,
    "start_time": "2024-10-24T17:06:26.867Z"
   },
   {
    "duration": 15,
    "start_time": "2024-10-24T17:06:27.815Z"
   },
   {
    "duration": 19,
    "start_time": "2024-10-24T17:06:27.832Z"
   },
   {
    "duration": 12,
    "start_time": "2024-10-24T17:06:27.853Z"
   },
   {
    "duration": 4,
    "start_time": "2024-10-24T17:06:27.867Z"
   },
   {
    "duration": 6,
    "start_time": "2024-10-24T17:06:27.873Z"
   },
   {
    "duration": 4,
    "start_time": "2024-10-24T17:06:27.882Z"
   },
   {
    "duration": 11,
    "start_time": "2024-10-24T17:06:27.888Z"
   },
   {
    "duration": 48,
    "start_time": "2024-10-24T17:06:27.900Z"
   },
   {
    "duration": 6,
    "start_time": "2024-10-24T17:06:27.950Z"
   },
   {
    "duration": 6,
    "start_time": "2024-10-24T17:06:27.958Z"
   },
   {
    "duration": 3,
    "start_time": "2024-10-24T17:06:27.965Z"
   },
   {
    "duration": 199,
    "start_time": "2024-10-24T17:06:27.970Z"
   },
   {
    "duration": 32,
    "start_time": "2024-10-24T17:06:28.172Z"
   },
   {
    "duration": 6,
    "start_time": "2024-10-24T17:06:28.206Z"
   },
   {
    "duration": 6,
    "start_time": "2024-10-24T17:06:28.213Z"
   },
   {
    "duration": 34,
    "start_time": "2024-10-24T17:06:28.243Z"
   },
   {
    "duration": 246,
    "start_time": "2024-10-24T17:06:28.279Z"
   },
   {
    "duration": 0,
    "start_time": "2024-10-24T17:06:28.528Z"
   },
   {
    "duration": 0,
    "start_time": "2024-10-24T17:06:28.529Z"
   },
   {
    "duration": 0,
    "start_time": "2024-10-24T17:06:28.542Z"
   },
   {
    "duration": 0,
    "start_time": "2024-10-24T17:06:28.544Z"
   },
   {
    "duration": 0,
    "start_time": "2024-10-24T17:06:28.545Z"
   },
   {
    "duration": 0,
    "start_time": "2024-10-24T17:06:28.546Z"
   },
   {
    "duration": 0,
    "start_time": "2024-10-24T17:06:28.547Z"
   },
   {
    "duration": 0,
    "start_time": "2024-10-24T17:06:28.549Z"
   },
   {
    "duration": 0,
    "start_time": "2024-10-24T17:06:28.549Z"
   },
   {
    "duration": 0,
    "start_time": "2024-10-24T17:06:28.550Z"
   },
   {
    "duration": 0,
    "start_time": "2024-10-24T17:06:28.551Z"
   },
   {
    "duration": 3392,
    "start_time": "2024-10-24T17:06:53.192Z"
   },
   {
    "duration": 153,
    "start_time": "2024-10-24T17:06:59.993Z"
   },
   {
    "duration": 26,
    "start_time": "2024-10-24T17:07:03.737Z"
   },
   {
    "duration": 683,
    "start_time": "2024-10-24T17:07:04.890Z"
   },
   {
    "duration": 9,
    "start_time": "2024-10-24T17:07:09.538Z"
   },
   {
    "duration": 103,
    "start_time": "2024-10-24T17:07:10.586Z"
   },
   {
    "duration": 57,
    "start_time": "2024-10-24T17:07:12.255Z"
   },
   {
    "duration": 248,
    "start_time": "2024-10-24T17:07:15.275Z"
   },
   {
    "duration": 248,
    "start_time": "2024-10-24T17:07:16.725Z"
   },
   {
    "duration": 152,
    "start_time": "2024-10-24T17:07:17.747Z"
   },
   {
    "duration": 8,
    "start_time": "2024-10-24T17:07:18.744Z"
   },
   {
    "duration": 10,
    "start_time": "2024-10-24T17:07:19.465Z"
   },
   {
    "duration": 17,
    "start_time": "2024-10-24T17:16:29.885Z"
   },
   {
    "duration": 16,
    "start_time": "2024-10-24T17:17:16.400Z"
   },
   {
    "duration": 806,
    "start_time": "2024-10-24T17:17:33.596Z"
   },
   {
    "duration": 816,
    "start_time": "2024-10-24T17:18:06.956Z"
   },
   {
    "duration": 759,
    "start_time": "2024-10-24T17:20:26.580Z"
   },
   {
    "duration": 724,
    "start_time": "2024-10-24T17:21:25.908Z"
   },
   {
    "duration": 961,
    "start_time": "2024-10-24T17:25:19.254Z"
   },
   {
    "duration": 15,
    "start_time": "2024-10-24T17:25:20.218Z"
   },
   {
    "duration": 13,
    "start_time": "2024-10-24T17:25:20.235Z"
   },
   {
    "duration": 10,
    "start_time": "2024-10-24T17:25:20.252Z"
   },
   {
    "duration": 4,
    "start_time": "2024-10-24T17:25:20.264Z"
   },
   {
    "duration": 5,
    "start_time": "2024-10-24T17:25:20.270Z"
   },
   {
    "duration": 3,
    "start_time": "2024-10-24T17:25:20.277Z"
   },
   {
    "duration": 10,
    "start_time": "2024-10-24T17:25:20.281Z"
   },
   {
    "duration": 13,
    "start_time": "2024-10-24T17:25:20.293Z"
   },
   {
    "duration": 7,
    "start_time": "2024-10-24T17:25:20.346Z"
   },
   {
    "duration": 5,
    "start_time": "2024-10-24T17:25:20.354Z"
   },
   {
    "duration": 3,
    "start_time": "2024-10-24T17:25:20.361Z"
   },
   {
    "duration": 202,
    "start_time": "2024-10-24T17:25:20.365Z"
   },
   {
    "duration": 34,
    "start_time": "2024-10-24T17:25:20.569Z"
   },
   {
    "duration": 6,
    "start_time": "2024-10-24T17:25:20.605Z"
   },
   {
    "duration": 5,
    "start_time": "2024-10-24T17:25:20.612Z"
   },
   {
    "duration": 53,
    "start_time": "2024-10-24T17:25:20.619Z"
   },
   {
    "duration": 3391,
    "start_time": "2024-10-24T17:25:20.674Z"
   },
   {
    "duration": 165,
    "start_time": "2024-10-24T17:25:24.067Z"
   },
   {
    "duration": 30,
    "start_time": "2024-10-24T17:25:24.234Z"
   },
   {
    "duration": 680,
    "start_time": "2024-10-24T17:25:24.266Z"
   },
   {
    "duration": 8,
    "start_time": "2024-10-24T17:25:24.948Z"
   },
   {
    "duration": 115,
    "start_time": "2024-10-24T17:25:24.958Z"
   },
   {
    "duration": 40,
    "start_time": "2024-10-24T17:25:25.075Z"
   },
   {
    "duration": 837,
    "start_time": "2024-10-24T17:25:25.116Z"
   },
   {
    "duration": 821,
    "start_time": "2024-10-24T17:25:25.955Z"
   },
   {
    "duration": 734,
    "start_time": "2024-10-24T17:25:26.778Z"
   },
   {
    "duration": 722,
    "start_time": "2024-10-24T17:25:27.516Z"
   },
   {
    "duration": 8,
    "start_time": "2024-10-24T17:25:28.242Z"
   },
   {
    "duration": 9,
    "start_time": "2024-10-24T17:25:28.252Z"
   },
   {
    "duration": 12,
    "start_time": "2024-10-24T17:28:26.684Z"
   },
   {
    "duration": 14,
    "start_time": "2024-10-24T17:28:46.118Z"
   },
   {
    "duration": 254,
    "start_time": "2024-10-24T17:31:31.442Z"
   },
   {
    "duration": 263,
    "start_time": "2024-10-24T17:31:54.574Z"
   },
   {
    "duration": 371,
    "start_time": "2024-10-24T17:33:28.723Z"
   },
   {
    "duration": 151,
    "start_time": "2024-10-24T17:34:28.788Z"
   },
   {
    "duration": 726,
    "start_time": "2024-10-24T17:35:37.800Z"
   },
   {
    "duration": 719,
    "start_time": "2024-10-24T17:35:45.051Z"
   },
   {
    "duration": 257,
    "start_time": "2024-10-24T17:35:45.917Z"
   },
   {
    "duration": 274,
    "start_time": "2024-10-24T17:42:42.574Z"
   },
   {
    "duration": 278,
    "start_time": "2024-10-24T17:43:10.052Z"
   },
   {
    "duration": 267,
    "start_time": "2024-10-24T17:44:22.750Z"
   },
   {
    "duration": 944,
    "start_time": "2024-10-24T17:45:23.668Z"
   },
   {
    "duration": 16,
    "start_time": "2024-10-24T17:45:24.614Z"
   },
   {
    "duration": 14,
    "start_time": "2024-10-24T17:45:24.632Z"
   },
   {
    "duration": 9,
    "start_time": "2024-10-24T17:45:24.649Z"
   },
   {
    "duration": 4,
    "start_time": "2024-10-24T17:45:24.660Z"
   },
   {
    "duration": 5,
    "start_time": "2024-10-24T17:45:24.666Z"
   },
   {
    "duration": 3,
    "start_time": "2024-10-24T17:45:24.673Z"
   },
   {
    "duration": 9,
    "start_time": "2024-10-24T17:45:24.678Z"
   },
   {
    "duration": 15,
    "start_time": "2024-10-24T17:45:24.689Z"
   },
   {
    "duration": 7,
    "start_time": "2024-10-24T17:45:24.744Z"
   },
   {
    "duration": 6,
    "start_time": "2024-10-24T17:45:24.753Z"
   },
   {
    "duration": 3,
    "start_time": "2024-10-24T17:45:24.761Z"
   },
   {
    "duration": 193,
    "start_time": "2024-10-24T17:45:24.765Z"
   },
   {
    "duration": 33,
    "start_time": "2024-10-24T17:45:24.961Z"
   },
   {
    "duration": 7,
    "start_time": "2024-10-24T17:45:24.996Z"
   },
   {
    "duration": 4,
    "start_time": "2024-10-24T17:45:25.005Z"
   },
   {
    "duration": 49,
    "start_time": "2024-10-24T17:45:25.011Z"
   },
   {
    "duration": 3773,
    "start_time": "2024-10-24T17:45:25.063Z"
   },
   {
    "duration": 180,
    "start_time": "2024-10-24T17:45:28.838Z"
   },
   {
    "duration": 42,
    "start_time": "2024-10-24T17:45:29.021Z"
   },
   {
    "duration": 745,
    "start_time": "2024-10-24T17:45:29.065Z"
   },
   {
    "duration": 9,
    "start_time": "2024-10-24T17:45:29.812Z"
   },
   {
    "duration": 120,
    "start_time": "2024-10-24T17:45:29.823Z"
   },
   {
    "duration": 53,
    "start_time": "2024-10-24T17:45:29.945Z"
   },
   {
    "duration": 990,
    "start_time": "2024-10-24T17:45:29.999Z"
   },
   {
    "duration": 903,
    "start_time": "2024-10-24T17:45:30.991Z"
   },
   {
    "duration": 726,
    "start_time": "2024-10-24T17:45:31.896Z"
   },
   {
    "duration": 743,
    "start_time": "2024-10-24T17:45:32.626Z"
   },
   {
    "duration": 275,
    "start_time": "2024-10-24T17:45:33.371Z"
   }
  ],
  "kernelspec": {
   "display_name": "Python 3 (ipykernel)",
   "language": "python",
   "name": "python3"
  },
  "language_info": {
   "codemirror_mode": {
    "name": "ipython",
    "version": 3
   },
   "file_extension": ".py",
   "mimetype": "text/x-python",
   "name": "python",
   "nbconvert_exporter": "python",
   "pygments_lexer": "ipython3",
   "version": "3.9.19"
  },
  "toc": {
   "base_numbering": 1,
   "nav_menu": {},
   "number_sections": true,
   "sideBar": true,
   "skip_h1_title": true,
   "title_cell": "Table of Contents",
   "title_sidebar": "Contents",
   "toc_cell": false,
   "toc_position": {},
   "toc_section_display": true,
   "toc_window_display": false
  }
 },
 "nbformat": 4,
 "nbformat_minor": 2
}
