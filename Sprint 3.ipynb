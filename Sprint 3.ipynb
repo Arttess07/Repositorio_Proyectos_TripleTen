{
 "cells": [
  {
   "cell_type": "markdown",
   "id": "06128978",
   "metadata": {},
   "source": [
    "# ¡Hola, Arturo!  \n",
    "\n",
    "Mi nombre es Carlos Ortiz, soy code reviewer de TripleTen y voy a revisar el proyecto que acabas de desarrollar.\n",
    "\n",
    "Cuando vea un error la primera vez, lo señalaré. Deberás encontrarlo y arreglarlo. La intención es que te prepares para un espacio real de trabajo. En un trabajo, el líder de tu equipo hará lo mismo. Si no puedes solucionar el error, te daré más información en la próxima ocasión. \n",
    "\n",
    "Encontrarás mis comentarios más abajo - **por favor, no los muevas, no los modifiques ni los borres**.\n",
    "\n",
    "¿Cómo lo voy a hacer? Voy a leer detenidamente cada una de las implementaciones que has llevado a cabo para cumplir con lo solicitado. Verás los comentarios de esta forma:\n",
    "\n",
    "<div class=\"alert alert-block alert-success\">\n",
    "<b>Comentario del revisor</b> <a class=\"tocSkip\"></a>\n",
    "    \n",
    "Si todo está perfecto.\n",
    "</div>\n",
    "\n",
    "\n",
    "<div class=\"alert alert-block alert-warning\">\n",
    "<b>Comentario del revisor</b> <a class=\"tocSkip\"></a>\n",
    "    \n",
    "Si tu código está bien pero se puede mejorar o hay algún detalle que le hace falta.\n",
    "</div>\n",
    "\n",
    "\n",
    "<div class=\"alert alert-block alert-danger\">\n",
    "    \n",
    "<b>Comentario del revisor</b> <a class=\"tocSkip\"></a>\n",
    "    \n",
    "    \n",
    "Si de pronto hace falta algo o existe algún problema con tu código o conclusiones.\n",
    "</div>\n",
    "\n",
    "\n",
    "Puedes responderme de esta forma: \n",
    "\n",
    "\n",
    "<div class=\"alert alert-block alert-info\">\n",
    "<b>Respuesta del estudiante</b> <a class=\"tocSkip\"></a>\n",
    "</div>\n",
    "¡Empecemos!"
   ]
  },
  {
   "cell_type": "markdown",
   "id": "3Xg_RQfnafXz",
   "metadata": {
    "id": "3Xg_RQfnafXz"
   },
   "source": [
    "# ¡Llena ese carrito!"
   ]
  },
  {
   "cell_type": "markdown",
   "id": "mhIvmmkW414q",
   "metadata": {
    "id": "mhIvmmkW414q"
   },
   "source": [
    "# Introducción\n",
    "\n",
    "Instacart es una plataforma de entregas de comestibles donde la clientela puede registrar un pedido y hacer que se lo entreguen, similar a Uber Eats y Door Dash.\n",
    "El conjunto de datos que te hemos proporcionado tiene modificaciones del original. Redujimos el tamaño del conjunto para que tus cálculos se hicieran más rápido e introdujimos valores ausentes y duplicados. Tuvimos cuidado de conservar las distribuciones de los datos originales cuando hicimos los cambios.\n",
    "\n",
    "Debes completar tres pasos. Para cada uno de ellos, escribe una breve introducción que refleje con claridad cómo pretendes resolver cada paso, y escribe párrafos explicatorios que justifiquen tus decisiones al tiempo que avanzas en tu solución.  También escribe una conclusión que resuma tus hallazgos y elecciones.\n"
   ]
  },
  {
   "cell_type": "markdown",
   "id": "3MbyzpOQZ5Or",
   "metadata": {
    "id": "3MbyzpOQZ5Or"
   },
   "source": [
    "## Diccionario de datos\n",
    "\n",
    "Hay cinco tablas en el conjunto de datos, y tendrás que usarlas todas para hacer el preprocesamiento de datos y el análisis exploratorio de datos. A continuación se muestra un diccionario de datos que enumera las columnas de cada tabla y describe los datos que contienen.\n",
    "\n",
    "- `instacart_orders.csv`: cada fila corresponde a un pedido en la aplicación Instacart.\n",
    "    - `'order_id'`: número de ID que identifica de manera única cada pedido.\n",
    "    - `'user_id'`: número de ID que identifica de manera única la cuenta de cada cliente.\n",
    "    - `'order_number'`: el número de veces que este cliente ha hecho un pedido.\n",
    "    - `'order_dow'`: día de la semana en que se hizo el pedido (0 si es domingo).\n",
    "    - `'order_hour_of_day'`: hora del día en que se hizo el pedido.\n",
    "    - `'days_since_prior_order'`: número de días transcurridos desde que este cliente hizo su pedido anterior.\n",
    "- `products.csv`: cada fila corresponde a un producto único que pueden comprar los clientes.\n",
    "    - `'product_id'`: número ID que identifica de manera única cada producto.\n",
    "    - `'product_name'`: nombre del producto.\n",
    "    - `'aisle_id'`: número ID que identifica de manera única cada categoría de pasillo de víveres.\n",
    "    - `'department_id'`: número ID que identifica de manera única cada departamento de víveres.\n",
    "- `order_products.csv`: cada fila corresponde a un artículo pedido en un pedido.\n",
    "    - `'order_id'`: número de ID que identifica de manera única cada pedido.\n",
    "    - `'product_id'`: número ID que identifica de manera única cada producto.\n",
    "    - `'add_to_cart_order'`: el orden secuencial en el que se añadió cada artículo en el carrito.\n",
    "    - `'reordered'`: 0 si el cliente nunca ha pedido este producto antes, 1 si lo ha pedido.\n",
    "- `aisles.csv`\n",
    "    - `'aisle_id'`: número ID que identifica de manera única cada categoría de pasillo de víveres.\n",
    "    - `'aisle'`: nombre del pasillo.\n",
    "- `departments.csv`\n",
    "    - `'department_id'`: número ID que identifica de manera única cada departamento de víveres.\n",
    "    - `'department'`: nombre del departamento."
   ]
  },
  {
   "cell_type": "markdown",
   "id": "n3Ha_cNSZ8lK",
   "metadata": {
    "id": "n3Ha_cNSZ8lK"
   },
   "source": [
    "# Paso 1. Descripción de los datos\n",
    "\n",
    "Lee los archivos de datos (`/datasets/instacart_orders.csv`, `/datasets/products.csv`, `/datasets/aisles.csv`, `/datasets/departments.csv` y `/datasets/order_products.csv`) con `pd.read_csv()` usando los parámetros adecuados para leer los datos correctamente. Verifica la información para cada DataFrame creado.\n"
   ]
  },
  {
   "cell_type": "markdown",
   "id": "OmlQPLlyaAfR",
   "metadata": {
    "id": "OmlQPLlyaAfR"
   },
   "source": [
    "## Plan de solución\n",
    "\n",
    "Escribe aquí tu plan de solución para el Paso 1. Descripción de los datos."
   ]
  },
  {
   "cell_type": "markdown",
   "id": "e3877672",
   "metadata": {},
   "source": [
    "#Comentarios Estudiante - Plan de Solución\n",
    "\n",
    "La primero a realizar es extraer la información de los archivos CSV y comprobar como se ha guardado la información. Es necesario asegurarse que no haya datos faltantes para poder pensar como limpiar la información antes de utilizarla para el análisis. Para eso debemos important pandas y leer cada archivo por separando, guardando cada archivo CSV en un dataframe por separado.\n",
    "También es necesario ver que los datos se estén leyendo de la manera correcta y que están dividos por comas. De ser el caso contrario necesitamos usar el parámetro 'sep=' para leer la información de manera correcta."
   ]
  },
  {
   "cell_type": "code",
   "execution_count": 1,
   "id": "fbf1adab",
   "metadata": {
    "id": "fbf1adab"
   },
   "outputs": [],
   "source": [
    "import pandas as pd# importar librerías"
   ]
  },
  {
   "cell_type": "code",
   "execution_count": 2,
   "id": "ad36396d",
   "metadata": {
    "id": "ad36396d"
   },
   "outputs": [],
   "source": [
    "df_orders = pd.read_csv('/datasets/instacart_orders.csv', sep=';')\n",
    "df_products = pd.read_csv('/datasets/products.csv', sep=';')\n",
    "df_aisles = pd.read_csv('/datasets/aisles.csv', sep=';')\n",
    "df_departments = pd.read_csv('/datasets/departments.csv', sep=';')\n",
    "df_ord_prds = pd.read_csv('/datasets/order_products.csv', sep=';') # leer conjuntos de datos en los DataFrames"
   ]
  },
  {
   "cell_type": "markdown",
   "id": "c53ed1f9",
   "metadata": {},
   "source": [
    "<div class=\"alert alert-block alert-success\">\n",
    "<b>Comentario del revisor</b> <a class=\"tocSkip\"></a>\n",
    "    \n",
    "Buen trabajo con esta importación de datos y de librerías.\n",
    "</div>"
   ]
  },
  {
   "cell_type": "code",
   "execution_count": 3,
   "id": "ad6a1efa",
   "metadata": {
    "id": "ad6a1efa"
   },
   "outputs": [
    {
     "name": "stdout",
     "output_type": "stream",
     "text": [
      "<class 'pandas.core.frame.DataFrame'>\n",
      "RangeIndex: 478967 entries, 0 to 478966\n",
      "Data columns (total 6 columns):\n",
      " #   Column                  Non-Null Count   Dtype  \n",
      "---  ------                  --------------   -----  \n",
      " 0   order_id                478967 non-null  int64  \n",
      " 1   user_id                 478967 non-null  int64  \n",
      " 2   order_number            478967 non-null  int64  \n",
      " 3   order_dow               478967 non-null  int64  \n",
      " 4   order_hour_of_day       478967 non-null  int64  \n",
      " 5   days_since_prior_order  450148 non-null  float64\n",
      "dtypes: float64(1), int64(5)\n",
      "memory usage: 21.9 MB\n"
     ]
    }
   ],
   "source": [
    "df_orders.info() # mostrar información del DataFrame"
   ]
  },
  {
   "cell_type": "code",
   "execution_count": 4,
   "id": "5130e05e",
   "metadata": {
    "id": "5130e05e"
   },
   "outputs": [
    {
     "name": "stdout",
     "output_type": "stream",
     "text": [
      "<class 'pandas.core.frame.DataFrame'>\n",
      "RangeIndex: 49694 entries, 0 to 49693\n",
      "Data columns (total 4 columns):\n",
      " #   Column         Non-Null Count  Dtype \n",
      "---  ------         --------------  ----- \n",
      " 0   product_id     49694 non-null  int64 \n",
      " 1   product_name   48436 non-null  object\n",
      " 2   aisle_id       49694 non-null  int64 \n",
      " 3   department_id  49694 non-null  int64 \n",
      "dtypes: int64(3), object(1)\n",
      "memory usage: 1.5+ MB\n"
     ]
    }
   ],
   "source": [
    "df_products.info() # mostrar información del DataFrame"
   ]
  },
  {
   "cell_type": "code",
   "execution_count": 5,
   "id": "d8370c05",
   "metadata": {
    "id": "d8370c05"
   },
   "outputs": [
    {
     "name": "stdout",
     "output_type": "stream",
     "text": [
      "<class 'pandas.core.frame.DataFrame'>\n",
      "RangeIndex: 134 entries, 0 to 133\n",
      "Data columns (total 2 columns):\n",
      " #   Column    Non-Null Count  Dtype \n",
      "---  ------    --------------  ----- \n",
      " 0   aisle_id  134 non-null    int64 \n",
      " 1   aisle     134 non-null    object\n",
      "dtypes: int64(1), object(1)\n",
      "memory usage: 2.2+ KB\n"
     ]
    }
   ],
   "source": [
    "df_aisles.info() # mostrar información del DataFrame"
   ]
  },
  {
   "cell_type": "code",
   "execution_count": 6,
   "id": "59e2090f",
   "metadata": {
    "id": "59e2090f"
   },
   "outputs": [
    {
     "name": "stdout",
     "output_type": "stream",
     "text": [
      "<class 'pandas.core.frame.DataFrame'>\n",
      "RangeIndex: 21 entries, 0 to 20\n",
      "Data columns (total 2 columns):\n",
      " #   Column         Non-Null Count  Dtype \n",
      "---  ------         --------------  ----- \n",
      " 0   department_id  21 non-null     int64 \n",
      " 1   department     21 non-null     object\n",
      "dtypes: int64(1), object(1)\n",
      "memory usage: 464.0+ bytes\n"
     ]
    }
   ],
   "source": [
    "df_departments.info()# mostrar información del DataFrame"
   ]
  },
  {
   "cell_type": "code",
   "execution_count": 7,
   "id": "6fc81694",
   "metadata": {
    "id": "6fc81694"
   },
   "outputs": [
    {
     "name": "stdout",
     "output_type": "stream",
     "text": [
      "<class 'pandas.core.frame.DataFrame'>\n",
      "RangeIndex: 4545007 entries, 0 to 4545006\n",
      "Data columns (total 4 columns):\n",
      " #   Column             Dtype  \n",
      "---  ------             -----  \n",
      " 0   order_id           int64  \n",
      " 1   product_id         int64  \n",
      " 2   add_to_cart_order  float64\n",
      " 3   reordered          int64  \n",
      "dtypes: float64(1), int64(3)\n",
      "memory usage: 138.7 MB\n"
     ]
    }
   ],
   "source": [
    "df_ord_prds.info() # mostrar información del DataFrame"
   ]
  },
  {
   "cell_type": "markdown",
   "id": "t75BD19oaR5f",
   "metadata": {
    "id": "t75BD19oaR5f"
   },
   "source": [
    "## Conclusiones\n",
    "\n",
    "Escribe aquí tus conclusiones intermedias sobre el Paso 1. Descripción de los datos.\n"
   ]
  },
  {
   "cell_type": "markdown",
   "id": "19b6d20e",
   "metadata": {},
   "source": [
    "#Comentarios Estudiante - Conclusión 1\n",
    "\n",
    "Los datos en los archivos de CSV no están divididos por comas (,) sino que tienen una separación distinta por punto y coma (;). Además de exportar los archivos se debe de indicar en la función un parámetro de 'sep=' para poder dividir y trabajar con la información de manera correcta.\n",
    "Las bases de datos de 'orders' y 'products' tienen datos ausentes.\n",
    "Es necesario procesar estas bases antes de empezarlas a utilizar para nuestros análisis."
   ]
  },
  {
   "cell_type": "markdown",
   "id": "b803ed6a",
   "metadata": {},
   "source": [
    "<div class=\"alert alert-block alert-success\">\n",
    "<b>Comentario del revisor</b> <a class=\"tocSkip\"></a>\n",
    "    \n",
    "Has hecho bien con esta exploración inicial de los datos.\n",
    "</div>"
   ]
  },
  {
   "cell_type": "markdown",
   "id": "8RJHqxVmaVsF",
   "metadata": {
    "id": "8RJHqxVmaVsF"
   },
   "source": [
    "# Paso 2. Preprocesamiento de los datos\n",
    "\n",
    "Preprocesa los datos de la siguiente manera:\n",
    "\n",
    "- Verifica y corrige los tipos de datos (por ejemplo, asegúrate de que las columnas de ID sean números enteros).\n",
    "- Identifica y completa los valores ausentes.\n",
    "- Identifica y elimina los valores duplicados.\n",
    "\n",
    "Asegúrate de explicar qué tipos de valores ausentes y duplicados encontraste, cómo los completaste o eliminaste y por qué usaste esos métodos. ¿Por qué crees que estos valores ausentes y duplicados pueden haber estado presentes en el conjunto de datos?"
   ]
  },
  {
   "cell_type": "markdown",
   "id": "0b0a2ff0",
   "metadata": {},
   "source": [
    "#Comentarios Estudiante - Observaciones Paso 2\n",
    "\n",
    "Todas las bases de datos muestran que las columnas con IDs son tipos de datos 'int64', lo que significa que se leyeron los datos de la manera correcta y se les asignó el tipo de dato de número entero. En este caso no veo necesario cambiar el tipo de datos de los IDs a números enteros."
   ]
  },
  {
   "cell_type": "markdown",
   "id": "p6poABZQaZYb",
   "metadata": {
    "id": "p6poABZQaZYb"
   },
   "source": [
    "## Plan de solución\n",
    "\n",
    "Escribe aquí tu plan para el Paso 2. Preprocesamiento de los datos."
   ]
  },
  {
   "cell_type": "markdown",
   "id": "498c9346",
   "metadata": {},
   "source": [
    "1.- Ya que todos los datos en las columnas con ID son del tipo 'int64' no es necesario cambiar el tipo de datos para utilizar la información a futuro.\n",
    "\n",
    "2.- Es tiempo de encontrar y eliminar valores duplicados que puedan cambiar por completo el análisis de los datos. Es necesario procesar estos datos usando los método duplicated() y sum() para encontrar cuales datos están duplicados y la cantidad de datos duplicados. También utilizaré el método sort_values() para poder presentar la información de una manera más sencilla de leerse\n",
    "Despuñes de haber anañizado los datos duplicados los eliminaré usando el método drop_duplicates().\n",
    "\n",
    "3.- Finalmente es necesario procesar los valores ausentes para que no nos arroje un error nuestros análisis al usar funcione y fórmulas. Utilizaré el método fillna() para llenar valores asuentes con valores útiles para el análisis."
   ]
  },
  {
   "cell_type": "markdown",
   "id": "07357848-dc64-4156-9cc3-01ff4365226d",
   "metadata": {
    "id": "07357848-dc64-4156-9cc3-01ff4365226d"
   },
   "source": [
    "## Encuentra y elimina los valores duplicados (y describe cómo tomaste tus decisiones)."
   ]
  },
  {
   "cell_type": "markdown",
   "id": "f179f0a9",
   "metadata": {
    "id": "f179f0a9"
   },
   "source": [
    "### `orders` data frame"
   ]
  },
  {
   "cell_type": "code",
   "execution_count": 8,
   "id": "b99297a5-405a-463d-8535-9adc3da4ad74",
   "metadata": {
    "id": "b99297a5-405a-463d-8535-9adc3da4ad74"
   },
   "outputs": [
    {
     "data": {
      "text/html": [
       "<div>\n",
       "<style scoped>\n",
       "    .dataframe tbody tr th:only-of-type {\n",
       "        vertical-align: middle;\n",
       "    }\n",
       "\n",
       "    .dataframe tbody tr th {\n",
       "        vertical-align: top;\n",
       "    }\n",
       "\n",
       "    .dataframe thead th {\n",
       "        text-align: right;\n",
       "    }\n",
       "</style>\n",
       "<table border=\"1\" class=\"dataframe\">\n",
       "  <thead>\n",
       "    <tr style=\"text-align: right;\">\n",
       "      <th></th>\n",
       "      <th>order_id</th>\n",
       "      <th>user_id</th>\n",
       "      <th>order_number</th>\n",
       "      <th>order_dow</th>\n",
       "      <th>order_hour_of_day</th>\n",
       "      <th>days_since_prior_order</th>\n",
       "    </tr>\n",
       "  </thead>\n",
       "  <tbody>\n",
       "    <tr>\n",
       "      <th>354993</th>\n",
       "      <td>391768</td>\n",
       "      <td>57671</td>\n",
       "      <td>19</td>\n",
       "      <td>3</td>\n",
       "      <td>2</td>\n",
       "      <td>10.0</td>\n",
       "    </tr>\n",
       "    <tr>\n",
       "      <th>371905</th>\n",
       "      <td>391768</td>\n",
       "      <td>57671</td>\n",
       "      <td>19</td>\n",
       "      <td>3</td>\n",
       "      <td>2</td>\n",
       "      <td>10.0</td>\n",
       "    </tr>\n",
       "    <tr>\n",
       "      <th>119251</th>\n",
       "      <td>408114</td>\n",
       "      <td>68324</td>\n",
       "      <td>4</td>\n",
       "      <td>3</td>\n",
       "      <td>2</td>\n",
       "      <td>18.0</td>\n",
       "    </tr>\n",
       "    <tr>\n",
       "      <th>321100</th>\n",
       "      <td>408114</td>\n",
       "      <td>68324</td>\n",
       "      <td>4</td>\n",
       "      <td>3</td>\n",
       "      <td>2</td>\n",
       "      <td>18.0</td>\n",
       "    </tr>\n",
       "    <tr>\n",
       "      <th>394347</th>\n",
       "      <td>467134</td>\n",
       "      <td>63189</td>\n",
       "      <td>21</td>\n",
       "      <td>3</td>\n",
       "      <td>2</td>\n",
       "      <td>2.0</td>\n",
       "    </tr>\n",
       "    <tr>\n",
       "      <th>250626</th>\n",
       "      <td>467134</td>\n",
       "      <td>63189</td>\n",
       "      <td>21</td>\n",
       "      <td>3</td>\n",
       "      <td>2</td>\n",
       "      <td>2.0</td>\n",
       "    </tr>\n",
       "    <tr>\n",
       "      <th>99462</th>\n",
       "      <td>794638</td>\n",
       "      <td>50898</td>\n",
       "      <td>24</td>\n",
       "      <td>3</td>\n",
       "      <td>2</td>\n",
       "      <td>2.0</td>\n",
       "    </tr>\n",
       "    <tr>\n",
       "      <th>145574</th>\n",
       "      <td>794638</td>\n",
       "      <td>50898</td>\n",
       "      <td>24</td>\n",
       "      <td>3</td>\n",
       "      <td>2</td>\n",
       "      <td>2.0</td>\n",
       "    </tr>\n",
       "    <tr>\n",
       "      <th>311713</th>\n",
       "      <td>1021560</td>\n",
       "      <td>53767</td>\n",
       "      <td>3</td>\n",
       "      <td>3</td>\n",
       "      <td>2</td>\n",
       "      <td>9.0</td>\n",
       "    </tr>\n",
       "    <tr>\n",
       "      <th>242618</th>\n",
       "      <td>1021560</td>\n",
       "      <td>53767</td>\n",
       "      <td>3</td>\n",
       "      <td>3</td>\n",
       "      <td>2</td>\n",
       "      <td>9.0</td>\n",
       "    </tr>\n",
       "    <tr>\n",
       "      <th>164581</th>\n",
       "      <td>1112182</td>\n",
       "      <td>202304</td>\n",
       "      <td>84</td>\n",
       "      <td>3</td>\n",
       "      <td>2</td>\n",
       "      <td>6.0</td>\n",
       "    </tr>\n",
       "    <tr>\n",
       "      <th>273805</th>\n",
       "      <td>1112182</td>\n",
       "      <td>202304</td>\n",
       "      <td>84</td>\n",
       "      <td>3</td>\n",
       "      <td>2</td>\n",
       "      <td>6.0</td>\n",
       "    </tr>\n",
       "    <tr>\n",
       "      <th>314427</th>\n",
       "      <td>1286742</td>\n",
       "      <td>183220</td>\n",
       "      <td>48</td>\n",
       "      <td>3</td>\n",
       "      <td>2</td>\n",
       "      <td>4.0</td>\n",
       "    </tr>\n",
       "    <tr>\n",
       "      <th>411408</th>\n",
       "      <td>1286742</td>\n",
       "      <td>183220</td>\n",
       "      <td>48</td>\n",
       "      <td>3</td>\n",
       "      <td>2</td>\n",
       "      <td>4.0</td>\n",
       "    </tr>\n",
       "    <tr>\n",
       "      <th>266232</th>\n",
       "      <td>1782114</td>\n",
       "      <td>106752</td>\n",
       "      <td>1</td>\n",
       "      <td>3</td>\n",
       "      <td>2</td>\n",
       "      <td>NaN</td>\n",
       "    </tr>\n",
       "    <tr>\n",
       "      <th>200059</th>\n",
       "      <td>1782114</td>\n",
       "      <td>106752</td>\n",
       "      <td>1</td>\n",
       "      <td>3</td>\n",
       "      <td>2</td>\n",
       "      <td>NaN</td>\n",
       "    </tr>\n",
       "    <tr>\n",
       "      <th>230807</th>\n",
       "      <td>1918001</td>\n",
       "      <td>188546</td>\n",
       "      <td>14</td>\n",
       "      <td>3</td>\n",
       "      <td>2</td>\n",
       "      <td>16.0</td>\n",
       "    </tr>\n",
       "    <tr>\n",
       "      <th>30371</th>\n",
       "      <td>1918001</td>\n",
       "      <td>188546</td>\n",
       "      <td>14</td>\n",
       "      <td>3</td>\n",
       "      <td>2</td>\n",
       "      <td>16.0</td>\n",
       "    </tr>\n",
       "    <tr>\n",
       "      <th>257934</th>\n",
       "      <td>1919531</td>\n",
       "      <td>191501</td>\n",
       "      <td>32</td>\n",
       "      <td>3</td>\n",
       "      <td>2</td>\n",
       "      <td>7.0</td>\n",
       "    </tr>\n",
       "    <tr>\n",
       "      <th>323900</th>\n",
       "      <td>1919531</td>\n",
       "      <td>191501</td>\n",
       "      <td>32</td>\n",
       "      <td>3</td>\n",
       "      <td>2</td>\n",
       "      <td>7.0</td>\n",
       "    </tr>\n",
       "    <tr>\n",
       "      <th>441599</th>\n",
       "      <td>2125197</td>\n",
       "      <td>14050</td>\n",
       "      <td>48</td>\n",
       "      <td>3</td>\n",
       "      <td>2</td>\n",
       "      <td>3.0</td>\n",
       "    </tr>\n",
       "    <tr>\n",
       "      <th>204042</th>\n",
       "      <td>2125197</td>\n",
       "      <td>14050</td>\n",
       "      <td>48</td>\n",
       "      <td>3</td>\n",
       "      <td>2</td>\n",
       "      <td>3.0</td>\n",
       "    </tr>\n",
       "    <tr>\n",
       "      <th>223105</th>\n",
       "      <td>2160484</td>\n",
       "      <td>107525</td>\n",
       "      <td>16</td>\n",
       "      <td>3</td>\n",
       "      <td>2</td>\n",
       "      <td>30.0</td>\n",
       "    </tr>\n",
       "    <tr>\n",
       "      <th>215294</th>\n",
       "      <td>2160484</td>\n",
       "      <td>107525</td>\n",
       "      <td>16</td>\n",
       "      <td>3</td>\n",
       "      <td>2</td>\n",
       "      <td>30.0</td>\n",
       "    </tr>\n",
       "    <tr>\n",
       "      <th>324868</th>\n",
       "      <td>2232988</td>\n",
       "      <td>82565</td>\n",
       "      <td>1</td>\n",
       "      <td>3</td>\n",
       "      <td>2</td>\n",
       "      <td>NaN</td>\n",
       "    </tr>\n",
       "    <tr>\n",
       "      <th>345917</th>\n",
       "      <td>2232988</td>\n",
       "      <td>82565</td>\n",
       "      <td>1</td>\n",
       "      <td>3</td>\n",
       "      <td>2</td>\n",
       "      <td>NaN</td>\n",
       "    </tr>\n",
       "    <tr>\n",
       "      <th>415163</th>\n",
       "      <td>2282673</td>\n",
       "      <td>86751</td>\n",
       "      <td>49</td>\n",
       "      <td>3</td>\n",
       "      <td>2</td>\n",
       "      <td>2.0</td>\n",
       "    </tr>\n",
       "    <tr>\n",
       "      <th>259636</th>\n",
       "      <td>2282673</td>\n",
       "      <td>86751</td>\n",
       "      <td>49</td>\n",
       "      <td>3</td>\n",
       "      <td>2</td>\n",
       "      <td>2.0</td>\n",
       "    </tr>\n",
       "    <tr>\n",
       "      <th>142258</th>\n",
       "      <td>2845099</td>\n",
       "      <td>31189</td>\n",
       "      <td>11</td>\n",
       "      <td>3</td>\n",
       "      <td>2</td>\n",
       "      <td>7.0</td>\n",
       "    </tr>\n",
       "    <tr>\n",
       "      <th>284038</th>\n",
       "      <td>2845099</td>\n",
       "      <td>31189</td>\n",
       "      <td>11</td>\n",
       "      <td>3</td>\n",
       "      <td>2</td>\n",
       "      <td>7.0</td>\n",
       "    </tr>\n",
       "  </tbody>\n",
       "</table>\n",
       "</div>"
      ],
      "text/plain": [
       "        order_id  user_id  order_number  order_dow  order_hour_of_day  \\\n",
       "354993    391768    57671            19          3                  2   \n",
       "371905    391768    57671            19          3                  2   \n",
       "119251    408114    68324             4          3                  2   \n",
       "321100    408114    68324             4          3                  2   \n",
       "394347    467134    63189            21          3                  2   \n",
       "250626    467134    63189            21          3                  2   \n",
       "99462     794638    50898            24          3                  2   \n",
       "145574    794638    50898            24          3                  2   \n",
       "311713   1021560    53767             3          3                  2   \n",
       "242618   1021560    53767             3          3                  2   \n",
       "164581   1112182   202304            84          3                  2   \n",
       "273805   1112182   202304            84          3                  2   \n",
       "314427   1286742   183220            48          3                  2   \n",
       "411408   1286742   183220            48          3                  2   \n",
       "266232   1782114   106752             1          3                  2   \n",
       "200059   1782114   106752             1          3                  2   \n",
       "230807   1918001   188546            14          3                  2   \n",
       "30371    1918001   188546            14          3                  2   \n",
       "257934   1919531   191501            32          3                  2   \n",
       "323900   1919531   191501            32          3                  2   \n",
       "441599   2125197    14050            48          3                  2   \n",
       "204042   2125197    14050            48          3                  2   \n",
       "223105   2160484   107525            16          3                  2   \n",
       "215294   2160484   107525            16          3                  2   \n",
       "324868   2232988    82565             1          3                  2   \n",
       "345917   2232988    82565             1          3                  2   \n",
       "415163   2282673    86751            49          3                  2   \n",
       "259636   2282673    86751            49          3                  2   \n",
       "142258   2845099    31189            11          3                  2   \n",
       "284038   2845099    31189            11          3                  2   \n",
       "\n",
       "        days_since_prior_order  \n",
       "354993                    10.0  \n",
       "371905                    10.0  \n",
       "119251                    18.0  \n",
       "321100                    18.0  \n",
       "394347                     2.0  \n",
       "250626                     2.0  \n",
       "99462                      2.0  \n",
       "145574                     2.0  \n",
       "311713                     9.0  \n",
       "242618                     9.0  \n",
       "164581                     6.0  \n",
       "273805                     6.0  \n",
       "314427                     4.0  \n",
       "411408                     4.0  \n",
       "266232                     NaN  \n",
       "200059                     NaN  \n",
       "230807                    16.0  \n",
       "30371                     16.0  \n",
       "257934                     7.0  \n",
       "323900                     7.0  \n",
       "441599                     3.0  \n",
       "204042                     3.0  \n",
       "223105                    30.0  \n",
       "215294                    30.0  \n",
       "324868                     NaN  \n",
       "345917                     NaN  \n",
       "415163                     2.0  \n",
       "259636                     2.0  \n",
       "142258                     7.0  \n",
       "284038                     7.0  "
      ]
     },
     "metadata": {},
     "output_type": "display_data"
    },
    {
     "name": "stdout",
     "output_type": "stream",
     "text": [
      "\n",
      "Existen 15 filas duplicadas en la base 'df_orders'\n"
     ]
    }
   ],
   "source": [
    "df_orders_duplicated = df_orders[df_orders.duplicated(keep=False)].sort_values(by='order_id') # Revisa si hay pedidos duplicados\n",
    "display(df_orders_duplicated)\n",
    "print()\n",
    "print(f\"Existen {df_orders_duplicated.duplicated().sum()} filas duplicadas en la base 'df_orders'\")"
   ]
  },
  {
   "cell_type": "markdown",
   "id": "PEkwUX_gvt5A",
   "metadata": {
    "id": "PEkwUX_gvt5A"
   },
   "source": [
    "¿Tienes líneas duplicadas? Si sí, ¿qué tienen en común?"
   ]
  },
  {
   "cell_type": "markdown",
   "id": "7c160114",
   "metadata": {},
   "source": [
    "#Comentarios Estudiante 2.5.1\n",
    "\n",
    "Si existen varias líneas duplicads, las cuales todas se produjeron el día 3 que equivaldría a el miércoles a las 2 am. Al ser horario de 24 horas, sabemos que 2 equivale 2 AM.\n",
    "En este caso tenemos un total de 15 datos duplicados en la base de datos 'orders'."
   ]
  },
  {
   "cell_type": "code",
   "execution_count": 9,
   "id": "0f478344",
   "metadata": {},
   "outputs": [
    {
     "data": {
      "text/html": [
       "<div>\n",
       "<style scoped>\n",
       "    .dataframe tbody tr th:only-of-type {\n",
       "        vertical-align: middle;\n",
       "    }\n",
       "\n",
       "    .dataframe tbody tr th {\n",
       "        vertical-align: top;\n",
       "    }\n",
       "\n",
       "    .dataframe thead th {\n",
       "        text-align: right;\n",
       "    }\n",
       "</style>\n",
       "<table border=\"1\" class=\"dataframe\">\n",
       "  <thead>\n",
       "    <tr style=\"text-align: right;\">\n",
       "      <th></th>\n",
       "      <th>order_id</th>\n",
       "      <th>user_id</th>\n",
       "      <th>order_number</th>\n",
       "      <th>order_dow</th>\n",
       "      <th>order_hour_of_day</th>\n",
       "      <th>days_since_prior_order</th>\n",
       "    </tr>\n",
       "  </thead>\n",
       "  <tbody>\n",
       "    <tr>\n",
       "      <th>452265</th>\n",
       "      <td>191</td>\n",
       "      <td>176417</td>\n",
       "      <td>44</td>\n",
       "      <td>3</td>\n",
       "      <td>2</td>\n",
       "      <td>6.0</td>\n",
       "    </tr>\n",
       "    <tr>\n",
       "      <th>468324</th>\n",
       "      <td>222962</td>\n",
       "      <td>54979</td>\n",
       "      <td>59</td>\n",
       "      <td>3</td>\n",
       "      <td>2</td>\n",
       "      <td>3.0</td>\n",
       "    </tr>\n",
       "    <tr>\n",
       "      <th>247867</th>\n",
       "      <td>238782</td>\n",
       "      <td>196224</td>\n",
       "      <td>6</td>\n",
       "      <td>3</td>\n",
       "      <td>2</td>\n",
       "      <td>3.0</td>\n",
       "    </tr>\n",
       "    <tr>\n",
       "      <th>417106</th>\n",
       "      <td>248760</td>\n",
       "      <td>204961</td>\n",
       "      <td>25</td>\n",
       "      <td>3</td>\n",
       "      <td>2</td>\n",
       "      <td>15.0</td>\n",
       "    </tr>\n",
       "    <tr>\n",
       "      <th>328565</th>\n",
       "      <td>264348</td>\n",
       "      <td>34806</td>\n",
       "      <td>6</td>\n",
       "      <td>3</td>\n",
       "      <td>2</td>\n",
       "      <td>5.0</td>\n",
       "    </tr>\n",
       "    <tr>\n",
       "      <th>...</th>\n",
       "      <td>...</td>\n",
       "      <td>...</td>\n",
       "      <td>...</td>\n",
       "      <td>...</td>\n",
       "      <td>...</td>\n",
       "      <td>...</td>\n",
       "    </tr>\n",
       "    <tr>\n",
       "      <th>97378</th>\n",
       "      <td>3226444</td>\n",
       "      <td>149996</td>\n",
       "      <td>3</td>\n",
       "      <td>3</td>\n",
       "      <td>2</td>\n",
       "      <td>23.0</td>\n",
       "    </tr>\n",
       "    <tr>\n",
       "      <th>416198</th>\n",
       "      <td>3275652</td>\n",
       "      <td>169225</td>\n",
       "      <td>7</td>\n",
       "      <td>3</td>\n",
       "      <td>2</td>\n",
       "      <td>30.0</td>\n",
       "    </tr>\n",
       "    <tr>\n",
       "      <th>415975</th>\n",
       "      <td>3286161</td>\n",
       "      <td>77320</td>\n",
       "      <td>9</td>\n",
       "      <td>3</td>\n",
       "      <td>2</td>\n",
       "      <td>8.0</td>\n",
       "    </tr>\n",
       "    <tr>\n",
       "      <th>457013</th>\n",
       "      <td>3384021</td>\n",
       "      <td>14881</td>\n",
       "      <td>6</td>\n",
       "      <td>3</td>\n",
       "      <td>2</td>\n",
       "      <td>30.0</td>\n",
       "    </tr>\n",
       "    <tr>\n",
       "      <th>178465</th>\n",
       "      <td>3389820</td>\n",
       "      <td>21703</td>\n",
       "      <td>2</td>\n",
       "      <td>3</td>\n",
       "      <td>2</td>\n",
       "      <td>11.0</td>\n",
       "    </tr>\n",
       "  </tbody>\n",
       "</table>\n",
       "<p>121 rows × 6 columns</p>\n",
       "</div>"
      ],
      "text/plain": [
       "        order_id  user_id  order_number  order_dow  order_hour_of_day  \\\n",
       "452265       191   176417            44          3                  2   \n",
       "468324    222962    54979            59          3                  2   \n",
       "247867    238782   196224             6          3                  2   \n",
       "417106    248760   204961            25          3                  2   \n",
       "328565    264348    34806             6          3                  2   \n",
       "...          ...      ...           ...        ...                ...   \n",
       "97378    3226444   149996             3          3                  2   \n",
       "416198   3275652   169225             7          3                  2   \n",
       "415975   3286161    77320             9          3                  2   \n",
       "457013   3384021    14881             6          3                  2   \n",
       "178465   3389820    21703             2          3                  2   \n",
       "\n",
       "        days_since_prior_order  \n",
       "452265                     6.0  \n",
       "468324                     3.0  \n",
       "247867                     3.0  \n",
       "417106                    15.0  \n",
       "328565                     5.0  \n",
       "...                        ...  \n",
       "97378                     23.0  \n",
       "416198                    30.0  \n",
       "415975                     8.0  \n",
       "457013                    30.0  \n",
       "178465                    11.0  \n",
       "\n",
       "[121 rows x 6 columns]"
      ]
     },
     "metadata": {},
     "output_type": "display_data"
    },
    {
     "name": "stdout",
     "output_type": "stream",
     "text": [
      "Se registró un total de 121 ordenes el día miércoles a las 2AM\n"
     ]
    }
   ],
   "source": [
    "df_orders_wed_two = df_orders[(df_orders['order_dow'] == 3) & (df_orders['order_hour_of_day'] == 2)].sort_values(by='order_id')\n",
    "display(df_orders_wed_two.sort_values(by='order_id'))\n",
    "#Basándote en tus hallazgos.\n",
    "print(f\"Se registró un total de {df_orders_wed_two['order_number'].count()} ordenes el día miércoles a las 2AM\")\n",
    "#Verifica todos los pedidos que se hicieron el miércoles a las 2:00 a.m."
   ]
  },
  {
   "cell_type": "code",
   "execution_count": 10,
   "id": "cb6294e8",
   "metadata": {},
   "outputs": [
    {
     "data": {
      "text/html": [
       "<div>\n",
       "<style scoped>\n",
       "    .dataframe tbody tr th:only-of-type {\n",
       "        vertical-align: middle;\n",
       "    }\n",
       "\n",
       "    .dataframe tbody tr th {\n",
       "        vertical-align: top;\n",
       "    }\n",
       "\n",
       "    .dataframe thead th {\n",
       "        text-align: right;\n",
       "    }\n",
       "</style>\n",
       "<table border=\"1\" class=\"dataframe\">\n",
       "  <thead>\n",
       "    <tr style=\"text-align: right;\">\n",
       "      <th></th>\n",
       "      <th>order_id</th>\n",
       "      <th>user_id</th>\n",
       "      <th>order_number</th>\n",
       "      <th>order_dow</th>\n",
       "      <th>order_hour_of_day</th>\n",
       "      <th>days_since_prior_order</th>\n",
       "    </tr>\n",
       "  </thead>\n",
       "  <tbody>\n",
       "    <tr>\n",
       "      <th>354993</th>\n",
       "      <td>391768</td>\n",
       "      <td>57671</td>\n",
       "      <td>19</td>\n",
       "      <td>3</td>\n",
       "      <td>2</td>\n",
       "      <td>10.0</td>\n",
       "    </tr>\n",
       "    <tr>\n",
       "      <th>371905</th>\n",
       "      <td>391768</td>\n",
       "      <td>57671</td>\n",
       "      <td>19</td>\n",
       "      <td>3</td>\n",
       "      <td>2</td>\n",
       "      <td>10.0</td>\n",
       "    </tr>\n",
       "    <tr>\n",
       "      <th>321100</th>\n",
       "      <td>408114</td>\n",
       "      <td>68324</td>\n",
       "      <td>4</td>\n",
       "      <td>3</td>\n",
       "      <td>2</td>\n",
       "      <td>18.0</td>\n",
       "    </tr>\n",
       "    <tr>\n",
       "      <th>119251</th>\n",
       "      <td>408114</td>\n",
       "      <td>68324</td>\n",
       "      <td>4</td>\n",
       "      <td>3</td>\n",
       "      <td>2</td>\n",
       "      <td>18.0</td>\n",
       "    </tr>\n",
       "    <tr>\n",
       "      <th>394347</th>\n",
       "      <td>467134</td>\n",
       "      <td>63189</td>\n",
       "      <td>21</td>\n",
       "      <td>3</td>\n",
       "      <td>2</td>\n",
       "      <td>2.0</td>\n",
       "    </tr>\n",
       "    <tr>\n",
       "      <th>250626</th>\n",
       "      <td>467134</td>\n",
       "      <td>63189</td>\n",
       "      <td>21</td>\n",
       "      <td>3</td>\n",
       "      <td>2</td>\n",
       "      <td>2.0</td>\n",
       "    </tr>\n",
       "    <tr>\n",
       "      <th>145574</th>\n",
       "      <td>794638</td>\n",
       "      <td>50898</td>\n",
       "      <td>24</td>\n",
       "      <td>3</td>\n",
       "      <td>2</td>\n",
       "      <td>2.0</td>\n",
       "    </tr>\n",
       "    <tr>\n",
       "      <th>99462</th>\n",
       "      <td>794638</td>\n",
       "      <td>50898</td>\n",
       "      <td>24</td>\n",
       "      <td>3</td>\n",
       "      <td>2</td>\n",
       "      <td>2.0</td>\n",
       "    </tr>\n",
       "    <tr>\n",
       "      <th>242618</th>\n",
       "      <td>1021560</td>\n",
       "      <td>53767</td>\n",
       "      <td>3</td>\n",
       "      <td>3</td>\n",
       "      <td>2</td>\n",
       "      <td>9.0</td>\n",
       "    </tr>\n",
       "    <tr>\n",
       "      <th>311713</th>\n",
       "      <td>1021560</td>\n",
       "      <td>53767</td>\n",
       "      <td>3</td>\n",
       "      <td>3</td>\n",
       "      <td>2</td>\n",
       "      <td>9.0</td>\n",
       "    </tr>\n",
       "    <tr>\n",
       "      <th>273805</th>\n",
       "      <td>1112182</td>\n",
       "      <td>202304</td>\n",
       "      <td>84</td>\n",
       "      <td>3</td>\n",
       "      <td>2</td>\n",
       "      <td>6.0</td>\n",
       "    </tr>\n",
       "    <tr>\n",
       "      <th>164581</th>\n",
       "      <td>1112182</td>\n",
       "      <td>202304</td>\n",
       "      <td>84</td>\n",
       "      <td>3</td>\n",
       "      <td>2</td>\n",
       "      <td>6.0</td>\n",
       "    </tr>\n",
       "    <tr>\n",
       "      <th>314427</th>\n",
       "      <td>1286742</td>\n",
       "      <td>183220</td>\n",
       "      <td>48</td>\n",
       "      <td>3</td>\n",
       "      <td>2</td>\n",
       "      <td>4.0</td>\n",
       "    </tr>\n",
       "    <tr>\n",
       "      <th>411408</th>\n",
       "      <td>1286742</td>\n",
       "      <td>183220</td>\n",
       "      <td>48</td>\n",
       "      <td>3</td>\n",
       "      <td>2</td>\n",
       "      <td>4.0</td>\n",
       "    </tr>\n",
       "    <tr>\n",
       "      <th>200059</th>\n",
       "      <td>1782114</td>\n",
       "      <td>106752</td>\n",
       "      <td>1</td>\n",
       "      <td>3</td>\n",
       "      <td>2</td>\n",
       "      <td>NaN</td>\n",
       "    </tr>\n",
       "    <tr>\n",
       "      <th>266232</th>\n",
       "      <td>1782114</td>\n",
       "      <td>106752</td>\n",
       "      <td>1</td>\n",
       "      <td>3</td>\n",
       "      <td>2</td>\n",
       "      <td>NaN</td>\n",
       "    </tr>\n",
       "    <tr>\n",
       "      <th>30371</th>\n",
       "      <td>1918001</td>\n",
       "      <td>188546</td>\n",
       "      <td>14</td>\n",
       "      <td>3</td>\n",
       "      <td>2</td>\n",
       "      <td>16.0</td>\n",
       "    </tr>\n",
       "    <tr>\n",
       "      <th>230807</th>\n",
       "      <td>1918001</td>\n",
       "      <td>188546</td>\n",
       "      <td>14</td>\n",
       "      <td>3</td>\n",
       "      <td>2</td>\n",
       "      <td>16.0</td>\n",
       "    </tr>\n",
       "    <tr>\n",
       "      <th>323900</th>\n",
       "      <td>1919531</td>\n",
       "      <td>191501</td>\n",
       "      <td>32</td>\n",
       "      <td>3</td>\n",
       "      <td>2</td>\n",
       "      <td>7.0</td>\n",
       "    </tr>\n",
       "    <tr>\n",
       "      <th>257934</th>\n",
       "      <td>1919531</td>\n",
       "      <td>191501</td>\n",
       "      <td>32</td>\n",
       "      <td>3</td>\n",
       "      <td>2</td>\n",
       "      <td>7.0</td>\n",
       "    </tr>\n",
       "    <tr>\n",
       "      <th>204042</th>\n",
       "      <td>2125197</td>\n",
       "      <td>14050</td>\n",
       "      <td>48</td>\n",
       "      <td>3</td>\n",
       "      <td>2</td>\n",
       "      <td>3.0</td>\n",
       "    </tr>\n",
       "    <tr>\n",
       "      <th>441599</th>\n",
       "      <td>2125197</td>\n",
       "      <td>14050</td>\n",
       "      <td>48</td>\n",
       "      <td>3</td>\n",
       "      <td>2</td>\n",
       "      <td>3.0</td>\n",
       "    </tr>\n",
       "    <tr>\n",
       "      <th>215294</th>\n",
       "      <td>2160484</td>\n",
       "      <td>107525</td>\n",
       "      <td>16</td>\n",
       "      <td>3</td>\n",
       "      <td>2</td>\n",
       "      <td>30.0</td>\n",
       "    </tr>\n",
       "    <tr>\n",
       "      <th>223105</th>\n",
       "      <td>2160484</td>\n",
       "      <td>107525</td>\n",
       "      <td>16</td>\n",
       "      <td>3</td>\n",
       "      <td>2</td>\n",
       "      <td>30.0</td>\n",
       "    </tr>\n",
       "    <tr>\n",
       "      <th>324868</th>\n",
       "      <td>2232988</td>\n",
       "      <td>82565</td>\n",
       "      <td>1</td>\n",
       "      <td>3</td>\n",
       "      <td>2</td>\n",
       "      <td>NaN</td>\n",
       "    </tr>\n",
       "    <tr>\n",
       "      <th>345917</th>\n",
       "      <td>2232988</td>\n",
       "      <td>82565</td>\n",
       "      <td>1</td>\n",
       "      <td>3</td>\n",
       "      <td>2</td>\n",
       "      <td>NaN</td>\n",
       "    </tr>\n",
       "    <tr>\n",
       "      <th>415163</th>\n",
       "      <td>2282673</td>\n",
       "      <td>86751</td>\n",
       "      <td>49</td>\n",
       "      <td>3</td>\n",
       "      <td>2</td>\n",
       "      <td>2.0</td>\n",
       "    </tr>\n",
       "    <tr>\n",
       "      <th>259636</th>\n",
       "      <td>2282673</td>\n",
       "      <td>86751</td>\n",
       "      <td>49</td>\n",
       "      <td>3</td>\n",
       "      <td>2</td>\n",
       "      <td>2.0</td>\n",
       "    </tr>\n",
       "    <tr>\n",
       "      <th>284038</th>\n",
       "      <td>2845099</td>\n",
       "      <td>31189</td>\n",
       "      <td>11</td>\n",
       "      <td>3</td>\n",
       "      <td>2</td>\n",
       "      <td>7.0</td>\n",
       "    </tr>\n",
       "    <tr>\n",
       "      <th>142258</th>\n",
       "      <td>2845099</td>\n",
       "      <td>31189</td>\n",
       "      <td>11</td>\n",
       "      <td>3</td>\n",
       "      <td>2</td>\n",
       "      <td>7.0</td>\n",
       "    </tr>\n",
       "  </tbody>\n",
       "</table>\n",
       "</div>"
      ],
      "text/plain": [
       "        order_id  user_id  order_number  order_dow  order_hour_of_day  \\\n",
       "354993    391768    57671            19          3                  2   \n",
       "371905    391768    57671            19          3                  2   \n",
       "321100    408114    68324             4          3                  2   \n",
       "119251    408114    68324             4          3                  2   \n",
       "394347    467134    63189            21          3                  2   \n",
       "250626    467134    63189            21          3                  2   \n",
       "145574    794638    50898            24          3                  2   \n",
       "99462     794638    50898            24          3                  2   \n",
       "242618   1021560    53767             3          3                  2   \n",
       "311713   1021560    53767             3          3                  2   \n",
       "273805   1112182   202304            84          3                  2   \n",
       "164581   1112182   202304            84          3                  2   \n",
       "314427   1286742   183220            48          3                  2   \n",
       "411408   1286742   183220            48          3                  2   \n",
       "200059   1782114   106752             1          3                  2   \n",
       "266232   1782114   106752             1          3                  2   \n",
       "30371    1918001   188546            14          3                  2   \n",
       "230807   1918001   188546            14          3                  2   \n",
       "323900   1919531   191501            32          3                  2   \n",
       "257934   1919531   191501            32          3                  2   \n",
       "204042   2125197    14050            48          3                  2   \n",
       "441599   2125197    14050            48          3                  2   \n",
       "215294   2160484   107525            16          3                  2   \n",
       "223105   2160484   107525            16          3                  2   \n",
       "324868   2232988    82565             1          3                  2   \n",
       "345917   2232988    82565             1          3                  2   \n",
       "415163   2282673    86751            49          3                  2   \n",
       "259636   2282673    86751            49          3                  2   \n",
       "284038   2845099    31189            11          3                  2   \n",
       "142258   2845099    31189            11          3                  2   \n",
       "\n",
       "        days_since_prior_order  \n",
       "354993                    10.0  \n",
       "371905                    10.0  \n",
       "321100                    18.0  \n",
       "119251                    18.0  \n",
       "394347                     2.0  \n",
       "250626                     2.0  \n",
       "145574                     2.0  \n",
       "99462                      2.0  \n",
       "242618                     9.0  \n",
       "311713                     9.0  \n",
       "273805                     6.0  \n",
       "164581                     6.0  \n",
       "314427                     4.0  \n",
       "411408                     4.0  \n",
       "200059                     NaN  \n",
       "266232                     NaN  \n",
       "30371                     16.0  \n",
       "230807                    16.0  \n",
       "323900                     7.0  \n",
       "257934                     7.0  \n",
       "204042                     3.0  \n",
       "441599                     3.0  \n",
       "215294                    30.0  \n",
       "223105                    30.0  \n",
       "324868                     NaN  \n",
       "345917                     NaN  \n",
       "415163                     2.0  \n",
       "259636                     2.0  \n",
       "284038                     7.0  \n",
       "142258                     7.0  "
      ]
     },
     "metadata": {},
     "output_type": "display_data"
    },
    {
     "name": "stdout",
     "output_type": "stream",
     "text": [
      "\n",
      "Existen 15 ordenes duplicadas el día miércoles a las 2AM\n"
     ]
    }
   ],
   "source": [
    "df_orders_wed_two_duplicated = df_orders_wed_two[df_orders_wed_two.duplicated(keep=False)].sort_values(by='order_id')\n",
    "display(df_orders_wed_two_duplicated)\n",
    "print()\n",
    "print(f\"Existen {df_orders_wed_two_duplicated.duplicated().sum()} ordenes duplicadas el día miércoles a las 2AM\")"
   ]
  },
  {
   "cell_type": "markdown",
   "id": "vu2OWyoqwOx5",
   "metadata": {
    "id": "vu2OWyoqwOx5"
   },
   "source": [
    "¿Qué sugiere este resultado?"
   ]
  },
  {
   "cell_type": "markdown",
   "id": "a8f80a91",
   "metadata": {},
   "source": [
    "#Comentarios Estuciante 2.5.1 (2)\n",
    "\n",
    "En este caso aislamos una base de datos filtrando por día 3 = miércoles y por hora 2 = 2am.\n",
    "Creamos un nuevo dataframe para analizar si era un error que se había repetido constantemente durante ese día a esa hora. Usamos filtro en base a la columnas 'order_dow' para el día de la semana y 'order_hour_of_day' para la hora.\n",
    "Usamos '&' para crear un filtro con estas dos condiciones y el método sort_values() para poder ver la información con más facilidad.\n",
    "Después de aislar los datos y crear otra tabla de datos, revisamos nuevamente los duplicados para ver si todos se encontraban durante este periodo de tiempo.\n",
    "Afortunadamente, todos los duplicados se encontraban en este rango de tiempo, así que sabemos que durante ese momento hubo un error en el sistema y duplico 15 ordenes por error."
   ]
  },
  {
   "cell_type": "code",
   "execution_count": 12,
   "id": "480563c7",
   "metadata": {
    "id": "480563c7"
   },
   "outputs": [
    {
     "name": "stdout",
     "output_type": "stream",
     "text": [
      "<class 'pandas.core.frame.DataFrame'>\n",
      "RangeIndex: 478952 entries, 0 to 478951\n",
      "Data columns (total 6 columns):\n",
      " #   Column                  Non-Null Count   Dtype  \n",
      "---  ------                  --------------   -----  \n",
      " 0   order_id                478952 non-null  int64  \n",
      " 1   user_id                 478952 non-null  int64  \n",
      " 2   order_number            478952 non-null  int64  \n",
      " 3   order_dow               478952 non-null  int64  \n",
      " 4   order_hour_of_day       478952 non-null  int64  \n",
      " 5   days_since_prior_order  450135 non-null  float64\n",
      "dtypes: float64(1), int64(5)\n",
      "memory usage: 21.9 MB\n"
     ]
    }
   ],
   "source": [
    "df_orders = df_orders.drop_duplicates().reset_index(drop=True) # Elimina los pedidos duplicados\n",
    "df_orders.info()"
   ]
  },
  {
   "cell_type": "code",
   "execution_count": null,
   "id": "98aa7fa4",
   "metadata": {},
   "outputs": [],
   "source": []
  },
  {
   "cell_type": "code",
   "execution_count": 13,
   "id": "0b2396a2",
   "metadata": {
    "id": "0b2396a2"
   },
   "outputs": [
    {
     "name": "stdout",
     "output_type": "stream",
     "text": [
      "El número de filas duplicadas en la base de 'df_orders' ahora es igual a: 0\n"
     ]
    }
   ],
   "source": [
    "print(f\"El número de filas duplicadas en la base de 'df_orders' ahora es igual a: {df_orders.duplicated().sum()}\")\n",
    "# Vuelve a verificar si hay filas duplicadas"
   ]
  },
  {
   "cell_type": "code",
   "execution_count": 14,
   "id": "f6113ef1",
   "metadata": {
    "id": "f6113ef1"
   },
   "outputs": [
    {
     "name": "stdout",
     "output_type": "stream",
     "text": [
      "Existe 0 valores duplicados en la columna 'order_id'\n"
     ]
    }
   ],
   "source": [
    "print(f\"Existe {df_orders['order_id'].duplicated().sum()} valores duplicados en la columna 'order_id'\") \n",
    "# Vuelve a verificar únicamente si hay IDs duplicados de pedidos"
   ]
  },
  {
   "cell_type": "markdown",
   "id": "5e8905ae",
   "metadata": {
    "id": "5e8905ae"
   },
   "source": [
    "Describe brevemente tus hallazgos y lo que hiciste con ellos"
   ]
  },
  {
   "cell_type": "markdown",
   "id": "4dd3ae4e",
   "metadata": {},
   "source": [
    "#Comentarios Estudiante\n",
    "\n",
    "Había un total de 15 registros duplicados de ordenes realizadas el día miércoles a las 2AM.\n",
    "Estos fueron encontrados y eliminados de la base de 'df_orders' para no alterar el análisis de la información."
   ]
  },
  {
   "cell_type": "markdown",
   "id": "45e6bc46",
   "metadata": {
    "id": "45e6bc46"
   },
   "source": [
    "### `products` data frame"
   ]
  },
  {
   "cell_type": "code",
   "execution_count": 15,
   "id": "5f526b5b-8175-46fa-a0fd-441767d50e64",
   "metadata": {
    "id": "5f526b5b-8175-46fa-a0fd-441767d50e64"
   },
   "outputs": [
    {
     "name": "stdout",
     "output_type": "stream",
     "text": [
      "Existen 0 filas duplicadas en la base 'df_products'\n"
     ]
    }
   ],
   "source": [
    "print(f\"Existen {df_products.duplicated().sum()} filas duplicadas en la base 'df_products'\")\n",
    "# Verifica si hay filas totalmente duplicadas"
   ]
  },
  {
   "cell_type": "code",
   "execution_count": 16,
   "id": "88daa4f4",
   "metadata": {
    "id": "88daa4f4"
   },
   "outputs": [
    {
     "name": "stdout",
     "output_type": "stream",
     "text": [
      "Existen 0 registros duplicados en la columna 'product_id'\n"
     ]
    }
   ],
   "source": [
    "print(f\"Existen {df_products['product_id'].duplicated().sum()} registros duplicados en la columna 'product_id'\")\n",
    "# Verifica únicamente si hay IDs duplicadas de productos"
   ]
  },
  {
   "cell_type": "code",
   "execution_count": 17,
   "id": "c773f0bf",
   "metadata": {
    "id": "c773f0bf"
   },
   "outputs": [
    {
     "name": "stdout",
     "output_type": "stream",
     "text": [
      "Existen 1361 valores duplicados en la columna 'product_name'\n"
     ]
    }
   ],
   "source": [
    "df_products['product_name'] = df_products['product_name'].str.upper()\n",
    "print(f\"Existen {df_products['product_name'].duplicated().sum()} valores duplicados en la columna 'product_name'\")\n",
    "# Revisa únicamente si hay nombres duplicados de productos (convierte los nombres a letras mayúsculas para compararlos mejor)"
   ]
  },
  {
   "cell_type": "code",
   "execution_count": 18,
   "id": "01efd02e",
   "metadata": {
    "id": "01efd02e",
    "scrolled": true
   },
   "outputs": [
    {
     "name": "stdout",
     "output_type": "stream",
     "text": [
      "Existen 103 nombres duplicados en productos no faltantes\n"
     ]
    }
   ],
   "source": [
    "df_products_miss = (df_products['product_name'].duplicated().sum()) - (df_products['product_name'].isna().sum())\n",
    "print(f\"Existen {df_products_miss} nombres duplicados en productos no faltantes\")\n",
    "# Revisa si hay nombres duplicados de productos no faltantes"
   ]
  },
  {
   "cell_type": "code",
   "execution_count": 19,
   "id": "834ee782",
   "metadata": {},
   "outputs": [
    {
     "data": {
      "text/html": [
       "<div>\n",
       "<style scoped>\n",
       "    .dataframe tbody tr th:only-of-type {\n",
       "        vertical-align: middle;\n",
       "    }\n",
       "\n",
       "    .dataframe tbody tr th {\n",
       "        vertical-align: top;\n",
       "    }\n",
       "\n",
       "    .dataframe thead th {\n",
       "        text-align: right;\n",
       "    }\n",
       "</style>\n",
       "<table border=\"1\" class=\"dataframe\">\n",
       "  <thead>\n",
       "    <tr style=\"text-align: right;\">\n",
       "      <th></th>\n",
       "      <th>product_id</th>\n",
       "      <th>product_name</th>\n",
       "      <th>aisle_id</th>\n",
       "      <th>department_id</th>\n",
       "    </tr>\n",
       "  </thead>\n",
       "  <tbody>\n",
       "    <tr>\n",
       "      <th>23339</th>\n",
       "      <td>23340</td>\n",
       "      <td>18-IN-1 HEMP PEPPERMINT PURE-CASTILE SOAP</td>\n",
       "      <td>25</td>\n",
       "      <td>11</td>\n",
       "    </tr>\n",
       "    <tr>\n",
       "      <th>31844</th>\n",
       "      <td>31845</td>\n",
       "      <td>18-IN-1 HEMP PEPPERMINT PURE-CASTILE SOAP</td>\n",
       "      <td>25</td>\n",
       "      <td>11</td>\n",
       "    </tr>\n",
       "    <tr>\n",
       "      <th>19941</th>\n",
       "      <td>19942</td>\n",
       "      <td>AGED BALSAMIC VINEGAR OF MODENA</td>\n",
       "      <td>19</td>\n",
       "      <td>13</td>\n",
       "    </tr>\n",
       "    <tr>\n",
       "      <th>13152</th>\n",
       "      <td>13153</td>\n",
       "      <td>AGED BALSAMIC VINEGAR OF MODENA</td>\n",
       "      <td>19</td>\n",
       "      <td>13</td>\n",
       "    </tr>\n",
       "    <tr>\n",
       "      <th>24830</th>\n",
       "      <td>24831</td>\n",
       "      <td>ALBACORE SOLID WHITE TUNA IN WATER</td>\n",
       "      <td>95</td>\n",
       "      <td>15</td>\n",
       "    </tr>\n",
       "    <tr>\n",
       "      <th>...</th>\n",
       "      <td>...</td>\n",
       "      <td>...</td>\n",
       "      <td>...</td>\n",
       "      <td>...</td>\n",
       "    </tr>\n",
       "    <tr>\n",
       "      <th>49552</th>\n",
       "      <td>49553</td>\n",
       "      <td>NaN</td>\n",
       "      <td>100</td>\n",
       "      <td>21</td>\n",
       "    </tr>\n",
       "    <tr>\n",
       "      <th>49574</th>\n",
       "      <td>49575</td>\n",
       "      <td>NaN</td>\n",
       "      <td>100</td>\n",
       "      <td>21</td>\n",
       "    </tr>\n",
       "    <tr>\n",
       "      <th>49640</th>\n",
       "      <td>49641</td>\n",
       "      <td>NaN</td>\n",
       "      <td>100</td>\n",
       "      <td>21</td>\n",
       "    </tr>\n",
       "    <tr>\n",
       "      <th>49663</th>\n",
       "      <td>49664</td>\n",
       "      <td>NaN</td>\n",
       "      <td>100</td>\n",
       "      <td>21</td>\n",
       "    </tr>\n",
       "    <tr>\n",
       "      <th>49668</th>\n",
       "      <td>49669</td>\n",
       "      <td>NaN</td>\n",
       "      <td>100</td>\n",
       "      <td>21</td>\n",
       "    </tr>\n",
       "  </tbody>\n",
       "</table>\n",
       "<p>1465 rows × 4 columns</p>\n",
       "</div>"
      ],
      "text/plain": [
       "       product_id                               product_name  aisle_id  \\\n",
       "23339       23340  18-IN-1 HEMP PEPPERMINT PURE-CASTILE SOAP        25   \n",
       "31844       31845  18-IN-1 HEMP PEPPERMINT PURE-CASTILE SOAP        25   \n",
       "19941       19942            AGED BALSAMIC VINEGAR OF MODENA        19   \n",
       "13152       13153            AGED BALSAMIC VINEGAR OF MODENA        19   \n",
       "24830       24831         ALBACORE SOLID WHITE TUNA IN WATER        95   \n",
       "...           ...                                        ...       ...   \n",
       "49552       49553                                        NaN       100   \n",
       "49574       49575                                        NaN       100   \n",
       "49640       49641                                        NaN       100   \n",
       "49663       49664                                        NaN       100   \n",
       "49668       49669                                        NaN       100   \n",
       "\n",
       "       department_id  \n",
       "23339             11  \n",
       "31844             11  \n",
       "19941             13  \n",
       "13152             13  \n",
       "24830             15  \n",
       "...              ...  \n",
       "49552             21  \n",
       "49574             21  \n",
       "49640             21  \n",
       "49663             21  \n",
       "49668             21  \n",
       "\n",
       "[1465 rows x 4 columns]"
      ]
     },
     "metadata": {},
     "output_type": "display_data"
    }
   ],
   "source": [
    "display(df_products[df_products['product_name'].duplicated(keep=False)].sort_values(by='product_name'))"
   ]
  },
  {
   "cell_type": "code",
   "execution_count": 20,
   "id": "c505e590",
   "metadata": {},
   "outputs": [
    {
     "name": "stdout",
     "output_type": "stream",
     "text": [
      "Ahora existen 0 valores duplicados en la columna 'product_name'\n"
     ]
    }
   ],
   "source": [
    "df_products = df_products.drop_duplicates(subset='product_name').reset_index(drop=True)\n",
    "print(f\"Ahora existen {df_products['product_name'].duplicated().sum()} valores duplicados en la columna 'product_name'\")"
   ]
  },
  {
   "cell_type": "markdown",
   "id": "9da8d293",
   "metadata": {
    "id": "9da8d293"
   },
   "source": [
    "Describe brevemente tus hallazgos y lo que hiciste con ellos."
   ]
  },
  {
   "cell_type": "markdown",
   "id": "ee9668f2",
   "metadata": {},
   "source": [
    "#Comentarios Estudiante\n",
    "\n",
    "Existe 103 productos registrados que están duplicados en esta base de datos.\n",
    "Estos no indican algún gramaje o presentación distinta, así que los productos están duplicados aunque cuenten con un 'product_id' distinto.\n",
    "Así que en base al nombre del product, eliminamos los duplicados usando drop.duplicates() para dejar más limpia la base de datos."
   ]
  },
  {
   "cell_type": "markdown",
   "id": "60f30db1",
   "metadata": {
    "id": "60f30db1"
   },
   "source": [
    "### `departments` data frame"
   ]
  },
  {
   "cell_type": "code",
   "execution_count": 21,
   "id": "fb410ad4-0fbf-4b80-bb09-23fdea79afe3",
   "metadata": {
    "id": "fb410ad4-0fbf-4b80-bb09-23fdea79afe3"
   },
   "outputs": [
    {
     "name": "stdout",
     "output_type": "stream",
     "text": [
      "Existen 0 filas duplicadas de la base 'df_departments'\n"
     ]
    }
   ],
   "source": [
    "print(f\"Existen {df_departments.duplicated().sum()} filas duplicadas de la base 'df_departments'\")\n",
    "# Revisa si hay filas totalmente duplicadas"
   ]
  },
  {
   "cell_type": "code",
   "execution_count": 22,
   "id": "332b12bb",
   "metadata": {
    "id": "332b12bb"
   },
   "outputs": [
    {
     "name": "stdout",
     "output_type": "stream",
     "text": [
      "Existen 0 IDs duplicados en la columa de 'department_id'\n"
     ]
    }
   ],
   "source": [
    "print(f\"Existen {df_departments['department_id'].duplicated().sum()} IDs duplicados en la columa de 'department_id'\")\n",
    "# Revisa únicamente si hay IDs duplicadas de productos"
   ]
  },
  {
   "cell_type": "markdown",
   "id": "bd30d78e",
   "metadata": {
    "id": "bd30d78e"
   },
   "source": [
    "Describe brevemente tus hallazgos y lo que hiciste con ellos."
   ]
  },
  {
   "cell_type": "markdown",
   "id": "747f3f12",
   "metadata": {},
   "source": [
    "#Comenarios Estudiante\n",
    "\n",
    "Esta base de datos no cuenta con datos duplicados que se necesiten procesar."
   ]
  },
  {
   "cell_type": "markdown",
   "id": "889349c1",
   "metadata": {
    "id": "889349c1"
   },
   "source": [
    "### `aisles` data frame"
   ]
  },
  {
   "cell_type": "code",
   "execution_count": 23,
   "id": "9da89fb9-4679-40f5-ad0d-c34df753a3f8",
   "metadata": {
    "id": "9da89fb9-4679-40f5-ad0d-c34df753a3f8"
   },
   "outputs": [
    {
     "name": "stdout",
     "output_type": "stream",
     "text": [
      "Existen 0 filas duplicadas en la base 'df_aisles'\n"
     ]
    }
   ],
   "source": [
    "print(f\"Existen {df_aisles.duplicated().sum()} filas duplicadas en la base 'df_aisles'\")\n",
    "# Revisa si hay filas totalmente duplicadas"
   ]
  },
  {
   "cell_type": "code",
   "execution_count": 24,
   "id": "da7c2822",
   "metadata": {
    "id": "da7c2822"
   },
   "outputs": [
    {
     "name": "stdout",
     "output_type": "stream",
     "text": [
      "Existen 0 valores duplicados en la columna de 'aisle_id'\n"
     ]
    }
   ],
   "source": [
    "print(f\"Existen {df_aisles['aisle_id'].duplicated().sum()} valores duplicados en la columna de 'aisle_id'\")\n",
    "# Revisa únicamente si hay IDs duplicadas de productos"
   ]
  },
  {
   "cell_type": "markdown",
   "id": "ac63826f",
   "metadata": {
    "id": "ac63826f"
   },
   "source": [
    "Describe brevemente tus hallazgos y lo que hiciste con ellos."
   ]
  },
  {
   "cell_type": "markdown",
   "id": "3452dda6",
   "metadata": {},
   "source": [
    "#Comentarios Estudiante\n",
    "\n",
    "Esta base de datos tampoco presnta datos duplicados que debamos de procesar para limpiar la data."
   ]
  },
  {
   "cell_type": "markdown",
   "id": "274cd06a",
   "metadata": {
    "id": "274cd06a"
   },
   "source": [
    "### `order_products` data frame"
   ]
  },
  {
   "cell_type": "code",
   "execution_count": 25,
   "id": "52326689-84a8-4b8f-a881-7c68780f62c9",
   "metadata": {
    "id": "52326689-84a8-4b8f-a881-7c68780f62c9"
   },
   "outputs": [
    {
     "name": "stdout",
     "output_type": "stream",
     "text": [
      "Existen 0 filas duplicadas en la base 'df_ord_prds'\n"
     ]
    }
   ],
   "source": [
    "print(f\"Existen {df_ord_prds.duplicated().sum()} filas duplicadas en la base 'df_ord_prds'\")\n",
    "# Revisa si hay filas totalmente duplicadas"
   ]
  },
  {
   "cell_type": "code",
   "execution_count": 26,
   "id": "7b861391",
   "metadata": {
    "id": "7b861391"
   },
   "outputs": [
    {
     "data": {
      "text/plain": [
       "61355      127\n",
       "3308010    115\n",
       "2136777    108\n",
       "171934     104\n",
       "1959075     98\n",
       "          ... \n",
       "54659        1\n",
       "210431       1\n",
       "1717983      1\n",
       "1136563      1\n",
       "8196         1\n",
       "Name: order_id, Length: 450046, dtype: int64"
      ]
     },
     "metadata": {},
     "output_type": "display_data"
    }
   ],
   "source": [
    "display(df_ord_prds['order_id'].value_counts())\n",
    "# Vuelve a verificar si hay cualquier otro duplicado engañoso"
   ]
  },
  {
   "cell_type": "markdown",
   "id": "0b890492",
   "metadata": {
    "id": "0b890492"
   },
   "source": [
    "Describe brevemente tus hallazgos y lo que hiciste con ellos."
   ]
  },
  {
   "cell_type": "markdown",
   "id": "e8eb7008",
   "metadata": {},
   "source": [
    "#Comentario Estudiante\n",
    "\n",
    "Esta última base cunat con varios duplicados en la columna de 'order_id', esto se puede deber a que se registra cada products por orden"
   ]
  },
  {
   "cell_type": "markdown",
   "id": "c294404c",
   "metadata": {},
   "source": [
    "<div class=\"alert alert-block alert-success\">\n",
    "<b>Comentario del revisor</b> <a class=\"tocSkip\"></a>\n",
    "    \n",
    "Buen trabajo en esta sección.\n",
    "</div>"
   ]
  },
  {
   "cell_type": "markdown",
   "id": "1e46de76",
   "metadata": {
    "id": "1e46de76"
   },
   "source": [
    "## Encuentra y elimina los valores ausentes\n",
    "\n",
    "Al trabajar con valores duplicados, pudimos observar que también nos falta investigar valores ausentes:\n",
    "\n",
    "* La columna `'product_name'` de la tabla products.\n",
    "* La columna `'days_since_prior_order'` de la tabla orders.\n",
    "* La columna `'add_to_cart_order'` de la tabla order_productos."
   ]
  },
  {
   "cell_type": "markdown",
   "id": "c0aebd78",
   "metadata": {
    "id": "c0aebd78"
   },
   "source": [
    "### `products` data frame"
   ]
  },
  {
   "cell_type": "code",
   "execution_count": 27,
   "id": "fe4a8b0f",
   "metadata": {
    "id": "fe4a8b0f"
   },
   "outputs": [
    {
     "name": "stdout",
     "output_type": "stream",
     "text": [
      "Existe 1 valor ausente en la columna 'product_name'\n"
     ]
    }
   ],
   "source": [
    "print(f\"Existe {df_products['product_name'].isna().sum()} valor ausente en la columna 'product_name'\")\n",
    "# Encuentra los valores ausentes en la columna 'product_name'"
   ]
  },
  {
   "cell_type": "markdown",
   "id": "-A6x1AbJhjkp",
   "metadata": {
    "id": "-A6x1AbJhjkp"
   },
   "source": [
    "Describe brevemente cuáles son tus hallazgos."
   ]
  },
  {
   "cell_type": "code",
   "execution_count": 28,
   "id": "e96167bc",
   "metadata": {
    "id": "e96167bc"
   },
   "outputs": [
    {
     "data": {
      "text/html": [
       "<div>\n",
       "<style scoped>\n",
       "    .dataframe tbody tr th:only-of-type {\n",
       "        vertical-align: middle;\n",
       "    }\n",
       "\n",
       "    .dataframe tbody tr th {\n",
       "        vertical-align: top;\n",
       "    }\n",
       "\n",
       "    .dataframe thead th {\n",
       "        text-align: right;\n",
       "    }\n",
       "</style>\n",
       "<table border=\"1\" class=\"dataframe\">\n",
       "  <thead>\n",
       "    <tr style=\"text-align: right;\">\n",
       "      <th></th>\n",
       "      <th>product_id</th>\n",
       "      <th>product_name</th>\n",
       "      <th>aisle_id</th>\n",
       "      <th>department_id</th>\n",
       "    </tr>\n",
       "  </thead>\n",
       "  <tbody>\n",
       "    <tr>\n",
       "      <th>37</th>\n",
       "      <td>38</td>\n",
       "      <td>NaN</td>\n",
       "      <td>100</td>\n",
       "      <td>21</td>\n",
       "    </tr>\n",
       "  </tbody>\n",
       "</table>\n",
       "</div>"
      ],
      "text/plain": [
       "    product_id product_name  aisle_id  department_id\n",
       "37          38          NaN       100             21"
      ]
     },
     "metadata": {},
     "output_type": "display_data"
    }
   ],
   "source": [
    "df_products_a100 = df_products[(df_products['aisle_id'] == 100)]\n",
    "display(df_products_a100)\n",
    "#  ¿Todos los nombres de productos ausentes están relacionados con el pasillo con ID 100?"
   ]
  },
  {
   "cell_type": "markdown",
   "id": "WRpIfXRphpSL",
   "metadata": {
    "id": "WRpIfXRphpSL"
   },
   "source": [
    "Describe brevemente cuáles son tus hallazgos."
   ]
  },
  {
   "cell_type": "markdown",
   "id": "b9b7ab27",
   "metadata": {},
   "source": [
    "#Comentario Estudiante\n",
    "\n",
    "Existe un valor ausente que está relacionado al id 100 de la columna 'aisle_id'"
   ]
  },
  {
   "cell_type": "code",
   "execution_count": 29,
   "id": "8fd0a541",
   "metadata": {
    "id": "8fd0a541"
   },
   "outputs": [
    {
     "data": {
      "text/html": [
       "<div>\n",
       "<style scoped>\n",
       "    .dataframe tbody tr th:only-of-type {\n",
       "        vertical-align: middle;\n",
       "    }\n",
       "\n",
       "    .dataframe tbody tr th {\n",
       "        vertical-align: top;\n",
       "    }\n",
       "\n",
       "    .dataframe thead th {\n",
       "        text-align: right;\n",
       "    }\n",
       "</style>\n",
       "<table border=\"1\" class=\"dataframe\">\n",
       "  <thead>\n",
       "    <tr style=\"text-align: right;\">\n",
       "      <th></th>\n",
       "      <th>product_id</th>\n",
       "      <th>product_name</th>\n",
       "      <th>aisle_id</th>\n",
       "      <th>department_id</th>\n",
       "    </tr>\n",
       "  </thead>\n",
       "  <tbody>\n",
       "    <tr>\n",
       "      <th>37</th>\n",
       "      <td>38</td>\n",
       "      <td>NaN</td>\n",
       "      <td>100</td>\n",
       "      <td>21</td>\n",
       "    </tr>\n",
       "  </tbody>\n",
       "</table>\n",
       "</div>"
      ],
      "text/plain": [
       "    product_id product_name  aisle_id  department_id\n",
       "37          38          NaN       100             21"
      ]
     },
     "metadata": {},
     "output_type": "display_data"
    }
   ],
   "source": [
    "df_products_d21 = df_products[(df_products['department_id'] == 21)]\n",
    "display(df_products_d21)\n",
    "# ¿Todos los nombres de productos ausentes están relacionados con el departamento con ID 21?"
   ]
  },
  {
   "cell_type": "markdown",
   "id": "qDpdYn1Fht_I",
   "metadata": {
    "id": "qDpdYn1Fht_I"
   },
   "source": [
    "Describe brevemente cuáles son tus hallazgos."
   ]
  },
  {
   "cell_type": "markdown",
   "id": "bbaa04f9",
   "metadata": {},
   "source": [
    "#Comentario Estudiante\n",
    "\n",
    "Existe un valor ausente que se relaciona al id 21 de la columna 'department_id'"
   ]
  },
  {
   "cell_type": "code",
   "execution_count": 30,
   "id": "325c3464",
   "metadata": {
    "id": "325c3464"
   },
   "outputs": [
    {
     "data": {
      "text/html": [
       "<div>\n",
       "<style scoped>\n",
       "    .dataframe tbody tr th:only-of-type {\n",
       "        vertical-align: middle;\n",
       "    }\n",
       "\n",
       "    .dataframe tbody tr th {\n",
       "        vertical-align: top;\n",
       "    }\n",
       "\n",
       "    .dataframe thead th {\n",
       "        text-align: right;\n",
       "    }\n",
       "</style>\n",
       "<table border=\"1\" class=\"dataframe\">\n",
       "  <thead>\n",
       "    <tr style=\"text-align: right;\">\n",
       "      <th></th>\n",
       "      <th>department_id</th>\n",
       "      <th>department</th>\n",
       "    </tr>\n",
       "  </thead>\n",
       "  <tbody>\n",
       "    <tr>\n",
       "      <th>20</th>\n",
       "      <td>21</td>\n",
       "      <td>missing</td>\n",
       "    </tr>\n",
       "  </tbody>\n",
       "</table>\n",
       "</div>"
      ],
      "text/plain": [
       "    department_id department\n",
       "20             21    missing"
      ]
     },
     "metadata": {},
     "output_type": "display_data"
    },
    {
     "name": "stdout",
     "output_type": "stream",
     "text": [
      "\n"
     ]
    },
    {
     "data": {
      "text/html": [
       "<div>\n",
       "<style scoped>\n",
       "    .dataframe tbody tr th:only-of-type {\n",
       "        vertical-align: middle;\n",
       "    }\n",
       "\n",
       "    .dataframe tbody tr th {\n",
       "        vertical-align: top;\n",
       "    }\n",
       "\n",
       "    .dataframe thead th {\n",
       "        text-align: right;\n",
       "    }\n",
       "</style>\n",
       "<table border=\"1\" class=\"dataframe\">\n",
       "  <thead>\n",
       "    <tr style=\"text-align: right;\">\n",
       "      <th></th>\n",
       "      <th>aisle_id</th>\n",
       "      <th>aisle</th>\n",
       "    </tr>\n",
       "  </thead>\n",
       "  <tbody>\n",
       "    <tr>\n",
       "      <th>99</th>\n",
       "      <td>100</td>\n",
       "      <td>missing</td>\n",
       "    </tr>\n",
       "  </tbody>\n",
       "</table>\n",
       "</div>"
      ],
      "text/plain": [
       "    aisle_id    aisle\n",
       "99       100  missing"
      ]
     },
     "metadata": {},
     "output_type": "display_data"
    }
   ],
   "source": [
    "display(df_departments[df_departments['department_id'] == 21])\n",
    "print()\n",
    "display(df_aisles[df_aisles['aisle_id'] == 100]) # Usa las tablas department y aisle para revisar los datos del pasillo con ID 100 y el departamento con ID 21."
   ]
  },
  {
   "cell_type": "markdown",
   "id": "nqhSTUPhhvEJ",
   "metadata": {
    "id": "nqhSTUPhhvEJ"
   },
   "source": [
    "Describe brevemente cuáles son tus hallazgos."
   ]
  },
  {
   "cell_type": "markdown",
   "id": "d2bf4b82",
   "metadata": {},
   "source": [
    "#Comentario Estudiante\n",
    "\n",
    "El pasillo y departamento son para productos que falten por ser asignados o no sean reconocidos."
   ]
  },
  {
   "cell_type": "code",
   "execution_count": 31,
   "id": "6b295120",
   "metadata": {
    "id": "6b295120"
   },
   "outputs": [
    {
     "data": {
      "text/html": [
       "<div>\n",
       "<style scoped>\n",
       "    .dataframe tbody tr th:only-of-type {\n",
       "        vertical-align: middle;\n",
       "    }\n",
       "\n",
       "    .dataframe tbody tr th {\n",
       "        vertical-align: top;\n",
       "    }\n",
       "\n",
       "    .dataframe thead th {\n",
       "        text-align: right;\n",
       "    }\n",
       "</style>\n",
       "<table border=\"1\" class=\"dataframe\">\n",
       "  <thead>\n",
       "    <tr style=\"text-align: right;\">\n",
       "      <th></th>\n",
       "      <th>product_id</th>\n",
       "      <th>product_name</th>\n",
       "      <th>aisle_id</th>\n",
       "      <th>department_id</th>\n",
       "    </tr>\n",
       "  </thead>\n",
       "  <tbody>\n",
       "    <tr>\n",
       "      <th>37</th>\n",
       "      <td>38</td>\n",
       "      <td>Unknown</td>\n",
       "      <td>100</td>\n",
       "      <td>21</td>\n",
       "    </tr>\n",
       "  </tbody>\n",
       "</table>\n",
       "</div>"
      ],
      "text/plain": [
       "    product_id product_name  aisle_id  department_id\n",
       "37          38      Unknown       100             21"
      ]
     },
     "metadata": {},
     "output_type": "display_data"
    }
   ],
   "source": [
    "df_products['product_name'] = df_products['product_name'].fillna('Unknown')\n",
    "display(df_products[(df_products['aisle_id'] == 100)])\n",
    "# Completa los nombres de productos ausentes con 'Unknown'"
   ]
  },
  {
   "cell_type": "markdown",
   "id": "fc70e5ad",
   "metadata": {
    "id": "fc70e5ad"
   },
   "source": [
    "Describe brevemente tus hallazgos y lo que hiciste con ellos."
   ]
  },
  {
   "cell_type": "markdown",
   "id": "eefcfd17",
   "metadata": {},
   "source": [
    "#Comentario Estudiante\n",
    "\n",
    "Se cambiaron los valores ausentes a los valores indicados para procesar los datos.\n",
    "Al tener valores ausentes en la columna 'product_name' usamos el método fillna() para procesar los valores ausentes y luego usamos un filtro sobre el pasillo que mostraba el valor ausente para demostrar que si se efctuó el cambio correctamente."
   ]
  },
  {
   "cell_type": "markdown",
   "id": "7eb45c86",
   "metadata": {
    "id": "7eb45c86"
   },
   "source": [
    "### `orders` data frame"
   ]
  },
  {
   "cell_type": "code",
   "execution_count": 32,
   "id": "93e41d96",
   "metadata": {
    "id": "93e41d96"
   },
   "outputs": [
    {
     "data": {
      "text/plain": [
       "order_id                      0\n",
       "user_id                       0\n",
       "order_number                  0\n",
       "order_dow                     0\n",
       "order_hour_of_day             0\n",
       "days_since_prior_order    28817\n",
       "dtype: int64"
      ]
     },
     "execution_count": 32,
     "metadata": {},
     "output_type": "execute_result"
    }
   ],
   "source": [
    "df_orders.isna().sum()\n",
    "# Encuentra los valores ausentes"
   ]
  },
  {
   "cell_type": "code",
   "execution_count": 33,
   "id": "166e5a86",
   "metadata": {
    "id": "166e5a86"
   },
   "outputs": [
    {
     "data": {
      "text/plain": [
       "order_id                      0\n",
       "user_id                       0\n",
       "order_number                  0\n",
       "order_dow                     0\n",
       "order_hour_of_day             0\n",
       "days_since_prior_order    28817\n",
       "dtype: int64"
      ]
     },
     "execution_count": 33,
     "metadata": {},
     "output_type": "execute_result"
    }
   ],
   "source": [
    "df_orders[(df_orders['order_number'] == 1)].isna().sum()\n",
    "# ¿Hay algún valor ausente que no sea el primer pedido del cliente?"
   ]
  },
  {
   "cell_type": "markdown",
   "id": "4e23d089",
   "metadata": {
    "id": "4e23d089"
   },
   "source": [
    "Describe brevemente tus hallazgos y lo que hiciste con ellos."
   ]
  },
  {
   "cell_type": "markdown",
   "id": "71134a62",
   "metadata": {},
   "source": [
    "#Comentario Estudiante\n",
    "\n",
    "Todos los valores ausentes se encuentran en la columna 'days_since_prior_order' cuando el número de orden es igual a 1. Lo que quiere decir es que no hay un conteo de días previos a la primera orden realizada desde la aplicación. Esta información es imposible de tener ya que sólo podemos generar esta información a partir de la primera compra."
   ]
  },
  {
   "cell_type": "markdown",
   "id": "69dc9ca4",
   "metadata": {
    "id": "69dc9ca4"
   },
   "source": [
    "### `order_products` data frame"
   ]
  },
  {
   "cell_type": "code",
   "execution_count": 34,
   "id": "b8240253",
   "metadata": {
    "id": "b8240253"
   },
   "outputs": [
    {
     "data": {
      "text/plain": [
       "order_id               0\n",
       "product_id             0\n",
       "add_to_cart_order    836\n",
       "reordered              0\n",
       "dtype: int64"
      ]
     },
     "execution_count": 34,
     "metadata": {},
     "output_type": "execute_result"
    }
   ],
   "source": [
    "df_ord_prds.isna().sum()\n",
    "# Encuentra los valores ausentes"
   ]
  },
  {
   "cell_type": "code",
   "execution_count": 35,
   "id": "9a78e5ee",
   "metadata": {
    "id": "9a78e5ee"
   },
   "outputs": [
    {
     "name": "stdout",
     "output_type": "stream",
     "text": [
      "64.0\n",
      "1.0\n"
     ]
    }
   ],
   "source": [
    "print(df_ord_prds['add_to_cart_order'].max())\n",
    "print(df_ord_prds['add_to_cart_order'].min())\n",
    "# ¿Cuáles son los valores mínimos y máximos en esta columna?"
   ]
  },
  {
   "cell_type": "markdown",
   "id": "-Z2Ja215jW78",
   "metadata": {
    "id": "-Z2Ja215jW78"
   },
   "source": [
    "Describe brevemente cuáles son tus hallazgos."
   ]
  },
  {
   "cell_type": "markdown",
   "id": "67a9c540",
   "metadata": {},
   "source": [
    "#Comentario Estudiante\n",
    "\n",
    "En la columna 'add_to_cart_order' tenemos el orden secuencial de como se fueron agregando los productos al carrito. El máximo de productos que se han agregado a un carrito de manera secuancial han sido 64 y el mínimo secuancial es 1.\n",
    "Sólamente en esta columna contamos con valores ausentes."
   ]
  },
  {
   "cell_type": "code",
   "execution_count": 36,
   "id": "ab9d0c2b",
   "metadata": {
    "id": "ab9d0c2b"
   },
   "outputs": [
    {
     "data": {
      "text/plain": [
       "737        2449164\n",
       "9926       1968313\n",
       "14394      2926893\n",
       "16418      1717990\n",
       "30114      1959075\n",
       "            ...   \n",
       "4505662    1800005\n",
       "4511400    1633337\n",
       "4517562     404157\n",
       "4534112    1673227\n",
       "4535739    1832957\n",
       "Name: order_id, Length: 836, dtype: int64"
      ]
     },
     "metadata": {},
     "output_type": "display_data"
    }
   ],
   "source": [
    "isna_df_ord_prds = df_ord_prds[(df_ord_prds['add_to_cart_order'].isna())]['order_id']\n",
    "display(isna_df_ord_prds)\n",
    "# Guarda todas las IDs de pedidos que tengan un valor ausente en 'add_to_cart_order'"
   ]
  },
  {
   "cell_type": "code",
   "execution_count": 37,
   "id": "54c31695",
   "metadata": {
    "id": "54c31695"
   },
   "outputs": [],
   "source": [
    "# ¿Todos los pedidos con valores ausentes tienen más de 64 productos?\n",
    "# Agrupa todos los pedidos con datos ausentes por su ID de pedido.\n",
    "# Cuenta el número de 'product_id' en cada pedido y revisa el valor mínimo del conteo."
   ]
  },
  {
   "cell_type": "code",
   "execution_count": 38,
   "id": "e52d9923",
   "metadata": {},
   "outputs": [
    {
     "data": {
      "text/plain": [
       "65"
      ]
     },
     "metadata": {},
     "output_type": "display_data"
    }
   ],
   "source": [
    "filtered_isna_df_orders = df_ord_prds[df_ord_prds['order_id'].isin(isna_df_ord_prds)]\n",
    "display(filtered_isna_df_orders.groupby(['order_id'])['product_id'].count().min())"
   ]
  },
  {
   "cell_type": "markdown",
   "id": "aab351b8",
   "metadata": {},
   "source": [
    "#Comentario Estudiante\n",
    "\n",
    "Si todos los pedidos con valores ausentes tienen más de 64 productos."
   ]
  },
  {
   "cell_type": "markdown",
   "id": "p9V6pddtjglj",
   "metadata": {
    "id": "p9V6pddtjglj"
   },
   "source": [
    "Describe brevemente cuáles son tus hallazgos."
   ]
  },
  {
   "cell_type": "code",
   "execution_count": 39,
   "id": "7a987d08",
   "metadata": {
    "id": "7a987d08"
   },
   "outputs": [
    {
     "data": {
      "text/html": [
       "<div>\n",
       "<style scoped>\n",
       "    .dataframe tbody tr th:only-of-type {\n",
       "        vertical-align: middle;\n",
       "    }\n",
       "\n",
       "    .dataframe tbody tr th {\n",
       "        vertical-align: top;\n",
       "    }\n",
       "\n",
       "    .dataframe thead th {\n",
       "        text-align: right;\n",
       "    }\n",
       "</style>\n",
       "<table border=\"1\" class=\"dataframe\">\n",
       "  <thead>\n",
       "    <tr style=\"text-align: right;\">\n",
       "      <th></th>\n",
       "      <th>order_id</th>\n",
       "      <th>product_id</th>\n",
       "      <th>add_to_cart_order</th>\n",
       "      <th>reordered</th>\n",
       "    </tr>\n",
       "  </thead>\n",
       "  <tbody>\n",
       "    <tr>\n",
       "      <th>2496737</th>\n",
       "      <td>1401068</td>\n",
       "      <td>45924</td>\n",
       "      <td>1</td>\n",
       "      <td>0</td>\n",
       "    </tr>\n",
       "    <tr>\n",
       "      <th>504216</th>\n",
       "      <td>2652045</td>\n",
       "      <td>30287</td>\n",
       "      <td>1</td>\n",
       "      <td>1</td>\n",
       "    </tr>\n",
       "    <tr>\n",
       "      <th>4262232</th>\n",
       "      <td>1766685</td>\n",
       "      <td>17794</td>\n",
       "      <td>1</td>\n",
       "      <td>1</td>\n",
       "    </tr>\n",
       "    <tr>\n",
       "      <th>2449903</th>\n",
       "      <td>3314253</td>\n",
       "      <td>47042</td>\n",
       "      <td>1</td>\n",
       "      <td>1</td>\n",
       "    </tr>\n",
       "    <tr>\n",
       "      <th>3640493</th>\n",
       "      <td>1523934</td>\n",
       "      <td>5876</td>\n",
       "      <td>1</td>\n",
       "      <td>1</td>\n",
       "    </tr>\n",
       "    <tr>\n",
       "      <th>...</th>\n",
       "      <td>...</td>\n",
       "      <td>...</td>\n",
       "      <td>...</td>\n",
       "      <td>...</td>\n",
       "    </tr>\n",
       "    <tr>\n",
       "      <th>3613118</th>\n",
       "      <td>2721963</td>\n",
       "      <td>22935</td>\n",
       "      <td>999</td>\n",
       "      <td>1</td>\n",
       "    </tr>\n",
       "    <tr>\n",
       "      <th>1420474</th>\n",
       "      <td>3125735</td>\n",
       "      <td>34942</td>\n",
       "      <td>999</td>\n",
       "      <td>1</td>\n",
       "    </tr>\n",
       "    <tr>\n",
       "      <th>1726184</th>\n",
       "      <td>1730767</td>\n",
       "      <td>43735</td>\n",
       "      <td>999</td>\n",
       "      <td>0</td>\n",
       "    </tr>\n",
       "    <tr>\n",
       "      <th>2612611</th>\n",
       "      <td>2926893</td>\n",
       "      <td>42611</td>\n",
       "      <td>999</td>\n",
       "      <td>0</td>\n",
       "    </tr>\n",
       "    <tr>\n",
       "      <th>1075443</th>\n",
       "      <td>813364</td>\n",
       "      <td>29363</td>\n",
       "      <td>999</td>\n",
       "      <td>0</td>\n",
       "    </tr>\n",
       "  </tbody>\n",
       "</table>\n",
       "<p>4545007 rows × 4 columns</p>\n",
       "</div>"
      ],
      "text/plain": [
       "         order_id  product_id  add_to_cart_order  reordered\n",
       "2496737   1401068       45924                  1          0\n",
       "504216    2652045       30287                  1          1\n",
       "4262232   1766685       17794                  1          1\n",
       "2449903   3314253       47042                  1          1\n",
       "3640493   1523934        5876                  1          1\n",
       "...           ...         ...                ...        ...\n",
       "3613118   2721963       22935                999          1\n",
       "1420474   3125735       34942                999          1\n",
       "1726184   1730767       43735                999          0\n",
       "2612611   2926893       42611                999          0\n",
       "1075443    813364       29363                999          0\n",
       "\n",
       "[4545007 rows x 4 columns]"
      ]
     },
     "metadata": {},
     "output_type": "display_data"
    },
    {
     "name": "stdout",
     "output_type": "stream",
     "text": [
      "<class 'pandas.core.frame.DataFrame'>\n",
      "RangeIndex: 4545007 entries, 0 to 4545006\n",
      "Data columns (total 4 columns):\n",
      " #   Column             Dtype\n",
      "---  ------             -----\n",
      " 0   order_id           int64\n",
      " 1   product_id         int64\n",
      " 2   add_to_cart_order  int64\n",
      " 3   reordered          int64\n",
      "dtypes: int64(4)\n",
      "memory usage: 138.7 MB\n"
     ]
    }
   ],
   "source": [
    "df_ord_prds['add_to_cart_order'] = df_ord_prds['add_to_cart_order'].fillna(999).astype('int') # Remplaza los valores ausentes en la columna 'add_to_cart? con 999 y convierte la columna al tipo entero.\n",
    "display(df_ord_prds.sort_values(by='add_to_cart_order'))\n",
    "df_ord_prds.info()"
   ]
  },
  {
   "cell_type": "markdown",
   "id": "fea4bcc7",
   "metadata": {
    "id": "fea4bcc7"
   },
   "source": [
    "Describe brevemente tus hallazgos y lo que hiciste con ellos."
   ]
  },
  {
   "cell_type": "markdown",
   "id": "RnplPFY1gSrb",
   "metadata": {
    "id": "RnplPFY1gSrb"
   },
   "source": [
    "## Conclusiones\n",
    "\n",
    "Escribe aquí tus conclusiones intermedias sobre el Paso 2. Preprocesamiento de los datos\n"
   ]
  },
  {
   "cell_type": "markdown",
   "id": "204cafd4",
   "metadata": {},
   "source": [
    "#Comentario Estudiante\n",
    "\n",
    "Cambiamos todos los valores de 'add_to_cart_order' a 999 para que fuera más fácil identificar los pedidos con valores ausentes."
   ]
  },
  {
   "cell_type": "markdown",
   "id": "86aeb961",
   "metadata": {},
   "source": []
  },
  {
   "cell_type": "markdown",
   "id": "UjrOIwTcz3ri",
   "metadata": {
    "id": "UjrOIwTcz3ri"
   },
   "source": [
    "# Paso 3. Análisis de los datos\n",
    "\n",
    "Una vez los datos estén procesados y listos, haz el siguiente análisis:"
   ]
  },
  {
   "cell_type": "markdown",
   "id": "turkish-kidney",
   "metadata": {
    "id": "turkish-kidney"
   },
   "source": [
    "# [A] Fácil (deben completarse todos para aprobar)\n",
    "\n",
    "1. Verifica que los valores en las columnas `'order_hour_of_day'` y `'order_dow'` en la tabla orders sean razonables (es decir, `'order_hour_of_day'` oscile entre 0 y 23 y `'order_dow'` oscile entre 0 y 6).\n",
    "2. Crea un gráfico que muestre el número de personas que hacen pedidos dependiendo de la hora del día.\n",
    "3. Crea un gráfico que muestre qué día de la semana la gente hace sus compras.\n",
    "4. Crea un gráfico que muestre el tiempo que la gente espera hasta hacer su siguiente pedido, y comenta sobre los valores mínimos y máximos."
   ]
  },
  {
   "cell_type": "markdown",
   "id": "short-capability",
   "metadata": {
    "id": "short-capability"
   },
   "source": [
    "### [A1] Verifica que los valores sean sensibles"
   ]
  },
  {
   "cell_type": "code",
   "execution_count": 40,
   "id": "growing-fruit",
   "metadata": {
    "id": "growing-fruit"
   },
   "outputs": [
    {
     "data": {
      "text/plain": [
       "[0,\n",
       " 1,\n",
       " 2,\n",
       " 3,\n",
       " 4,\n",
       " 5,\n",
       " 6,\n",
       " 7,\n",
       " 8,\n",
       " 9,\n",
       " 10,\n",
       " 11,\n",
       " 12,\n",
       " 13,\n",
       " 14,\n",
       " 15,\n",
       " 16,\n",
       " 17,\n",
       " 18,\n",
       " 19,\n",
       " 20,\n",
       " 21,\n",
       " 22,\n",
       " 23]"
      ]
     },
     "metadata": {},
     "output_type": "display_data"
    }
   ],
   "source": [
    "ver_orders = df_orders['order_hour_of_day'].unique()\n",
    "display(sorted(ver_orders))"
   ]
  },
  {
   "cell_type": "code",
   "execution_count": 41,
   "id": "accessory-malaysia",
   "metadata": {
    "id": "accessory-malaysia"
   },
   "outputs": [
    {
     "data": {
      "text/plain": [
       "[0, 1, 2, 3, 4, 5, 6]"
      ]
     },
     "metadata": {},
     "output_type": "display_data"
    }
   ],
   "source": [
    "ver_dow = df_orders['order_dow'].unique()\n",
    "display(sorted(ver_dow))"
   ]
  },
  {
   "cell_type": "markdown",
   "id": "hmR2GNQ6lCsX",
   "metadata": {
    "id": "hmR2GNQ6lCsX"
   },
   "source": [
    "Escribe aquí tus conclusiones"
   ]
  },
  {
   "cell_type": "markdown",
   "id": "dc136c0a",
   "metadata": {},
   "source": [
    "#Comentario Alumno\n",
    "\n",
    "Los rangos dentro de 'order_hour_of_day' y 'order_dow' cumple con los rango en los que buscamos que oscilen."
   ]
  },
  {
   "cell_type": "markdown",
   "id": "a6743a70",
   "metadata": {
    "id": "a6743a70"
   },
   "source": [
    "### [A2] Para cada hora del día, ¿cuántas personas hacen órdenes?"
   ]
  },
  {
   "cell_type": "code",
   "execution_count": 42,
   "id": "a36cca27",
   "metadata": {
    "id": "a36cca27"
   },
   "outputs": [
    {
     "data": {
      "text/plain": [
       "<AxesSubplot:xlabel='order_hour_of_day'>"
      ]
     },
     "execution_count": 42,
     "metadata": {},
     "output_type": "execute_result"
    },
    {
     "data": {
      "image/png": "[encoded data removed]",
      "text/plain": [
       "<Figure size 432x288 with 1 Axes>"
      ]
     },
     "metadata": {
      "needs_background": "light"
     },
     "output_type": "display_data"
    }
   ],
   "source": [
    "df_orders_hour_id = df_orders.groupby(['order_hour_of_day'])['user_id'].count()\n",
    "df_orders_hour_id.plot(kind='bar')"
   ]
  },
  {
   "cell_type": "markdown",
   "id": "11270eed",
   "metadata": {
    "id": "11270eed"
   },
   "source": [
    "Escribe aquí tus conclusiones"
   ]
  },
  {
   "cell_type": "markdown",
   "id": "7abe7904",
   "metadata": {},
   "source": [
    "#Comentarios Estudiante\n",
    "\n",
    "El pico de actividad en pedidos es las 10 de la mañana cuando la gente pide comida para el almuerzo-\n",
    "De las 10 AM hasta las 16 PM se ve la mayor parte de la actividad de la plataforma."
   ]
  },
  {
   "cell_type": "markdown",
   "id": "documented-command",
   "metadata": {
    "id": "documented-command"
   },
   "source": [
    "### [A3] ¿Qué día de la semana compran víveres las personas?"
   ]
  },
  {
   "cell_type": "code",
   "execution_count": 43,
   "id": "chief-digit",
   "metadata": {
    "id": "chief-digit"
   },
   "outputs": [
    {
     "data": {
      "text/plain": [
       "<AxesSubplot:xlabel='order_dow'>"
      ]
     },
     "execution_count": 43,
     "metadata": {},
     "output_type": "execute_result"
    },
    {
     "data": {
      "image/png": "[encoded data removed]",
      "text/plain": [
       "<Figure size 432x288 with 1 Axes>"
      ]
     },
     "metadata": {
      "needs_background": "light"
     },
     "output_type": "display_data"
    }
   ],
   "source": [
    "df_dow = df_orders.groupby(['order_dow'])['user_id'].count()\n",
    "df_dow.plot(kind='bar')"
   ]
  },
  {
   "cell_type": "markdown",
   "id": "63f4fff3",
   "metadata": {},
   "source": [
    "#Comentario Estudiante\n",
    "\n",
    "Los usuarios compran víveres todos los días de la semana.\n",
    "El día 0 siendo el lunes, es el día con más actividad en tienda, así que es el día que más se compran víveres."
   ]
  },
  {
   "cell_type": "markdown",
   "id": "dominant-lightning",
   "metadata": {
    "id": "dominant-lightning"
   },
   "source": [
    "Escribe aquí tus conclusiones"
   ]
  },
  {
   "cell_type": "markdown",
   "id": "cutting-concert",
   "metadata": {
    "id": "cutting-concert"
   },
   "source": [
    "### [A4] ¿Cuánto tiempo esperan las personas hasta hacer otro pedido? Comenta sobre los valores mínimos y máximos."
   ]
  },
  {
   "cell_type": "code",
   "execution_count": 44,
   "id": "eed9e22b",
   "metadata": {},
   "outputs": [
    {
     "data": {
      "text/plain": [
       "days_since_prior_order\n",
       "0.0      9589\n",
       "1.0     20179\n",
       "2.0     27138\n",
       "3.0     30224\n",
       "4.0     31006\n",
       "5.0     30096\n",
       "6.0     33930\n",
       "7.0     44577\n",
       "8.0     25361\n",
       "9.0     16753\n",
       "10.0    13309\n",
       "11.0    11467\n",
       "12.0    10658\n",
       "13.0    11737\n",
       "14.0    13992\n",
       "15.0     9416\n",
       "16.0     6587\n",
       "17.0     5498\n",
       "18.0     4971\n",
       "19.0     4939\n",
       "20.0     5302\n",
       "21.0     6448\n",
       "22.0     4514\n",
       "23.0     3337\n",
       "24.0     3015\n",
       "25.0     2711\n",
       "26.0     2640\n",
       "27.0     2986\n",
       "28.0     3745\n",
       "29.0     2673\n",
       "30.0    51337\n",
       "Name: user_id, dtype: int64"
      ]
     },
     "metadata": {},
     "output_type": "display_data"
    },
    {
     "name": "stdout",
     "output_type": "stream",
     "text": [
      "La mayoría de los usuarios, que equivale a 51337 tardan hasta 30 días en realizar otro pedido\n",
      "La minoría de los usuarios, que equivale a 2640 tadan hasta 26 días en realizar otro pedido\n"
     ]
    },
    {
     "data": {
      "image/png": "[encoded data removed]",
      "text/plain": [
       "<Figure size 432x288 with 1 Axes>"
      ]
     },
     "metadata": {
      "needs_background": "light"
     },
     "output_type": "display_data"
    }
   ],
   "source": [
    "df_prior_days = df_orders.groupby(['days_since_prior_order'])['user_id'].count()\n",
    "display(df_prior_days)\n",
    "df_prior_days.plot(kind='bar')\n",
    "print(f\"La mayoría de los usuarios, que equivale a {df_prior_days.max()} tardan hasta 30 días en realizar otro pedido\")\n",
    "print(f\"La minoría de los usuarios, que equivale a {df_prior_days.min()} tadan hasta 26 días en realizar otro pedido\")"
   ]
  },
  {
   "cell_type": "markdown",
   "id": "discrete-vertex",
   "metadata": {
    "id": "discrete-vertex"
   },
   "source": [
    "Escribe aquí tus conclusiones"
   ]
  },
  {
   "cell_type": "markdown",
   "id": "tight-staff",
   "metadata": {
    "id": "tight-staff"
   },
   "source": [
    "# [B] Intermedio (deben completarse todos para aprobar)\n",
    "\n",
    "1. ¿Existe alguna diferencia entre las distribuciones `'order_hour_of_day'` de los miércoles y los sábados? Traza gráficos de barra de `'order_hour_of_day'` para ambos días en la misma figura y describe las diferencias que observes.\n",
    "2. Grafica la distribución para el número de órdenes que hacen los clientes (es decir, cuántos clientes hicieron solo 1 pedido, cuántos hicieron 2, cuántos 3, y así sucesivamente...).\n",
    "3. ¿Cuáles son los 20 principales productos que se piden con más frecuencia (muestra su identificación y nombre)?"
   ]
  },
  {
   "cell_type": "markdown",
   "id": "packed-classic",
   "metadata": {
    "id": "packed-classic"
   },
   "source": [
    "### [B1] Diferencia entre miércoles y sábados para  `'order_hour_of_day'`. Traza gráficos de barra para los dos días y describe las diferencias que veas."
   ]
  },
  {
   "cell_type": "code",
   "execution_count": 47,
   "id": "94e54e8a",
   "metadata": {
    "id": "94e54e8a"
   },
   "outputs": [],
   "source": [
    "order_hour_wed = df_orders[df_orders['order_dow'] == 3]['order_hour_of_day'].value_counts().sort_index()"
   ]
  },
  {
   "cell_type": "code",
   "execution_count": 48,
   "id": "797c90a8",
   "metadata": {
    "id": "797c90a8"
   },
   "outputs": [],
   "source": [
    "order_hour_sat = df_orders[df_orders['order_dow'] == 6]['order_hour_of_day'].value_counts().sort_index()"
   ]
  },
  {
   "cell_type": "code",
   "execution_count": 49,
   "id": "fbf7182d",
   "metadata": {
    "id": "35bcea30"
   },
   "outputs": [
    {
     "data": {
      "text/plain": [
       "<AxesSubplot:>"
      ]
     },
     "execution_count": 49,
     "metadata": {},
     "output_type": "execute_result"
    },
    {
     "data": {
      "image/png": "[encoded data removed]",
      "text/plain": [
       "<Figure size 432x288 with 1 Axes>"
      ]
     },
     "metadata": {
      "needs_background": "light"
     },
     "output_type": "display_data"
    }
   ],
   "source": [
    "wed_sat = pd.concat([order_hour_wed, order_hour_sat], axis=1)\n",
    "wed_sat.plot(kind='bar')"
   ]
  },
  {
   "cell_type": "markdown",
   "id": "charitable-congo",
   "metadata": {
    "id": "charitable-congo"
   },
   "source": [
    "Escribe aquí tus conclusiones"
   ]
  },
  {
   "cell_type": "markdown",
   "id": "c07c47aa",
   "metadata": {},
   "source": [
    "# Comentario Estudiante\n",
    "\n",
    "Por alguna razón este gráfico no quiere generarse.\n",
    "Esta ejercicio lo hice con apoyo de un instructor y debería estar bien.\n",
    "Espero puedan ver el gráfico.\n",
    "Esto está trabando el programa y no deja que pueda validar los códigos que están debajo.\n",
    "Dejé esa celda como Markdown para que no viciara el código."
   ]
  },
  {
   "cell_type": "markdown",
   "id": "e3891143",
   "metadata": {
    "id": "e3891143"
   },
   "source": [
    "### [B2] ¿Cuál es la distribución para el número de pedidos por cliente?"
   ]
  },
  {
   "cell_type": "code",
   "execution_count": 50,
   "id": "0f976165",
   "metadata": {},
   "outputs": [
    {
     "data": {
      "text/plain": [
       "<AxesSubplot:>"
      ]
     },
     "execution_count": 50,
     "metadata": {},
     "output_type": "execute_result"
    },
    {
     "data": {
      "image/png": "[encoded data removed]",
      "text/plain": [
       "<Figure size 432x288 with 1 Axes>"
      ]
     },
     "metadata": {
      "needs_background": "light"
     },
     "output_type": "display_data"
    }
   ],
   "source": [
    "df_groupby_clients_order = df_orders.groupby(['user_id'])['order_id'].count()\n",
    "df_groupby_clients_order.hist(bins=20)"
   ]
  },
  {
   "cell_type": "markdown",
   "id": "d2eff7d5",
   "metadata": {
    "id": "d2eff7d5"
   },
   "source": [
    "Escribe aquí tus conclusiones"
   ]
  },
  {
   "cell_type": "markdown",
   "id": "54a0319c",
   "metadata": {
    "id": "54a0319c"
   },
   "source": [
    "### [B3] ¿Cuáles son los 20 productos más populares (muestra su ID y nombre)?"
   ]
  },
  {
   "cell_type": "code",
   "execution_count": 51,
   "id": "universal-facial",
   "metadata": {
    "id": "universal-facial"
   },
   "outputs": [
    {
     "data": {
      "text/plain": [
       "product_id  product_name            \n",
       "40706       ORGANIC GRAPE TOMATOES      11781\n",
       "8277        APPLE HONEYCRISP ORGANIC    11993\n",
       "5876        ORGANIC LEMON               12232\n",
       "28204       ORGANIC FUJI APPLE          12544\n",
       "49683       CUCUMBER KIRBY              13675\n",
       "39275       ORGANIC BLUEBERRIES         13879\n",
       "45007       ORGANIC ZUCCHINI            14584\n",
       "24964       ORGANIC GARLIC              15292\n",
       "22935       ORGANIC YELLOW ONION        15898\n",
       "27966       ORGANIC RASPBERRIES         19197\n",
       "27845       ORGANIC WHOLE MILK          19600\n",
       "26209       LIMES                       19690\n",
       "16797       STRAWBERRIES                20018\n",
       "47626       LARGE LEMON                 21495\n",
       "47766       ORGANIC AVOCADO             24689\n",
       "47209       ORGANIC HASS AVOCADO        29773\n",
       "21903       ORGANIC BABY SPINACH        33971\n",
       "21137       ORGANIC STRAWBERRIES        37039\n",
       "13176       BAG OF ORGANIC BANANAS      53297\n",
       "24852       BANANA                      66050\n",
       "Name: order_id, dtype: int64"
      ]
     },
     "metadata": {},
     "output_type": "display_data"
    }
   ],
   "source": [
    "df_merged_prods = df_products.merge(df_ord_prds, left_on='product_id', right_on='product_id')\n",
    "display((df_merged_prods.groupby(['product_id', 'product_name'])['order_id'].count()).sort_values().tail(20))"
   ]
  },
  {
   "cell_type": "markdown",
   "id": "7df00f47",
   "metadata": {
    "id": "7df00f47"
   },
   "source": [
    "Escribe aquí tus conclusiones"
   ]
  },
  {
   "cell_type": "markdown",
   "id": "20d0d8ef",
   "metadata": {},
   "source": [
    "#Comentario Estudiante\n",
    "\n",
    "Los productos más populares son frutas y verduras. El único producto que sobresale de este tipo de productos es leche entera."
   ]
  },
  {
   "cell_type": "markdown",
   "id": "gross-theme",
   "metadata": {
    "id": "gross-theme"
   },
   "source": [
    "# [C] Difícil (deben completarse todos para aprobar)\n",
    "\n",
    "1. ¿Cuántos artículos suelen comprar las personas en un pedido? ¿Cómo es la distribución?\n",
    "2. ¿Cuáles son los 20 principales artículos que vuelven a pedirse con mayor frecuencia (muestra sus nombres e IDs de los productos)?\n",
    "3. Para cada producto, ¿cuál es la tasa de repetición del pedido (número de repeticiones de pedido/total de pedidos?\n",
    "4. Para cada cliente, ¿qué proporción de los productos que pidió ya los había pedido? Calcula la tasa de repetición de pedido para cada usuario en lugar de para cada producto.\n",
    "5. ¿Cuáles son los 20 principales artículos que la gente pone primero en sus carritos (muestra las IDs de los productos, sus nombres, y el número de veces en que fueron el primer artículo en añadirse al carrito)?"
   ]
  },
  {
   "cell_type": "markdown",
   "id": "romantic-deposit",
   "metadata": {
    "id": "romantic-deposit"
   },
   "source": [
    "### [C1] ¿Cuántos artículos compran normalmente las personas en un pedido? ¿Cómo es la distribución?"
   ]
  },
  {
   "cell_type": "code",
   "execution_count": 52,
   "id": "sensitive-breathing",
   "metadata": {
    "id": "sensitive-breathing"
   },
   "outputs": [],
   "source": [
    "df_merged_products_and_orders = df_orders.merge(df_ord_prds, left_on='order_id', right_on='order_id')"
   ]
  },
  {
   "cell_type": "code",
   "execution_count": 58,
   "id": "5ec05c26",
   "metadata": {
    "id": "completed-frank"
   },
   "outputs": [
    {
     "data": {
      "text/plain": [
       "<AxesSubplot:>"
      ]
     },
     "execution_count": 58,
     "metadata": {},
     "output_type": "execute_result"
    },
    {
     "data": {
      "image/png": "[encoded data removed]",
      "text/plain": [
       "<Figure size 432x288 with 1 Axes>"
      ]
     },
     "metadata": {
      "needs_background": "light"
     },
     "output_type": "display_data"
    }
   ],
   "source": [
    "merged_hist = df_merged_products_and_orders.groupby(['user_id'])['product_id'].count()\n",
    "merged_hist.hist()"
   ]
  },
  {
   "cell_type": "markdown",
   "id": "designed-mortality",
   "metadata": {
    "id": "designed-mortality"
   },
   "source": [
    "Escribe aquí tus conclusiones"
   ]
  },
  {
   "cell_type": "markdown",
   "id": "2a917dfc",
   "metadata": {},
   "source": [
    "#Comentario Estudiante\n",
    "\n",
    "Este gráfico también está teniendo problemas en generarse y traba el código.\n",
    "Volví la celda un markdown para que no se trabara el código."
   ]
  },
  {
   "cell_type": "markdown",
   "id": "5e6b5537",
   "metadata": {
    "id": "5e6b5537"
   },
   "source": [
    "### [C2] ¿Cuáles son los 20 principales artículos que vuelven a pedirse con mayor frecuencia (muestra sus nombres e IDs de los productos)?"
   ]
  },
  {
   "cell_type": "code",
   "execution_count": 59,
   "id": "possible-change",
   "metadata": {
    "id": "possible-change",
    "scrolled": true
   },
   "outputs": [],
   "source": [
    "filtered_orders = df_ord_prds[df_ord_prds['reordered'] == 1]"
   ]
  },
  {
   "cell_type": "code",
   "execution_count": 60,
   "id": "professional-surfing",
   "metadata": {
    "id": "professional-surfing",
    "scrolled": true
   },
   "outputs": [],
   "source": [
    "merged_top20 = filtered_orders.merge(df_products, left_on='product_id', right_on='product_id')"
   ]
  },
  {
   "cell_type": "code",
   "execution_count": 61,
   "id": "48dd3658",
   "metadata": {
    "id": "48dd3658"
   },
   "outputs": [
    {
     "data": {
      "text/plain": [
       "product_id  product_name            \n",
       "49235       ORGANIC HALF & HALF          8389\n",
       "5876        ORGANIC LEMON                8412\n",
       "39275       ORGANIC BLUEBERRIES          8799\n",
       "8277        APPLE HONEYCRISP ORGANIC     8836\n",
       "28204       ORGANIC FUJI APPLE           8989\n",
       "49683       CUCUMBER KIRBY               9538\n",
       "45007       ORGANIC ZUCCHINI            10076\n",
       "24964       ORGANIC GARLIC              10411\n",
       "22935       ORGANIC YELLOW ONION        11145\n",
       "26209       LIMES                       13327\n",
       "16797       STRAWBERRIES                13945\n",
       "27966       ORGANIC RASPBERRIES         14748\n",
       "47626       LARGE LEMON                 15044\n",
       "27845       ORGANIC WHOLE MILK          16251\n",
       "47766       ORGANIC AVOCADO             18743\n",
       "47209       ORGANIC HASS AVOCADO        23629\n",
       "21903       ORGANIC BABY SPINACH        26233\n",
       "21137       ORGANIC STRAWBERRIES        28639\n",
       "13176       BAG OF ORGANIC BANANAS      44450\n",
       "24852       BANANA                      55763\n",
       "Name: order_id, dtype: int64"
      ]
     },
     "metadata": {},
     "output_type": "display_data"
    }
   ],
   "source": [
    "display(merged_top20.groupby(['product_id', 'product_name'])['order_id'].count().sort_values().tail(20))"
   ]
  },
  {
   "cell_type": "markdown",
   "id": "80e70c74",
   "metadata": {
    "id": "80e70c74"
   },
   "source": [
    "Escribe aquí tus conclusiones"
   ]
  },
  {
   "cell_type": "markdown",
   "id": "e6448595",
   "metadata": {},
   "source": [
    "#Comentario Estudiante\n",
    "\n",
    "La categoría de los productos que se vuelven a pedir con más frecuencia coinciden con los productos más populares. Tantos frutas y verduras como lácteos básicos."
   ]
  },
  {
   "cell_type": "markdown",
   "id": "9d312b14",
   "metadata": {
    "id": "9d312b14"
   },
   "source": [
    "### [C3] Para cada producto, ¿cuál es la proporción de las veces que se pide y que se vuelve a pedir?"
   ]
  },
  {
   "cell_type": "code",
   "execution_count": 62,
   "id": "64ad14d0",
   "metadata": {},
   "outputs": [],
   "source": [
    "merged_for_products = df_ord_prds.merge(df_products, left_on='product_id', right_on='product_id')"
   ]
  },
  {
   "cell_type": "code",
   "execution_count": 63,
   "id": "103e7fe1",
   "metadata": {
    "id": "103e7fe1"
   },
   "outputs": [
    {
     "data": {
      "text/plain": [
       "product_id  product_name                                                             \n",
       "15413       ORGANIC CHAI COLA PROBIOTIC ELIXER                                           0.0\n",
       "17729       TEN CALORIE LEMON LIME SODA                                                  0.0\n",
       "38823       SRIRACHA                                                                     0.0\n",
       "17724       PHOENIX BODY WASH WITH PUMP                                                  0.0\n",
       "7011        FUSION POWER RAZOR AND CARTRIDGE                                             0.0\n",
       "                                                                                        ... \n",
       "32722       SALMON JERKY DOG TREATS                                                      1.0\n",
       "14644       CABERNET SAUVIGNON- H3 COLLECTION- HORSE HEAVEN HILLS                        1.0\n",
       "48372       CARAMEL COFFEE CAKE GROUND COFFEE                                            1.0\n",
       "11124       TURKEY/CHICKEN/CHICKEN LIVER HEALTHY KITTEN CAT FOOD                         1.0\n",
       "9016        LIGHT BLUEBERRY PATCH/BLACKBERRY POMEGRANATE VARIETY PACK FAT FREE YOGURT    1.0\n",
       "Name: reordered, Length: 44516, dtype: float64"
      ]
     },
     "metadata": {},
     "output_type": "display_data"
    }
   ],
   "source": [
    "display(merged_for_products.groupby(['product_id', 'product_name'])['reordered'].mean().sort_values())"
   ]
  },
  {
   "cell_type": "markdown",
   "id": "I10dEIAyldcO",
   "metadata": {
    "id": "I10dEIAyldcO"
   },
   "source": [
    "Escribe aquí tus conclusiones"
   ]
  },
  {
   "cell_type": "markdown",
   "id": "bf6eb000",
   "metadata": {},
   "source": [
    "#Comentario Estudiante\n",
    "\n",
    "Los productos que más se vuelven a pedir no coicide con el top de productos más vendidos.\n",
    "Productos para mascotas y productos considerados como indulgencias son los que con más frecuencia se reordenen.\n",
    "Este indicador nos hace ver la adherencia que tiene los usuarios con cada producto."
   ]
  },
  {
   "cell_type": "markdown",
   "id": "subject-boxing",
   "metadata": {
    "id": "subject-boxing"
   },
   "source": [
    "### [C4] Para cada cliente, ¿qué proporción de sus productos ya los había pedido?"
   ]
  },
  {
   "cell_type": "code",
   "execution_count": 64,
   "id": "8892e4b4",
   "metadata": {
    "id": "8892e4b4"
   },
   "outputs": [],
   "source": [
    "merged_for_clients = df_ord_prds.merge(df_orders, left_on='order_id', right_on='order_id')"
   ]
  },
  {
   "cell_type": "code",
   "execution_count": 65,
   "id": "b90ff883",
   "metadata": {},
   "outputs": [],
   "source": [
    "merged_for_clients_2 = merged_for_clients.merge(df_products, left_on='product_id', right_on='product_id')"
   ]
  },
  {
   "cell_type": "code",
   "execution_count": 66,
   "id": "32c7621b",
   "metadata": {},
   "outputs": [
    {
     "data": {
      "text/plain": [
       "user_id  product_name                                   \n",
       "2        ARTICHOKE SPINACH DIP                              0.0\n",
       "112548   HARDWOOD SMOKED LOWER SODIUM BACON                 0.0\n",
       "         GRILLED TILAPIA SIGNATURE GRILLED  FISH FILLETS    0.0\n",
       "         GLAZED CHICKEN                                     0.0\n",
       "         FAT FREE COTTAGE CHEESE                            0.0\n",
       "                                                           ... \n",
       "143615   SPA CUISINE BUTTERNUT SQUASH RAVIOLI               1.0\n",
       "30034    MARINARA PASTA SAUCE                               1.0\n",
       "         ORGANIC AVOCADO                                    1.0\n",
       "143615   UNSWEETENED APPLESAUCE                             1.0\n",
       "102666   ORGANIC RED BELL PEPPER                            1.0\n",
       "Name: reordered, Length: 3364387, dtype: float64"
      ]
     },
     "metadata": {},
     "output_type": "display_data"
    }
   ],
   "source": [
    "display(merged_for_clients_2.groupby(['user_id', 'product_name'])['reordered'].mean().sort_values())"
   ]
  },
  {
   "cell_type": "markdown",
   "id": "BgJSvXDsleXz",
   "metadata": {
    "id": "BgJSvXDsleXz"
   },
   "source": [
    "Escribe aquí tus conclusiones"
   ]
  },
  {
   "cell_type": "markdown",
   "id": "55347da8",
   "metadata": {},
   "source": [
    "#Comentario Estudiante\n",
    "\n",
    "Con esta base podemos ver la adherencia de cada cliente a los productos que pide con más frecuencia. En base a esto podemos crear estrategias personalizadas para el tipo de consumo personal."
   ]
  },
  {
   "cell_type": "markdown",
   "id": "92d35137",
   "metadata": {
    "id": "92d35137"
   },
   "source": [
    "### [C5] ¿Cuáles son los 20 principales artículos que las personas ponen primero en sus carritos?"
   ]
  },
  {
   "cell_type": "code",
   "execution_count": 67,
   "id": "forty-netherlands",
   "metadata": {
    "id": "forty-netherlands",
    "scrolled": true
   },
   "outputs": [],
   "source": [
    "filtered_orders_top20 = df_ord_prds[df_ord_prds['add_to_cart_order'] == 1]"
   ]
  },
  {
   "cell_type": "code",
   "execution_count": 68,
   "id": "08e41ec2",
   "metadata": {
    "id": "08e41ec2"
   },
   "outputs": [],
   "source": [
    "merged_for_top_add = filtered_orders_top20.merge(df_products, left_on='product_id', right_on='product_id')"
   ]
  },
  {
   "cell_type": "code",
   "execution_count": 69,
   "id": "bd1eb853",
   "metadata": {},
   "outputs": [
    {
     "data": {
      "text/plain": [
       "product_id  product_name                   \n",
       "49683       CUCUMBER KIRBY                      1078\n",
       "24838       UNSWEETENED ALMONDMILK              1127\n",
       "35951       ORGANIC UNSWEETENED ALMOND MILK     1146\n",
       "4210        WHOLE MILK                          1166\n",
       "33198       SPARKLING NATURAL MINERAL WATER     1175\n",
       "28204       ORGANIC FUJI APPLE                  1183\n",
       "39275       ORGANIC BLUEBERRIES                 1185\n",
       "8277        APPLE HONEYCRISP ORGANIC            1200\n",
       "22935       ORGANIC YELLOW ONION                1246\n",
       "43352       RASPBERRIES                         1246\n",
       "27086       HALF & HALF                         1309\n",
       "5785        ORGANIC REDUCED FAT 2% MILK         1310\n",
       "12341       HASS AVOCADOS                       1340\n",
       "26209       LIMES                               1370\n",
       "38689       ORGANIC REDUCED FAT MILK            1397\n",
       "196         SODA                                1733\n",
       "47626       LARGE LEMON                         1737\n",
       "49235       ORGANIC HALF & HALF                 1797\n",
       "44632       SPARKLING WATER GRAPEFRUIT          1914\n",
       "27966       ORGANIC RASPBERRIES                 2024\n",
       "16797       STRAWBERRIES                        2308\n",
       "19660       SPRING WATER                        2336\n",
       "47766       ORGANIC AVOCADO                     3044\n",
       "21903       ORGANIC BABY SPINACH                3336\n",
       "47209       ORGANIC HASS AVOCADO                3390\n",
       "21137       ORGANIC STRAWBERRIES                3946\n",
       "27845       ORGANIC WHOLE MILK                  4363\n",
       "13176       BAG OF ORGANIC BANANAS             11026\n",
       "24852       BANANA                             15562\n",
       "Name: order_id, dtype: int64"
      ]
     },
     "metadata": {},
     "output_type": "display_data"
    }
   ],
   "source": [
    "display(merged_for_top_add.groupby(['product_id', 'product_name'])['order_id'].count().sort_values().tail(29))"
   ]
  },
  {
   "cell_type": "markdown",
   "id": "28ce9872",
   "metadata": {
    "id": "28ce9872"
   },
   "source": [
    "Escribe aquí tus conclusiones"
   ]
  },
  {
   "cell_type": "markdown",
   "id": "b54c2058",
   "metadata": {},
   "source": [
    "#Comentario Estudiante\n",
    "\n",
    "Este ejercicio funciona para concoer en que priorizar los usuarios cuando relaizan sus compras. De tal manera que podemos tener mayor atención a los productos más populares y prevenir que nos quedemos sin 'stock'."
   ]
  },
  {
   "cell_type": "markdown",
   "id": "uITbFCEoDosC",
   "metadata": {
    "id": "uITbFCEoDosC"
   },
   "source": [
    "### Conclusion general del proyecto:"
   ]
  },
  {
   "cell_type": "markdown",
   "id": "5e7341e5",
   "metadata": {
    "id": "Nk-4GS7mDwqY"
   },
   "source": [
    "#Conclusiones Generales\n",
    "\n",
    "En general este proyecto fue muy informativo y me da un mayor entendimiento de la programación de datos en la vida cotifiana de un dat scientists. Nos ayuda a coomprende comportamientos y poder llegar a información crucial para el manejo de la relación con las tiendas y los consumo.\n",
    "Quiero agradecer a los revisores, Carlos Ortiz y a Francisco Benavides por el apoyo con el proyecto.\n",
    "Aseguro que para el siguiente proiyecto intentaré apoyarme menos de ustedes para poder retarme a hacer las cosas con independencias"
   ]
  },
  {
   "cell_type": "markdown",
   "id": "57ea7550",
   "metadata": {},
   "source": [
    "\n",
    "<div class=\"alert alert-block alert-danger\">\n",
    "    \n",
    "# Comentarios generales\n",
    "<b>Comentario del revisor #2</b> <a class=\"tocSkip\"></a>\n",
    "    \n",
    "Hola, Arturo. Nos quedan algunos elementos pendientes antes de poder aprobar tu proyecto. He dejado comentarios adicionales para ello.\n",
    "</div>"
   ]
  },
  {
   "cell_type": "markdown",
   "id": "febc2da2",
   "metadata": {},
   "source": [
    "\n",
    "<div class=\"alert alert-block alert-success\">\n",
    "    \n",
    "# Comentarios generales\n",
    "<b>Comentario del revisor #3</b> <a class=\"tocSkip\"></a>\n",
    "    \n",
    "Todo corregido. Has aprobado un nuevo proyecto. ¡Felicitaciones!\n",
    "</div>"
   ]
  }
 ],
 "metadata": {
  "colab": {
   "provenance": []
  },
  "kernelspec": {
   "display_name": "Python 3 (ipykernel)",
   "language": "python",
   "name": "python3"
  },
  "language_info": {
   "codemirror_mode": {
    "name": "ipython",
    "version": 3
   },
   "file_extension": ".py",
   "mimetype": "text/x-python",
   "name": "python",
   "nbconvert_exporter": "python",
   "pygments_lexer": "ipython3",
   "version": "3.9.19"
  },
  "toc": {
   "base_numbering": 1,
   "nav_menu": {},
   "number_sections": true,
   "sideBar": true,
   "skip_h1_title": true,
   "title_cell": "Table of Contents",
   "title_sidebar": "Contents",
   "toc_cell": false,
   "toc_position": {},
   "toc_section_display": true,
   "toc_window_display": false
  },
  "vscode": {
   "interpreter": {
    "hash": "01a7be9ec63e704a62cefc5fe7a4756944464ee731be31632bdf42a4cb4688cf"
   }
  }
 },
 "nbformat": 4,
 "nbformat_minor": 5
}
