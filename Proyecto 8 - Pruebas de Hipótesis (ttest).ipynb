{
 "cells": [
  {
   "cell_type": "markdown",
   "metadata": {},
   "source": [
    "\n",
    "¡Hola!\n",
    "\n",
    "Mi nombre es Tonatiuh Cruz. Me complace revisar tu proyecto hoy.\n",
    "\n",
    "Al identificar cualquier error inicialmente, simplemente los destacaré. Te animo a localizar y abordar los problemas de forma independiente como parte de tu preparación para un rol como data-scientist. En un entorno profesional, tu líder de equipo seguiría un enfoque similar. Si encuentras la tarea desafiante, proporcionaré una pista más específica en la próxima iteración.\n",
    "\n",
    "Encontrarás mis comentarios a continuación - **por favor no los muevas, modifiques o elimines**.\n",
    "\n",
    "Puedes encontrar mis comentarios en cajas verdes, amarillas o rojas como esta:\n",
    "\n",
    "<div class=\"alert alert-block alert-success\">\n",
    "<b>Comentario del revisor</b> <a class=\"tocSkip\"></a>\n",
    "\n",
    "Éxito. Todo está hecho correctamente.\n",
    "</div>\n",
    "\n",
    "<div class=\"alert alert-block alert-warning\">\n",
    "<b>Comentario del revisor</b> <a class=\"tocSkip\"></a>\n",
    "\n",
    "Observaciones. Algunas recomendaciones.\n",
    "</div>\n",
    "\n",
    "<div class=\"alert alert-block alert-danger\">\n",
    "<b>Comentario del revisor</b> <a class=\"tocSkip\"></a>\n",
    "\n",
    "Necesita corrección. El bloque requiere algunas correcciones. El trabajo no puede ser aceptado con comentarios en rojo.\n",
    "</div>\n",
    "\n",
    "Puedes responderme utilizando esto:\n",
    "\n",
    "<div class=\"alert alert-block alert-info\">\n",
    "<b>Respuesta del estudiante.</b> <a class=\"tocSkip\"></a>"
   ]
  },
  {
   "cell_type": "code",
   "execution_count": null,
   "metadata": {},
   "outputs": [],
   "source": []
  },
  {
   "cell_type": "markdown",
   "metadata": {},
   "source": [
    "<div class=\"alert alert-block alert-success\">\n",
    "<b>Review General. (Iteración 2) </b> <a class=\"tocSkip\"></a>\n",
    "\n",
    "Hola Arturo nuevamente! Felicitaciones porque has corregido los detalles marcados en nuestra iteración anterior. Ahora si este proyecto está en total condiciones de ser aprobado, bien hecho!\n",
    "    \n",
    "Éxitos en tu camino dentro del mundo de los datos y saludos!"
   ]
  },
  {
   "cell_type": "markdown",
   "metadata": {},
   "source": [
    "<div class=\"alert alert-block alert-warning\">\n",
    "\n",
    "<b>Comentario del revisor</b> <a class=\"tocSkip\"></a>\n",
    "\n",
    "\n",
    "Arturo, cuando hacemos análisis de datos es muy útil escribir una introducción al proyecto donde se especifiquen claramente los objetivos y se explique el propósito del mismo. Es esencial hacer esto para establecer las bases del proyecto y aclarar lo que buscamos alcanzar. Con la introducción, queda de manera clarar el análisis que desarrollaremos en el proyecto y cómo lo pretendemos abordar.</div>"
   ]
  },
  {
   "cell_type": "markdown",
   "metadata": {},
   "source": [
    "## Análisis para Zuber: Afectación en el tráfico de viajes causado por cambios climáticos en la zona.\n",
    "\n",
    "En este análisis vamos a revisar como la lluvia y otras afectaciones climáticas afectan el flujo en el que Zuber recibe viajes comparado con días despeajdos de cualquier condición climática.El objetivo es saber cuanto puede cambiar el comportamiento del flujo basado en días con malas condiciones climáticas."
   ]
  },
  {
   "cell_type": "code",
   "execution_count": 1,
   "metadata": {},
   "outputs": [
    {
     "name": "stdout",
     "output_type": "stream",
     "text": [
      "Requirement already satisfied: matplotlib in /opt/conda/envs/python3/lib/python3.9/site-packages (3.3.4)\n",
      "Requirement already satisfied: cycler>=0.10 in /opt/conda/envs/python3/lib/python3.9/site-packages (from matplotlib) (0.12.1)\n",
      "Requirement already satisfied: kiwisolver>=1.0.1 in /opt/conda/envs/python3/lib/python3.9/site-packages (from matplotlib) (1.4.5)\n",
      "Requirement already satisfied: numpy>=1.15 in /opt/conda/envs/python3/lib/python3.9/site-packages (from matplotlib) (1.21.2)\n",
      "Requirement already satisfied: pillow>=6.2.0 in /opt/conda/envs/python3/lib/python3.9/site-packages (from matplotlib) (8.4.0)\n",
      "Requirement already satisfied: pyparsing!=2.0.4,!=2.1.2,!=2.1.6,>=2.0.3 in /opt/conda/envs/python3/lib/python3.9/site-packages (from matplotlib) (3.1.2)\n",
      "Requirement already satisfied: python-dateutil>=2.1 in /opt/conda/envs/python3/lib/python3.9/site-packages (from matplotlib) (2.9.0)\n",
      "Requirement already satisfied: six>=1.5 in /opt/conda/envs/python3/lib/python3.9/site-packages (from python-dateutil>=2.1->matplotlib) (1.16.0)\n",
      "Note: you may need to restart the kernel to use updated packages.\n"
     ]
    }
   ],
   "source": [
    "pip install matplotlib #Instalar librerías para crear gráficos"
   ]
  },
  {
   "cell_type": "code",
   "execution_count": 2,
   "metadata": {},
   "outputs": [
    {
     "name": "stdout",
     "output_type": "stream",
     "text": [
      "Requirement already satisfied: seaborn in /opt/conda/envs/python3/lib/python3.9/site-packages (0.11.1)\n",
      "Requirement already satisfied: numpy>=1.15 in /opt/conda/envs/python3/lib/python3.9/site-packages (from seaborn) (1.21.2)\n",
      "Requirement already satisfied: scipy>=1.0 in /opt/conda/envs/python3/lib/python3.9/site-packages (from seaborn) (1.10.1)\n",
      "Requirement already satisfied: pandas>=0.23 in /opt/conda/envs/python3/lib/python3.9/site-packages (from seaborn) (1.2.4)\n",
      "Requirement already satisfied: matplotlib>=2.2 in /opt/conda/envs/python3/lib/python3.9/site-packages (from seaborn) (3.3.4)\n",
      "Requirement already satisfied: cycler>=0.10 in /opt/conda/envs/python3/lib/python3.9/site-packages (from matplotlib>=2.2->seaborn) (0.12.1)\n",
      "Requirement already satisfied: kiwisolver>=1.0.1 in /opt/conda/envs/python3/lib/python3.9/site-packages (from matplotlib>=2.2->seaborn) (1.4.5)\n",
      "Requirement already satisfied: pillow>=6.2.0 in /opt/conda/envs/python3/lib/python3.9/site-packages (from matplotlib>=2.2->seaborn) (8.4.0)\n",
      "Requirement already satisfied: pyparsing!=2.0.4,!=2.1.2,!=2.1.6,>=2.0.3 in /opt/conda/envs/python3/lib/python3.9/site-packages (from matplotlib>=2.2->seaborn) (3.1.2)\n",
      "Requirement already satisfied: python-dateutil>=2.1 in /opt/conda/envs/python3/lib/python3.9/site-packages (from matplotlib>=2.2->seaborn) (2.9.0)\n",
      "Requirement already satisfied: pytz>=2017.3 in /opt/conda/envs/python3/lib/python3.9/site-packages (from pandas>=0.23->seaborn) (2024.1)\n",
      "Requirement already satisfied: six>=1.5 in /opt/conda/envs/python3/lib/python3.9/site-packages (from python-dateutil>=2.1->matplotlib>=2.2->seaborn) (1.16.0)\n",
      "Note: you may need to restart the kernel to use updated packages.\n"
     ]
    }
   ],
   "source": [
    "pip install seaborn #Instalar librería para gráficos"
   ]
  },
  {
   "cell_type": "code",
   "execution_count": 3,
   "metadata": {},
   "outputs": [
    {
     "name": "stdout",
     "output_type": "stream",
     "text": [
      "Requirement already satisfied: scipy in /opt/conda/envs/python3/lib/python3.9/site-packages (1.10.1)\n",
      "Requirement already satisfied: numpy<1.27.0,>=1.19.5 in /opt/conda/envs/python3/lib/python3.9/site-packages (from scipy) (1.21.2)\n",
      "Note: you may need to restart the kernel to use updated packages.\n"
     ]
    }
   ],
   "source": [
    "pip install scipy #Instalar librería par cálculos"
   ]
  },
  {
   "cell_type": "code",
   "execution_count": 4,
   "metadata": {},
   "outputs": [],
   "source": [
    "import pandas as pd #Importar librerías necesarias para trabajar\n",
    "import numpy as np\n",
    "from math import factorial\n",
    "import plotly as plt\n",
    "import matplotlib.pyplot as mplt\n",
    "import seaborn as sns\n",
    "from scipy.stats import ttest_ind"
   ]
  },
  {
   "cell_type": "code",
   "execution_count": 5,
   "metadata": {},
   "outputs": [],
   "source": [
    "df = pd.read_csv('/datasets/project_sql_result_01.csv') #Importar información de archivos CSV\n",
    "df_2 = pd.read_csv('/datasets/project_sql_result_04.csv')\n",
    "df_3 = pd.read_csv('/datasets/project_sql_result_07.csv')"
   ]
  },
  {
   "cell_type": "markdown",
   "metadata": {},
   "source": [
    "<div class=\"alert alert-block alert-success\">\n",
    "<b>Comentario del revisor:</b> <a class=\"tocSkip\"></a>\n",
    "    \n",
    "Has realizado un excelente trabajo al importar los datos y las bibliotecas necesarias.\n",
    "\n",
    "</div>"
   ]
  },
  {
   "cell_type": "code",
   "execution_count": 6,
   "metadata": {},
   "outputs": [
    {
     "name": "stdout",
     "output_type": "stream",
     "text": [
      "company_name    object\n",
      "trips_amount     int64\n",
      "dtype: object\n",
      "\n",
      "dropoff_location_name     object\n",
      "average_trips            float64\n",
      "dtype: object\n",
      "\n",
      "start_ts               object\n",
      "weather_conditions     object\n",
      "duration_seconds      float64\n",
      "dtype: object\n"
     ]
    }
   ],
   "source": [
    "print(df.dtypes) #Revisamos los tipos de datos en nuestros DataFrames\n",
    "print()\n",
    "print(df_2.dtypes)\n",
    "print()\n",
    "print(df_3.dtypes)"
   ]
  },
  {
   "cell_type": "code",
   "execution_count": 7,
   "metadata": {},
   "outputs": [
    {
     "name": "stdout",
     "output_type": "stream",
     "text": [
      "\n",
      "start_ts              datetime64[ns]\n",
      "weather_conditions            object\n",
      "duration_seconds             float64\n",
      "dtype: object\n"
     ]
    }
   ],
   "source": [
    "df_3['start_ts'] = pd.to_datetime(df_3['start_ts']) #Convertimos el tipo de dato de las fechas de texto a formato fecha\n",
    "print()\n",
    "print(df_3.dtypes)"
   ]
  },
  {
   "cell_type": "code",
   "execution_count": 8,
   "metadata": {},
   "outputs": [
    {
     "name": "stdout",
     "output_type": "stream",
     "text": [
      "0\n",
      "\n",
      "0\n",
      "\n",
      "197\n",
      "\n",
      "start_ts              0\n",
      "weather_conditions    0\n",
      "duration_seconds      0\n",
      "dtype: int64\n"
     ]
    }
   ],
   "source": [
    "print(df.duplicated().sum()) #Checar por duplicados\n",
    "print()\n",
    "print(df_2.duplicated().sum())\n",
    "print()\n",
    "print(df_3.duplicated().sum())\n",
    "print()\n",
    "print(df_3.isna().sum()) #Revisar si los duplicados son datos nulos"
   ]
  },
  {
   "cell_type": "markdown",
   "metadata": {},
   "source": [
    "<div class=\"alert alert-block alert-success\">\n",
    "\n",
    "<b>Comentario del revisor</b> <a class=\"tocSkip\"></a>\n",
    "\n",
    "Para estos análisis iniciales te recomiendo verificar si contamos con registros duplicados\n",
    "\n",
    "    Implementado!</div>\n",
    "\n"
   ]
  },
  {
   "cell_type": "code",
   "execution_count": 9,
   "metadata": {},
   "outputs": [
    {
     "name": "stdout",
     "output_type": "stream",
     "text": [
      "0\n"
     ]
    }
   ],
   "source": [
    "df_3 = df_3.drop_duplicates() #Quitar duplicados de la tabla de datos\n",
    "print(df_3.duplicated().sum())"
   ]
  },
  {
   "cell_type": "markdown",
   "metadata": {},
   "source": [
    "## El barrio con más viajes finalizados dentro de la plataforma.\n",
    "\n",
    "Para esto vamos a agrupar la información por localización y viajes promedio.\n",
    "Luego ordenamos los datos de mayor a menore y de ahí seleccionamos los primeros datos de la tabla resultante."
   ]
  },
  {
   "cell_type": "code",
   "execution_count": 10,
   "metadata": {
    "scrolled": true
   },
   "outputs": [
    {
     "name": "stdout",
     "output_type": "stream",
     "text": [
      "   dropoff_location_name  average_trips\n",
      "50                  Loop   10727.466667\n",
      "68           River North    9523.666667\n",
      "78         Streeterville    6664.666667\n",
      "87             West Loop    5163.666667\n",
      "63                O'Hare    2546.900000\n",
      "44             Lake View    2420.966667\n",
      "35            Grant Park    2068.533333\n",
      "56         Museum Campus    1510.000000\n",
      "32            Gold Coast    1364.233333\n",
      "74    Sheffield & DePaul    1259.766667\n"
     ]
    }
   ],
   "source": [
    "top_10_dropoff = df_2.groupby(['dropoff_location_name'])['average_trips'].mean().reset_index() #Primero agrupamos los datos por locación y promedio de viajes\n",
    "top_10_dropoff = top_10_dropoff.sort_values(by='average_trips', ascending=False) #Ordenamos los datos de mayor a menor cantidad de viajes promedio\n",
    "print(top_10_dropoff.head(10)) #Seleccionamos el top 10 del resultado que buscamos saber"
   ]
  },
  {
   "cell_type": "markdown",
   "metadata": {},
   "source": [
    "## Empresas de taxis más exitosas dentro de la plataforma.\n",
    "\n",
    "Para esto vamos a agrupar por compañías con mayor viajes finalizados en total.\n",
    "Luego vamos a ordenar la tabla de mayor a menor, para practicidad de este ejercicio eligiremos el top 10 de empresas para facilitar la visualización de datos."
   ]
  },
  {
   "cell_type": "code",
   "execution_count": 11,
   "metadata": {
    "scrolled": false
   },
   "outputs": [
    {
     "data": {
      "image/png": "[encoded data removed]",
      "text/plain": [
       "<Figure size 640x480 with 1 Axes>"
      ]
     },
     "metadata": {},
     "output_type": "display_data"
    },
    {
     "name": "stdout",
     "output_type": "stream",
     "text": [
      "\n",
      "                         company_name  trips_amount\n",
      "45                          Flash Cab         19558\n",
      "61          Taxi Affiliation Services         11422\n",
      "50                  Medallion Leasing         10367\n",
      "63                         Yellow Cab          9888\n",
      "60    Taxi Affiliation Service Yellow          9299\n",
      "36          Chicago Carriage Cab Corp          9181\n",
      "43                       City Service          8448\n",
      "59                           Sun Taxi          7701\n",
      "58          Star North Management LLC          7455\n",
      "33  Blue Ribbon Taxi Association Inc.          5953\n"
     ]
    }
   ],
   "source": [
    "df_top10 = df.groupby(['company_name'])['trips_amount'].sum().reset_index() \n",
    "df_top10 = df_top10.sort_values(by='trips_amount', ascending=False)\n",
    "df_top10 = pd.DataFrame(df_top10)\n",
    "df_top10.head(10).plot(x='company_name', y='trips_amount', kind='bar')\n",
    "mplt.title('Número de viajes por empresa')\n",
    "mplt.xlabel('Nombre de la empresa')\n",
    "mplt.ylabel('Viajes totales')\n",
    "mplt.xticks(rotation=90)\n",
    "mplt.show()\n",
    "\n",
    "print()\n",
    "\n",
    "top_10_companies = df.groupby(['company_name'])['trips_amount'].sum().reset_index() \n",
    "top_10_companies = top_10_companies.sort_values(by='trips_amount', ascending=False)\n",
    "print(top_10_companies.head(10))"
   ]
  },
  {
   "cell_type": "markdown",
   "metadata": {},
   "source": [
    "<div class=\"alert alert-block alert-success\">\n",
    "\n",
    "<b>Comentario del revisor</b> <a class=\"tocSkip\"></a>\n",
    "\n",
    "Muy buen trabajo con el desarrollo de la gráfica para visualizar los resultados. Solamente dado que al cliente le interesa el top 10 de las principales empresas con número de viajes, te recomiendo complementar este análisis con una gráfica solamente mostrando el top 10.\n",
    "\n",
    "    Bien hecho!</div>"
   ]
  },
  {
   "cell_type": "markdown",
   "metadata": {},
   "source": [
    "## Barrio con más viajes finalizados dentro de la plataforma. (gráfico)\n",
    "\n",
    "Para este ejercicio primero vamos a seleccionar el top 10 de nuestro dataframe creado previamente 'top_10_dropoff'.\n",
    "Con esta información vamos a generar un gráfico de barras presentando la mayor fluencia."
   ]
  },
  {
   "cell_type": "code",
   "execution_count": 12,
   "metadata": {},
   "outputs": [],
   "source": [
    "top_10_dropoff = top_10_dropoff.head(10)"
   ]
  },
  {
   "cell_type": "code",
   "execution_count": 13,
   "metadata": {},
   "outputs": [
    {
     "data": {
      "image/png": "[encoded data removed]",
      "text/plain": [
       "<Figure size 640x480 with 1 Axes>"
      ]
     },
     "metadata": {},
     "output_type": "display_data"
    }
   ],
   "source": [
    "import matplotlib.pyplot as plt\n",
    "\n",
    "fig, ax = plt.subplots()\n",
    "ax.scatter(x=top_10_dropoff['average_trips'], y=top_10_dropoff['dropoff_location_name'])\n",
    "plt.show()"
   ]
  },
  {
   "cell_type": "code",
   "execution_count": 14,
   "metadata": {},
   "outputs": [
    {
     "data": {
      "image/png": "[encoded data removed]",
      "text/plain": [
       "<Figure size 640x480 with 1 Axes>"
      ]
     },
     "metadata": {},
     "output_type": "display_data"
    }
   ],
   "source": [
    "top_10_drop_graph = pd.DataFrame(top_10_dropoff, columns=['dropoff_location_name','average_trips'])\n",
    "top_10_drop_graph.plot(x='dropoff_location_name', y='average_trips', kind='bar')\n",
    "mplt.title('Top 10 de destinos de viajes')\n",
    "mplt.xlabel('Nombre de la locación de destino')\n",
    "mplt.ylabel('Viajes totales')\n",
    "mplt.xticks(rotation=90)\n",
    "mplt.show()"
   ]
  },
  {
   "cell_type": "markdown",
   "metadata": {},
   "source": [
    "<div class=\"alert alert-block alert-success\">\n",
    "\n",
    "<b>Comentario del revisor</b> <a class=\"tocSkip\"></a>\n",
    "\n",
    "Excelente trabajo con el desarrollo de este análisis y lo complementaste con una gráfica.\n",
    "    </div>"
   ]
  },
  {
   "cell_type": "markdown",
   "metadata": {},
   "source": [
    "## Conclusiones Gráficos\n",
    "\n",
    "1) Las empresas ya constituidas tienen más fiabilidad y una mayor parte de los viajes agendados por los usuarios de Zuber.\n",
    "2) Los choferes que trabajan de manera independiente consiguen menos viajes a comparación de la empresas dentro de Zuber.\n",
    "3) Los destinos  más populares se muestran en la gráfica anterior, teniendo a Loop donde más terminan viajes de los usuarios."
   ]
  },
  {
   "cell_type": "markdown",
   "metadata": {},
   "source": [
    "## Prueba de Hipótesis\n",
    "\n",
    "Queremos probar si la deducción;\"La duración promedio de los viajes desde el Loop hasta el Aeropuerto Internacional O'Hare cambia los sábados lluviosos\". Es verdadera o no, para esto pondremos a prueba dos hipótesis:\n",
    "\n",
    "A) Hipótesis nula: no hay cambios en la duración promedio de los viajes de Loop hacia O'Hare.\n",
    "\n",
    "B) Hipótesis alternnativa: la duración promedio de los viajes incrementa los días sábados lluviosos.\n",
    "\n",
    "-> Para esto queremos tenes una fiabilidad del 95% por esta razón nuestro alpha será del 5%.\n",
    "\n",
    "\n",
    "Primero, vamos a utilizar el días del viaje para poder agrupar los viajes por sábados.\n",
    "Luego queremos filtrar los datos a que sean viajes de Loop a O'Hare.\n",
    "\n",
    "Finalmente, vamos a agrupar por días lluviosos usando la columna de condición climática.\n",
    "Aqui podemos crear data frames para comparar que contenga los días lluviosos y otro que contenga los días sin lluvia.\n",
    "Con estos dataframes podemos hacer la comparcación de que tanto puede llegar la duraciión del viaje si las condiciones de viajes son malas.\n"
   ]
  },
  {
   "cell_type": "code",
   "execution_count": 15,
   "metadata": {},
   "outputs": [],
   "source": [
    "from scipy import stats as st #Importamos librería para hacer cáculos de probabilidad"
   ]
  },
  {
   "cell_type": "code",
   "execution_count": 33,
   "metadata": {},
   "outputs": [
    {
     "name": "stdout",
     "output_type": "stream",
     "text": [
      "[5]\n"
     ]
    }
   ],
   "source": [
    "df_3['day_of_week'] = df_3['start_ts'].dt.weekday #Agregamos una nueva columna para día de la semana\n",
    "\n",
    "print(df_3['day_of_week'].unique()) #Confirmamos datos únicos en la nueva columna, al parecer la base de datos contiene información de sábados sólamente"
   ]
  },
  {
   "cell_type": "code",
   "execution_count": 43,
   "metadata": {},
   "outputs": [
    {
     "name": "stdout",
     "output_type": "stream",
     "text": [
      "['Bad']\n",
      "148\n",
      "    weather_conditions  duration_seconds\n",
      "6                  Bad            2969.0\n",
      "30                 Bad            1980.0\n",
      "34                 Bad            2460.0\n",
      "51                 Bad            2760.0\n",
      "52                 Bad            2460.0\n",
      "54                 Bad            1440.0\n",
      "65                 Bad            2363.0\n",
      "70                 Bad            3000.0\n",
      "78                 Bad            3120.0\n",
      "92                 Bad            1511.0\n",
      "102                Bad            1980.0\n",
      "107                Bad            1320.0\n",
      "110                Bad            4044.0\n",
      "113                Bad            2782.0\n",
      "134                Bad            3024.0\n",
      "137                Bad            3300.0\n",
      "147                Bad            3180.0\n",
      "155                Bad            2055.0\n",
      "164                Bad            1260.0\n",
      "165                Bad            2940.0\n",
      "166                Bad            2340.0\n",
      "167                Bad            2220.0\n",
      "176                Bad            3130.0\n",
      "178                Bad            2934.0\n",
      "180                Bad            3270.0\n",
      "192                Bad            1500.0\n",
      "201                Bad            2571.0\n",
      "203                Bad             480.0\n",
      "213                Bad            2580.0\n",
      "218                Bad            2100.0\n"
     ]
    }
   ],
   "source": [
    "rainy = ['Bad'] #Creamos filtro\n",
    "df_3_rainy = df_3[df_3['weather_conditions'].isin(rainy)][['weather_conditions','duration_seconds']] #Filtramos información de mal clima\n",
    "print(df_3_rainy['weather_conditions'].unique()) #Validamos que la info sea de malas condiciones de lluvia\n",
    "print(df_3_rainy['weather_conditions'].count())#Contamos cantidad de datos disponibles\n",
    "print(df_3_rainy.head(30)) #Revisamos como se ve muestra de la tabla"
   ]
  },
  {
   "cell_type": "code",
   "execution_count": 57,
   "metadata": {},
   "outputs": [
    {
     "name": "stdout",
     "output_type": "stream",
     "text": [
      "['Good']\n",
      "723\n",
      "     weather_conditions  duration_seconds\n",
      "13                 Good            1546.0\n",
      "244                Good            1123.0\n",
      "171                Good            1140.0\n",
      "313                Good            1530.0\n",
      "12                 Good            1470.0\n",
      "482                Good            3000.0\n",
      "162                Good            1162.0\n",
      "419                Good            1541.0\n",
      "98                 Good            2999.0\n",
      "768                Good            2310.0\n",
      "883                Good            1690.0\n",
      "595                Good            3420.0\n",
      "35                 Good            1620.0\n",
      "1056               Good            3275.0\n",
      "414                Good            1336.0\n",
      "815                Good            2880.0\n",
      "522                Good            1513.0\n",
      "404                Good            1961.0\n",
      "515                Good            1362.0\n",
      "917                Good            1568.0\n",
      "208                Good            2160.0\n",
      "106                Good            1380.0\n",
      "774                Good            1316.0\n",
      "249                Good            1430.0\n",
      "479                Good            2280.0\n",
      "977                Good            1680.0\n",
      "545                Good            3059.0\n",
      "163                Good               0.0\n",
      "517                Good            3261.0\n",
      "594                Good            1417.0\n"
     ]
    }
   ],
   "source": [
    "sunny = ['Good'] #Creamos filtro\n",
    "df_3_sunny = df_3[df_3['weather_conditions'].isin(sunny)][['weather_conditions','duration_seconds']] #Filtramos información de buen clima\n",
    "print(df_3_sunny['weather_conditions'].unique()) #Validamos que la info sea de buenas condiciones de lluvia\n",
    "print(df_3_sunny['weather_conditions'].count()) #Contamos con la cantidad de datos disponibles\n",
    "\n",
    "df_3_sunny = df_3_sunny.sample(148) #Equilibramos la tabla a la cantidad de días lluviosos para tener dos poblaciones con la misma cantidad de datos\n",
    "\n",
    "print(df_3_sunny.head(30)) #Revisamos que la info se escoga al azar para la consulta."
   ]
  },
  {
   "cell_type": "code",
   "execution_count": 54,
   "metadata": {},
   "outputs": [
    {
     "name": "stdout",
     "output_type": "stream",
     "text": [
      "<class 'pandas.core.frame.DataFrame'>\n",
      "Int64Index: 871 entries, 0 to 1067\n",
      "Data columns (total 4 columns):\n",
      " #   Column              Non-Null Count  Dtype         \n",
      "---  ------              --------------  -----         \n",
      " 0   start_ts            871 non-null    datetime64[ns]\n",
      " 1   weather_conditions  871 non-null    object        \n",
      " 2   duration_seconds    871 non-null    float64       \n",
      " 3   day_of_week         871 non-null    int64         \n",
      "dtypes: datetime64[ns](1), float64(1), int64(1), object(1)\n",
      "memory usage: 34.0+ KB\n",
      "None\n"
     ]
    }
   ],
   "source": [
    "print(df_3.info())"
   ]
  },
  {
   "cell_type": "code",
   "execution_count": 64,
   "metadata": {},
   "outputs": [
    {
     "name": "stdout",
     "output_type": "stream",
     "text": [
      "148\n",
      "148\n"
     ]
    }
   ],
   "source": [
    "rainy_list = df_3_rainy['duration_seconds'].tolist() #Transformamos nuestras columnas en listas para la prueba.\n",
    "sunny_list = df_3_sunny['duration_seconds'].tolist() #Usamos nuestras tablas que fueron filtradas con la info que buscamos.\n",
    "rainy_len = len(rainy_list) #Nos aseguramos de trabajar con una lista con la misma cantidad de datos.\n",
    "sunny_len = len(sunny_list)\n",
    "print(rainy_len)\n",
    "print(sunny_len)"
   ]
  },
  {
   "cell_type": "code",
   "execution_count": 67,
   "metadata": {},
   "outputs": [
    {
     "name": "stdout",
     "output_type": "stream",
     "text": [
      "Rechazamos la hipótesis nula: la duración de los viajes en sábados lluviosos cambia a comparación de un sábado con buen clima.\n",
      "El valor de P es: 5.635587703951289e-08\n"
     ]
    }
   ],
   "source": [
    "from scipy import stats as st\n",
    "import numpy as np\n",
    "\n",
    "alpha = 0.05\n",
    "\n",
    "resultados = st.ttest_ind(rainy_list, sunny_list, equal_var=False) # Hacemos una prueba de igualdad de la media de dos poblaciones.\n",
    "\n",
    "p_value = resultados.pvalue\n",
    "\n",
    "if (p_value < alpha):\n",
    "    print('Rechazamos la hipótesis nula: la duración de los viajes en sábados lluviosos cambia a comparación de un sábado con buen clima.')\n",
    "else:\n",
    "    print('Aceptamos la hipótesis nula: no existe cambio en la duración de los viajes sin importar las lluvias ')\n",
    "    \n",
    "print('El valor de P es:', p_value)"
   ]
  },
  {
   "cell_type": "markdown",
   "metadata": {},
   "source": [
    "## Conclusion hipótesis\n",
    "\n",
    "Los sábados lluviosos los viajes tienden a durar más que los días no lluviosos.\n",
    "Esto afecta el tiempo de recorrido de los pasajeros que van de Loop a O'Hare."
   ]
  },
  {
   "cell_type": "markdown",
   "metadata": {},
   "source": [
    " <div class=\"alert alert-block alert-success\">\n",
    "<b>Comentario revisor</b> <a class=\"tocSkip\"></a>\n",
    "\n",
    "Gran trabajo! Ya solamente es necesario desarrollar la prueba de hipótesis para saber si la duración promedio de los viajes desde el Loop hasta el Aeropuerto Internacional O'Hare cambia los sábados lluviosos\"\n",
    "    \n",
    "    Implementación perfecta de la prueba de hipotesis mediante el cálculo del p value en compración con alpha! Excelente!\n",
    "</div>"
   ]
  },
  {
   "cell_type": "code",
   "execution_count": null,
   "metadata": {},
   "outputs": [],
   "source": []
  }
 ],
 "metadata": {
  "ExecuteTimeLog": [
   {
    "duration": 301,
    "start_time": "2024-09-18T01:33:27.160Z"
   },
   {
    "duration": 6,
    "start_time": "2024-09-18T01:34:22.226Z"
   },
   {
    "duration": 11,
    "start_time": "2024-09-18T01:34:39.486Z"
   },
   {
    "duration": 3,
    "start_time": "2024-09-18T01:35:27.869Z"
   },
   {
    "duration": 12,
    "start_time": "2024-09-18T01:35:32.694Z"
   },
   {
    "duration": 9,
    "start_time": "2024-09-18T01:36:19.310Z"
   },
   {
    "duration": 16,
    "start_time": "2024-09-18T01:40:30.146Z"
   },
   {
    "duration": 9,
    "start_time": "2024-09-18T01:40:32.226Z"
   },
   {
    "duration": 5,
    "start_time": "2024-09-18T01:41:33.960Z"
   },
   {
    "duration": 1983,
    "start_time": "2024-09-18T01:42:40.712Z"
   },
   {
    "duration": 1872,
    "start_time": "2024-09-18T01:42:45.202Z"
   },
   {
    "duration": 1836,
    "start_time": "2024-09-18T01:42:51.190Z"
   },
   {
    "duration": 2322,
    "start_time": "2024-09-18T01:42:54.497Z"
   },
   {
    "duration": 13,
    "start_time": "2024-09-18T01:42:59.329Z"
   },
   {
    "duration": 5,
    "start_time": "2024-09-18T01:43:02.122Z"
   },
   {
    "duration": 2,
    "start_time": "2024-09-18T01:44:45.498Z"
   },
   {
    "duration": 127,
    "start_time": "2024-09-18T01:45:48.697Z"
   },
   {
    "duration": 3,
    "start_time": "2024-09-18T01:45:58.011Z"
   },
   {
    "duration": 5,
    "start_time": "2024-09-18T01:46:21.865Z"
   },
   {
    "duration": 5,
    "start_time": "2024-09-18T01:46:40.412Z"
   },
   {
    "duration": 121,
    "start_time": "2024-09-18T01:48:55.798Z"
   },
   {
    "duration": 400,
    "start_time": "2024-09-18T01:49:22.034Z"
   },
   {
    "duration": 5,
    "start_time": "2024-09-18T01:50:19.565Z"
   },
   {
    "duration": 114,
    "start_time": "2024-09-18T01:54:03.368Z"
   },
   {
    "duration": 4,
    "start_time": "2024-09-18T01:54:31.417Z"
   },
   {
    "duration": 16,
    "start_time": "2024-09-18T01:56:12.994Z"
   },
   {
    "duration": 16,
    "start_time": "2024-09-18T01:56:19.074Z"
   },
   {
    "duration": 17,
    "start_time": "2024-09-18T01:56:44.440Z"
   },
   {
    "duration": 14,
    "start_time": "2024-09-18T01:56:55.319Z"
   },
   {
    "duration": 16,
    "start_time": "2024-09-18T01:57:57.601Z"
   },
   {
    "duration": 8,
    "start_time": "2024-09-18T01:58:57.525Z"
   },
   {
    "duration": 163,
    "start_time": "2024-09-18T01:59:07.099Z"
   },
   {
    "duration": 7,
    "start_time": "2024-09-18T01:59:42.079Z"
   },
   {
    "duration": 8,
    "start_time": "2024-09-18T01:59:53.943Z"
   },
   {
    "duration": 7,
    "start_time": "2024-09-18T02:00:07.294Z"
   },
   {
    "duration": 5,
    "start_time": "2024-09-18T02:03:40.112Z"
   },
   {
    "duration": 5,
    "start_time": "2024-09-18T02:09:58.675Z"
   },
   {
    "duration": 5,
    "start_time": "2024-09-18T02:10:30.260Z"
   },
   {
    "duration": 3,
    "start_time": "2024-09-18T02:10:36.196Z"
   },
   {
    "duration": 5,
    "start_time": "2024-09-18T02:11:06.781Z"
   },
   {
    "duration": 1041,
    "start_time": "2024-09-18T02:11:35.423Z"
   },
   {
    "duration": 993,
    "start_time": "2024-09-18T02:11:50.231Z"
   },
   {
    "duration": 997,
    "start_time": "2024-09-18T02:15:08.465Z"
   },
   {
    "duration": 253,
    "start_time": "2024-09-18T02:17:49.383Z"
   },
   {
    "duration": 1015,
    "start_time": "2024-09-18T02:18:19.279Z"
   },
   {
    "duration": 1005,
    "start_time": "2024-09-18T02:18:33.867Z"
   },
   {
    "duration": 5,
    "start_time": "2024-09-18T02:20:26.543Z"
   },
   {
    "duration": 983,
    "start_time": "2024-09-18T02:20:51.379Z"
   },
   {
    "duration": 1002,
    "start_time": "2024-09-18T02:24:07.761Z"
   },
   {
    "duration": 62,
    "start_time": "2024-09-18T02:29:52.794Z"
   },
   {
    "duration": 1153,
    "start_time": "2024-09-18T02:30:04.704Z"
   },
   {
    "duration": 3,
    "start_time": "2024-09-18T02:31:15.237Z"
   },
   {
    "duration": 280,
    "start_time": "2024-09-18T02:31:18.800Z"
   },
   {
    "duration": 141,
    "start_time": "2024-09-18T02:32:18.519Z"
   },
   {
    "duration": 2,
    "start_time": "2024-09-18T02:34:28.909Z"
   },
   {
    "duration": 5,
    "start_time": "2024-09-18T02:39:00.545Z"
   },
   {
    "duration": 6,
    "start_time": "2024-09-18T02:40:17.957Z"
   },
   {
    "duration": 157,
    "start_time": "2024-09-29T17:31:04.319Z"
   },
   {
    "duration": 159,
    "start_time": "2024-09-29T17:31:24.687Z"
   },
   {
    "duration": 1903,
    "start_time": "2024-09-29T17:31:36.511Z"
   },
   {
    "duration": 1832,
    "start_time": "2024-09-29T17:31:38.417Z"
   },
   {
    "duration": 1792,
    "start_time": "2024-09-29T17:31:40.251Z"
   },
   {
    "duration": 2530,
    "start_time": "2024-09-29T17:31:42.046Z"
   },
   {
    "duration": 20,
    "start_time": "2024-09-29T17:31:44.578Z"
   },
   {
    "duration": 4,
    "start_time": "2024-09-29T17:31:44.600Z"
   },
   {
    "duration": 6,
    "start_time": "2024-09-29T17:31:44.606Z"
   },
   {
    "duration": 6,
    "start_time": "2024-09-29T17:31:44.614Z"
   },
   {
    "duration": 8,
    "start_time": "2024-09-29T17:31:44.622Z"
   },
   {
    "duration": 1086,
    "start_time": "2024-09-29T17:31:44.632Z"
   },
   {
    "duration": 2,
    "start_time": "2024-09-29T17:31:45.720Z"
   },
   {
    "duration": 138,
    "start_time": "2024-09-29T17:31:45.724Z"
   },
   {
    "duration": 2,
    "start_time": "2024-09-29T17:31:45.864Z"
   },
   {
    "duration": 5,
    "start_time": "2024-09-29T17:31:45.868Z"
   },
   {
    "duration": 5,
    "start_time": "2024-09-29T17:31:45.875Z"
   },
   {
    "duration": 6,
    "start_time": "2024-09-29T17:32:57.084Z"
   },
   {
    "duration": 124,
    "start_time": "2024-09-29T17:33:19.532Z"
   },
   {
    "duration": 11,
    "start_time": "2024-09-29T17:34:16.536Z"
   },
   {
    "duration": 9,
    "start_time": "2024-09-29T17:34:31.621Z"
   },
   {
    "duration": 6,
    "start_time": "2024-09-29T17:39:48.748Z"
   },
   {
    "duration": 9,
    "start_time": "2024-09-29T17:39:58.751Z"
   },
   {
    "duration": 154,
    "start_time": "2024-09-29T17:42:05.019Z"
   },
   {
    "duration": 13,
    "start_time": "2024-09-29T17:42:22.135Z"
   },
   {
    "duration": 13,
    "start_time": "2024-09-29T17:42:28.046Z"
   },
   {
    "duration": 13,
    "start_time": "2024-09-29T17:42:36.392Z"
   },
   {
    "duration": 13,
    "start_time": "2024-09-29T17:42:59.505Z"
   },
   {
    "duration": 13,
    "start_time": "2024-09-29T17:43:18.786Z"
   },
   {
    "duration": 14,
    "start_time": "2024-09-29T17:43:31.063Z"
   },
   {
    "duration": 13,
    "start_time": "2024-09-29T17:44:37.089Z"
   },
   {
    "duration": 13,
    "start_time": "2024-09-29T17:45:37.222Z"
   },
   {
    "duration": 13,
    "start_time": "2024-09-29T17:46:32.474Z"
   },
   {
    "duration": 975,
    "start_time": "2024-09-29T17:49:58.264Z"
   },
   {
    "duration": 17,
    "start_time": "2024-09-29T17:52:11.689Z"
   },
   {
    "duration": 16,
    "start_time": "2024-09-29T17:56:17.505Z"
   },
   {
    "duration": 986,
    "start_time": "2024-09-29T17:56:29.307Z"
   },
   {
    "duration": 166,
    "start_time": "2024-09-29T17:56:50.348Z"
   },
   {
    "duration": 16,
    "start_time": "2024-09-29T17:57:32.942Z"
   },
   {
    "duration": 1860,
    "start_time": "2024-09-29T17:58:01.465Z"
   },
   {
    "duration": 1824,
    "start_time": "2024-09-29T17:58:03.327Z"
   },
   {
    "duration": 1795,
    "start_time": "2024-09-29T17:58:05.153Z"
   },
   {
    "duration": 798,
    "start_time": "2024-09-29T17:58:06.951Z"
   },
   {
    "duration": 13,
    "start_time": "2024-09-29T17:58:07.750Z"
   },
   {
    "duration": 5,
    "start_time": "2024-09-29T17:58:07.765Z"
   },
   {
    "duration": 5,
    "start_time": "2024-09-29T17:58:07.772Z"
   },
   {
    "duration": 26,
    "start_time": "2024-09-29T17:58:07.779Z"
   },
   {
    "duration": 3,
    "start_time": "2024-09-29T17:58:07.806Z"
   },
   {
    "duration": 8,
    "start_time": "2024-09-29T17:58:07.811Z"
   },
   {
    "duration": 209,
    "start_time": "2024-09-29T17:58:07.821Z"
   },
   {
    "duration": 3,
    "start_time": "2024-09-29T17:58:08.032Z"
   },
   {
    "duration": 149,
    "start_time": "2024-09-29T17:58:08.037Z"
   },
   {
    "duration": 2,
    "start_time": "2024-09-29T17:58:08.188Z"
   },
   {
    "duration": 15,
    "start_time": "2024-09-29T17:58:08.192Z"
   },
   {
    "duration": 6,
    "start_time": "2024-09-29T17:58:08.208Z"
   },
   {
    "duration": 4,
    "start_time": "2024-09-29T17:58:39.703Z"
   },
   {
    "duration": 7,
    "start_time": "2024-09-29T17:58:57.327Z"
   },
   {
    "duration": 3,
    "start_time": "2024-09-29T18:12:47.734Z"
   },
   {
    "duration": 263,
    "start_time": "2024-09-29T18:16:13.167Z"
   },
   {
    "duration": 112,
    "start_time": "2024-09-29T18:16:33.830Z"
   },
   {
    "duration": 103,
    "start_time": "2024-09-29T18:16:52.115Z"
   },
   {
    "duration": 100,
    "start_time": "2024-09-29T18:17:17.227Z"
   },
   {
    "duration": 360,
    "start_time": "2024-09-29T18:45:56.856Z"
   },
   {
    "duration": 6,
    "start_time": "2024-09-29T18:47:59.058Z"
   },
   {
    "duration": 8,
    "start_time": "2024-09-29T18:51:22.508Z"
   },
   {
    "duration": 10,
    "start_time": "2024-09-29T18:51:37.539Z"
   },
   {
    "duration": 8,
    "start_time": "2024-09-29T18:51:49.954Z"
   },
   {
    "duration": 8,
    "start_time": "2024-09-29T18:52:24.460Z"
   },
   {
    "duration": 7,
    "start_time": "2024-09-29T18:52:46.085Z"
   },
   {
    "duration": 1805,
    "start_time": "2024-09-29T18:53:00.556Z"
   },
   {
    "duration": 1837,
    "start_time": "2024-09-29T18:53:02.363Z"
   },
   {
    "duration": 1808,
    "start_time": "2024-09-29T18:53:04.201Z"
   },
   {
    "duration": 829,
    "start_time": "2024-09-29T18:53:06.012Z"
   },
   {
    "duration": 20,
    "start_time": "2024-09-29T18:53:06.844Z"
   },
   {
    "duration": 5,
    "start_time": "2024-09-29T18:53:06.867Z"
   },
   {
    "duration": 5,
    "start_time": "2024-09-29T18:53:06.873Z"
   },
   {
    "duration": 7,
    "start_time": "2024-09-29T18:53:06.880Z"
   },
   {
    "duration": 19,
    "start_time": "2024-09-29T18:53:06.888Z"
   },
   {
    "duration": 8,
    "start_time": "2024-09-29T18:53:06.910Z"
   },
   {
    "duration": 219,
    "start_time": "2024-09-29T18:53:06.922Z"
   },
   {
    "duration": 3,
    "start_time": "2024-09-29T18:53:07.142Z"
   },
   {
    "duration": 106,
    "start_time": "2024-09-29T18:53:07.147Z"
   },
   {
    "duration": 187,
    "start_time": "2024-09-29T18:53:07.255Z"
   },
   {
    "duration": 3,
    "start_time": "2024-09-29T18:53:07.444Z"
   },
   {
    "duration": 7,
    "start_time": "2024-09-29T18:53:07.448Z"
   },
   {
    "duration": 10,
    "start_time": "2024-09-29T18:53:23.705Z"
   },
   {
    "duration": 4,
    "start_time": "2024-09-29T18:54:31.500Z"
   },
   {
    "duration": 4,
    "start_time": "2024-09-29T18:54:48.535Z"
   },
   {
    "duration": 5,
    "start_time": "2024-09-29T18:54:56.877Z"
   },
   {
    "duration": 9,
    "start_time": "2024-09-29T18:58:18.430Z"
   },
   {
    "duration": 5,
    "start_time": "2024-09-29T19:00:23.180Z"
   },
   {
    "duration": 128,
    "start_time": "2024-09-29T19:00:42.071Z"
   },
   {
    "duration": 3,
    "start_time": "2024-09-29T19:01:23.254Z"
   },
   {
    "duration": 9,
    "start_time": "2024-09-29T19:01:38.497Z"
   },
   {
    "duration": 4,
    "start_time": "2024-09-29T19:01:52.832Z"
   },
   {
    "duration": 451,
    "start_time": "2024-09-29T19:02:01.555Z"
   },
   {
    "duration": 6,
    "start_time": "2024-09-29T19:03:31.528Z"
   },
   {
    "duration": 7,
    "start_time": "2024-09-29T19:03:42.614Z"
   },
   {
    "duration": 6,
    "start_time": "2024-09-29T19:05:50.995Z"
   },
   {
    "duration": 7,
    "start_time": "2024-09-29T19:06:09.055Z"
   },
   {
    "duration": 7,
    "start_time": "2024-09-29T19:06:27.983Z"
   },
   {
    "duration": 4,
    "start_time": "2024-09-29T19:06:53.894Z"
   },
   {
    "duration": 5,
    "start_time": "2024-09-29T19:06:55.678Z"
   },
   {
    "duration": 17,
    "start_time": "2024-09-29T19:07:58.699Z"
   },
   {
    "duration": 7,
    "start_time": "2024-09-29T19:08:04.724Z"
   },
   {
    "duration": 7,
    "start_time": "2024-09-29T19:08:46.357Z"
   },
   {
    "duration": 7,
    "start_time": "2024-09-29T19:09:37.261Z"
   },
   {
    "duration": 12,
    "start_time": "2024-09-29T19:11:01.961Z"
   },
   {
    "duration": 18,
    "start_time": "2024-09-29T19:11:38.197Z"
   },
   {
    "duration": 7,
    "start_time": "2024-09-29T19:11:59.884Z"
   },
   {
    "duration": 8,
    "start_time": "2024-09-29T19:13:36.018Z"
   },
   {
    "duration": 7,
    "start_time": "2024-09-29T19:14:01.149Z"
   },
   {
    "duration": 8,
    "start_time": "2024-09-29T19:14:10.268Z"
   },
   {
    "duration": 2,
    "start_time": "2024-09-29T19:19:31.055Z"
   },
   {
    "duration": 4,
    "start_time": "2024-09-29T19:19:40.023Z"
   },
   {
    "duration": 2,
    "start_time": "2024-09-29T19:19:46.408Z"
   },
   {
    "duration": 2,
    "start_time": "2024-09-29T19:20:50.693Z"
   },
   {
    "duration": 5,
    "start_time": "2024-09-29T19:21:01.253Z"
   },
   {
    "duration": 3,
    "start_time": "2024-09-29T19:22:42.394Z"
   },
   {
    "duration": 4,
    "start_time": "2024-09-29T19:24:21.493Z"
   },
   {
    "duration": 8,
    "start_time": "2024-09-29T19:26:38.637Z"
   },
   {
    "duration": 8,
    "start_time": "2024-09-29T19:26:57.247Z"
   },
   {
    "duration": 9,
    "start_time": "2024-09-29T19:26:58.539Z"
   },
   {
    "duration": 7,
    "start_time": "2024-09-29T19:27:03.300Z"
   },
   {
    "duration": 7,
    "start_time": "2024-09-29T19:27:05.683Z"
   },
   {
    "duration": 8,
    "start_time": "2024-09-29T19:27:57.448Z"
   },
   {
    "duration": 3,
    "start_time": "2024-09-29T19:28:01.485Z"
   },
   {
    "duration": 4,
    "start_time": "2024-09-29T19:28:02.255Z"
   },
   {
    "duration": 13,
    "start_time": "2024-09-29T19:28:26.759Z"
   },
   {
    "duration": 13,
    "start_time": "2024-09-29T19:28:32.982Z"
   },
   {
    "duration": 4,
    "start_time": "2024-09-29T19:29:15.154Z"
   },
   {
    "duration": 3,
    "start_time": "2024-09-29T19:29:19.896Z"
   },
   {
    "duration": 3,
    "start_time": "2024-09-29T19:29:59.549Z"
   },
   {
    "duration": 3,
    "start_time": "2024-09-29T19:31:16.456Z"
   },
   {
    "duration": 19,
    "start_time": "2024-09-29T19:36:31.263Z"
   },
   {
    "duration": 4,
    "start_time": "2024-09-29T19:36:39.647Z"
   }
  ],
  "kernelspec": {
   "display_name": "Python 3 (ipykernel)",
   "language": "python",
   "name": "python3"
  },
  "language_info": {
   "codemirror_mode": {
    "name": "ipython",
    "version": 3
   },
   "file_extension": ".py",
   "mimetype": "text/x-python",
   "name": "python",
   "nbconvert_exporter": "python",
   "pygments_lexer": "ipython3",
   "version": "3.9.19"
  },
  "toc": {
   "base_numbering": 1,
   "nav_menu": {},
   "number_sections": true,
   "sideBar": true,
   "skip_h1_title": true,
   "title_cell": "Table of Contents",
   "title_sidebar": "Contents",
   "toc_cell": false,
   "toc_position": {},
   "toc_section_display": true,
   "toc_window_display": false
  }
 },
 "nbformat": 4,
 "nbformat_minor": 2
}
