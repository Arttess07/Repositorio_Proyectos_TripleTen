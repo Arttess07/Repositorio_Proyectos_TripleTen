{
 "cells": [
  {
   "cell_type": "markdown",
   "metadata": {},
   "source": [
    "# 1) Introducción\n",
    "\n",
    "La empresa OilyGiant nos ha pedido que encontremos 200 pozos nuevos de petróleo.\n",
    "Para esto nos han brindado 3 bases de datos que contienen las coordenadas de los pozos actuales y la cantidad en miles de barriles, de petróleo crudo por pozo.\n",
    "Requieren que nuestro modelo tenga el margen de ganacia más grande, y un riesgo de pérdida menor al 2.5%"
   ]
  },
  {
   "cell_type": "markdown",
   "metadata": {},
   "source": [
    "# 2) Cargar datos y preparación\n",
    "\n",
    "La primero que haremos es revisar las bases de datos que nos han proporcionado y la vamos a limpiar la data que encontremos sea necesaria para después ser usada en el análisis."
   ]
  },
  {
   "cell_type": "code",
   "execution_count": 1,
   "metadata": {},
   "outputs": [],
   "source": [
    "import pandas as pd #Importar librerías básicas y de estadística para realizar modelo\n",
    "import numpy as np\n",
    "from sklearn.model_selection import train_test_split\n",
    "from sklearn.linear_model import LinearRegression\n",
    "from sklearn.metrics import mean_squared_error\n",
    "from scipy import stats as st\n",
    "from numpy.random import RandomState"
   ]
  },
  {
   "cell_type": "code",
   "execution_count": 2,
   "metadata": {},
   "outputs": [
    {
     "name": "stdout",
     "output_type": "stream",
     "text": [
      "<class 'pandas.core.frame.DataFrame'>\n",
      "RangeIndex: 100000 entries, 0 to 99999\n",
      "Data columns (total 5 columns):\n",
      " #   Column   Non-Null Count   Dtype  \n",
      "---  ------   --------------   -----  \n",
      " 0   id       100000 non-null  object \n",
      " 1   f0       100000 non-null  float64\n",
      " 2   f1       100000 non-null  float64\n",
      " 3   f2       100000 non-null  float64\n",
      " 4   product  100000 non-null  float64\n",
      "dtypes: float64(4), object(1)\n",
      "memory usage: 3.8+ MB\n",
      "None\n",
      "\n",
      "id         0\n",
      "f0         0\n",
      "f1         0\n",
      "f2         0\n",
      "product    0\n",
      "dtype: int64\n",
      "\n",
      "0\n"
     ]
    }
   ],
   "source": [
    "#base_0 = pd.read_csv('geo_data_0.csv') #Leer bases de datos\n",
    "#base_1 = pd.read_csv('geo_data_1.csv')\n",
    "#base_2 = pd.read_csv('geo_data_2.csv')\n",
    "\n",
    "base_0 = pd.read_csv('/datasets/geo_data_0.csv')\n",
    "base_1 = pd.read_csv('/datasets/geo_data_1.csv')\n",
    "base_2 = pd.read_csv('/datasets/geo_data_2.csv')\n",
    "\n",
    "print(base_0.info()) #Revisamos info en bases de datos\n",
    "print()\n",
    "print(base_0.isna().sum()) #Revisamos datos nulos en nuestro DataFrame\n",
    "print()\n",
    "print(base_0.duplicated().sum())\n",
    "\n",
    "#No parece haber datos nulos o faltantes, al ser coordenadas podemos asumira que toda la información está lista para ser usada.\n",
    "#Este es el mismo caso para las otras bases, así que no será necesaria limpiar la base, se puede usar tal como está.\n",
    "#Ya podemos empezar a manipular la información para crear el modelo."
   ]
  },
  {
   "cell_type": "markdown",
   "metadata": {},
   "source": [
    "# 3) Entrenar primer modelo\n",
    "\n",
    "Ahora que ya tenemos la data lista la vamos a dividi para poder entrenar el modelo.\n",
    "Vamos a asesosrar como va proviendo los resultados y saber si debemos de modificar el modelo para mejorar.\n",
    "También haremos evaluaciones de riesgo para poder llegar a margen esperado."
   ]
  },
  {
   "cell_type": "code",
   "execution_count": 3,
   "metadata": {},
   "outputs": [],
   "source": [
    "train_base_0, valid_base_0 = train_test_split(base_0, test_size=0.25, random_state=12345) #Dividimos nuestras bases en muestreos para entrenar y validar el modelo.\n",
    "train_base_1, valid_base_1 = train_test_split(base_1, test_size=0.25, random_state=12345)\n",
    "train_base_2, valid_base_2 = train_test_split(base_2, test_size=0.25, random_state=12345)\n",
    "\n",
    "feat_train_b0 = train_base_0.drop(['product', 'id'] , axis=1) #Dividimos nuestras bases en nuestras características  de entrenamiento y validación de objetivos.\n",
    "target_train_b0 = train_base_0['product']            #En este caso buscamos la mayor cantidad  de barriles, así que la columna 'product' con la cantidad de barriles es nuestro objetivo a alcanzar\n",
    "\n",
    "feat_valid_b0 = valid_base_0.drop(['product', 'id'] , axis=1)\n",
    "target_valid_b0 = valid_base_0['product']\n",
    "\n",
    "feat_train_b1 = train_base_1.drop(['product', 'id'] , axis=1)\n",
    "target_train_b1 = train_base_1['product']\n",
    "\n",
    "feat_valid_b1 = valid_base_1.drop(['product', 'id'] , axis=1)\n",
    "target_valid_b1 = valid_base_1['product']\n",
    "\n",
    "feat_train_b2 = train_base_2.drop(['product', 'id'] , axis=1)\n",
    "target_train_b2 = train_base_2['product']\n",
    "\n",
    "feat_valid_b2 = valid_base_2.drop(['product', 'id'] , axis=1)\n",
    "target_valid_b2 = valid_base_2['product']"
   ]
  },
  {
   "cell_type": "code",
   "execution_count": 4,
   "metadata": {},
   "outputs": [],
   "source": [
    "model_0 = LinearRegression()                   #Entrenamos los modelos con los conjuntos de entrenamiento.\n",
    "model_0.fit(feat_train_b0, target_train_b0)    \n",
    "\n",
    "model_1 = LinearRegression()\n",
    "model_1.fit(feat_train_b1, target_train_b1)\n",
    "\n",
    "model_2 = LinearRegression()\n",
    "model_2.fit(feat_train_b2, target_train_b2)\n",
    "\n",
    "predicted_valid_b0 = model_0.predict(feat_valid_b0) #Guardamos las predicciones del modelo para usar distintos métodos de validación.\n",
    "predicted_valid_b1 = model_1.predict(feat_valid_b1)\n",
    "predicted_valid_b2 = model_2.predict(feat_valid_b2)"
   ]
  },
  {
   "cell_type": "code",
   "execution_count": 5,
   "metadata": {},
   "outputs": [
    {
     "name": "stdout",
     "output_type": "stream",
     "text": [
      "Validación base_0\n",
      "Promedio de miles de barriles por pozo predicción base_0: 92.59256778438035\n",
      "Error cuadrático medio base_0: 1412.2129364399243\n",
      "Raíz del error cuadrático medio base_0: 37.5794217150813\n",
      "\n",
      "Validación base_1\n",
      "Promedio de miles de barriles por pozo predicción base_1: 68.728546895446\n",
      "Error cuadrático medio base_1: 0.7976263360391157\n",
      "Raíz del error cuadrático medio base_1: 0.893099286775617\n",
      "\n",
      "Validación base_2\n",
      "Promedio de miles de barriles por pozo predicción base_2: 94.96504596800489\n",
      "Error cuadrático medio base_2: 1602.3775813236196\n",
      "Raíz del error cuadrático medio base_2: 40.02970873393434\n",
      "\n",
      "Conclusiones resultados RMSE: Aqui observamos que la base 1 tiene el error más pequeño, podemos suponer que en esta base, los datos se comportan de una manera ordinaria.\n",
      "Las bases 0 y 2, tienen un error elevado, el comportamiento en estas bases es anormal.\n",
      "Apesar de eso, estas bases muestran una cantidad promedio de barriles por pozo mayor.\n",
      "Así que la inversión en estos sitios puede ser de mayor riesgo pero mayor ganancia\n"
     ]
    }
   ],
   "source": [
    "print('Validación base_0')\n",
    "print(f\"Promedio de miles de barriles por pozo predicción base_0:\", predicted_valid_b0.mean()) #Mostramos cantidad de miles de barriles en promedio dentro de la predicción.\n",
    "print(f'Error cuadrático medio base_0:', mean_squared_error(target_valid_b0, predicted_valid_b0)) #Mostramos el error cuadrático de nuestra predicción vs. el conjunto de validación.\n",
    "print(f'Raíz del error cuadrático medio base_0:', (mean_squared_error(target_valid_b0, predicted_valid_b0) **  0.5)) #Sacamos la raíz para conocer nuestra diferencia en cantidad de barriles.\n",
    "print()\n",
    "print('Validación base_1')\n",
    "print(f\"Promedio de miles de barriles por pozo predicción base_1:\", predicted_valid_b1.mean())\n",
    "print(f'Error cuadrático medio base_1:', mean_squared_error(target_valid_b1, predicted_valid_b1))\n",
    "print(f'Raíz del error cuadrático medio base_1:', (mean_squared_error(target_valid_b1, predicted_valid_b1) **  0.5))\n",
    "print()\n",
    "print('Validación base_2')\n",
    "print(f\"Promedio de miles de barriles por pozo predicción base_2:\", predicted_valid_b2.mean())\n",
    "print(f'Error cuadrático medio base_2:', mean_squared_error(target_valid_b2, predicted_valid_b2))\n",
    "print(f'Raíz del error cuadrático medio base_2:', (mean_squared_error(target_valid_b2, predicted_valid_b2) **  0.5))\n",
    "print()\n",
    "print('Conclusiones resultados RMSE: Aqui observamos que la base 1 tiene el error más pequeño, podemos suponer que en esta base, los datos se comportan de una manera ordinaria.\\nLas bases 0 y 2, tienen un error elevado, el comportamiento en estas bases es anormal.\\nApesar de eso, estas bases muestran una cantidad promedio de barriles por pozo mayor.\\nAsí que la inversión en estos sitios puede ser de mayor riesgo pero mayor ganancia')"
   ]
  },
  {
   "cell_type": "markdown",
   "metadata": {},
   "source": [
    "# 4) Validación de Ganancias\n",
    "\n",
    "Ya conocemos cuales son los errores de desviación y los posibles promedios por pozo.\n",
    "Conociendo esta información veremos si podemos obtener ganacias de estos pozos.\n",
    "Sabemos que el costo total para la realización de los pozos y la extracción es de 100 millones de dólares.\n",
    "También sabemos que son 200 pozos nuevos los que se quieren crear.\n",
    "Teniendo esto en mente, dividimos 100 millones / 200 = 0.5 millones por pozo.\n",
    "En promedio todos los pozos deben factirar 0.5 millones de dolares por pozo para poder cubrir costos y evitar pérdidas.\n",
    "Un barril de materia prima genera 4.5 USD, si escalamos eso a nuestra medida de miles, entonces serían 4,500 USD por mil barriles de petróleo."
   ]
  },
  {
   "cell_type": "code",
   "execution_count": 6,
   "metadata": {},
   "outputs": [],
   "source": [
    "pozos_200_0 = pd.Series(predicted_valid_b0).sort_values(ascending=False)[:200]\n",
    "pozos_200_1 = pd.Series(predicted_valid_b1).sort_values(ascending=False)[:200]\n",
    "pozos_200_2 = pd.Series(predicted_valid_b2).sort_values(ascending=False)[:200]"
   ]
  },
  {
   "cell_type": "code",
   "execution_count": 7,
   "metadata": {},
   "outputs": [
    {
     "name": "stdout",
     "output_type": "stream",
     "text": [
      "Validación ganacias pozos base_0\n",
      "Predicción de promedio de ganancia por pozo de base_0 en ganancias USD: 416666\n",
      "Predicción de ganacia de 200 pozos en base_0 USD: 139960488\n",
      "La ganancia supera a los costos por: 39960488\n",
      "\n",
      "Validación ganacias pozos base_1\n",
      "Predicción de promedio de ganancia por pozo de base_1 en ganancias USD: 624285\n",
      "Predicción de ganacia de 200 pozos en base_1 USD: 7731961525\n",
      "La ganancia supera a los costos por: 24857120\n",
      "\n",
      "Validación ganacias pozos base_2\n",
      "Predicción de promedio de ganancia por pozo de base_2 en ganancias USD: 666087\n",
      "Predicción de ganacia de 200 pozos en base_2 USD: 133217543\n",
      "La ganancia supera a los costos por: 33217543\n",
      "\n",
      "Todas las predicciones muestran una ganancia total supera los costos de inversión.\n",
      "Si observamos la ganacia promedio por pozo de cada base, podemos ver que ninguno super los 0.5 millones que buscamos.\n",
      "Sabiendo esto, vamos a elegir de cada base los pozos con mayor cantidad de barriles.\n",
      "Debemos elegir los pozos que representen un mayor ingreso con el menor riesgo.\n"
     ]
    }
   ],
   "source": [
    "print('Validación ganacias pozos base_0')\n",
    "print(f'Predicción de promedio de ganancia por pozo de base_0 en ganancias USD:', int((predicted_valid_b0 * 4500).mean())) #Validamos la ganacia promedio por pozo, consideramos la unidad en miles de barriles así que multiplicamos por 4.5K para para conocer el ingreso promedio.\n",
    "print(f'Predicción de ganacia de 200 pozos en base_0 USD:', int((pozos_200_0 * 4500).sum()))                       #Validamos la ganancia total según la predicción\n",
    "if int(((pozos_200_0 * 4500).sum()) > 100000000):                                                                   #Comparamos los cotos vs. las ganancias totales de los nuevos pozos para conocer el retorno de inversión.\n",
    "    print(f'La ganancia supera a los costos por:', int(((pozos_200_0 * 4500).sum()) - 100000000))\n",
    "else:\n",
    "    print(f'La pérdida super a los costos por:', int(((pozos_200_0 * 4500).sum()) - 100000000))\n",
    "print()\n",
    "print('Validación ganacias pozos base_1')\n",
    "print(f'Predicción de promedio de ganancia por pozo de base_1 en ganancias USD:', int((pozos_200_1 * 4500).mean()))\n",
    "print(f'Predicción de ganacia de 200 pozos en base_1 USD:', int((predicted_valid_b1 * 4500).sum()))\n",
    "if int(((pozos_200_1 * 4500).sum()) > 100000000):\n",
    "    print(f'La ganancia supera a los costos por:', int(((pozos_200_1 * 4500).sum()) - 100000000))\n",
    "else:\n",
    "    print(f'La pérdida super a los costos por:', int(((pozos_200_1 * 4500).sum()) - 100000000))\n",
    "print()\n",
    "print('Validación ganacias pozos base_2')\n",
    "print(f'Predicción de promedio de ganancia por pozo de base_2 en ganancias USD:', int((pozos_200_2 * 4500).mean()))\n",
    "print(f'Predicción de ganacia de 200 pozos en base_2 USD:', int((pozos_200_2 * 4500).sum()))\n",
    "if int(((pozos_200_2 * 4500).sum()) > 100000000):\n",
    "    print(f'La ganancia supera a los costos por:', int(((pozos_200_2 * 4500).sum()) - 100000000))\n",
    "else:\n",
    "    print(f'La pérdida super a los costos por:', int(((pozos_200_2 * 4500).sum()) - 100000000))\n",
    "print()\n",
    "print('Todas las predicciones muestran una ganancia total supera los costos de inversión.\\nSi observamos la ganacia promedio por pozo de cada base, podemos ver que ninguno super los 0.5 millones que buscamos.\\nSabiendo esto, vamos a elegir de cada base los pozos con mayor cantidad de barriles.\\nDebemos elegir los pozos que representen un mayor ingreso con el menor riesgo.')"
   ]
  },
  {
   "cell_type": "markdown",
   "metadata": {},
   "source": [
    "# 5) Submuestreo\n",
    "\n",
    "Ahora debemos de seleccionar los pozos con mayor retorno de inversión, estos deben de provenir de cada una de las bases de datos provistas.\n",
    "Para esto vamos a utilizar el 'bootstrapping' realizando un submuestreo para encontrar a los pozos con mayor cantidad de barriles dentro de un intervalo de confianza.\n",
    "Este intervalo de confianza está delimitado por la cantidad de barriles mínima que se buscan por pozo, en esta caso es de 111.1 barriles por pozo."
   ]
  },
  {
   "cell_type": "code",
   "execution_count": 8,
   "metadata": {},
   "outputs": [],
   "source": [
    "#Ahora vamos a hacer un submuestreo para encontrar los pozos con mayor cantidad de barriles.\n",
    "#Para esto vamos a ordenar los datos de manera descendente y dividirlos en cuartiles\n",
    "\n",
    "def bootstrap(predicciones, n_simulaciones=1000):\n",
    "    valores = []\n",
    "    for _ in range(n_simulaciones):\n",
    "        muestra = predicciones.sample(n=500, replace=True)\n",
    "        mejores_pozos = muestra.sort_values(ascending=False)[:200]\n",
    "        ganancia_muestra = mejores_pozos.sum() * 4500\n",
    "        valores.append(ganancia_muestra)\n",
    "    valores = pd.Series(valores)\n",
    "    intervalo_de_confianza = np.percentile(valores, [2.5, 97.5])\n",
    "    riesgo_perdida = (valores < 100000000).mean() * 100\n",
    "    return valores.mean(), intervalo_de_confianza, riesgo_perdida"
   ]
  },
  {
   "cell_type": "code",
   "execution_count": 9,
   "metadata": {},
   "outputs": [
    {
     "name": "stdout",
     "output_type": "stream",
     "text": [
      "Región 0:\n",
      "Beneficio promedio: $103489005.67\n",
      "Intervalo de confianza 95%: [1.01164395e+08 1.05666923e+08]\n",
      "Riesgo de pérdida: 0.30%\n",
      "\n",
      "Región 1:\n",
      "Beneficio promedio: $104634571.88\n",
      "Intervalo de confianza 95%: [1.00696128e+08 1.08953170e+08]\n",
      "Riesgo de pérdida: 1.30%\n",
      "\n",
      "Región 2:\n",
      "Beneficio promedio: $102725451.83\n",
      "Intervalo de confianza 95%: [1.00889256e+08 1.04530749e+08]\n",
      "Riesgo de pérdida: 0.30%\n",
      "\n",
      "En este caso las tres regiones tienen un riesgo de pérdida menor al 1%.\n",
      "Teniendo en consideración toda la información que hemos analisado hasta el momento.\n",
      "Diría que la Región 2 es la más llamativa.\n",
      "Presenta un riesgo bajo y anteriormente demostraro tener un promedio alto de barriles por pozo.\n",
      "También presentó el promedio de ganancia promedio por pozo más alto.\n",
      "Esto es una sugerencia, OilyGiant tendría que asesorar cual es la región que mejor les acomode basado en las métricas presentadas.\n"
     ]
    }
   ],
   "source": [
    "media_0, intervalo_0, riesgo_0 = bootstrap(pd.Series(predicted_valid_b0))\n",
    "media_1, intervalo_1, riesgo_1 = bootstrap(pd.Series(predicted_valid_b1))\n",
    "media_2, intervalo_2, riesgo_2 = bootstrap(pd.Series(predicted_valid_b2))\n",
    "\n",
    "print(f\"Región 0:\\nBeneficio promedio: ${media_0:.2f}\\nIntervalo de confianza 95%: {intervalo_0}\\nRiesgo de pérdida: {riesgo_0:.2f}%\\n\")\n",
    "print(f\"Región 1:\\nBeneficio promedio: ${media_1:.2f}\\nIntervalo de confianza 95%: {intervalo_1}\\nRiesgo de pérdida: {riesgo_1:.2f}%\\n\")\n",
    "print(f\"Región 2:\\nBeneficio promedio: ${media_2:.2f}\\nIntervalo de confianza 95%: {intervalo_2}\\nRiesgo de pérdida: {riesgo_2:.2f}%\\n\")\n",
    "print(\"En este caso las tres regiones tienen un riesgo de pérdida menor al 1%.\\nTeniendo en consideración toda la información que hemos analisado hasta el momento.\\nDiría que la Región 2 es la más llamativa.\\nPresenta un riesgo bajo y anteriormente demostraro tener un promedio alto de barriles por pozo.\\nTambién presentó el promedio de ganancia promedio por pozo más alto.\\nEsto es una sugerencia, OilyGiant tendría que asesorar cual es la región que mejor les acomode basado en las métricas presentadas.\")"
   ]
  }
 ],
 "metadata": {
  "ExecuteTimeLog": [
   {
    "duration": 751,
    "start_time": "2024-11-14T13:29:35.681Z"
   },
   {
    "duration": 554,
    "start_time": "2024-11-14T13:29:36.434Z"
   },
   {
    "duration": 332,
    "start_time": "2024-11-14T13:30:00.987Z"
   },
   {
    "duration": 43,
    "start_time": "2024-11-14T13:30:09.758Z"
   },
   {
    "duration": 32,
    "start_time": "2024-11-14T13:30:12.090Z"
   },
   {
    "duration": 8,
    "start_time": "2024-11-14T13:30:15.509Z"
   },
   {
    "duration": 8,
    "start_time": "2024-11-14T13:30:20.303Z"
   },
   {
    "duration": 27,
    "start_time": "2024-11-14T13:40:35.920Z"
   },
   {
    "duration": 6998,
    "start_time": "2024-11-14T13:42:27.870Z"
   },
   {
    "duration": 15,
    "start_time": "2024-11-14T13:45:18.708Z"
   },
   {
    "duration": 79,
    "start_time": "2024-11-14T13:45:55.772Z"
   },
   {
    "duration": 6,
    "start_time": "2024-11-14T13:46:55.673Z"
   },
   {
    "duration": 4,
    "start_time": "2024-11-14T13:47:00.414Z"
   },
   {
    "duration": 3,
    "start_time": "2024-11-14T13:47:06.676Z"
   },
   {
    "duration": 165,
    "start_time": "2024-11-16T03:21:26.003Z"
   },
   {
    "duration": 774,
    "start_time": "2024-11-16T03:22:04.253Z"
   },
   {
    "duration": 363,
    "start_time": "2024-11-16T03:22:05.029Z"
   },
   {
    "duration": 46,
    "start_time": "2024-11-16T03:22:05.394Z"
   },
   {
    "duration": 47,
    "start_time": "2024-11-16T03:22:05.442Z"
   },
   {
    "duration": 9,
    "start_time": "2024-11-16T03:22:05.491Z"
   },
   {
    "duration": 10,
    "start_time": "2024-11-16T03:22:05.501Z"
   },
   {
    "duration": 3183,
    "start_time": "2024-11-16T03:22:05.587Z"
   },
   {
    "duration": 7,
    "start_time": "2024-11-16T03:22:29.384Z"
   },
   {
    "duration": 6,
    "start_time": "2024-11-16T03:31:44.846Z"
   },
   {
    "duration": 4,
    "start_time": "2024-11-16T03:31:50.395Z"
   },
   {
    "duration": 214,
    "start_time": "2024-11-16T03:35:10.376Z"
   },
   {
    "duration": 19,
    "start_time": "2024-11-16T03:35:27.256Z"
   },
   {
    "duration": 4,
    "start_time": "2024-11-16T03:35:41.669Z"
   },
   {
    "duration": 293,
    "start_time": "2024-11-16T03:35:42.280Z"
   },
   {
    "duration": 3,
    "start_time": "2024-11-16T03:36:07.685Z"
   },
   {
    "duration": 780,
    "start_time": "2024-11-16T03:36:08.441Z"
   },
   {
    "duration": 792,
    "start_time": "2024-11-16T03:37:37.560Z"
   },
   {
    "duration": 762,
    "start_time": "2024-11-16T03:52:21.926Z"
   },
   {
    "duration": 845,
    "start_time": "2024-11-16T03:52:34.561Z"
   },
   {
    "duration": 775,
    "start_time": "2024-11-16T03:52:57.749Z"
   },
   {
    "duration": 785,
    "start_time": "2024-11-16T03:53:06.045Z"
   },
   {
    "duration": 792,
    "start_time": "2024-11-16T03:55:03.710Z"
   },
   {
    "duration": 772,
    "start_time": "2024-11-16T03:58:35.069Z"
   },
   {
    "duration": 24,
    "start_time": "2024-11-16T04:02:28.317Z"
   },
   {
    "duration": 22,
    "start_time": "2024-11-16T04:03:35.352Z"
   },
   {
    "duration": 7,
    "start_time": "2024-11-16T04:04:19.354Z"
   },
   {
    "duration": 23,
    "start_time": "2024-11-16T04:04:46.069Z"
   },
   {
    "duration": 22,
    "start_time": "2024-11-16T04:05:06.257Z"
   },
   {
    "duration": 25,
    "start_time": "2024-11-16T04:05:27.616Z"
   },
   {
    "duration": 22,
    "start_time": "2024-11-16T04:06:01.773Z"
   },
   {
    "duration": 21,
    "start_time": "2024-11-16T04:06:12.851Z"
   },
   {
    "duration": 12,
    "start_time": "2024-11-16T04:07:33.725Z"
   },
   {
    "duration": 13,
    "start_time": "2024-11-16T04:08:09.969Z"
   },
   {
    "duration": 6,
    "start_time": "2024-11-16T04:08:49.254Z"
   },
   {
    "duration": 10,
    "start_time": "2024-11-16T04:09:15.819Z"
   },
   {
    "duration": 7,
    "start_time": "2024-11-16T04:09:34.727Z"
   },
   {
    "duration": 8,
    "start_time": "2024-11-16T04:10:19.414Z"
   },
   {
    "duration": 12,
    "start_time": "2024-11-16T04:11:25.450Z"
   },
   {
    "duration": 11,
    "start_time": "2024-11-16T04:11:46.000Z"
   },
   {
    "duration": 12,
    "start_time": "2024-11-16T04:11:54.182Z"
   },
   {
    "duration": 8,
    "start_time": "2024-11-16T04:12:19.930Z"
   },
   {
    "duration": 12,
    "start_time": "2024-11-16T04:12:57.019Z"
   },
   {
    "duration": 9,
    "start_time": "2024-11-16T04:13:41.723Z"
   },
   {
    "duration": 830,
    "start_time": "2024-11-16T04:17:12.981Z"
   },
   {
    "duration": 808,
    "start_time": "2024-11-16T04:17:31.692Z"
   },
   {
    "duration": 10,
    "start_time": "2024-11-16T04:18:25.176Z"
   },
   {
    "duration": 725,
    "start_time": "2024-11-16T16:23:27.462Z"
   },
   {
    "duration": 337,
    "start_time": "2024-11-16T16:23:28.190Z"
   },
   {
    "duration": 41,
    "start_time": "2024-11-16T16:23:28.710Z"
   },
   {
    "duration": 25,
    "start_time": "2024-11-16T16:23:29.092Z"
   },
   {
    "duration": 8,
    "start_time": "2024-11-16T16:23:29.283Z"
   },
   {
    "duration": 10,
    "start_time": "2024-11-16T16:23:29.873Z"
   },
   {
    "duration": 10,
    "start_time": "2024-11-16T16:23:30.051Z"
   },
   {
    "duration": 3,
    "start_time": "2024-11-16T16:23:30.679Z"
   },
   {
    "duration": 803,
    "start_time": "2024-11-16T16:23:30.867Z"
   }
  ],
  "kernelspec": {
   "display_name": "Python 3 (ipykernel)",
   "language": "python",
   "name": "python3"
  },
  "language_info": {
   "codemirror_mode": {
    "name": "ipython",
    "version": 3
   },
   "file_extension": ".py",
   "mimetype": "text/x-python",
   "name": "python",
   "nbconvert_exporter": "python",
   "pygments_lexer": "ipython3",
   "version": "3.9.19"
  },
  "toc": {
   "base_numbering": 1,
   "nav_menu": {},
   "number_sections": true,
   "sideBar": true,
   "skip_h1_title": true,
   "title_cell": "Table of Contents",
   "title_sidebar": "Contents",
   "toc_cell": false,
   "toc_position": {},
   "toc_section_display": true,
   "toc_window_display": false
  }
 },
 "nbformat": 4,
 "nbformat_minor": 2
}
