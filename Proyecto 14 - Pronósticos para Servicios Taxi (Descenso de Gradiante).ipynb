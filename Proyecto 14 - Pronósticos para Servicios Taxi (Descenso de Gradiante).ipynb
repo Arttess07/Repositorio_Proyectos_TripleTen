{
 "cells": [
  {
   "cell_type": "markdown",
   "metadata": {},
   "source": [
    "Hola **Arturo**!\n",
    "\n",
    "Soy **Patricio Requena** 👋. Es un placer ser el revisor de tu proyecto el día de hoy!\n",
    "\n",
    "Revisaré tu proyecto detenidamente con el objetivo de ayudarte a mejorar y perfeccionar tus habilidades. Durante mi revisión, identificaré áreas donde puedas hacer mejoras en tu código, señalando específicamente qué y cómo podrías ajustar para optimizar el rendimiento y la claridad de tu proyecto. Además, es importante para mí destacar los aspectos que has manejado excepcionalmente bien. Reconocer tus fortalezas te ayudará a entender qué técnicas y métodos están funcionando a tu favor y cómo puedes aplicarlos en futuras tareas. \n",
    "\n",
    "_**Recuerda que al final de este notebook encontrarás un comentario general de mi parte**_, empecemos!\n",
    "\n",
    "Encontrarás mis comentarios dentro de cajas verdes, amarillas o rojas, ⚠️ **por favor, no muevas, modifiques o borres mis comentarios** ⚠️:\n",
    "\n",
    "\n",
    "<div class=\"alert alert-block alert-success\">\n",
    "<b>Comentario del revisor</b> <a class=“tocSkip”></a>\n",
    "Si todo está perfecto.\n",
    "</div>\n",
    "\n",
    "<div class=\"alert alert-block alert-warning\">\n",
    "<b>Comentario del revisor</b> <a class=“tocSkip”></a>\n",
    "Si tu código está bien pero se puede mejorar o hay algún detalle que le hace falta.\n",
    "</div>\n",
    "\n",
    "<div class=\"alert alert-block alert-danger\">\n",
    "<b>Comentario del revisor</b> <a class=“tocSkip”></a>\n",
    "Si de pronto hace falta algo o existe algún problema con tu código o conclusiones.\n",
    "</div>\n",
    "\n",
    "Puedes responderme de esta forma:\n",
    "<div class=\"alert alert-block alert-info\">\n",
    "<b>Respuesta del estudiante</b> <a class=“tocSkip”></a>\n",
    "</div>"
   ]
  },
  {
   "cell_type": "markdown",
   "metadata": {},
   "source": [
    "# Descripción del proyecto\n",
    "\n",
    "La compañía Sweet Lift Taxi ha recopilado datos históricos sobre pedidos de taxis en los aeropuertos. Para atraer a más conductores durante las horas pico, necesitamos predecir la cantidad de pedidos de taxis para la próxima hora. Construye un modelo para dicha predicción.\n",
    "\n",
    "La métrica RECM en el conjunto de prueba no debe ser superior a 48.\n",
    "\n",
    "## Instrucciones del proyecto.\n",
    "\n",
    "1. Descarga los datos y haz el remuestreo por una hora.\n",
    "2. Analiza los datos\n",
    "3. Entrena diferentes modelos con diferentes hiperparámetros. La muestra de prueba debe ser el 10% del conjunto de datos inicial.4. Prueba los datos usando la muestra de prueba y proporciona una conclusión.\n",
    "\n",
    "## Descripción de los datos\n",
    "\n",
    "Los datos se almacenan en el archivo `taxi.csv`. \t\n",
    "El número de pedidos está en la columna `num_orders`."
   ]
  },
  {
   "cell_type": "markdown",
   "metadata": {},
   "source": [
    "<div class=\"alert alert-block alert-success\">\n",
    "<b>Comentario del revisor (1ra Iteracion)</b> <a class=“tocSkip”></a>\n",
    "\n",
    "Te felicito por incluir esta sección introductoria ya que ayuda a entender el que y cómo de tu proyecto antes de revisar cada celda, te animo a mantener esta buena práctica!\n",
    "</div>"
   ]
  },
  {
   "cell_type": "markdown",
   "metadata": {},
   "source": [
    "## Preparación"
   ]
  },
  {
   "cell_type": "code",
   "execution_count": 1,
   "metadata": {},
   "outputs": [
    {
     "name": "stdout",
     "output_type": "stream",
     "text": [
      "Requirement already satisfied: CatBoost in /opt/conda/envs/python3/lib/python3.9/site-packages (1.0.3)\n",
      "Requirement already satisfied: graphviz in /opt/conda/envs/python3/lib/python3.9/site-packages (from CatBoost) (0.20.3)\n",
      "Requirement already satisfied: matplotlib in /opt/conda/envs/python3/lib/python3.9/site-packages (from CatBoost) (3.3.4)\n",
      "Requirement already satisfied: numpy>=1.16.0 in /opt/conda/envs/python3/lib/python3.9/site-packages (from CatBoost) (1.21.2)\n",
      "Requirement already satisfied: pandas>=0.24.0 in /opt/conda/envs/python3/lib/python3.9/site-packages (from CatBoost) (1.2.4)\n",
      "Requirement already satisfied: scipy in /opt/conda/envs/python3/lib/python3.9/site-packages (from CatBoost) (1.10.1)\n",
      "Requirement already satisfied: plotly in /opt/conda/envs/python3/lib/python3.9/site-packages (from CatBoost) (5.4.0)\n",
      "Requirement already satisfied: six in /opt/conda/envs/python3/lib/python3.9/site-packages (from CatBoost) (1.16.0)\n",
      "Requirement already satisfied: python-dateutil>=2.7.3 in /opt/conda/envs/python3/lib/python3.9/site-packages (from pandas>=0.24.0->CatBoost) (2.9.0)\n",
      "Requirement already satisfied: pytz>=2017.3 in /opt/conda/envs/python3/lib/python3.9/site-packages (from pandas>=0.24.0->CatBoost) (2024.1)\n",
      "Requirement already satisfied: cycler>=0.10 in /opt/conda/envs/python3/lib/python3.9/site-packages (from matplotlib->CatBoost) (0.12.1)\n",
      "Requirement already satisfied: kiwisolver>=1.0.1 in /opt/conda/envs/python3/lib/python3.9/site-packages (from matplotlib->CatBoost) (1.4.5)\n",
      "Requirement already satisfied: pillow>=6.2.0 in /opt/conda/envs/python3/lib/python3.9/site-packages (from matplotlib->CatBoost) (8.4.0)\n",
      "Requirement already satisfied: pyparsing!=2.0.4,!=2.1.2,!=2.1.6,>=2.0.3 in /opt/conda/envs/python3/lib/python3.9/site-packages (from matplotlib->CatBoost) (3.1.2)\n",
      "Requirement already satisfied: tenacity>=6.2.0 in /opt/conda/envs/python3/lib/python3.9/site-packages (from plotly->CatBoost) (8.3.0)\n",
      "Note: you may need to restart the kernel to use updated packages.\n"
     ]
    }
   ],
   "source": [
    "pip install CatBoost"
   ]
  },
  {
   "cell_type": "code",
   "execution_count": 2,
   "metadata": {},
   "outputs": [
    {
     "name": "stdout",
     "output_type": "stream",
     "text": [
      "Requirement already satisfied: LightGBM in /opt/conda/envs/python3/lib/python3.9/site-packages (3.3.1)\n",
      "Requirement already satisfied: wheel in /opt/conda/envs/python3/lib/python3.9/site-packages (from LightGBM) (0.43.0)\n",
      "Requirement already satisfied: numpy in /opt/conda/envs/python3/lib/python3.9/site-packages (from LightGBM) (1.21.2)\n",
      "Requirement already satisfied: scipy in /opt/conda/envs/python3/lib/python3.9/site-packages (from LightGBM) (1.10.1)\n",
      "Requirement already satisfied: scikit-learn!=0.22.0 in /opt/conda/envs/python3/lib/python3.9/site-packages (from LightGBM) (0.24.1)\n",
      "Requirement already satisfied: joblib>=0.11 in /opt/conda/envs/python3/lib/python3.9/site-packages (from scikit-learn!=0.22.0->LightGBM) (1.4.2)\n",
      "Requirement already satisfied: threadpoolctl>=2.0.0 in /opt/conda/envs/python3/lib/python3.9/site-packages (from scikit-learn!=0.22.0->LightGBM) (3.5.0)\n",
      "Note: you may need to restart the kernel to use updated packages.\n"
     ]
    }
   ],
   "source": [
    "pip install LightGBM"
   ]
  },
  {
   "cell_type": "code",
   "execution_count": 3,
   "metadata": {},
   "outputs": [],
   "source": [
    "import pandas as pd\n",
    "import numpy as np\n",
    "import math\n",
    "import matplotlib.pyplot as plt\n",
    "from statsmodels.tsa.seasonal import seasonal_decompose\n",
    "from sklearn.metrics import mean_squared_error\n",
    "from sklearn.model_selection import train_test_split\n",
    "from catboost import CatBoostRegressor\n",
    "from lightgbm import LGBMRegressor\n",
    "from sklearn.ensemble import RandomForestRegressor"
   ]
  },
  {
   "cell_type": "markdown",
   "metadata": {},
   "source": [
    "<div class=\"alert alert-block alert-info\">\n",
    "<b>Comentario del revisor (1ra Iteracion)</b> <a class=“tocSkip”></a>\n",
    "\n",
    "Una buena práctica para cuando tengas que importar varias librerías es seguir el siguiente órden en las mismas:\n",
    "\n",
    "- Primero todas las librerías que vienen ya con python cómo `datetime`, `os`, `json`, etc.\n",
    "- Luego de las librerías de Python si las de terceros cómo `pandas`, `scipy`, `numpy`, etc.\n",
    "- Por último, en el caso de que armes tu propio módulo en tu proyecto esto debería ir en tercer lugar, y recuerda siempre ordenar cada tipo por orden alfabético\n",
    "    \n",
    "Para cada sección se deben ordenar en orden alfabético\n",
    "</div>"
   ]
  },
  {
   "cell_type": "code",
   "execution_count": 4,
   "metadata": {},
   "outputs": [
    {
     "name": "stdout",
     "output_type": "stream",
     "text": [
      "<class 'pandas.core.frame.DataFrame'>\n",
      "DatetimeIndex: 26496 entries, 2018-03-01 00:00:00 to 2018-08-31 23:50:00\n",
      "Data columns (total 1 columns):\n",
      " #   Column      Non-Null Count  Dtype\n",
      "---  ------      --------------  -----\n",
      " 0   num_orders  26496 non-null  int64\n",
      "dtypes: int64(1)\n",
      "memory usage: 414.0 KB\n",
      "None\n",
      "\n",
      "                     num_orders\n",
      "datetime                       \n",
      "2018-03-01 00:00:00           9\n",
      "2018-03-01 00:10:00          14\n",
      "2018-03-01 00:20:00          28\n",
      "2018-03-01 00:30:00          20\n",
      "2018-03-01 00:40:00          32\n"
     ]
    }
   ],
   "source": [
    "#Cargamos la data, indicamos que la primera columna con las fechas sea el índice con \"index_col\" y combertimos la data a tipo datetime con \"parse_dates\"\n",
    "df = pd.read_csv('/datasets/taxi.csv', index_col=[0], parse_dates=[0])\n",
    "print(df.info())\n",
    "print()\n",
    "print(df.head(5))"
   ]
  },
  {
   "cell_type": "markdown",
   "metadata": {},
   "source": [
    "La información de nuetsro dataframe está muestreada por cada 10 minutos.\n",
    "Nosotros neceistamos tener esta información por hora, es necesario ajustar los intervalos de muestreo para trabajar con nuestra data."
   ]
  },
  {
   "cell_type": "code",
   "execution_count": 5,
   "metadata": {},
   "outputs": [
    {
     "name": "stdout",
     "output_type": "stream",
     "text": [
      "                     num_orders\n",
      "datetime                       \n",
      "2018-03-01 00:00:00         124\n",
      "2018-03-01 01:00:00          85\n",
      "2018-03-01 02:00:00          71\n",
      "2018-03-01 03:00:00          66\n",
      "2018-03-01 04:00:00          43\n",
      "2018-03-01 05:00:00           6\n",
      "2018-03-01 06:00:00          12\n",
      "2018-03-01 07:00:00          15\n",
      "2018-03-01 08:00:00          34\n",
      "2018-03-01 09:00:00          69\n",
      "2018-03-01 10:00:00          64\n",
      "2018-03-01 11:00:00          96\n",
      "2018-03-01 12:00:00          30\n",
      "2018-03-01 13:00:00          32\n",
      "2018-03-01 14:00:00          48\n",
      "2018-03-01 15:00:00          66\n",
      "2018-03-01 16:00:00          43\n",
      "2018-03-01 17:00:00          44\n",
      "2018-03-01 18:00:00          73\n",
      "2018-03-01 19:00:00          45\n",
      "2018-03-01 20:00:00          61\n",
      "2018-03-01 21:00:00          66\n",
      "2018-03-01 22:00:00         113\n",
      "2018-03-01 23:00:00          58\n"
     ]
    }
   ],
   "source": [
    "#Aquí vamos a resamplear los datos para que trabajar con ellos usando intervalos de 1 hora.\n",
    "df.sort_index(inplace=True)\n",
    "df = df.resample('1H').sum()\n",
    "\n",
    "print(df.head(24))"
   ]
  },
  {
   "cell_type": "markdown",
   "metadata": {},
   "source": [
    "## Análisis"
   ]
  },
  {
   "cell_type": "code",
   "execution_count": 6,
   "metadata": {},
   "outputs": [],
   "source": [
    "#Ahora vamos a analizar la data descomponiendola por su tendencia y estacionalidad.\n",
    "decompose_df = seasonal_decompose(df)"
   ]
  },
  {
   "cell_type": "code",
   "execution_count": 7,
   "metadata": {},
   "outputs": [
    {
     "data": {
      "image/png": "[encoded data removed]",
      "text/plain": [
       "<Figure size 640x480 with 3 Axes>"
      ]
     },
     "metadata": {},
     "output_type": "display_data"
    }
   ],
   "source": [
    "plt.subplot(311)\n",
    "decompose_df.trend.plot(ax=plt.gca())\n",
    "plt.title(\"Tendencias Estacionales\")\n",
    "plt.subplot(312)\n",
    "decompose_df.seasonal.plot(ax=plt.gca())\n",
    "plt.title(\"Estacionalidades\")\n",
    "plt.subplot(313)\n",
    "decompose_df.resid.plot(ax=plt.gca())\n",
    "plt.title(\"Datos Residuales\")\n",
    "plt.tight_layout()\n",
    "plt.show()"
   ]
  },
  {
   "cell_type": "markdown",
   "metadata": {},
   "source": [
    "En el primer gráfico anterior podemos observar que la tendencia para el servicio de taxis va en incremento.\n",
    "Conforme pasan los meses crece la demanda por este servicio teniendo un pico en Agosto y Septiembre.\n",
    "En el segundo gráfico podemos ver que fluctúa la cantidad de servicios de taxis por hora, las horas en las que no hay otro tipo de servicio disponible beneficia a los servicios de Taxis.\n",
    "Horario como altas horas de la noche o madrugadas es cuando más se solicitan los viajes de taxis de este servicio.\n",
    "Los residuos nos muestran información que no es atribuida a estacionalidad ni tendencia.\n",
    "Aqui podemos observar información extra sobre el comportamiento del servicio, teniendo picos en donde crece nuestra tendencia."
   ]
  },
  {
   "cell_type": "markdown",
   "metadata": {},
   "source": [
    "<div class=\"alert alert-block alert-success\">\n",
    "<b>Comentario del revisor (1ra Iteracion)</b> <a class=“tocSkip”></a>\n",
    "\n",
    "Muy buen trabajo, realizaste las gráficas correctas para el análisis de datos temporales\n",
    "</div>"
   ]
  },
  {
   "cell_type": "markdown",
   "metadata": {},
   "source": [
    "## Formación"
   ]
  },
  {
   "cell_type": "markdown",
   "metadata": {},
   "source": [
    "Ahora que tenemos un análisis de la información y una base de datos transformada a nuestras necesidades. Es tiempo de crear nuestras características para entrenar el modelo.\n",
    "Ya que tengamos las características vamos a entrenar distintos modelos de regresión para pronosticar los servicios que se llevaran a cabo la siguiente hora."
   ]
  },
  {
   "cell_type": "code",
   "execution_count": 8,
   "metadata": {},
   "outputs": [],
   "source": [
    "def caracteristicas_modelo(data, max_lag, rolling_mean_size):\n",
    "    df['año'] = df.index.year#Primero vamos a agregar las carcaterísticas calendario\n",
    "    df['mes'] = df.index.month\n",
    "    df['día'] = df.index.day\n",
    "    df['día_semana'] = df.index.dayofweek\n",
    "    df['hora'] = df.index.hour\n",
    "    #Ahora definimos características de desfase hacemos esto para encontrar la estacionalidad de la serie\n",
    "    for lag in range(1, max_lag + 1):\n",
    "        df[f'lag_{lag}'] = df['num_orders'].shift(lag)\n",
    "    #Ahora calculamos la média móvil con el promedio de las series temorales que nos indican su tendencia\n",
    "    df['media_móvil'] = df['num_orders'].shift().rolling(rolling_mean_size).mean()"
   ]
  },
  {
   "cell_type": "markdown",
   "metadata": {},
   "source": [
    "<div class=\"alert alert-block alert-danger\">\n",
    "<b>Comentario del revisor (1ra Iteracion)</b> <a class=“tocSkip”></a>\n",
    "\n",
    "Puedes incluir más datos que puedas extraer de la serie temporal cómo la hora por ejemplo para que los modelos tengan más información de donde aprender\n",
    "</div>"
   ]
  },
  {
   "cell_type": "code",
   "execution_count": 9,
   "metadata": {},
   "outputs": [
    {
     "data": {
      "text/html": [
       "<div>\n",
       "<style scoped>\n",
       "    .dataframe tbody tr th:only-of-type {\n",
       "        vertical-align: middle;\n",
       "    }\n",
       "\n",
       "    .dataframe tbody tr th {\n",
       "        vertical-align: top;\n",
       "    }\n",
       "\n",
       "    .dataframe thead th {\n",
       "        text-align: right;\n",
       "    }\n",
       "</style>\n",
       "<table border=\"1\" class=\"dataframe\">\n",
       "  <thead>\n",
       "    <tr style=\"text-align: right;\">\n",
       "      <th></th>\n",
       "      <th>num_orders</th>\n",
       "      <th>año</th>\n",
       "      <th>mes</th>\n",
       "      <th>día</th>\n",
       "      <th>día_semana</th>\n",
       "      <th>hora</th>\n",
       "      <th>lag_1</th>\n",
       "      <th>lag_2</th>\n",
       "      <th>lag_3</th>\n",
       "      <th>media_móvil</th>\n",
       "    </tr>\n",
       "    <tr>\n",
       "      <th>datetime</th>\n",
       "      <th></th>\n",
       "      <th></th>\n",
       "      <th></th>\n",
       "      <th></th>\n",
       "      <th></th>\n",
       "      <th></th>\n",
       "      <th></th>\n",
       "      <th></th>\n",
       "      <th></th>\n",
       "      <th></th>\n",
       "    </tr>\n",
       "  </thead>\n",
       "  <tbody>\n",
       "    <tr>\n",
       "      <th>2018-03-01 00:00:00</th>\n",
       "      <td>124</td>\n",
       "      <td>2018</td>\n",
       "      <td>3</td>\n",
       "      <td>1</td>\n",
       "      <td>3</td>\n",
       "      <td>0</td>\n",
       "      <td>NaN</td>\n",
       "      <td>NaN</td>\n",
       "      <td>NaN</td>\n",
       "      <td>NaN</td>\n",
       "    </tr>\n",
       "    <tr>\n",
       "      <th>2018-03-01 01:00:00</th>\n",
       "      <td>85</td>\n",
       "      <td>2018</td>\n",
       "      <td>3</td>\n",
       "      <td>1</td>\n",
       "      <td>3</td>\n",
       "      <td>1</td>\n",
       "      <td>124.0</td>\n",
       "      <td>NaN</td>\n",
       "      <td>NaN</td>\n",
       "      <td>NaN</td>\n",
       "    </tr>\n",
       "    <tr>\n",
       "      <th>2018-03-01 02:00:00</th>\n",
       "      <td>71</td>\n",
       "      <td>2018</td>\n",
       "      <td>3</td>\n",
       "      <td>1</td>\n",
       "      <td>3</td>\n",
       "      <td>2</td>\n",
       "      <td>85.0</td>\n",
       "      <td>124.0</td>\n",
       "      <td>NaN</td>\n",
       "      <td>NaN</td>\n",
       "    </tr>\n",
       "    <tr>\n",
       "      <th>2018-03-01 03:00:00</th>\n",
       "      <td>66</td>\n",
       "      <td>2018</td>\n",
       "      <td>3</td>\n",
       "      <td>1</td>\n",
       "      <td>3</td>\n",
       "      <td>3</td>\n",
       "      <td>71.0</td>\n",
       "      <td>85.0</td>\n",
       "      <td>124.0</td>\n",
       "      <td>NaN</td>\n",
       "    </tr>\n",
       "    <tr>\n",
       "      <th>2018-03-01 04:00:00</th>\n",
       "      <td>43</td>\n",
       "      <td>2018</td>\n",
       "      <td>3</td>\n",
       "      <td>1</td>\n",
       "      <td>3</td>\n",
       "      <td>4</td>\n",
       "      <td>66.0</td>\n",
       "      <td>71.0</td>\n",
       "      <td>85.0</td>\n",
       "      <td>NaN</td>\n",
       "    </tr>\n",
       "    <tr>\n",
       "      <th>2018-03-01 05:00:00</th>\n",
       "      <td>6</td>\n",
       "      <td>2018</td>\n",
       "      <td>3</td>\n",
       "      <td>1</td>\n",
       "      <td>3</td>\n",
       "      <td>5</td>\n",
       "      <td>43.0</td>\n",
       "      <td>66.0</td>\n",
       "      <td>71.0</td>\n",
       "      <td>77.8</td>\n",
       "    </tr>\n",
       "    <tr>\n",
       "      <th>2018-03-01 06:00:00</th>\n",
       "      <td>12</td>\n",
       "      <td>2018</td>\n",
       "      <td>3</td>\n",
       "      <td>1</td>\n",
       "      <td>3</td>\n",
       "      <td>6</td>\n",
       "      <td>6.0</td>\n",
       "      <td>43.0</td>\n",
       "      <td>66.0</td>\n",
       "      <td>54.2</td>\n",
       "    </tr>\n",
       "    <tr>\n",
       "      <th>2018-03-01 07:00:00</th>\n",
       "      <td>15</td>\n",
       "      <td>2018</td>\n",
       "      <td>3</td>\n",
       "      <td>1</td>\n",
       "      <td>3</td>\n",
       "      <td>7</td>\n",
       "      <td>12.0</td>\n",
       "      <td>6.0</td>\n",
       "      <td>43.0</td>\n",
       "      <td>39.6</td>\n",
       "    </tr>\n",
       "    <tr>\n",
       "      <th>2018-03-01 08:00:00</th>\n",
       "      <td>34</td>\n",
       "      <td>2018</td>\n",
       "      <td>3</td>\n",
       "      <td>1</td>\n",
       "      <td>3</td>\n",
       "      <td>8</td>\n",
       "      <td>15.0</td>\n",
       "      <td>12.0</td>\n",
       "      <td>6.0</td>\n",
       "      <td>28.4</td>\n",
       "    </tr>\n",
       "    <tr>\n",
       "      <th>2018-03-01 09:00:00</th>\n",
       "      <td>69</td>\n",
       "      <td>2018</td>\n",
       "      <td>3</td>\n",
       "      <td>1</td>\n",
       "      <td>3</td>\n",
       "      <td>9</td>\n",
       "      <td>34.0</td>\n",
       "      <td>15.0</td>\n",
       "      <td>12.0</td>\n",
       "      <td>22.0</td>\n",
       "    </tr>\n",
       "  </tbody>\n",
       "</table>\n",
       "</div>"
      ],
      "text/plain": [
       "                     num_orders   año  mes  día  día_semana  hora  lag_1  \\\n",
       "datetime                                                                   \n",
       "2018-03-01 00:00:00         124  2018    3    1           3     0    NaN   \n",
       "2018-03-01 01:00:00          85  2018    3    1           3     1  124.0   \n",
       "2018-03-01 02:00:00          71  2018    3    1           3     2   85.0   \n",
       "2018-03-01 03:00:00          66  2018    3    1           3     3   71.0   \n",
       "2018-03-01 04:00:00          43  2018    3    1           3     4   66.0   \n",
       "2018-03-01 05:00:00           6  2018    3    1           3     5   43.0   \n",
       "2018-03-01 06:00:00          12  2018    3    1           3     6    6.0   \n",
       "2018-03-01 07:00:00          15  2018    3    1           3     7   12.0   \n",
       "2018-03-01 08:00:00          34  2018    3    1           3     8   15.0   \n",
       "2018-03-01 09:00:00          69  2018    3    1           3     9   34.0   \n",
       "\n",
       "                     lag_2  lag_3  media_móvil  \n",
       "datetime                                        \n",
       "2018-03-01 00:00:00    NaN    NaN          NaN  \n",
       "2018-03-01 01:00:00    NaN    NaN          NaN  \n",
       "2018-03-01 02:00:00  124.0    NaN          NaN  \n",
       "2018-03-01 03:00:00   85.0  124.0          NaN  \n",
       "2018-03-01 04:00:00   71.0   85.0          NaN  \n",
       "2018-03-01 05:00:00   66.0   71.0         77.8  \n",
       "2018-03-01 06:00:00   43.0   66.0         54.2  \n",
       "2018-03-01 07:00:00    6.0   43.0         39.6  \n",
       "2018-03-01 08:00:00   12.0    6.0         28.4  \n",
       "2018-03-01 09:00:00   15.0   12.0         22.0  "
      ]
     },
     "execution_count": 9,
     "metadata": {},
     "output_type": "execute_result"
    }
   ],
   "source": [
    "#Sacamos las características de nuestro dataframe para entrenar el modelo.\n",
    "#Definimos un lag de 3 horas para tener series temporales que anlizen el comportamiento en este intervalo.\n",
    "#Creamos una media movil de las últimas 5 horas para pronosticar el comportamiento cada 5 horas.\n",
    "caracteristicas_modelo(df, 3, 5)\n",
    "df.head(10)"
   ]
  },
  {
   "cell_type": "code",
   "execution_count": 10,
   "metadata": {},
   "outputs": [],
   "source": [
    "#Ahora vamos a dividir la data en sets de entrenamiento y de prueba\n",
    "#Nos aseguramos que los datos sigan un órden cronológico usando \"shuffle=False\"\n",
    "train, test = train_test_split(df, test_size=0.1, shuffle=False)\n",
    "train = train.dropna()\n",
    "test = test.dropna()"
   ]
  },
  {
   "cell_type": "code",
   "execution_count": 11,
   "metadata": {},
   "outputs": [],
   "source": [
    "#Creamos nuestros datasets de entrenamiento y prueba\n",
    "feat_train = train.drop(['num_orders'], axis=1)\n",
    "target_train = train['num_orders']\n",
    "\n",
    "feat_test = test.drop(['num_orders'], axis=1)\n",
    "target_test = test['num_orders']"
   ]
  },
  {
   "cell_type": "markdown",
   "metadata": {},
   "source": [
    "<div class=\"alert alert-block alert-success\">\n",
    "<b>Comentario del revisor (1ra Iteracion)</b> <a class=“tocSkip”></a>\n",
    "\n",
    "Muy bien, dividiste los datos en los sets necesarios para la parte de entrenamiento y pruebas\n",
    "    \n",
    "</div>"
   ]
  },
  {
   "cell_type": "markdown",
   "metadata": {},
   "source": [
    "## Prueba"
   ]
  },
  {
   "cell_type": "code",
   "execution_count": 12,
   "metadata": {},
   "outputs": [],
   "source": [
    "def rmse(valid, predict): #Definimos nuestra métrica de error\n",
    "    return math.sqrt(mean_squared_error(valid, predict))"
   ]
  },
  {
   "cell_type": "code",
   "execution_count": 13,
   "metadata": {
    "scrolled": false
   },
   "outputs": [
    {
     "name": "stdout",
     "output_type": "stream",
     "text": [
      "Cantidad de árboles: 1\n",
      "\n",
      "Valuación de dataset de prueba en RandomForestRegressor:  -0.002727091841222107\n",
      "\n",
      "RMSE RandomForestRegressor model prueba: 58.62939008043759\n",
      "Cantidad de árboles: 2\n",
      "\n",
      "Valuación de dataset de prueba en RandomForestRegressor:  0.0633636288047621\n",
      "\n",
      "RMSE RandomForestRegressor model prueba: 56.664297752743096\n",
      "Cantidad de árboles: 3\n",
      "\n",
      "Valuación de dataset de prueba en RandomForestRegressor:  0.05986603002438173\n",
      "\n",
      "RMSE RandomForestRegressor model prueba: 56.76999741887408\n",
      "Cantidad de árboles: 4\n",
      "\n",
      "Valuación de dataset de prueba en RandomForestRegressor:  0.06185428548796035\n",
      "\n",
      "RMSE RandomForestRegressor model prueba: 56.709935235064414\n",
      "Cantidad de árboles: 5\n",
      "\n",
      "Valuación de dataset de prueba en RandomForestRegressor:  0.05786535673460469\n",
      "\n",
      "RMSE RandomForestRegressor model prueba: 56.83037065272166\n",
      "Cantidad de árboles: 6\n",
      "\n",
      "Valuación de dataset de prueba en RandomForestRegressor:  0.08428730616154712\n",
      "\n",
      "RMSE RandomForestRegressor model prueba: 56.02780636698813\n",
      "Cantidad de árboles: 7\n",
      "\n",
      "Valuación de dataset de prueba en RandomForestRegressor:  0.07848517472134708\n",
      "\n",
      "RMSE RandomForestRegressor model prueba: 56.20502755249874\n",
      "Cantidad de árboles: 8\n",
      "\n",
      "Valuación de dataset de prueba en RandomForestRegressor:  0.08298463350182195\n",
      "\n",
      "RMSE RandomForestRegressor model prueba: 56.06764416406504\n",
      "Cantidad de árboles: 9\n",
      "\n",
      "Valuación de dataset de prueba en RandomForestRegressor:  0.07620845853267821\n",
      "\n",
      "RMSE RandomForestRegressor model prueba: 56.2744154522131\n",
      "Cantidad de árboles: 10\n",
      "\n",
      "Valuación de dataset de prueba en RandomForestRegressor:  0.06584635696399843\n",
      "\n",
      "RMSE RandomForestRegressor model prueba: 56.589148312843086\n",
      "Cantidad de árboles: 11\n",
      "\n",
      "Valuación de dataset de prueba en RandomForestRegressor:  0.07827264958618385\n",
      "\n",
      "RMSE RandomForestRegressor model prueba: 56.21150834484405\n",
      "Cantidad de árboles: 12\n",
      "\n",
      "Valuación de dataset de prueba en RandomForestRegressor:  0.09779997101372129\n",
      "\n",
      "RMSE RandomForestRegressor model prueba: 55.612884336852495\n",
      "Cantidad de árboles: 13\n",
      "\n",
      "Valuación de dataset de prueba en RandomForestRegressor:  0.09533129567064724\n",
      "\n",
      "RMSE RandomForestRegressor model prueba: 55.68891867733947\n",
      "Cantidad de árboles: 14\n",
      "\n",
      "Valuación de dataset de prueba en RandomForestRegressor:  0.10158968027850912\n",
      "\n",
      "RMSE RandomForestRegressor model prueba: 55.49595990535922\n",
      "Cantidad de árboles: 15\n",
      "\n",
      "Valuación de dataset de prueba en RandomForestRegressor:  0.09650750490612714\n",
      "\n",
      "RMSE RandomForestRegressor model prueba: 55.652704798919245\n",
      "Cantidad de árboles: 16\n",
      "\n",
      "Valuación de dataset de prueba en RandomForestRegressor:  0.1010135849052094\n",
      "\n",
      "RMSE RandomForestRegressor model prueba: 55.51375012961694\n",
      "Cantidad de árboles: 17\n",
      "\n",
      "Valuación de dataset de prueba en RandomForestRegressor:  0.10390796509869982\n",
      "\n",
      "RMSE RandomForestRegressor model prueba: 55.424311938697\n",
      "Cantidad de árboles: 18\n",
      "\n",
      "Valuación de dataset de prueba en RandomForestRegressor:  0.09933788373042207\n",
      "\n",
      "RMSE RandomForestRegressor model prueba: 55.565464563756976\n",
      "Cantidad de árboles: 19\n",
      "\n",
      "Valuación de dataset de prueba en RandomForestRegressor:  0.10742309815636697\n",
      "\n",
      "RMSE RandomForestRegressor model prueba: 55.31549763179249\n",
      "Cantidad de árboles: 20\n",
      "\n",
      "Valuación de dataset de prueba en RandomForestRegressor:  0.10384544015033959\n",
      "\n",
      "RMSE RandomForestRegressor model prueba: 55.42624552456724\n",
      "Cantidad de árboles: 21\n",
      "\n",
      "Valuación de dataset de prueba en RandomForestRegressor:  0.10115920294049097\n",
      "\n",
      "RMSE RandomForestRegressor model prueba: 55.50925388224887\n",
      "Cantidad de árboles: 22\n",
      "\n",
      "Valuación de dataset de prueba en RandomForestRegressor:  0.10522622865263465\n",
      "\n",
      "RMSE RandomForestRegressor model prueba: 55.38352888356131\n",
      "Cantidad de árboles: 23\n",
      "\n",
      "Valuación de dataset de prueba en RandomForestRegressor:  0.09937536012482417\n",
      "\n",
      "RMSE RandomForestRegressor model prueba: 55.56430851706091\n",
      "Cantidad de árboles: 24\n",
      "\n",
      "Valuación de dataset de prueba en RandomForestRegressor:  0.09688133280219857\n",
      "\n",
      "RMSE RandomForestRegressor model prueba: 55.641190211848375\n",
      "Cantidad de árboles: 25\n",
      "\n",
      "Valuación de dataset de prueba en RandomForestRegressor:  0.09650017367070152\n",
      "\n",
      "RMSE RandomForestRegressor model prueba: 55.652930590641645\n",
      "Cantidad de árboles: 26\n",
      "\n",
      "Valuación de dataset de prueba en RandomForestRegressor:  0.10145206075014934\n",
      "\n",
      "RMSE RandomForestRegressor model prueba: 55.50021021015266\n",
      "Cantidad de árboles: 27\n",
      "\n",
      "Valuación de dataset de prueba en RandomForestRegressor:  0.09460867298861053\n",
      "\n",
      "RMSE RandomForestRegressor model prueba: 55.71115557065955\n",
      "Cantidad de árboles: 28\n",
      "\n",
      "Valuación de dataset de prueba en RandomForestRegressor:  0.09822731638555349\n",
      "\n",
      "RMSE RandomForestRegressor model prueba: 55.599711690576704\n",
      "Cantidad de árboles: 29\n",
      "\n",
      "Valuación de dataset de prueba en RandomForestRegressor:  0.0954434890442658\n",
      "\n",
      "RMSE RandomForestRegressor model prueba: 55.685465412430226\n",
      "Cantidad de árboles: 30\n",
      "\n",
      "Valuación de dataset de prueba en RandomForestRegressor:  0.09261831247436936\n",
      "\n",
      "RMSE RandomForestRegressor model prueba: 55.772358062261844\n",
      "Cantidad de árboles: 31\n",
      "\n",
      "Valuación de dataset de prueba en RandomForestRegressor:  0.10061138383541413\n",
      "\n",
      "RMSE RandomForestRegressor model prueba: 55.5261669985239\n",
      "Cantidad de árboles: 32\n",
      "\n",
      "Valuación de dataset de prueba en RandomForestRegressor:  0.103618540381327\n",
      "\n",
      "RMSE RandomForestRegressor model prueba: 55.43326184012282\n",
      "Cantidad de árboles: 33\n",
      "\n",
      "Valuación de dataset de prueba en RandomForestRegressor:  0.10795883396547479\n",
      "\n",
      "RMSE RandomForestRegressor model prueba: 55.29889461366488\n",
      "Cantidad de árboles: 34\n",
      "\n",
      "Valuación de dataset de prueba en RandomForestRegressor:  0.11494912966124693\n",
      "\n",
      "RMSE RandomForestRegressor model prueba: 55.08179930893433\n",
      "Cantidad de árboles: 35\n",
      "\n",
      "Valuación de dataset de prueba en RandomForestRegressor:  0.11733635107857299\n",
      "\n",
      "RMSE RandomForestRegressor model prueba: 55.00746389902877\n",
      "Cantidad de árboles: 36\n",
      "\n",
      "Valuación de dataset de prueba en RandomForestRegressor:  0.12365380815479621\n",
      "\n",
      "RMSE RandomForestRegressor model prueba: 54.81025892289351\n",
      "Cantidad de árboles: 37\n",
      "\n",
      "Valuación de dataset de prueba en RandomForestRegressor:  0.12482894251291443\n",
      "\n",
      "RMSE RandomForestRegressor model prueba: 54.77349775137195\n",
      "Cantidad de árboles: 38\n",
      "\n",
      "Valuación de dataset de prueba en RandomForestRegressor:  0.12383225117419416\n",
      "\n",
      "RMSE RandomForestRegressor model prueba: 54.8046783623122\n",
      "Cantidad de árboles: 39\n",
      "\n",
      "Valuación de dataset de prueba en RandomForestRegressor:  0.12525458620766894\n",
      "\n",
      "RMSE RandomForestRegressor model prueba: 54.7601764531148\n",
      "Cantidad de árboles: 40\n",
      "\n",
      "Valuación de dataset de prueba en RandomForestRegressor:  0.1244700596385806\n",
      "\n",
      "RMSE RandomForestRegressor model prueba: 54.78472713066458\n",
      "Cantidad de árboles: 41\n",
      "\n",
      "Valuación de dataset de prueba en RandomForestRegressor:  0.1253298796678488\n",
      "\n",
      "RMSE RandomForestRegressor model prueba: 54.75781966917097\n",
      "Cantidad de árboles: 42\n",
      "\n",
      "Valuación de dataset de prueba en RandomForestRegressor:  0.1249328219190059\n",
      "\n",
      "RMSE RandomForestRegressor model prueba: 54.77024695416051\n",
      "Cantidad de árboles: 43\n",
      "\n",
      "Valuación de dataset de prueba en RandomForestRegressor:  0.12318074004844681\n",
      "\n",
      "RMSE RandomForestRegressor model prueba: 54.82505072968428\n",
      "Cantidad de árboles: 44\n",
      "\n",
      "Valuación de dataset de prueba en RandomForestRegressor:  0.12010921306722411\n",
      "\n",
      "RMSE RandomForestRegressor model prueba: 54.92099376677762\n",
      "Cantidad de árboles: 45\n",
      "\n",
      "Valuación de dataset de prueba en RandomForestRegressor:  0.11808733678047312\n",
      "\n",
      "RMSE RandomForestRegressor model prueba: 54.98405826232\n",
      "Cantidad de árboles: 46\n",
      "\n",
      "Valuación de dataset de prueba en RandomForestRegressor:  0.11884948537831574\n",
      "\n",
      "RMSE RandomForestRegressor model prueba: 54.96029452563549\n",
      "Cantidad de árboles: 47\n",
      "\n",
      "Valuación de dataset de prueba en RandomForestRegressor:  0.11839272835299242\n",
      "\n",
      "RMSE RandomForestRegressor model prueba: 54.974537409158096\n",
      "Cantidad de árboles: 48\n",
      "\n",
      "Valuación de dataset de prueba en RandomForestRegressor:  0.11939745693155401\n",
      "\n",
      "RMSE RandomForestRegressor model prueba: 54.943202461811836\n",
      "Cantidad de árboles: 49\n",
      "\n",
      "Valuación de dataset de prueba en RandomForestRegressor:  0.11744415777310357\n",
      "\n",
      "RMSE RandomForestRegressor model prueba: 55.00410454807413\n",
      "Cantidad de árboles: 50\n",
      "\n",
      "Valuación de dataset de prueba en RandomForestRegressor:  0.11834852207932633\n",
      "\n",
      "RMSE RandomForestRegressor model prueba: 54.97591568101439\n",
      "Cantidad de árboles: 51\n",
      "\n",
      "Valuación de dataset de prueba en RandomForestRegressor:  0.11960929938427944\n",
      "\n",
      "RMSE RandomForestRegressor model prueba: 54.93659334913714\n"
     ]
    },
    {
     "name": "stdout",
     "output_type": "stream",
     "text": [
      "Cantidad de árboles: 52\n",
      "\n",
      "Valuación de dataset de prueba en RandomForestRegressor:  0.12055166600777356\n",
      "\n",
      "RMSE RandomForestRegressor model prueba: 54.90718352400297\n",
      "Cantidad de árboles: 53\n",
      "\n",
      "Valuación de dataset de prueba en RandomForestRegressor:  0.12131345948016314\n",
      "\n",
      "RMSE RandomForestRegressor model prueba: 54.88339759234253\n",
      "Cantidad de árboles: 54\n",
      "\n",
      "Valuación de dataset de prueba en RandomForestRegressor:  0.11988443748173327\n",
      "\n",
      "RMSE RandomForestRegressor model prueba: 54.92800833631928\n",
      "Cantidad de árboles: 55\n",
      "\n",
      "Valuación de dataset de prueba en RandomForestRegressor:  0.12000867636615031\n",
      "\n",
      "RMSE RandomForestRegressor model prueba: 54.92413132538126\n",
      "Cantidad de árboles: 56\n",
      "\n",
      "Valuación de dataset de prueba en RandomForestRegressor:  0.11907625455374804\n",
      "\n",
      "RMSE RandomForestRegressor model prueba: 54.95322189590704\n",
      "Cantidad de árboles: 57\n",
      "\n",
      "Valuación de dataset de prueba en RandomForestRegressor:  0.11806060122009943\n",
      "\n",
      "RMSE RandomForestRegressor model prueba: 54.98489168864983\n",
      "Cantidad de árboles: 58\n",
      "\n",
      "Valuación de dataset de prueba en RandomForestRegressor:  0.11725750409544666\n",
      "\n",
      "RMSE RandomForestRegressor model prueba: 55.009920710142076\n",
      "Cantidad de árboles: 59\n",
      "\n",
      "Valuación de dataset de prueba en RandomForestRegressor:  0.11859030108056545\n",
      "\n",
      "RMSE RandomForestRegressor model prueba: 54.968377025590314\n"
     ]
    }
   ],
   "source": [
    "#Empecemos con el modelo RandomForestRegressor\n",
    "for trees in range(1, 60):\n",
    "    forest_model = RandomForestRegressor(n_estimators=trees, max_depth=7, max_leaf_nodes=20, random_state=12345)\n",
    "    forest_model.fit(feat_train, target_train)\n",
    "    forest_predict = forest_model.predict(feat_test)\n",
    "    print(\"Cantidad de árboles:\", trees)\n",
    "    print()\n",
    "    print(\"Valuación de dataset de prueba en RandomForestRegressor: \", forest_model.score(feat_test, target_test))\n",
    "    print()\n",
    "    print(f\"RMSE RandomForestRegressor model prueba: {rmse(forest_predict, target_test)}\")"
   ]
  },
  {
   "cell_type": "code",
   "execution_count": 14,
   "metadata": {},
   "outputs": [
    {
     "name": "stdout",
     "output_type": "stream",
     "text": [
      "Profundidad de árbol: 4\n",
      "\n",
      "Valuación de dataset de prueba en RandomForestRegressor:  0.039215236835613454\n",
      "\n",
      "RMSE RandomForestRegressor model prueba: 57.39010975802464\n",
      "Profundidad de árbol: 5\n",
      "\n",
      "Valuación de dataset de prueba en RandomForestRegressor:  0.11770766598449967\n",
      "\n",
      "RMSE RandomForestRegressor model prueba: 54.995892537818115\n",
      "Profundidad de árbol: 6\n",
      "\n",
      "Valuación de dataset de prueba en RandomForestRegressor:  0.12733133861865398\n",
      "\n",
      "RMSE RandomForestRegressor model prueba: 54.69513415326901\n",
      "Profundidad de árbol: 7\n",
      "\n",
      "Valuación de dataset de prueba en RandomForestRegressor:  0.12525458620766894\n",
      "\n",
      "RMSE RandomForestRegressor model prueba: 54.7601764531148\n",
      "Profundidad de árbol: 8\n",
      "\n",
      "Valuación de dataset de prueba en RandomForestRegressor:  0.11740756175026679\n",
      "\n",
      "RMSE RandomForestRegressor model prueba: 55.005244935176705\n",
      "Profundidad de árbol: 9\n",
      "\n",
      "Valuación de dataset de prueba en RandomForestRegressor:  0.11740756175026679\n",
      "\n",
      "RMSE RandomForestRegressor model prueba: 55.005244935176705\n"
     ]
    }
   ],
   "source": [
    "for depth in range(4, 10):\n",
    "    forest_model = RandomForestRegressor(n_estimators=39, max_depth=depth, max_leaf_nodes=20, random_state=12345)\n",
    "    forest_model.fit(feat_train, target_train)\n",
    "    forest_predict = forest_model.predict(feat_test)\n",
    "    print(\"Profundidad de árbol:\", depth)\n",
    "    print()\n",
    "    print(\"Valuación de dataset de prueba en RandomForestRegressor: \", forest_model.score(feat_test, target_test))\n",
    "    print()\n",
    "    print(f\"RMSE RandomForestRegressor model prueba: {rmse(forest_predict, target_test)}\")"
   ]
  },
  {
   "cell_type": "code",
   "execution_count": 17,
   "metadata": {
    "scrolled": false
   },
   "outputs": [
    {
     "name": "stdout",
     "output_type": "stream",
     "text": [
      "Cantidad de nodos: 10\n",
      "\n",
      "Valuación de dataset de prueba en RandomForestRegressor:  0.02828481002098293\n",
      "\n",
      "RMSE RandomForestRegressor model prueba: 57.715637582214605\n",
      "Cantidad de nodos: 11\n",
      "\n",
      "Valuación de dataset de prueba en RandomForestRegressor:  0.042932146310713515\n",
      "\n",
      "RMSE RandomForestRegressor model prueba: 57.27899197264268\n",
      "Cantidad de nodos: 12\n",
      "\n",
      "Valuación de dataset de prueba en RandomForestRegressor:  0.06032103583491932\n",
      "\n",
      "RMSE RandomForestRegressor model prueba: 56.756257991487786\n",
      "Cantidad de nodos: 13\n",
      "\n",
      "Valuación de dataset de prueba en RandomForestRegressor:  0.0748167764212424\n",
      "\n",
      "RMSE RandomForestRegressor model prueba: 56.31678790335994\n",
      "Cantidad de nodos: 14\n",
      "\n",
      "Valuación de dataset de prueba en RandomForestRegressor:  0.08431545764275516\n",
      "\n",
      "RMSE RandomForestRegressor model prueba: 56.02694513732996\n",
      "Cantidad de nodos: 15\n",
      "\n",
      "Valuación de dataset de prueba en RandomForestRegressor:  0.0934244609410454\n",
      "\n",
      "RMSE RandomForestRegressor model prueba: 55.74757753596064\n",
      "Cantidad de nodos: 16\n",
      "\n",
      "Valuación de dataset de prueba en RandomForestRegressor:  0.09597566288427917\n",
      "\n",
      "RMSE RandomForestRegressor model prueba: 55.66908240730715\n",
      "Cantidad de nodos: 17\n",
      "\n",
      "Valuación de dataset de prueba en RandomForestRegressor:  0.1055692561851872\n",
      "\n",
      "RMSE RandomForestRegressor model prueba: 55.37291173259673\n",
      "Cantidad de nodos: 18\n",
      "\n",
      "Valuación de dataset de prueba en RandomForestRegressor:  0.11891203539141915\n",
      "\n",
      "RMSE RandomForestRegressor model prueba: 54.95834376461518\n",
      "Cantidad de nodos: 19\n",
      "\n",
      "Valuación de dataset de prueba en RandomForestRegressor:  0.12159683180450098\n",
      "\n",
      "RMSE RandomForestRegressor model prueba: 54.874547058434615\n",
      "Cantidad de nodos: 20\n",
      "\n",
      "Valuación de dataset de prueba en RandomForestRegressor:  0.12733133861865398\n",
      "\n",
      "RMSE RandomForestRegressor model prueba: 54.69513415326901\n",
      "Cantidad de nodos: 21\n",
      "\n",
      "Valuación de dataset de prueba en RandomForestRegressor:  0.12565313993734184\n",
      "\n",
      "RMSE RandomForestRegressor model prueba: 54.74770004640192\n",
      "Cantidad de nodos: 22\n",
      "\n",
      "Valuación de dataset de prueba en RandomForestRegressor:  0.12948404069103148\n",
      "\n",
      "RMSE RandomForestRegressor model prueba: 54.62763142551668\n",
      "Cantidad de nodos: 23\n",
      "\n",
      "Valuación de dataset de prueba en RandomForestRegressor:  0.13450966225055894\n",
      "\n",
      "RMSE RandomForestRegressor model prueba: 54.46971634976537\n",
      "Cantidad de nodos: 24\n",
      "\n",
      "Valuación de dataset de prueba en RandomForestRegressor:  0.14235135405063148\n",
      "\n",
      "RMSE RandomForestRegressor model prueba: 54.2223960617139\n",
      "Cantidad de nodos: 25\n",
      "\n",
      "Valuación de dataset de prueba en RandomForestRegressor:  0.14629649751745188\n",
      "\n",
      "RMSE RandomForestRegressor model prueba: 54.09754207873167\n",
      "Cantidad de nodos: 26\n",
      "\n",
      "Valuación de dataset de prueba en RandomForestRegressor:  0.14963403964547095\n",
      "\n",
      "RMSE RandomForestRegressor model prueba: 53.99169172308926\n",
      "Cantidad de nodos: 27\n",
      "\n",
      "Valuación de dataset de prueba en RandomForestRegressor:  0.15429447094786597\n",
      "\n",
      "RMSE RandomForestRegressor model prueba: 53.84353770055368\n",
      "Cantidad de nodos: 28\n",
      "\n",
      "Valuación de dataset de prueba en RandomForestRegressor:  0.15219707548931094\n",
      "\n",
      "RMSE RandomForestRegressor model prueba: 53.9102637981099\n",
      "Cantidad de nodos: 29\n",
      "\n",
      "Valuación de dataset de prueba en RandomForestRegressor:  0.15427739737360047\n",
      "\n",
      "RMSE RandomForestRegressor model prueba: 53.84408120947509\n",
      "Cantidad de nodos: 30\n",
      "\n",
      "Valuación de dataset de prueba en RandomForestRegressor:  0.15449334281060478\n",
      "\n",
      "RMSE RandomForestRegressor model prueba: 53.83720654044363\n",
      "Cantidad de nodos: 31\n",
      "\n",
      "Valuación de dataset de prueba en RandomForestRegressor:  0.15600260634508178\n",
      "\n",
      "RMSE RandomForestRegressor model prueba: 53.78913428400804\n",
      "Cantidad de nodos: 32\n",
      "\n",
      "Valuación de dataset de prueba en RandomForestRegressor:  0.1565613158036825\n",
      "\n",
      "RMSE RandomForestRegressor model prueba: 53.771327669019655\n",
      "Cantidad de nodos: 33\n",
      "\n",
      "Valuación de dataset de prueba en RandomForestRegressor:  0.15689828265814576\n",
      "\n",
      "RMSE RandomForestRegressor model prueba: 53.76058535569739\n",
      "Cantidad de nodos: 34\n",
      "\n",
      "Valuación de dataset de prueba en RandomForestRegressor:  0.15616447360917218\n",
      "\n",
      "RMSE RandomForestRegressor model prueba: 53.78397602311375\n",
      "Cantidad de nodos: 35\n",
      "\n",
      "Valuación de dataset de prueba en RandomForestRegressor:  0.1569106655271968\n",
      "\n",
      "RMSE RandomForestRegressor model prueba: 53.76019055592456\n",
      "Cantidad de nodos: 36\n",
      "\n",
      "Valuación de dataset de prueba en RandomForestRegressor:  0.1593311610165633\n",
      "\n",
      "RMSE RandomForestRegressor model prueba: 53.68296277866108\n",
      "Cantidad de nodos: 37\n",
      "\n",
      "Valuación de dataset de prueba en RandomForestRegressor:  0.15976845431838416\n",
      "\n",
      "RMSE RandomForestRegressor model prueba: 53.66899874636779\n",
      "Cantidad de nodos: 38\n",
      "\n",
      "Valuación de dataset de prueba en RandomForestRegressor:  0.1610363278264384\n",
      "\n",
      "RMSE RandomForestRegressor model prueba: 53.62849134642054\n",
      "Cantidad de nodos: 39\n",
      "\n",
      "Valuación de dataset de prueba en RandomForestRegressor:  0.1610024915473074\n",
      "\n",
      "RMSE RandomForestRegressor model prueba: 53.62957278198626\n",
      "Cantidad de nodos: 40\n",
      "\n",
      "Valuación de dataset de prueba en RandomForestRegressor:  0.16075483835229298\n",
      "\n",
      "RMSE RandomForestRegressor model prueba: 53.6374873198454\n",
      "Cantidad de nodos: 41\n",
      "\n",
      "Valuación de dataset de prueba en RandomForestRegressor:  0.1603930695930028\n",
      "\n",
      "RMSE RandomForestRegressor model prueba: 53.64904668142598\n",
      "Cantidad de nodos: 42\n",
      "\n",
      "Valuación de dataset de prueba en RandomForestRegressor:  0.15865360199848733\n",
      "\n",
      "RMSE RandomForestRegressor model prueba: 53.70459201469033\n",
      "Cantidad de nodos: 43\n",
      "\n",
      "Valuación de dataset de prueba en RandomForestRegressor:  0.15902092553003655\n",
      "\n",
      "RMSE RandomForestRegressor model prueba: 53.69286728747613\n",
      "Cantidad de nodos: 44\n",
      "\n",
      "Valuación de dataset de prueba en RandomForestRegressor:  0.1588935768774351\n",
      "\n",
      "RMSE RandomForestRegressor model prueba: 53.696932463217955\n",
      "Cantidad de nodos: 45\n",
      "\n",
      "Valuación de dataset de prueba en RandomForestRegressor:  0.1591931389430843\n",
      "\n",
      "RMSE RandomForestRegressor model prueba: 53.687369466165144\n",
      "Cantidad de nodos: 46\n",
      "\n",
      "Valuación de dataset de prueba en RandomForestRegressor:  0.15887344693604177\n",
      "\n",
      "RMSE RandomForestRegressor model prueba: 53.69757501546018\n",
      "Cantidad de nodos: 47\n",
      "\n",
      "Valuación de dataset de prueba en RandomForestRegressor:  0.15846237040469124\n",
      "\n",
      "RMSE RandomForestRegressor model prueba: 53.71069498918568\n",
      "Cantidad de nodos: 48\n",
      "\n",
      "Valuación de dataset de prueba en RandomForestRegressor:  0.1577988933464618\n",
      "\n",
      "RMSE RandomForestRegressor model prueba: 53.73186385407621\n",
      "Cantidad de nodos: 49\n",
      "\n",
      "Valuación de dataset de prueba en RandomForestRegressor:  0.15630238500883142\n",
      "\n",
      "RMSE RandomForestRegressor model prueba: 53.779580778856946\n"
     ]
    }
   ],
   "source": [
    "for leaves in range(10, 50):\n",
    "    forest_model = RandomForestRegressor(n_estimators=39, max_depth=6, max_leaf_nodes=leaves, random_state=12345)\n",
    "    forest_model.fit(feat_train, target_train)\n",
    "    forest_predict = forest_model.predict(feat_test)\n",
    "    print(\"Cantidad de nodos:\", leaves)\n",
    "    print()\n",
    "    print(\"Valuación de dataset de prueba en RandomForestRegressor: \", forest_model.score(feat_test, target_test))\n",
    "    print()\n",
    "    print(f\"RMSE RandomForestRegressor model prueba: {rmse(forest_predict, target_test)}\")"
   ]
  },
  {
   "cell_type": "markdown",
   "metadata": {},
   "source": [
    "### Conclusiones modelo RandomForestRegressor\n",
    "\n",
    "Este modelo por más que lo iteramos no llegamos a minimizar el error con un valor menor al objetivo deseado.\n",
    "Tendríamos que usar mucho recursos para que esto suceda y no creo que sea ideal para nuestra problemática."
   ]
  },
  {
   "cell_type": "code",
   "execution_count": 18,
   "metadata": {},
   "outputs": [
    {
     "name": "stderr",
     "output_type": "stream",
     "text": [
      "/opt/conda/envs/python3/lib/python3.9/site-packages/lightgbm/engine.py:177: UserWarning: Found `num_iterations` in params. Will use it instead of argument\n",
      "  _log_warning(f\"Found `{alias}` in params. Will use it instead of argument\")\n",
      "/opt/conda/envs/python3/lib/python3.9/site-packages/lightgbm/engine.py:177: UserWarning: Found `num_iterations` in params. Will use it instead of argument\n",
      "  _log_warning(f\"Found `{alias}` in params. Will use it instead of argument\")\n",
      "/opt/conda/envs/python3/lib/python3.9/site-packages/lightgbm/engine.py:177: UserWarning: Found `num_iterations` in params. Will use it instead of argument\n",
      "  _log_warning(f\"Found `{alias}` in params. Will use it instead of argument\")\n",
      "/opt/conda/envs/python3/lib/python3.9/site-packages/lightgbm/engine.py:177: UserWarning: Found `num_iterations` in params. Will use it instead of argument\n",
      "  _log_warning(f\"Found `{alias}` in params. Will use it instead of argument\")\n",
      "/opt/conda/envs/python3/lib/python3.9/site-packages/lightgbm/engine.py:177: UserWarning: Found `num_iterations` in params. Will use it instead of argument\n",
      "  _log_warning(f\"Found `{alias}` in params. Will use it instead of argument\")\n",
      "/opt/conda/envs/python3/lib/python3.9/site-packages/lightgbm/engine.py:177: UserWarning: Found `num_iterations` in params. Will use it instead of argument\n",
      "  _log_warning(f\"Found `{alias}` in params. Will use it instead of argument\")\n",
      "/opt/conda/envs/python3/lib/python3.9/site-packages/lightgbm/engine.py:177: UserWarning: Found `num_iterations` in params. Will use it instead of argument\n",
      "  _log_warning(f\"Found `{alias}` in params. Will use it instead of argument\")\n",
      "/opt/conda/envs/python3/lib/python3.9/site-packages/lightgbm/engine.py:177: UserWarning: Found `num_iterations` in params. Will use it instead of argument\n",
      "  _log_warning(f\"Found `{alias}` in params. Will use it instead of argument\")\n"
     ]
    },
    {
     "name": "stdout",
     "output_type": "stream",
     "text": [
      "[LightGBM] [Warning] Auto-choosing row-wise multi-threading, the overhead of testing was 0.000050 seconds.\n",
      "You can set `force_row_wise=true` to remove the overhead.\n",
      "And if memory is not enough, you can set `force_col_wise=true`.\n",
      "[LightGBM] [Info] Total Bins 895\n",
      "[LightGBM] [Info] Number of data points in the train set: 3969, number of used features: 8\n",
      "[LightGBM] [Info] Start training from score 78.291257\n",
      "Número de iteraciones: 1\n",
      "\n",
      "Valuación de dataset de prueba en light_model:  -0.9286976151616717\n",
      "\n",
      "RMSE LightGBM model prueba: 81.31226776541365\n",
      "[LightGBM] [Warning] Auto-choosing col-wise multi-threading, the overhead of testing was 0.000130 seconds.\n",
      "You can set `force_col_wise=true` to remove the overhead.\n",
      "[LightGBM] [Info] Total Bins 895\n",
      "[LightGBM] [Info] Number of data points in the train set: 3969, number of used features: 8\n",
      "[LightGBM] [Info] Start training from score 78.291257\n",
      "Número de iteraciones: 2\n",
      "\n",
      "Valuación de dataset de prueba en light_model:  -0.7785565890793191\n",
      "\n",
      "RMSE LightGBM model prueba: 78.08324359554231\n",
      "[LightGBM] [Warning] Auto-choosing col-wise multi-threading, the overhead of testing was 0.000182 seconds.\n",
      "You can set `force_col_wise=true` to remove the overhead.\n",
      "[LightGBM] [Info] Total Bins 895\n",
      "[LightGBM] [Info] Number of data points in the train set: 3969, number of used features: 8\n",
      "[LightGBM] [Info] Start training from score 78.291257\n",
      "Número de iteraciones: 3\n",
      "\n",
      "Valuación de dataset de prueba en light_model:  -0.661606744684959\n",
      "\n",
      "RMSE LightGBM model prueba: 75.47239380236304\n",
      "[LightGBM] [Warning] Auto-choosing col-wise multi-threading, the overhead of testing was 0.000141 seconds.\n",
      "You can set `force_col_wise=true` to remove the overhead.\n",
      "[LightGBM] [Info] Total Bins 895\n",
      "[LightGBM] [Info] Number of data points in the train set: 3969, number of used features: 8\n",
      "[LightGBM] [Info] Start training from score 78.291257\n",
      "Número de iteraciones: 4\n",
      "\n",
      "Valuación de dataset de prueba en light_model:  -0.5506102851656396\n",
      "\n",
      "RMSE LightGBM model prueba: 72.90802468423261\n",
      "[LightGBM] [Warning] Auto-choosing col-wise multi-threading, the overhead of testing was 0.000132 seconds.\n",
      "You can set `force_col_wise=true` to remove the overhead.\n",
      "[LightGBM] [Info] Total Bins 895\n",
      "[LightGBM] [Info] Number of data points in the train set: 3969, number of used features: 8\n",
      "[LightGBM] [Info] Start training from score 78.291257\n",
      "Número de iteraciones: 5\n",
      "\n",
      "Valuación de dataset de prueba en light_model:  -0.46229808317865806\n",
      "\n",
      "RMSE LightGBM model prueba: 70.80141822544064\n",
      "[LightGBM] [Warning] Auto-choosing col-wise multi-threading, the overhead of testing was 0.000180 seconds.\n",
      "You can set `force_col_wise=true` to remove the overhead.\n",
      "[LightGBM] [Info] Total Bins 895\n",
      "[LightGBM] [Info] Number of data points in the train set: 3969, number of used features: 8\n",
      "[LightGBM] [Info] Start training from score 78.291257\n",
      "Número de iteraciones: 6\n",
      "\n",
      "Valuación de dataset de prueba en light_model:  -0.38280085301817124\n",
      "\n",
      "RMSE LightGBM model prueba: 68.84998043450003\n",
      "[LightGBM] [Warning] Auto-choosing col-wise multi-threading, the overhead of testing was 0.000129 seconds.\n",
      "You can set `force_col_wise=true` to remove the overhead.\n",
      "[LightGBM] [Info] Total Bins 895\n",
      "[LightGBM] [Info] Number of data points in the train set: 3969, number of used features: 8\n",
      "[LightGBM] [Info] Start training from score 78.291257\n",
      "Número de iteraciones: 7\n",
      "\n",
      "Valuación de dataset de prueba en light_model:  -0.31135904665567726\n",
      "\n",
      "RMSE LightGBM model prueba: 67.04784291010562\n",
      "[LightGBM] [Warning] Auto-choosing col-wise multi-threading, the overhead of testing was 0.000130 seconds.\n",
      "You can set `force_col_wise=true` to remove the overhead.\n",
      "[LightGBM] [Info] Total Bins 895\n",
      "[LightGBM] [Info] Number of data points in the train set: 3969, number of used features: 8\n",
      "[LightGBM] [Info] Start training from score 78.291257\n",
      "Número de iteraciones: 8\n",
      "\n",
      "Valuación de dataset de prueba en light_model:  -0.25209673016376777\n",
      "\n",
      "RMSE LightGBM model prueba: 65.51533144612732\n",
      "[LightGBM] [Warning] Auto-choosing col-wise multi-threading, the overhead of testing was 0.000178 seconds.\n",
      "You can set `force_col_wise=true` to remove the overhead.\n",
      "[LightGBM] [Info] Total Bins 895\n",
      "[LightGBM] [Info] Number of data points in the train set: 3969, number of used features: 8\n",
      "[LightGBM] [Info] Start training from score 78.291257\n",
      "Número de iteraciones: 9\n",
      "\n",
      "Valuación de dataset de prueba en light_model:  -0.20130386868715777\n",
      "\n",
      "RMSE LightGBM model prueba: 64.17271883421367\n",
      "[LightGBM] [Warning] Auto-choosing col-wise multi-threading, the overhead of testing was 0.000134 seconds.\n",
      "You can set `force_col_wise=true` to remove the overhead.\n",
      "[LightGBM] [Info] Total Bins 895\n",
      "[LightGBM] [Info] Number of data points in the train set: 3969, number of used features: 8\n",
      "[LightGBM] [Info] Start training from score 78.291257\n",
      "Número de iteraciones: 10\n",
      "\n",
      "Valuación de dataset de prueba en light_model:  -0.14696876200391618\n",
      "\n",
      "RMSE LightGBM model prueba: 62.70465702835474\n",
      "[LightGBM] [Warning] Auto-choosing col-wise multi-threading, the overhead of testing was 0.000135 seconds.\n",
      "You can set `force_col_wise=true` to remove the overhead.\n",
      "[LightGBM] [Info] Total Bins 895\n",
      "[LightGBM] [Info] Number of data points in the train set: 3969, number of used features: 8\n",
      "[LightGBM] [Info] Start training from score 78.291257\n",
      "Número de iteraciones: 11\n",
      "\n",
      "Valuación de dataset de prueba en light_model:  -0.106296388484447\n",
      "\n",
      "RMSE LightGBM model prueba: 61.58284508070499\n",
      "[LightGBM] [Warning] Auto-choosing col-wise multi-threading, the overhead of testing was 0.000151 seconds.\n",
      "You can set `force_col_wise=true` to remove the overhead.\n",
      "[LightGBM] [Info] Total Bins 895\n",
      "[LightGBM] [Info] Number of data points in the train set: 3969, number of used features: 8\n",
      "[LightGBM] [Info] Start training from score 78.291257\n",
      "Número de iteraciones: 12\n",
      "\n"
     ]
    },
    {
     "name": "stderr",
     "output_type": "stream",
     "text": [
      "/opt/conda/envs/python3/lib/python3.9/site-packages/lightgbm/engine.py:177: UserWarning: Found `num_iterations` in params. Will use it instead of argument\n",
      "  _log_warning(f\"Found `{alias}` in params. Will use it instead of argument\")\n",
      "/opt/conda/envs/python3/lib/python3.9/site-packages/lightgbm/engine.py:177: UserWarning: Found `num_iterations` in params. Will use it instead of argument\n",
      "  _log_warning(f\"Found `{alias}` in params. Will use it instead of argument\")\n",
      "/opt/conda/envs/python3/lib/python3.9/site-packages/lightgbm/engine.py:177: UserWarning: Found `num_iterations` in params. Will use it instead of argument\n",
      "  _log_warning(f\"Found `{alias}` in params. Will use it instead of argument\")\n",
      "/opt/conda/envs/python3/lib/python3.9/site-packages/lightgbm/engine.py:177: UserWarning: Found `num_iterations` in params. Will use it instead of argument\n",
      "  _log_warning(f\"Found `{alias}` in params. Will use it instead of argument\")\n"
     ]
    },
    {
     "name": "stdout",
     "output_type": "stream",
     "text": [
      "Valuación de dataset de prueba en light_model:  -0.06202107215064556\n",
      "\n",
      "RMSE LightGBM model prueba: 60.33795249235701\n",
      "[LightGBM] [Warning] Auto-choosing col-wise multi-threading, the overhead of testing was 0.000169 seconds.\n",
      "You can set `force_col_wise=true` to remove the overhead.\n",
      "[LightGBM] [Info] Total Bins 895\n",
      "[LightGBM] [Info] Number of data points in the train set: 3969, number of used features: 8\n",
      "[LightGBM] [Info] Start training from score 78.291257\n",
      "Número de iteraciones: 13\n",
      "\n",
      "Valuación de dataset de prueba en light_model:  -0.021288898964428205\n",
      "\n",
      "RMSE LightGBM model prueba: 59.1695555966822\n",
      "[LightGBM] [Warning] Auto-choosing row-wise multi-threading, the overhead of testing was 0.000044 seconds.\n",
      "You can set `force_row_wise=true` to remove the overhead.\n",
      "And if memory is not enough, you can set `force_col_wise=true`.\n",
      "[LightGBM] [Info] Total Bins 895\n",
      "[LightGBM] [Info] Number of data points in the train set: 3969, number of used features: 8\n",
      "[LightGBM] [Info] Start training from score 78.291257\n",
      "Número de iteraciones: 14\n",
      "\n",
      "Valuación de dataset de prueba en light_model:  0.018521823398158554\n",
      "\n",
      "RMSE LightGBM model prueba: 58.004852329513746\n",
      "[LightGBM] [Warning] Auto-choosing col-wise multi-threading, the overhead of testing was 0.000131 seconds.\n",
      "You can set `force_col_wise=true` to remove the overhead.\n",
      "[LightGBM] [Info] Total Bins 895\n",
      "[LightGBM] [Info] Number of data points in the train set: 3969, number of used features: 8\n",
      "[LightGBM] [Info] Start training from score 78.291257\n",
      "Número de iteraciones: 15\n",
      "\n",
      "Valuación de dataset de prueba en light_model:  0.047914241711015215\n",
      "\n",
      "RMSE LightGBM model prueba: 57.12971219608972\n"
     ]
    },
    {
     "name": "stderr",
     "output_type": "stream",
     "text": [
      "/opt/conda/envs/python3/lib/python3.9/site-packages/lightgbm/engine.py:177: UserWarning: Found `num_iterations` in params. Will use it instead of argument\n",
      "  _log_warning(f\"Found `{alias}` in params. Will use it instead of argument\")\n",
      "/opt/conda/envs/python3/lib/python3.9/site-packages/lightgbm/engine.py:177: UserWarning: Found `num_iterations` in params. Will use it instead of argument\n",
      "  _log_warning(f\"Found `{alias}` in params. Will use it instead of argument\")\n",
      "/opt/conda/envs/python3/lib/python3.9/site-packages/lightgbm/engine.py:177: UserWarning: Found `num_iterations` in params. Will use it instead of argument\n",
      "  _log_warning(f\"Found `{alias}` in params. Will use it instead of argument\")\n",
      "/opt/conda/envs/python3/lib/python3.9/site-packages/lightgbm/engine.py:177: UserWarning: Found `num_iterations` in params. Will use it instead of argument\n",
      "  _log_warning(f\"Found `{alias}` in params. Will use it instead of argument\")\n"
     ]
    },
    {
     "name": "stdout",
     "output_type": "stream",
     "text": [
      "[LightGBM] [Warning] Auto-choosing col-wise multi-threading, the overhead of testing was 0.000136 seconds.\n",
      "You can set `force_col_wise=true` to remove the overhead.\n",
      "[LightGBM] [Info] Total Bins 895\n",
      "[LightGBM] [Info] Number of data points in the train set: 3969, number of used features: 8\n",
      "[LightGBM] [Info] Start training from score 78.291257\n",
      "Número de iteraciones: 16\n",
      "\n",
      "Valuación de dataset de prueba en light_model:  0.07396463564078193\n",
      "\n",
      "RMSE LightGBM model prueba: 56.34271724643038\n",
      "[LightGBM] [Warning] Auto-choosing col-wise multi-threading, the overhead of testing was 0.000130 seconds.\n",
      "You can set `force_col_wise=true` to remove the overhead.\n",
      "[LightGBM] [Info] Total Bins 895\n",
      "[LightGBM] [Info] Number of data points in the train set: 3969, number of used features: 8\n",
      "[LightGBM] [Info] Start training from score 78.291257\n",
      "Número de iteraciones: 17\n",
      "\n",
      "Valuación de dataset de prueba en light_model:  0.09687256956584644\n",
      "\n",
      "RMSE LightGBM model prueba: 55.641460162927686\n",
      "[LightGBM] [Warning] Auto-choosing col-wise multi-threading, the overhead of testing was 0.000129 seconds.\n",
      "You can set `force_col_wise=true` to remove the overhead.\n",
      "[LightGBM] [Info] Total Bins 895\n",
      "[LightGBM] [Info] Number of data points in the train set: 3969, number of used features: 8\n",
      "[LightGBM] [Info] Start training from score 78.291257\n",
      "Número de iteraciones: 18\n",
      "\n",
      "Valuación de dataset de prueba en light_model:  0.12917357865667878\n",
      "\n",
      "RMSE LightGBM model prueba: 54.63737179473694\n",
      "[LightGBM] [Warning] Auto-choosing col-wise multi-threading, the overhead of testing was 0.000130 seconds.\n",
      "You can set `force_col_wise=true` to remove the overhead.\n",
      "[LightGBM] [Info] Total Bins 895\n",
      "[LightGBM] [Info] Number of data points in the train set: 3969, number of used features: 8\n",
      "[LightGBM] [Info] Start training from score 78.291257\n"
     ]
    },
    {
     "name": "stderr",
     "output_type": "stream",
     "text": [
      "/opt/conda/envs/python3/lib/python3.9/site-packages/lightgbm/engine.py:177: UserWarning: Found `num_iterations` in params. Will use it instead of argument\n",
      "  _log_warning(f\"Found `{alias}` in params. Will use it instead of argument\")\n",
      "/opt/conda/envs/python3/lib/python3.9/site-packages/lightgbm/engine.py:177: UserWarning: Found `num_iterations` in params. Will use it instead of argument\n",
      "  _log_warning(f\"Found `{alias}` in params. Will use it instead of argument\")\n",
      "/opt/conda/envs/python3/lib/python3.9/site-packages/lightgbm/engine.py:177: UserWarning: Found `num_iterations` in params. Will use it instead of argument\n",
      "  _log_warning(f\"Found `{alias}` in params. Will use it instead of argument\")\n",
      "/opt/conda/envs/python3/lib/python3.9/site-packages/lightgbm/engine.py:177: UserWarning: Found `num_iterations` in params. Will use it instead of argument\n",
      "  _log_warning(f\"Found `{alias}` in params. Will use it instead of argument\")\n"
     ]
    },
    {
     "name": "stdout",
     "output_type": "stream",
     "text": [
      "Número de iteraciones: 19\n",
      "\n",
      "Valuación de dataset de prueba en light_model:  0.1563227800834036\n",
      "\n",
      "RMSE LightGBM model prueba: 53.77893075616538\n",
      "[LightGBM] [Warning] Auto-choosing col-wise multi-threading, the overhead of testing was 0.000129 seconds.\n",
      "You can set `force_col_wise=true` to remove the overhead.\n",
      "[LightGBM] [Info] Total Bins 895\n",
      "[LightGBM] [Info] Number of data points in the train set: 3969, number of used features: 8\n",
      "[LightGBM] [Info] Start training from score 78.291257\n",
      "Número de iteraciones: 20\n",
      "\n",
      "Valuación de dataset de prueba en light_model:  0.17202045406001631\n",
      "\n",
      "RMSE LightGBM model prueba: 53.276269350938804\n",
      "[LightGBM] [Warning] Auto-choosing col-wise multi-threading, the overhead of testing was 0.000134 seconds.\n",
      "You can set `force_col_wise=true` to remove the overhead.\n",
      "[LightGBM] [Info] Total Bins 895\n",
      "[LightGBM] [Info] Number of data points in the train set: 3969, number of used features: 8\n",
      "[LightGBM] [Info] Start training from score 78.291257\n",
      "Número de iteraciones: 21\n",
      "\n",
      "Valuación de dataset de prueba en light_model:  0.19711596763080674\n",
      "\n",
      "RMSE LightGBM model prueba: 52.46267274093377\n",
      "[LightGBM] [Warning] Auto-choosing col-wise multi-threading, the overhead of testing was 0.000135 seconds.\n",
      "You can set `force_col_wise=true` to remove the overhead.\n",
      "[LightGBM] [Info] Total Bins 895\n",
      "[LightGBM] [Info] Number of data points in the train set: 3969, number of used features: 8\n",
      "[LightGBM] [Info] Start training from score 78.291257\n",
      "Número de iteraciones: 22\n",
      "\n",
      "Valuación de dataset de prueba en light_model:  0.20336896779895586\n",
      "\n",
      "RMSE LightGBM model prueba: 52.25797921517016\n"
     ]
    },
    {
     "name": "stderr",
     "output_type": "stream",
     "text": [
      "/opt/conda/envs/python3/lib/python3.9/site-packages/lightgbm/engine.py:177: UserWarning: Found `num_iterations` in params. Will use it instead of argument\n",
      "  _log_warning(f\"Found `{alias}` in params. Will use it instead of argument\")\n",
      "/opt/conda/envs/python3/lib/python3.9/site-packages/lightgbm/engine.py:177: UserWarning: Found `num_iterations` in params. Will use it instead of argument\n",
      "  _log_warning(f\"Found `{alias}` in params. Will use it instead of argument\")\n",
      "/opt/conda/envs/python3/lib/python3.9/site-packages/lightgbm/engine.py:177: UserWarning: Found `num_iterations` in params. Will use it instead of argument\n",
      "  _log_warning(f\"Found `{alias}` in params. Will use it instead of argument\")\n"
     ]
    },
    {
     "name": "stdout",
     "output_type": "stream",
     "text": [
      "[LightGBM] [Warning] Auto-choosing col-wise multi-threading, the overhead of testing was 0.000137 seconds.\n",
      "You can set `force_col_wise=true` to remove the overhead.\n",
      "[LightGBM] [Info] Total Bins 895\n",
      "[LightGBM] [Info] Number of data points in the train set: 3969, number of used features: 8\n",
      "[LightGBM] [Info] Start training from score 78.291257\n",
      "Número de iteraciones: 23\n",
      "\n",
      "Valuación de dataset de prueba en light_model:  0.2379610442856781\n",
      "\n",
      "RMSE LightGBM model prueba: 51.1107893713529\n",
      "[LightGBM] [Warning] Auto-choosing col-wise multi-threading, the overhead of testing was 0.000163 seconds.\n",
      "You can set `force_col_wise=true` to remove the overhead.\n",
      "[LightGBM] [Info] Total Bins 895\n",
      "[LightGBM] [Info] Number of data points in the train set: 3969, number of used features: 8\n",
      "[LightGBM] [Info] Start training from score 78.291257\n",
      "Número de iteraciones: 24\n",
      "\n",
      "Valuación de dataset de prueba en light_model:  0.2527666471994614\n",
      "\n",
      "RMSE LightGBM model prueba: 50.61183994949752\n",
      "[LightGBM] [Warning] Auto-choosing col-wise multi-threading, the overhead of testing was 0.000168 seconds.\n",
      "You can set `force_col_wise=true` to remove the overhead.\n",
      "[LightGBM] [Info] Total Bins 895\n",
      "[LightGBM] [Info] Number of data points in the train set: 3969, number of used features: 8\n",
      "[LightGBM] [Info] Start training from score 78.291257\n",
      "Número de iteraciones: 25\n",
      "\n"
     ]
    },
    {
     "name": "stderr",
     "output_type": "stream",
     "text": [
      "/opt/conda/envs/python3/lib/python3.9/site-packages/lightgbm/engine.py:177: UserWarning: Found `num_iterations` in params. Will use it instead of argument\n",
      "  _log_warning(f\"Found `{alias}` in params. Will use it instead of argument\")\n",
      "/opt/conda/envs/python3/lib/python3.9/site-packages/lightgbm/engine.py:177: UserWarning: Found `num_iterations` in params. Will use it instead of argument\n",
      "  _log_warning(f\"Found `{alias}` in params. Will use it instead of argument\")\n",
      "/opt/conda/envs/python3/lib/python3.9/site-packages/lightgbm/engine.py:177: UserWarning: Found `num_iterations` in params. Will use it instead of argument\n",
      "  _log_warning(f\"Found `{alias}` in params. Will use it instead of argument\")\n"
     ]
    },
    {
     "name": "stdout",
     "output_type": "stream",
     "text": [
      "Valuación de dataset de prueba en light_model:  0.2802177178367471\n",
      "\n",
      "RMSE LightGBM model prueba: 49.67347898956846\n",
      "[LightGBM] [Warning] Auto-choosing col-wise multi-threading, the overhead of testing was 0.000211 seconds.\n",
      "You can set `force_col_wise=true` to remove the overhead.\n",
      "[LightGBM] [Info] Total Bins 895\n",
      "[LightGBM] [Info] Number of data points in the train set: 3969, number of used features: 8\n",
      "[LightGBM] [Info] Start training from score 78.291257\n",
      "Número de iteraciones: 26\n",
      "\n",
      "Valuación de dataset de prueba en light_model:  0.2927973578982562\n",
      "\n",
      "RMSE LightGBM model prueba: 49.237493791127235\n",
      "[LightGBM] [Warning] Auto-choosing col-wise multi-threading, the overhead of testing was 0.000133 seconds.\n",
      "You can set `force_col_wise=true` to remove the overhead.\n",
      "[LightGBM] [Info] Total Bins 895\n",
      "[LightGBM] [Info] Number of data points in the train set: 3969, number of used features: 8\n",
      "[LightGBM] [Info] Start training from score 78.291257\n",
      "Número de iteraciones: 27\n",
      "\n",
      "Valuación de dataset de prueba en light_model:  0.2985401937485799\n",
      "\n",
      "RMSE LightGBM model prueba: 49.03716985714326\n",
      "[LightGBM] [Warning] Auto-choosing col-wise multi-threading, the overhead of testing was 0.000138 seconds.\n",
      "You can set `force_col_wise=true` to remove the overhead.\n",
      "[LightGBM] [Info] Total Bins 895\n",
      "[LightGBM] [Info] Number of data points in the train set: 3969, number of used features: 8\n",
      "[LightGBM] [Info] Start training from score 78.291257\n"
     ]
    },
    {
     "name": "stderr",
     "output_type": "stream",
     "text": [
      "/opt/conda/envs/python3/lib/python3.9/site-packages/lightgbm/engine.py:177: UserWarning: Found `num_iterations` in params. Will use it instead of argument\n",
      "  _log_warning(f\"Found `{alias}` in params. Will use it instead of argument\")\n",
      "/opt/conda/envs/python3/lib/python3.9/site-packages/lightgbm/engine.py:177: UserWarning: Found `num_iterations` in params. Will use it instead of argument\n",
      "  _log_warning(f\"Found `{alias}` in params. Will use it instead of argument\")\n",
      "/opt/conda/envs/python3/lib/python3.9/site-packages/lightgbm/engine.py:177: UserWarning: Found `num_iterations` in params. Will use it instead of argument\n",
      "  _log_warning(f\"Found `{alias}` in params. Will use it instead of argument\")\n"
     ]
    },
    {
     "name": "stdout",
     "output_type": "stream",
     "text": [
      "Número de iteraciones: 28\n",
      "\n",
      "Valuación de dataset de prueba en light_model:  0.3063910270854121\n",
      "\n",
      "RMSE LightGBM model prueba: 48.761982377062395\n",
      "[LightGBM] [Warning] Auto-choosing col-wise multi-threading, the overhead of testing was 0.000129 seconds.\n",
      "You can set `force_col_wise=true` to remove the overhead.\n",
      "[LightGBM] [Info] Total Bins 895\n",
      "[LightGBM] [Info] Number of data points in the train set: 3969, number of used features: 8\n",
      "[LightGBM] [Info] Start training from score 78.291257\n",
      "Número de iteraciones: 29\n",
      "\n",
      "Valuación de dataset de prueba en light_model:  0.3126981404072965\n",
      "\n",
      "RMSE LightGBM model prueba: 48.53977526636848\n",
      "[LightGBM] [Warning] Auto-choosing col-wise multi-threading, the overhead of testing was 0.000129 seconds.\n",
      "You can set `force_col_wise=true` to remove the overhead.\n",
      "[LightGBM] [Info] Total Bins 895\n",
      "[LightGBM] [Info] Number of data points in the train set: 3969, number of used features: 8\n",
      "[LightGBM] [Info] Start training from score 78.291257\n",
      "Número de iteraciones: 30\n",
      "\n"
     ]
    },
    {
     "name": "stderr",
     "output_type": "stream",
     "text": [
      "/opt/conda/envs/python3/lib/python3.9/site-packages/lightgbm/engine.py:177: UserWarning: Found `num_iterations` in params. Will use it instead of argument\n",
      "  _log_warning(f\"Found `{alias}` in params. Will use it instead of argument\")\n",
      "/opt/conda/envs/python3/lib/python3.9/site-packages/lightgbm/engine.py:177: UserWarning: Found `num_iterations` in params. Will use it instead of argument\n",
      "  _log_warning(f\"Found `{alias}` in params. Will use it instead of argument\")\n"
     ]
    },
    {
     "name": "stdout",
     "output_type": "stream",
     "text": [
      "Valuación de dataset de prueba en light_model:  0.32289715157570653\n",
      "\n",
      "RMSE LightGBM model prueba: 48.17828342493435\n",
      "[LightGBM] [Warning] Auto-choosing col-wise multi-threading, the overhead of testing was 0.000177 seconds.\n",
      "You can set `force_col_wise=true` to remove the overhead.\n",
      "[LightGBM] [Info] Total Bins 895\n",
      "[LightGBM] [Info] Number of data points in the train set: 3969, number of used features: 8\n",
      "[LightGBM] [Info] Start training from score 78.291257\n",
      "Número de iteraciones: 31\n",
      "\n",
      "Valuación de dataset de prueba en light_model:  0.3262769856468061\n",
      "\n",
      "RMSE LightGBM model prueba: 48.05788937056102\n",
      "[LightGBM] [Warning] Auto-choosing col-wise multi-threading, the overhead of testing was 0.000137 seconds.\n",
      "You can set `force_col_wise=true` to remove the overhead.\n",
      "[LightGBM] [Info] Total Bins 895\n",
      "[LightGBM] [Info] Number of data points in the train set: 3969, number of used features: 8\n",
      "[LightGBM] [Info] Start training from score 78.291257\n",
      "Número de iteraciones: 32\n",
      "\n"
     ]
    },
    {
     "name": "stderr",
     "output_type": "stream",
     "text": [
      "/opt/conda/envs/python3/lib/python3.9/site-packages/lightgbm/engine.py:177: UserWarning: Found `num_iterations` in params. Will use it instead of argument\n",
      "  _log_warning(f\"Found `{alias}` in params. Will use it instead of argument\")\n",
      "/opt/conda/envs/python3/lib/python3.9/site-packages/lightgbm/engine.py:177: UserWarning: Found `num_iterations` in params. Will use it instead of argument\n",
      "  _log_warning(f\"Found `{alias}` in params. Will use it instead of argument\")\n",
      "/opt/conda/envs/python3/lib/python3.9/site-packages/lightgbm/engine.py:177: UserWarning: Found `num_iterations` in params. Will use it instead of argument\n",
      "  _log_warning(f\"Found `{alias}` in params. Will use it instead of argument\")\n"
     ]
    },
    {
     "name": "stdout",
     "output_type": "stream",
     "text": [
      "Valuación de dataset de prueba en light_model:  0.3297214511389963\n",
      "\n",
      "RMSE LightGBM model prueba: 47.93488194992417\n",
      "[LightGBM] [Warning] Auto-choosing col-wise multi-threading, the overhead of testing was 0.000162 seconds.\n",
      "You can set `force_col_wise=true` to remove the overhead.\n",
      "[LightGBM] [Info] Total Bins 895\n",
      "[LightGBM] [Info] Number of data points in the train set: 3969, number of used features: 8\n",
      "[LightGBM] [Info] Start training from score 78.291257\n",
      "Número de iteraciones: 33\n",
      "\n",
      "Valuación de dataset de prueba en light_model:  0.3425287589587577\n",
      "\n",
      "RMSE LightGBM model prueba: 47.47471673913024\n",
      "[LightGBM] [Warning] Auto-choosing col-wise multi-threading, the overhead of testing was 0.000137 seconds.\n",
      "You can set `force_col_wise=true` to remove the overhead.\n",
      "[LightGBM] [Info] Total Bins 895\n",
      "[LightGBM] [Info] Number of data points in the train set: 3969, number of used features: 8\n",
      "[LightGBM] [Info] Start training from score 78.291257\n",
      "Número de iteraciones: 34\n",
      "\n",
      "Valuación de dataset de prueba en light_model:  0.3495502973703738\n",
      "\n",
      "RMSE LightGBM model prueba: 47.22053046370873\n",
      "[LightGBM] [Warning] Auto-choosing col-wise multi-threading, the overhead of testing was 0.000138 seconds.\n",
      "You can set `force_col_wise=true` to remove the overhead.\n",
      "[LightGBM] [Info] Total Bins 895\n",
      "[LightGBM] [Info] Number of data points in the train set: 3969, number of used features: 8\n",
      "[LightGBM] [Info] Start training from score 78.291257\n",
      "Número de iteraciones: 35\n",
      "\n",
      "Valuación de dataset de prueba en light_model:  0.36859982053776474\n",
      "\n",
      "RMSE LightGBM model prueba: 46.52392557264716\n",
      "[LightGBM] [Warning] Auto-choosing col-wise multi-threading, the overhead of testing was 0.000132 seconds.\n",
      "You can set `force_col_wise=true` to remove the overhead.\n",
      "[LightGBM] [Info] Total Bins 895\n",
      "[LightGBM] [Info] Number of data points in the train set: 3969, number of used features: 8\n",
      "[LightGBM] [Info] Start training from score 78.291257\n",
      "Número de iteraciones: 36\n",
      "\n",
      "Valuación de dataset de prueba en light_model:  0.37258319734781586\n",
      "\n",
      "RMSE LightGBM model prueba: 46.37693833044003\n"
     ]
    },
    {
     "name": "stderr",
     "output_type": "stream",
     "text": [
      "/opt/conda/envs/python3/lib/python3.9/site-packages/lightgbm/engine.py:177: UserWarning: Found `num_iterations` in params. Will use it instead of argument\n",
      "  _log_warning(f\"Found `{alias}` in params. Will use it instead of argument\")\n",
      "/opt/conda/envs/python3/lib/python3.9/site-packages/lightgbm/engine.py:177: UserWarning: Found `num_iterations` in params. Will use it instead of argument\n",
      "  _log_warning(f\"Found `{alias}` in params. Will use it instead of argument\")\n",
      "/opt/conda/envs/python3/lib/python3.9/site-packages/lightgbm/engine.py:177: UserWarning: Found `num_iterations` in params. Will use it instead of argument\n",
      "  _log_warning(f\"Found `{alias}` in params. Will use it instead of argument\")\n"
     ]
    },
    {
     "name": "stdout",
     "output_type": "stream",
     "text": [
      "[LightGBM] [Warning] Auto-choosing col-wise multi-threading, the overhead of testing was 0.000131 seconds.\n",
      "You can set `force_col_wise=true` to remove the overhead.\n",
      "[LightGBM] [Info] Total Bins 895\n",
      "[LightGBM] [Info] Number of data points in the train set: 3969, number of used features: 8\n",
      "[LightGBM] [Info] Start training from score 78.291257\n",
      "Número de iteraciones: 37\n",
      "\n",
      "Valuación de dataset de prueba en light_model:  0.3768913738765306\n",
      "\n",
      "RMSE LightGBM model prueba: 46.217439730602585\n",
      "[LightGBM] [Warning] Auto-choosing col-wise multi-threading, the overhead of testing was 0.000160 seconds.\n",
      "You can set `force_col_wise=true` to remove the overhead.\n",
      "[LightGBM] [Info] Total Bins 895\n",
      "[LightGBM] [Info] Number of data points in the train set: 3969, number of used features: 8\n",
      "[LightGBM] [Info] Start training from score 78.291257\n",
      "Número de iteraciones: 38\n",
      "\n",
      "Valuación de dataset de prueba en light_model:  0.3814239221368516\n",
      "\n",
      "RMSE LightGBM model prueba: 46.049038020006776\n",
      "[LightGBM] [Warning] Auto-choosing col-wise multi-threading, the overhead of testing was 0.000129 seconds.\n",
      "You can set `force_col_wise=true` to remove the overhead.\n",
      "[LightGBM] [Info] Total Bins 895\n",
      "[LightGBM] [Info] Number of data points in the train set: 3969, number of used features: 8\n",
      "[LightGBM] [Info] Start training from score 78.291257\n"
     ]
    },
    {
     "name": "stderr",
     "output_type": "stream",
     "text": [
      "/opt/conda/envs/python3/lib/python3.9/site-packages/lightgbm/engine.py:177: UserWarning: Found `num_iterations` in params. Will use it instead of argument\n",
      "  _log_warning(f\"Found `{alias}` in params. Will use it instead of argument\")\n",
      "/opt/conda/envs/python3/lib/python3.9/site-packages/lightgbm/engine.py:177: UserWarning: Found `num_iterations` in params. Will use it instead of argument\n",
      "  _log_warning(f\"Found `{alias}` in params. Will use it instead of argument\")\n",
      "/opt/conda/envs/python3/lib/python3.9/site-packages/lightgbm/engine.py:177: UserWarning: Found `num_iterations` in params. Will use it instead of argument\n",
      "  _log_warning(f\"Found `{alias}` in params. Will use it instead of argument\")\n"
     ]
    },
    {
     "name": "stdout",
     "output_type": "stream",
     "text": [
      "Número de iteraciones: 39\n",
      "\n",
      "Valuación de dataset de prueba en light_model:  0.3872682910598846\n",
      "\n",
      "RMSE LightGBM model prueba: 45.8309837795267\n",
      "[LightGBM] [Warning] Auto-choosing col-wise multi-threading, the overhead of testing was 0.000138 seconds.\n",
      "You can set `force_col_wise=true` to remove the overhead.\n",
      "[LightGBM] [Info] Total Bins 895\n",
      "[LightGBM] [Info] Number of data points in the train set: 3969, number of used features: 8\n",
      "[LightGBM] [Info] Start training from score 78.291257\n",
      "Número de iteraciones: 40\n",
      "\n",
      "Valuación de dataset de prueba en light_model:  0.3893184634619251\n",
      "\n",
      "RMSE LightGBM model prueba: 45.754245342331785\n",
      "[LightGBM] [Warning] Auto-choosing col-wise multi-threading, the overhead of testing was 0.000134 seconds.\n",
      "You can set `force_col_wise=true` to remove the overhead.\n",
      "[LightGBM] [Info] Total Bins 895\n",
      "[LightGBM] [Info] Number of data points in the train set: 3969, number of used features: 8\n",
      "[LightGBM] [Info] Start training from score 78.291257\n"
     ]
    },
    {
     "name": "stderr",
     "output_type": "stream",
     "text": [
      "/opt/conda/envs/python3/lib/python3.9/site-packages/lightgbm/engine.py:177: UserWarning: Found `num_iterations` in params. Will use it instead of argument\n",
      "  _log_warning(f\"Found `{alias}` in params. Will use it instead of argument\")\n",
      "/opt/conda/envs/python3/lib/python3.9/site-packages/lightgbm/engine.py:177: UserWarning: Found `num_iterations` in params. Will use it instead of argument\n",
      "  _log_warning(f\"Found `{alias}` in params. Will use it instead of argument\")\n"
     ]
    },
    {
     "name": "stdout",
     "output_type": "stream",
     "text": [
      "Número de iteraciones: 41\n",
      "\n",
      "Valuación de dataset de prueba en light_model:  0.3891744986210307\n",
      "\n",
      "RMSE LightGBM model prueba: 45.75963818138957\n",
      "[LightGBM] [Warning] Auto-choosing col-wise multi-threading, the overhead of testing was 0.000137 seconds.\n",
      "You can set `force_col_wise=true` to remove the overhead.\n",
      "[LightGBM] [Info] Total Bins 895\n",
      "[LightGBM] [Info] Number of data points in the train set: 3969, number of used features: 8\n",
      "[LightGBM] [Info] Start training from score 78.291257\n",
      "Número de iteraciones: 42\n",
      "\n",
      "Valuación de dataset de prueba en light_model:  0.3910644651580706\n",
      "\n",
      "RMSE LightGBM model prueba: 45.68879046261281\n",
      "[LightGBM] [Warning] Auto-choosing col-wise multi-threading, the overhead of testing was 0.000174 seconds.\n",
      "You can set `force_col_wise=true` to remove the overhead.\n",
      "[LightGBM] [Info] Total Bins 895\n",
      "[LightGBM] [Info] Number of data points in the train set: 3969, number of used features: 8\n",
      "[LightGBM] [Info] Start training from score 78.291257\n"
     ]
    },
    {
     "name": "stderr",
     "output_type": "stream",
     "text": [
      "/opt/conda/envs/python3/lib/python3.9/site-packages/lightgbm/engine.py:177: UserWarning: Found `num_iterations` in params. Will use it instead of argument\n",
      "  _log_warning(f\"Found `{alias}` in params. Will use it instead of argument\")\n",
      "/opt/conda/envs/python3/lib/python3.9/site-packages/lightgbm/engine.py:177: UserWarning: Found `num_iterations` in params. Will use it instead of argument\n",
      "  _log_warning(f\"Found `{alias}` in params. Will use it instead of argument\")\n"
     ]
    },
    {
     "name": "stdout",
     "output_type": "stream",
     "text": [
      "Número de iteraciones: 43\n",
      "\n",
      "Valuación de dataset de prueba en light_model:  0.39429070168492764\n",
      "\n",
      "RMSE LightGBM model prueba: 45.56759651348204\n",
      "[LightGBM] [Warning] Auto-choosing col-wise multi-threading, the overhead of testing was 0.000137 seconds.\n",
      "You can set `force_col_wise=true` to remove the overhead.\n",
      "[LightGBM] [Info] Total Bins 895\n",
      "[LightGBM] [Info] Number of data points in the train set: 3969, number of used features: 8\n",
      "[LightGBM] [Info] Start training from score 78.291257\n",
      "Número de iteraciones: 44\n",
      "\n",
      "Valuación de dataset de prueba en light_model:  0.3958047432245748\n",
      "\n",
      "RMSE LightGBM model prueba: 45.51061010014326\n",
      "[LightGBM] [Warning] Auto-choosing col-wise multi-threading, the overhead of testing was 0.000133 seconds.\n",
      "You can set `force_col_wise=true` to remove the overhead.\n",
      "[LightGBM] [Info] Total Bins 895\n",
      "[LightGBM] [Info] Number of data points in the train set: 3969, number of used features: 8\n",
      "[LightGBM] [Info] Start training from score 78.291257\n"
     ]
    },
    {
     "name": "stderr",
     "output_type": "stream",
     "text": [
      "/opt/conda/envs/python3/lib/python3.9/site-packages/lightgbm/engine.py:177: UserWarning: Found `num_iterations` in params. Will use it instead of argument\n",
      "  _log_warning(f\"Found `{alias}` in params. Will use it instead of argument\")\n",
      "/opt/conda/envs/python3/lib/python3.9/site-packages/lightgbm/engine.py:177: UserWarning: Found `num_iterations` in params. Will use it instead of argument\n",
      "  _log_warning(f\"Found `{alias}` in params. Will use it instead of argument\")\n"
     ]
    },
    {
     "name": "stdout",
     "output_type": "stream",
     "text": [
      "Número de iteraciones: 45\n",
      "\n",
      "Valuación de dataset de prueba en light_model:  0.40609261929753737\n",
      "\n",
      "RMSE LightGBM model prueba: 45.121482783864955\n",
      "[LightGBM] [Warning] Auto-choosing row-wise multi-threading, the overhead of testing was 0.000055 seconds.\n",
      "You can set `force_row_wise=true` to remove the overhead.\n",
      "And if memory is not enough, you can set `force_col_wise=true`.\n",
      "[LightGBM] [Info] Total Bins 895\n",
      "[LightGBM] [Info] Number of data points in the train set: 3969, number of used features: 8\n",
      "[LightGBM] [Info] Start training from score 78.291257\n",
      "Número de iteraciones: 46\n",
      "\n",
      "Valuación de dataset de prueba en light_model:  0.4080822283603336\n",
      "\n",
      "RMSE LightGBM model prueba: 45.045840161172606\n",
      "[LightGBM] [Warning] Auto-choosing col-wise multi-threading, the overhead of testing was 0.000134 seconds.\n",
      "You can set `force_col_wise=true` to remove the overhead.\n",
      "[LightGBM] [Info] Total Bins 895\n",
      "[LightGBM] [Info] Number of data points in the train set: 3969, number of used features: 8\n",
      "[LightGBM] [Info] Start training from score 78.291257\n"
     ]
    },
    {
     "name": "stderr",
     "output_type": "stream",
     "text": [
      "/opt/conda/envs/python3/lib/python3.9/site-packages/lightgbm/engine.py:177: UserWarning: Found `num_iterations` in params. Will use it instead of argument\n",
      "  _log_warning(f\"Found `{alias}` in params. Will use it instead of argument\")\n",
      "/opt/conda/envs/python3/lib/python3.9/site-packages/lightgbm/engine.py:177: UserWarning: Found `num_iterations` in params. Will use it instead of argument\n",
      "  _log_warning(f\"Found `{alias}` in params. Will use it instead of argument\")\n"
     ]
    },
    {
     "name": "stdout",
     "output_type": "stream",
     "text": [
      "Número de iteraciones: 47\n",
      "\n",
      "Valuación de dataset de prueba en light_model:  0.40949216826569546\n",
      "\n",
      "RMSE LightGBM model prueba: 44.992158892504285\n",
      "[LightGBM] [Warning] Auto-choosing col-wise multi-threading, the overhead of testing was 0.000163 seconds.\n",
      "You can set `force_col_wise=true` to remove the overhead.\n",
      "[LightGBM] [Info] Total Bins 895\n",
      "[LightGBM] [Info] Number of data points in the train set: 3969, number of used features: 8\n",
      "[LightGBM] [Info] Start training from score 78.291257\n",
      "Número de iteraciones: 48\n",
      "\n",
      "Valuación de dataset de prueba en light_model:  0.4178743226624634\n",
      "\n",
      "RMSE LightGBM model prueba: 44.67168970166759\n",
      "[LightGBM] [Warning] Auto-choosing col-wise multi-threading, the overhead of testing was 0.000134 seconds.\n",
      "You can set `force_col_wise=true` to remove the overhead.\n",
      "[LightGBM] [Info] Total Bins 895\n",
      "[LightGBM] [Info] Number of data points in the train set: 3969, number of used features: 8\n",
      "[LightGBM] [Info] Start training from score 78.291257\n",
      "Número de iteraciones: 49\n",
      "\n",
      "Valuación de dataset de prueba en light_model:  0.4187872463596587\n",
      "\n",
      "RMSE LightGBM model prueba: 44.636647572981566\n",
      "[LightGBM] [Warning] Auto-choosing col-wise multi-threading, the overhead of testing was 0.000182 seconds.\n",
      "You can set `force_col_wise=true` to remove the overhead.\n",
      "[LightGBM] [Info] Total Bins 895\n",
      "[LightGBM] [Info] Number of data points in the train set: 3969, number of used features: 8\n",
      "[LightGBM] [Info] Start training from score 78.291257\n"
     ]
    },
    {
     "name": "stderr",
     "output_type": "stream",
     "text": [
      "/opt/conda/envs/python3/lib/python3.9/site-packages/lightgbm/engine.py:177: UserWarning: Found `num_iterations` in params. Will use it instead of argument\n",
      "  _log_warning(f\"Found `{alias}` in params. Will use it instead of argument\")\n",
      "/opt/conda/envs/python3/lib/python3.9/site-packages/lightgbm/engine.py:177: UserWarning: Found `num_iterations` in params. Will use it instead of argument\n",
      "  _log_warning(f\"Found `{alias}` in params. Will use it instead of argument\")\n"
     ]
    },
    {
     "name": "stdout",
     "output_type": "stream",
     "text": [
      "Número de iteraciones: 50\n",
      "\n",
      "Valuación de dataset de prueba en light_model:  0.4195453115390373\n",
      "\n",
      "RMSE LightGBM model prueba: 44.607528692981994\n",
      "[LightGBM] [Warning] Auto-choosing col-wise multi-threading, the overhead of testing was 0.000140 seconds.\n",
      "You can set `force_col_wise=true` to remove the overhead.\n",
      "[LightGBM] [Info] Total Bins 895\n",
      "[LightGBM] [Info] Number of data points in the train set: 3969, number of used features: 8\n",
      "[LightGBM] [Info] Start training from score 78.291257\n",
      "Número de iteraciones: 51\n",
      "\n",
      "Valuación de dataset de prueba en light_model:  0.41966769160081685\n",
      "\n",
      "RMSE LightGBM model prueba: 44.60282603487898\n",
      "[LightGBM] [Warning] Auto-choosing col-wise multi-threading, the overhead of testing was 0.000130 seconds.\n",
      "You can set `force_col_wise=true` to remove the overhead.\n",
      "[LightGBM] [Info] Total Bins 895\n",
      "[LightGBM] [Info] Number of data points in the train set: 3969, number of used features: 8\n",
      "[LightGBM] [Info] Start training from score 78.291257\n"
     ]
    },
    {
     "name": "stderr",
     "output_type": "stream",
     "text": [
      "/opt/conda/envs/python3/lib/python3.9/site-packages/lightgbm/engine.py:177: UserWarning: Found `num_iterations` in params. Will use it instead of argument\n",
      "  _log_warning(f\"Found `{alias}` in params. Will use it instead of argument\")\n",
      "/opt/conda/envs/python3/lib/python3.9/site-packages/lightgbm/engine.py:177: UserWarning: Found `num_iterations` in params. Will use it instead of argument\n",
      "  _log_warning(f\"Found `{alias}` in params. Will use it instead of argument\")\n"
     ]
    },
    {
     "name": "stdout",
     "output_type": "stream",
     "text": [
      "Número de iteraciones: 52\n",
      "\n",
      "Valuación de dataset de prueba en light_model:  0.4209351586997243\n",
      "\n",
      "RMSE LightGBM model prueba: 44.55409230527286\n",
      "[LightGBM] [Warning] Auto-choosing col-wise multi-threading, the overhead of testing was 0.000130 seconds.\n",
      "You can set `force_col_wise=true` to remove the overhead.\n",
      "[LightGBM] [Info] Total Bins 895\n",
      "[LightGBM] [Info] Number of data points in the train set: 3969, number of used features: 8\n",
      "[LightGBM] [Info] Start training from score 78.291257\n",
      "Número de iteraciones: 53\n",
      "\n",
      "Valuación de dataset de prueba en light_model:  0.4228835722876192\n",
      "\n",
      "RMSE LightGBM model prueba: 44.479072256333076\n",
      "[LightGBM] [Warning] Auto-choosing col-wise multi-threading, the overhead of testing was 0.000134 seconds.\n",
      "You can set `force_col_wise=true` to remove the overhead.\n",
      "[LightGBM] [Info] Total Bins 895\n",
      "[LightGBM] [Info] Number of data points in the train set: 3969, number of used features: 8\n",
      "[LightGBM] [Info] Start training from score 78.291257\n"
     ]
    },
    {
     "name": "stderr",
     "output_type": "stream",
     "text": [
      "/opt/conda/envs/python3/lib/python3.9/site-packages/lightgbm/engine.py:177: UserWarning: Found `num_iterations` in params. Will use it instead of argument\n",
      "  _log_warning(f\"Found `{alias}` in params. Will use it instead of argument\")\n",
      "/opt/conda/envs/python3/lib/python3.9/site-packages/lightgbm/engine.py:177: UserWarning: Found `num_iterations` in params. Will use it instead of argument\n",
      "  _log_warning(f\"Found `{alias}` in params. Will use it instead of argument\")\n"
     ]
    },
    {
     "name": "stdout",
     "output_type": "stream",
     "text": [
      "Número de iteraciones: 54\n",
      "\n",
      "Valuación de dataset de prueba en light_model:  0.42256199260081795\n",
      "\n",
      "RMSE LightGBM model prueba: 44.4914628013274\n",
      "[LightGBM] [Warning] Auto-choosing col-wise multi-threading, the overhead of testing was 0.000132 seconds.\n",
      "You can set `force_col_wise=true` to remove the overhead.\n",
      "[LightGBM] [Info] Total Bins 895\n",
      "[LightGBM] [Info] Number of data points in the train set: 3969, number of used features: 8\n",
      "[LightGBM] [Info] Start training from score 78.291257\n",
      "Número de iteraciones: 55\n",
      "\n",
      "Valuación de dataset de prueba en light_model:  0.43357585968814416\n",
      "\n",
      "RMSE LightGBM model prueba: 44.06511205849782\n",
      "[LightGBM] [Warning] Auto-choosing col-wise multi-threading, the overhead of testing was 0.000129 seconds.\n",
      "You can set `force_col_wise=true` to remove the overhead.\n",
      "[LightGBM] [Info] Total Bins 895\n",
      "[LightGBM] [Info] Number of data points in the train set: 3969, number of used features: 8\n",
      "[LightGBM] [Info] Start training from score 78.291257\n"
     ]
    },
    {
     "name": "stderr",
     "output_type": "stream",
     "text": [
      "/opt/conda/envs/python3/lib/python3.9/site-packages/lightgbm/engine.py:177: UserWarning: Found `num_iterations` in params. Will use it instead of argument\n",
      "  _log_warning(f\"Found `{alias}` in params. Will use it instead of argument\")\n",
      "/opt/conda/envs/python3/lib/python3.9/site-packages/lightgbm/engine.py:177: UserWarning: Found `num_iterations` in params. Will use it instead of argument\n",
      "  _log_warning(f\"Found `{alias}` in params. Will use it instead of argument\")\n"
     ]
    },
    {
     "name": "stdout",
     "output_type": "stream",
     "text": [
      "Número de iteraciones: 56\n",
      "\n",
      "Valuación de dataset de prueba en light_model:  0.4331040406032374\n",
      "\n",
      "RMSE LightGBM model prueba: 44.08346088193851\n",
      "[LightGBM] [Warning] Auto-choosing col-wise multi-threading, the overhead of testing was 0.000129 seconds.\n",
      "You can set `force_col_wise=true` to remove the overhead.\n",
      "[LightGBM] [Info] Total Bins 895\n",
      "[LightGBM] [Info] Number of data points in the train set: 3969, number of used features: 8\n",
      "[LightGBM] [Info] Start training from score 78.291257\n",
      "Número de iteraciones: 57\n",
      "\n",
      "Valuación de dataset de prueba en light_model:  0.4320534659884232\n",
      "\n",
      "RMSE LightGBM model prueba: 44.12428982697594\n",
      "[LightGBM] [Warning] Auto-choosing col-wise multi-threading, the overhead of testing was 0.000126 seconds.\n",
      "You can set `force_col_wise=true` to remove the overhead.\n",
      "[LightGBM] [Info] Total Bins 895\n",
      "[LightGBM] [Info] Number of data points in the train set: 3969, number of used features: 8\n",
      "[LightGBM] [Info] Start training from score 78.291257\n"
     ]
    },
    {
     "name": "stderr",
     "output_type": "stream",
     "text": [
      "/opt/conda/envs/python3/lib/python3.9/site-packages/lightgbm/engine.py:177: UserWarning: Found `num_iterations` in params. Will use it instead of argument\n",
      "  _log_warning(f\"Found `{alias}` in params. Will use it instead of argument\")\n",
      "/opt/conda/envs/python3/lib/python3.9/site-packages/lightgbm/engine.py:177: UserWarning: Found `num_iterations` in params. Will use it instead of argument\n",
      "  _log_warning(f\"Found `{alias}` in params. Will use it instead of argument\")\n"
     ]
    },
    {
     "name": "stdout",
     "output_type": "stream",
     "text": [
      "Número de iteraciones: 58\n",
      "\n",
      "Valuación de dataset de prueba en light_model:  0.43385430739576136\n",
      "\n",
      "RMSE LightGBM model prueba: 44.0542797714682\n",
      "[LightGBM] [Warning] Auto-choosing col-wise multi-threading, the overhead of testing was 0.000131 seconds.\n",
      "You can set `force_col_wise=true` to remove the overhead.\n",
      "[LightGBM] [Info] Total Bins 895\n",
      "[LightGBM] [Info] Number of data points in the train set: 3969, number of used features: 8\n",
      "[LightGBM] [Info] Start training from score 78.291257\n",
      "Número de iteraciones: 59\n",
      "\n",
      "Valuación de dataset de prueba en light_model:  0.4328023971845669\n",
      "\n",
      "RMSE LightGBM model prueba: 44.09518765226605\n",
      "[LightGBM] [Warning] Auto-choosing col-wise multi-threading, the overhead of testing was 0.000149 seconds.\n",
      "You can set `force_col_wise=true` to remove the overhead.\n",
      "[LightGBM] [Info] Total Bins 895\n",
      "[LightGBM] [Info] Number of data points in the train set: 3969, number of used features: 8\n",
      "[LightGBM] [Info] Start training from score 78.291257\n"
     ]
    },
    {
     "name": "stderr",
     "output_type": "stream",
     "text": [
      "/opt/conda/envs/python3/lib/python3.9/site-packages/lightgbm/engine.py:177: UserWarning: Found `num_iterations` in params. Will use it instead of argument\n",
      "  _log_warning(f\"Found `{alias}` in params. Will use it instead of argument\")\n",
      "/opt/conda/envs/python3/lib/python3.9/site-packages/lightgbm/engine.py:177: UserWarning: Found `num_iterations` in params. Will use it instead of argument\n",
      "  _log_warning(f\"Found `{alias}` in params. Will use it instead of argument\")\n"
     ]
    },
    {
     "name": "stdout",
     "output_type": "stream",
     "text": [
      "Número de iteraciones: 60\n",
      "\n",
      "Valuación de dataset de prueba en light_model:  0.4392149604336216\n",
      "\n",
      "RMSE LightGBM model prueba: 43.845215740396995\n",
      "[LightGBM] [Warning] Auto-choosing col-wise multi-threading, the overhead of testing was 0.000131 seconds.\n",
      "You can set `force_col_wise=true` to remove the overhead.\n",
      "[LightGBM] [Info] Total Bins 895\n",
      "[LightGBM] [Info] Number of data points in the train set: 3969, number of used features: 8\n",
      "[LightGBM] [Info] Start training from score 78.291257\n",
      "Número de iteraciones: 61\n",
      "\n",
      "Valuación de dataset de prueba en light_model:  0.4398095649356307\n",
      "\n",
      "RMSE LightGBM model prueba: 43.82196487313111\n",
      "[LightGBM] [Warning] Auto-choosing col-wise multi-threading, the overhead of testing was 0.000352 seconds.\n",
      "You can set `force_col_wise=true` to remove the overhead.\n",
      "[LightGBM] [Info] Total Bins 895\n",
      "[LightGBM] [Info] Number of data points in the train set: 3969, number of used features: 8\n",
      "[LightGBM] [Info] Start training from score 78.291257\n"
     ]
    },
    {
     "name": "stderr",
     "output_type": "stream",
     "text": [
      "/opt/conda/envs/python3/lib/python3.9/site-packages/lightgbm/engine.py:177: UserWarning: Found `num_iterations` in params. Will use it instead of argument\n",
      "  _log_warning(f\"Found `{alias}` in params. Will use it instead of argument\")\n",
      "/opt/conda/envs/python3/lib/python3.9/site-packages/lightgbm/engine.py:177: UserWarning: Found `num_iterations` in params. Will use it instead of argument\n",
      "  _log_warning(f\"Found `{alias}` in params. Will use it instead of argument\")\n"
     ]
    },
    {
     "name": "stdout",
     "output_type": "stream",
     "text": [
      "Número de iteraciones: 62\n",
      "\n",
      "Valuación de dataset de prueba en light_model:  0.4393976165539082\n",
      "\n",
      "RMSE LightGBM model prueba: 43.8380746358101\n",
      "[LightGBM] [Warning] Auto-choosing col-wise multi-threading, the overhead of testing was 0.000129 seconds.\n",
      "You can set `force_col_wise=true` to remove the overhead.\n",
      "[LightGBM] [Info] Total Bins 895\n",
      "[LightGBM] [Info] Number of data points in the train set: 3969, number of used features: 8\n",
      "[LightGBM] [Info] Start training from score 78.291257\n",
      "[LightGBM] [Warning] No further splits with positive gain, best gain: -inf\n",
      "Número de iteraciones: 63\n",
      "\n",
      "Valuación de dataset de prueba en light_model:  0.44024056284264224\n",
      "\n",
      "RMSE LightGBM model prueba: 43.80510381285677\n",
      "[LightGBM] [Warning] Auto-choosing col-wise multi-threading, the overhead of testing was 0.000155 seconds.\n",
      "You can set `force_col_wise=true` to remove the overhead.\n",
      "[LightGBM] [Info] Total Bins 895\n",
      "[LightGBM] [Info] Number of data points in the train set: 3969, number of used features: 8\n",
      "[LightGBM] [Info] Start training from score 78.291257\n"
     ]
    },
    {
     "name": "stderr",
     "output_type": "stream",
     "text": [
      "/opt/conda/envs/python3/lib/python3.9/site-packages/lightgbm/engine.py:177: UserWarning: Found `num_iterations` in params. Will use it instead of argument\n",
      "  _log_warning(f\"Found `{alias}` in params. Will use it instead of argument\")\n",
      "/opt/conda/envs/python3/lib/python3.9/site-packages/lightgbm/engine.py:177: UserWarning: Found `num_iterations` in params. Will use it instead of argument\n",
      "  _log_warning(f\"Found `{alias}` in params. Will use it instead of argument\")\n"
     ]
    },
    {
     "name": "stdout",
     "output_type": "stream",
     "text": [
      "[LightGBM] [Warning] No further splits with positive gain, best gain: -inf\n",
      "Número de iteraciones: 64\n",
      "\n",
      "Valuación de dataset de prueba en light_model:  0.4387527350127145\n",
      "\n",
      "RMSE LightGBM model prueba: 43.86328166358172\n",
      "[LightGBM] [Warning] Auto-choosing col-wise multi-threading, the overhead of testing was 0.000128 seconds.\n",
      "You can set `force_col_wise=true` to remove the overhead.\n",
      "[LightGBM] [Info] Total Bins 895\n",
      "[LightGBM] [Info] Number of data points in the train set: 3969, number of used features: 8\n",
      "[LightGBM] [Info] Start training from score 78.291257\n"
     ]
    },
    {
     "name": "stderr",
     "output_type": "stream",
     "text": [
      "/opt/conda/envs/python3/lib/python3.9/site-packages/lightgbm/engine.py:177: UserWarning: Found `num_iterations` in params. Will use it instead of argument\n",
      "  _log_warning(f\"Found `{alias}` in params. Will use it instead of argument\")\n"
     ]
    },
    {
     "name": "stdout",
     "output_type": "stream",
     "text": [
      "[LightGBM] [Warning] No further splits with positive gain, best gain: -inf\n",
      "Número de iteraciones: 65\n",
      "\n",
      "Valuación de dataset de prueba en light_model:  0.43744171664167064\n",
      "\n",
      "RMSE LightGBM model prueba: 43.91448193571535\n",
      "[LightGBM] [Warning] Auto-choosing col-wise multi-threading, the overhead of testing was 0.000132 seconds.\n",
      "You can set `force_col_wise=true` to remove the overhead.\n",
      "[LightGBM] [Info] Total Bins 895\n",
      "[LightGBM] [Info] Number of data points in the train set: 3969, number of used features: 8\n",
      "[LightGBM] [Info] Start training from score 78.291257\n",
      "[LightGBM] [Warning] No further splits with positive gain, best gain: -inf\n",
      "Número de iteraciones: 66\n",
      "\n",
      "Valuación de dataset de prueba en light_model:  0.4370583129595359\n",
      "\n",
      "RMSE LightGBM model prueba: 43.92944403546364\n",
      "[LightGBM] [Warning] Auto-choosing col-wise multi-threading, the overhead of testing was 0.000138 seconds.\n",
      "You can set `force_col_wise=true` to remove the overhead.\n",
      "[LightGBM] [Info] Total Bins 895\n",
      "[LightGBM] [Info] Number of data points in the train set: 3969, number of used features: 8\n",
      "[LightGBM] [Info] Start training from score 78.291257\n"
     ]
    },
    {
     "name": "stderr",
     "output_type": "stream",
     "text": [
      "/opt/conda/envs/python3/lib/python3.9/site-packages/lightgbm/engine.py:177: UserWarning: Found `num_iterations` in params. Will use it instead of argument\n",
      "  _log_warning(f\"Found `{alias}` in params. Will use it instead of argument\")\n",
      "/opt/conda/envs/python3/lib/python3.9/site-packages/lightgbm/engine.py:177: UserWarning: Found `num_iterations` in params. Will use it instead of argument\n",
      "  _log_warning(f\"Found `{alias}` in params. Will use it instead of argument\")\n"
     ]
    },
    {
     "name": "stdout",
     "output_type": "stream",
     "text": [
      "[LightGBM] [Warning] No further splits with positive gain, best gain: -inf\n",
      "Número de iteraciones: 67\n",
      "\n",
      "Valuación de dataset de prueba en light_model:  0.4396954871428441\n",
      "\n",
      "RMSE LightGBM model prueba: 43.82642662241769\n",
      "[LightGBM] [Warning] Auto-choosing col-wise multi-threading, the overhead of testing was 0.000139 seconds.\n",
      "You can set `force_col_wise=true` to remove the overhead.\n",
      "[LightGBM] [Info] Total Bins 895\n",
      "[LightGBM] [Info] Number of data points in the train set: 3969, number of used features: 8\n",
      "[LightGBM] [Info] Start training from score 78.291257\n",
      "[LightGBM] [Warning] No further splits with positive gain, best gain: -inf\n",
      "Número de iteraciones: 68\n",
      "\n",
      "Valuación de dataset de prueba en light_model:  0.4377399514879775\n",
      "\n",
      "RMSE LightGBM model prueba: 43.90283997308869\n",
      "[LightGBM] [Warning] Auto-choosing col-wise multi-threading, the overhead of testing was 0.000140 seconds.\n",
      "You can set `force_col_wise=true` to remove the overhead.\n",
      "[LightGBM] [Info] Total Bins 895\n",
      "[LightGBM] [Info] Number of data points in the train set: 3969, number of used features: 8\n",
      "[LightGBM] [Info] Start training from score 78.291257\n"
     ]
    },
    {
     "name": "stderr",
     "output_type": "stream",
     "text": [
      "/opt/conda/envs/python3/lib/python3.9/site-packages/lightgbm/engine.py:177: UserWarning: Found `num_iterations` in params. Will use it instead of argument\n",
      "  _log_warning(f\"Found `{alias}` in params. Will use it instead of argument\")\n",
      "/opt/conda/envs/python3/lib/python3.9/site-packages/lightgbm/engine.py:177: UserWarning: Found `num_iterations` in params. Will use it instead of argument\n",
      "  _log_warning(f\"Found `{alias}` in params. Will use it instead of argument\")\n"
     ]
    },
    {
     "name": "stdout",
     "output_type": "stream",
     "text": [
      "[LightGBM] [Warning] No further splits with positive gain, best gain: -inf\n",
      "Número de iteraciones: 69\n",
      "\n",
      "Valuación de dataset de prueba en light_model:  0.4364512329901393\n",
      "\n",
      "RMSE LightGBM model prueba: 43.95312455167674\n"
     ]
    }
   ],
   "source": [
    "#Ahora veamos como itera el modelo LightGBM\n",
    "for iteration in range (1, 70):\n",
    "    light_model = LGBMRegressor(num_iterations=iteration, num_leaves=25, max_depth=10, verbose=1, metric='rmse', random_state=12345)\n",
    "    light_model.fit(feat_train, target_train)\n",
    "    light_predict = light_model.predict(feat_test)\n",
    "    print(\"Número de iteraciones:\", iteration)\n",
    "    print()\n",
    "    print(\"Valuación de dataset de prueba en light_model: \", light_model.score(feat_test, target_test))\n",
    "    print()\n",
    "    print(f\"RMSE LightGBM model prueba: {rmse(light_predict, target_test)}\")"
   ]
  },
  {
   "cell_type": "code",
   "execution_count": 19,
   "metadata": {},
   "outputs": [
    {
     "name": "stderr",
     "output_type": "stream",
     "text": [
      "/opt/conda/envs/python3/lib/python3.9/site-packages/lightgbm/engine.py:177: UserWarning: Found `num_iterations` in params. Will use it instead of argument\n",
      "  _log_warning(f\"Found `{alias}` in params. Will use it instead of argument\")\n",
      "/opt/conda/envs/python3/lib/python3.9/site-packages/lightgbm/engine.py:177: UserWarning: Found `num_iterations` in params. Will use it instead of argument\n",
      "  _log_warning(f\"Found `{alias}` in params. Will use it instead of argument\")\n",
      "/opt/conda/envs/python3/lib/python3.9/site-packages/lightgbm/engine.py:177: UserWarning: Found `num_iterations` in params. Will use it instead of argument\n",
      "  _log_warning(f\"Found `{alias}` in params. Will use it instead of argument\")\n"
     ]
    },
    {
     "name": "stdout",
     "output_type": "stream",
     "text": [
      "[LightGBM] [Warning] Auto-choosing col-wise multi-threading, the overhead of testing was 0.000137 seconds.\n",
      "You can set `force_col_wise=true` to remove the overhead.\n",
      "[LightGBM] [Info] Total Bins 895\n",
      "[LightGBM] [Info] Number of data points in the train set: 3969, number of used features: 8\n",
      "[LightGBM] [Info] Start training from score 78.291257\n",
      "Número de nodos: 10\n",
      "\n",
      "Valuación de dataset de prueba en light_model:  0.40611179987505375\n",
      "\n",
      "RMSE LightGBM model prueba: 45.12075416597434\n",
      "[LightGBM] [Warning] Auto-choosing col-wise multi-threading, the overhead of testing was 0.000128 seconds.\n",
      "You can set `force_col_wise=true` to remove the overhead.\n",
      "[LightGBM] [Info] Total Bins 895\n",
      "[LightGBM] [Info] Number of data points in the train set: 3969, number of used features: 8\n",
      "[LightGBM] [Info] Start training from score 78.291257\n",
      "Número de nodos: 11\n",
      "\n",
      "Valuación de dataset de prueba en light_model:  0.39198711604986536\n",
      "\n",
      "RMSE LightGBM model prueba: 45.654163822305044\n",
      "[LightGBM] [Warning] Auto-choosing col-wise multi-threading, the overhead of testing was 0.000138 seconds.\n",
      "You can set `force_col_wise=true` to remove the overhead.\n",
      "[LightGBM] [Info] Total Bins 895\n",
      "[LightGBM] [Info] Number of data points in the train set: 3969, number of used features: 8\n",
      "[LightGBM] [Info] Start training from score 78.291257\n",
      "Número de nodos: 12\n",
      "\n",
      "Valuación de dataset de prueba en light_model:  0.41632893810386584\n",
      "\n",
      "RMSE LightGBM model prueba: 44.73094596337268\n",
      "[LightGBM] [Warning] Auto-choosing col-wise multi-threading, the overhead of testing was 0.000191 seconds.\n",
      "You can set `force_col_wise=true` to remove the overhead.\n",
      "[LightGBM] [Info] Total Bins 895\n",
      "[LightGBM] [Info] Number of data points in the train set: 3969, number of used features: 8\n",
      "[LightGBM] [Info] Start training from score 78.291257\n",
      "Número de nodos: 13\n",
      "\n",
      "Valuación de dataset de prueba en light_model:  0.42490413853173525\n",
      "\n",
      "RMSE LightGBM model prueba: 44.40114022208022\n",
      "[LightGBM] [Warning] Auto-choosing col-wise multi-threading, the overhead of testing was 0.000140 seconds.\n",
      "You can set `force_col_wise=true` to remove the overhead.\n",
      "[LightGBM] [Info] Total Bins 895\n",
      "[LightGBM] [Info] Number of data points in the train set: 3969, number of used features: 8\n",
      "[LightGBM] [Info] Start training from score 78.291257\n",
      "Número de nodos: 14\n",
      "\n",
      "Valuación de dataset de prueba en light_model:  0.418336878709726\n",
      "\n",
      "RMSE LightGBM model prueba: 44.65393815129203\n"
     ]
    },
    {
     "name": "stderr",
     "output_type": "stream",
     "text": [
      "/opt/conda/envs/python3/lib/python3.9/site-packages/lightgbm/engine.py:177: UserWarning: Found `num_iterations` in params. Will use it instead of argument\n",
      "  _log_warning(f\"Found `{alias}` in params. Will use it instead of argument\")\n",
      "/opt/conda/envs/python3/lib/python3.9/site-packages/lightgbm/engine.py:177: UserWarning: Found `num_iterations` in params. Will use it instead of argument\n",
      "  _log_warning(f\"Found `{alias}` in params. Will use it instead of argument\")\n",
      "/opt/conda/envs/python3/lib/python3.9/site-packages/lightgbm/engine.py:177: UserWarning: Found `num_iterations` in params. Will use it instead of argument\n",
      "  _log_warning(f\"Found `{alias}` in params. Will use it instead of argument\")\n"
     ]
    },
    {
     "name": "stdout",
     "output_type": "stream",
     "text": [
      "[LightGBM] [Warning] Auto-choosing col-wise multi-threading, the overhead of testing was 0.000166 seconds.\n",
      "You can set `force_col_wise=true` to remove the overhead.\n",
      "[LightGBM] [Info] Total Bins 895\n",
      "[LightGBM] [Info] Number of data points in the train set: 3969, number of used features: 8\n",
      "[LightGBM] [Info] Start training from score 78.291257\n",
      "Número de nodos: 15\n",
      "\n",
      "Valuación de dataset de prueba en light_model:  0.42190684026778624\n",
      "\n",
      "RMSE LightGBM model prueba: 44.51669531291707\n",
      "[LightGBM] [Warning] Auto-choosing col-wise multi-threading, the overhead of testing was 0.000134 seconds.\n",
      "You can set `force_col_wise=true` to remove the overhead.\n",
      "[LightGBM] [Info] Total Bins 895\n",
      "[LightGBM] [Info] Number of data points in the train set: 3969, number of used features: 8\n",
      "[LightGBM] [Info] Start training from score 78.291257\n",
      "Número de nodos: 16\n",
      "\n",
      "Valuación de dataset de prueba en light_model:  0.43556045322521886\n",
      "\n",
      "RMSE LightGBM model prueba: 43.987848338445595\n",
      "[LightGBM] [Warning] Auto-choosing col-wise multi-threading, the overhead of testing was 0.000136 seconds.\n",
      "You can set `force_col_wise=true` to remove the overhead.\n",
      "[LightGBM] [Info] Total Bins 895\n",
      "[LightGBM] [Info] Number of data points in the train set: 3969, number of used features: 8\n",
      "[LightGBM] [Info] Start training from score 78.291257\n"
     ]
    },
    {
     "name": "stderr",
     "output_type": "stream",
     "text": [
      "/opt/conda/envs/python3/lib/python3.9/site-packages/lightgbm/engine.py:177: UserWarning: Found `num_iterations` in params. Will use it instead of argument\n",
      "  _log_warning(f\"Found `{alias}` in params. Will use it instead of argument\")\n",
      "/opt/conda/envs/python3/lib/python3.9/site-packages/lightgbm/engine.py:177: UserWarning: Found `num_iterations` in params. Will use it instead of argument\n",
      "  _log_warning(f\"Found `{alias}` in params. Will use it instead of argument\")\n"
     ]
    },
    {
     "name": "stdout",
     "output_type": "stream",
     "text": [
      "Número de nodos: 17\n",
      "\n",
      "Valuación de dataset de prueba en light_model:  0.41556447184555834\n",
      "\n",
      "RMSE LightGBM model prueba: 44.76022967433681\n",
      "[LightGBM] [Warning] Auto-choosing col-wise multi-threading, the overhead of testing was 0.000131 seconds.\n",
      "You can set `force_col_wise=true` to remove the overhead.\n",
      "[LightGBM] [Info] Total Bins 895\n",
      "[LightGBM] [Info] Number of data points in the train set: 3969, number of used features: 8\n",
      "[LightGBM] [Info] Start training from score 78.291257\n",
      "Número de nodos: 18\n",
      "\n",
      "Valuación de dataset de prueba en light_model:  0.431910489724596\n",
      "\n",
      "RMSE LightGBM model prueba: 44.12984345635134\n",
      "[LightGBM] [Warning] Auto-choosing col-wise multi-threading, the overhead of testing was 0.000191 seconds.\n",
      "You can set `force_col_wise=true` to remove the overhead.\n",
      "[LightGBM] [Info] Total Bins 895\n",
      "[LightGBM] [Info] Number of data points in the train set: 3969, number of used features: 8\n",
      "[LightGBM] [Info] Start training from score 78.291257\n"
     ]
    },
    {
     "name": "stderr",
     "output_type": "stream",
     "text": [
      "/opt/conda/envs/python3/lib/python3.9/site-packages/lightgbm/engine.py:177: UserWarning: Found `num_iterations` in params. Will use it instead of argument\n",
      "  _log_warning(f\"Found `{alias}` in params. Will use it instead of argument\")\n",
      "/opt/conda/envs/python3/lib/python3.9/site-packages/lightgbm/engine.py:177: UserWarning: Found `num_iterations` in params. Will use it instead of argument\n",
      "  _log_warning(f\"Found `{alias}` in params. Will use it instead of argument\")\n"
     ]
    },
    {
     "name": "stdout",
     "output_type": "stream",
     "text": [
      "Número de nodos: 19\n",
      "\n",
      "Valuación de dataset de prueba en light_model:  0.43697806662623595\n",
      "\n",
      "RMSE LightGBM model prueba: 43.93257495583332\n",
      "[LightGBM] [Warning] Auto-choosing col-wise multi-threading, the overhead of testing was 0.000133 seconds.\n",
      "You can set `force_col_wise=true` to remove the overhead.\n",
      "[LightGBM] [Info] Total Bins 895\n",
      "[LightGBM] [Info] Number of data points in the train set: 3969, number of used features: 8\n",
      "[LightGBM] [Info] Start training from score 78.291257\n",
      "Número de nodos: 20\n",
      "\n",
      "Valuación de dataset de prueba en light_model:  0.41198492167019685\n",
      "\n",
      "RMSE LightGBM model prueba: 44.89709413380803\n",
      "[LightGBM] [Warning] Auto-choosing col-wise multi-threading, the overhead of testing was 0.000254 seconds.\n",
      "You can set `force_col_wise=true` to remove the overhead.\n",
      "[LightGBM] [Info] Total Bins 895\n",
      "[LightGBM] [Info] Number of data points in the train set: 3969, number of used features: 8\n",
      "[LightGBM] [Info] Start training from score 78.291257\n"
     ]
    },
    {
     "name": "stderr",
     "output_type": "stream",
     "text": [
      "/opt/conda/envs/python3/lib/python3.9/site-packages/lightgbm/engine.py:177: UserWarning: Found `num_iterations` in params. Will use it instead of argument\n",
      "  _log_warning(f\"Found `{alias}` in params. Will use it instead of argument\")\n",
      "/opt/conda/envs/python3/lib/python3.9/site-packages/lightgbm/engine.py:177: UserWarning: Found `num_iterations` in params. Will use it instead of argument\n",
      "  _log_warning(f\"Found `{alias}` in params. Will use it instead of argument\")\n"
     ]
    },
    {
     "name": "stdout",
     "output_type": "stream",
     "text": [
      "Número de nodos: 21\n",
      "\n",
      "Valuación de dataset de prueba en light_model:  0.43691929701899457\n",
      "\n",
      "RMSE LightGBM model prueba: 43.934867790845125\n",
      "[LightGBM] [Warning] Auto-choosing col-wise multi-threading, the overhead of testing was 0.000132 seconds.\n",
      "You can set `force_col_wise=true` to remove the overhead.\n",
      "[LightGBM] [Info] Total Bins 895\n",
      "[LightGBM] [Info] Number of data points in the train set: 3969, number of used features: 8\n",
      "[LightGBM] [Info] Start training from score 78.291257\n",
      "Número de nodos: 22\n",
      "\n",
      "Valuación de dataset de prueba en light_model:  0.4503555817998909\n",
      "\n",
      "RMSE LightGBM model prueba: 43.40751387704431\n",
      "[LightGBM] [Warning] Auto-choosing col-wise multi-threading, the overhead of testing was 0.000137 seconds.\n",
      "You can set `force_col_wise=true` to remove the overhead.\n",
      "[LightGBM] [Info] Total Bins 895\n",
      "[LightGBM] [Info] Number of data points in the train set: 3969, number of used features: 8\n",
      "[LightGBM] [Info] Start training from score 78.291257\n"
     ]
    },
    {
     "name": "stderr",
     "output_type": "stream",
     "text": [
      "/opt/conda/envs/python3/lib/python3.9/site-packages/lightgbm/engine.py:177: UserWarning: Found `num_iterations` in params. Will use it instead of argument\n",
      "  _log_warning(f\"Found `{alias}` in params. Will use it instead of argument\")\n",
      "/opt/conda/envs/python3/lib/python3.9/site-packages/lightgbm/engine.py:177: UserWarning: Found `num_iterations` in params. Will use it instead of argument\n",
      "  _log_warning(f\"Found `{alias}` in params. Will use it instead of argument\")\n"
     ]
    },
    {
     "name": "stdout",
     "output_type": "stream",
     "text": [
      "Número de nodos: 23\n",
      "\n",
      "Valuación de dataset de prueba en light_model:  0.45569332486083136\n",
      "\n",
      "RMSE LightGBM model prueba: 43.196228710688494\n",
      "[LightGBM] [Warning] Auto-choosing col-wise multi-threading, the overhead of testing was 0.000135 seconds.\n",
      "You can set `force_col_wise=true` to remove the overhead.\n",
      "[LightGBM] [Info] Total Bins 895\n",
      "[LightGBM] [Info] Number of data points in the train set: 3969, number of used features: 8\n",
      "[LightGBM] [Info] Start training from score 78.291257\n",
      "Número de nodos: 24\n",
      "\n",
      "Valuación de dataset de prueba en light_model:  0.4317968081587644\n",
      "\n",
      "RMSE LightGBM model prueba: 44.13425869256003\n",
      "[LightGBM] [Warning] Auto-choosing col-wise multi-threading, the overhead of testing was 0.000130 seconds.\n",
      "You can set `force_col_wise=true` to remove the overhead.\n",
      "[LightGBM] [Info] Total Bins 895\n",
      "[LightGBM] [Info] Number of data points in the train set: 3969, number of used features: 8\n",
      "[LightGBM] [Info] Start training from score 78.291257\n"
     ]
    },
    {
     "name": "stderr",
     "output_type": "stream",
     "text": [
      "/opt/conda/envs/python3/lib/python3.9/site-packages/lightgbm/engine.py:177: UserWarning: Found `num_iterations` in params. Will use it instead of argument\n",
      "  _log_warning(f\"Found `{alias}` in params. Will use it instead of argument\")\n",
      "/opt/conda/envs/python3/lib/python3.9/site-packages/lightgbm/engine.py:177: UserWarning: Found `num_iterations` in params. Will use it instead of argument\n",
      "  _log_warning(f\"Found `{alias}` in params. Will use it instead of argument\")\n"
     ]
    },
    {
     "name": "stdout",
     "output_type": "stream",
     "text": [
      "Número de nodos: 25\n",
      "\n",
      "Valuación de dataset de prueba en light_model:  0.4392149604336216\n",
      "\n",
      "RMSE LightGBM model prueba: 43.845215740396995\n",
      "[LightGBM] [Warning] Auto-choosing col-wise multi-threading, the overhead of testing was 0.000187 seconds.\n",
      "You can set `force_col_wise=true` to remove the overhead.\n",
      "[LightGBM] [Info] Total Bins 895\n",
      "[LightGBM] [Info] Number of data points in the train set: 3969, number of used features: 8\n",
      "[LightGBM] [Info] Start training from score 78.291257\n",
      "Número de nodos: 26\n",
      "\n",
      "Valuación de dataset de prueba en light_model:  0.429471925810752\n",
      "\n",
      "RMSE LightGBM model prueba: 44.22445724913849\n",
      "[LightGBM] [Warning] Auto-choosing col-wise multi-threading, the overhead of testing was 0.000135 seconds.\n",
      "You can set `force_col_wise=true` to remove the overhead.\n",
      "[LightGBM] [Info] Total Bins 895\n",
      "[LightGBM] [Info] Number of data points in the train set: 3969, number of used features: 8\n",
      "[LightGBM] [Info] Start training from score 78.291257\n"
     ]
    },
    {
     "name": "stderr",
     "output_type": "stream",
     "text": [
      "/opt/conda/envs/python3/lib/python3.9/site-packages/lightgbm/engine.py:177: UserWarning: Found `num_iterations` in params. Will use it instead of argument\n",
      "  _log_warning(f\"Found `{alias}` in params. Will use it instead of argument\")\n",
      "/opt/conda/envs/python3/lib/python3.9/site-packages/lightgbm/engine.py:177: UserWarning: Found `num_iterations` in params. Will use it instead of argument\n",
      "  _log_warning(f\"Found `{alias}` in params. Will use it instead of argument\")\n"
     ]
    },
    {
     "name": "stdout",
     "output_type": "stream",
     "text": [
      "Número de nodos: 27\n",
      "\n",
      "Valuación de dataset de prueba en light_model:  0.43714882266953814\n",
      "\n",
      "RMSE LightGBM model prueba: 43.925912407622356\n",
      "[LightGBM] [Warning] Auto-choosing col-wise multi-threading, the overhead of testing was 0.000132 seconds.\n",
      "You can set `force_col_wise=true` to remove the overhead.\n",
      "[LightGBM] [Info] Total Bins 895\n",
      "[LightGBM] [Info] Number of data points in the train set: 3969, number of used features: 8\n",
      "[LightGBM] [Info] Start training from score 78.291257\n",
      "Número de nodos: 28\n",
      "\n",
      "Valuación de dataset de prueba en light_model:  0.46056560732675156\n",
      "\n",
      "RMSE LightGBM model prueba: 43.00246172027417\n",
      "[LightGBM] [Warning] Auto-choosing col-wise multi-threading, the overhead of testing was 0.000133 seconds.\n",
      "You can set `force_col_wise=true` to remove the overhead.\n",
      "[LightGBM] [Info] Total Bins 895\n",
      "[LightGBM] [Info] Number of data points in the train set: 3969, number of used features: 8\n",
      "[LightGBM] [Info] Start training from score 78.291257\n"
     ]
    },
    {
     "name": "stderr",
     "output_type": "stream",
     "text": [
      "/opt/conda/envs/python3/lib/python3.9/site-packages/lightgbm/engine.py:177: UserWarning: Found `num_iterations` in params. Will use it instead of argument\n",
      "  _log_warning(f\"Found `{alias}` in params. Will use it instead of argument\")\n",
      "/opt/conda/envs/python3/lib/python3.9/site-packages/lightgbm/engine.py:177: UserWarning: Found `num_iterations` in params. Will use it instead of argument\n",
      "  _log_warning(f\"Found `{alias}` in params. Will use it instead of argument\")\n"
     ]
    },
    {
     "name": "stdout",
     "output_type": "stream",
     "text": [
      "[LightGBM] [Warning] No further splits with positive gain, best gain: -inf\n",
      "[LightGBM] [Warning] No further splits with positive gain, best gain: -inf\n",
      "[LightGBM] [Warning] No further splits with positive gain, best gain: -inf\n",
      "Número de nodos: 29\n",
      "\n",
      "Valuación de dataset de prueba en light_model:  0.40451023033272127\n",
      "\n",
      "RMSE LightGBM model prueba: 45.18155295909425\n",
      "[LightGBM] [Warning] Auto-choosing col-wise multi-threading, the overhead of testing was 0.000132 seconds.\n",
      "You can set `force_col_wise=true` to remove the overhead.\n",
      "[LightGBM] [Info] Total Bins 895\n",
      "[LightGBM] [Info] Number of data points in the train set: 3969, number of used features: 8\n",
      "[LightGBM] [Info] Start training from score 78.291257\n",
      "[LightGBM] [Warning] No further splits with positive gain, best gain: -inf\n",
      "[LightGBM] [Warning] No further splits with positive gain, best gain: -inf\n",
      "[LightGBM] [Warning] No further splits with positive gain, best gain: -inf\n",
      "Número de nodos: 30\n",
      "\n",
      "Valuación de dataset de prueba en light_model:  0.4339740447792735\n",
      "\n",
      "RMSE LightGBM model prueba: 44.04962087959834\n"
     ]
    },
    {
     "name": "stderr",
     "output_type": "stream",
     "text": [
      "/opt/conda/envs/python3/lib/python3.9/site-packages/lightgbm/engine.py:177: UserWarning: Found `num_iterations` in params. Will use it instead of argument\n",
      "  _log_warning(f\"Found `{alias}` in params. Will use it instead of argument\")\n",
      "/opt/conda/envs/python3/lib/python3.9/site-packages/lightgbm/engine.py:177: UserWarning: Found `num_iterations` in params. Will use it instead of argument\n",
      "  _log_warning(f\"Found `{alias}` in params. Will use it instead of argument\")\n"
     ]
    },
    {
     "name": "stdout",
     "output_type": "stream",
     "text": [
      "[LightGBM] [Warning] Accuracy may be bad since you didn't explicitly set num_leaves OR 2^max_depth > num_leaves. (num_leaves=31).\n",
      "[LightGBM] [Warning] Accuracy may be bad since you didn't explicitly set num_leaves OR 2^max_depth > num_leaves. (num_leaves=31).\n",
      "[LightGBM] [Warning] Auto-choosing col-wise multi-threading, the overhead of testing was 0.000145 seconds.\n",
      "You can set `force_col_wise=true` to remove the overhead.\n",
      "[LightGBM] [Info] Total Bins 895\n",
      "[LightGBM] [Info] Number of data points in the train set: 3969, number of used features: 8\n",
      "[LightGBM] [Info] Start training from score 78.291257\n",
      "[LightGBM] [Warning] No further splits with positive gain, best gain: -inf\n",
      "[LightGBM] [Warning] No further splits with positive gain, best gain: -inf\n",
      "Número de nodos: 31\n",
      "\n",
      "Valuación de dataset de prueba en light_model:  0.42845324026099785\n",
      "\n",
      "RMSE LightGBM model prueba: 44.2639213226928\n",
      "[LightGBM] [Warning] Auto-choosing col-wise multi-threading, the overhead of testing was 0.000142 seconds.\n",
      "You can set `force_col_wise=true` to remove the overhead.\n",
      "[LightGBM] [Info] Total Bins 895\n",
      "[LightGBM] [Info] Number of data points in the train set: 3969, number of used features: 8\n",
      "[LightGBM] [Info] Start training from score 78.291257\n"
     ]
    },
    {
     "name": "stderr",
     "output_type": "stream",
     "text": [
      "/opt/conda/envs/python3/lib/python3.9/site-packages/lightgbm/engine.py:177: UserWarning: Found `num_iterations` in params. Will use it instead of argument\n",
      "  _log_warning(f\"Found `{alias}` in params. Will use it instead of argument\")\n",
      "/opt/conda/envs/python3/lib/python3.9/site-packages/lightgbm/engine.py:177: UserWarning: Found `num_iterations` in params. Will use it instead of argument\n",
      "  _log_warning(f\"Found `{alias}` in params. Will use it instead of argument\")\n"
     ]
    },
    {
     "name": "stdout",
     "output_type": "stream",
     "text": [
      "[LightGBM] [Warning] No further splits with positive gain, best gain: -inf\n",
      "[LightGBM] [Warning] No further splits with positive gain, best gain: -inf\n",
      "[LightGBM] [Warning] No further splits with positive gain, best gain: -inf\n",
      "[LightGBM] [Warning] No further splits with positive gain, best gain: -inf\n",
      "Número de nodos: 32\n",
      "\n",
      "Valuación de dataset de prueba en light_model:  0.41097213427340273\n",
      "\n",
      "RMSE LightGBM model prueba: 44.93574250346356\n",
      "[LightGBM] [Warning] Auto-choosing col-wise multi-threading, the overhead of testing was 0.000134 seconds.\n",
      "You can set `force_col_wise=true` to remove the overhead.\n",
      "[LightGBM] [Info] Total Bins 895\n",
      "[LightGBM] [Info] Number of data points in the train set: 3969, number of used features: 8\n",
      "[LightGBM] [Info] Start training from score 78.291257\n",
      "[LightGBM] [Warning] No further splits with positive gain, best gain: -inf\n",
      "[LightGBM] [Warning] No further splits with positive gain, best gain: -inf\n",
      "[LightGBM] [Warning] No further splits with positive gain, best gain: -inf\n",
      "[LightGBM] [Warning] No further splits with positive gain, best gain: -inf\n",
      "Número de nodos: 33\n",
      "\n",
      "Valuación de dataset de prueba en light_model:  0.42127347499925916\n",
      "\n",
      "RMSE LightGBM model prueba: 44.54107512926272\n",
      "[LightGBM] [Warning] Auto-choosing col-wise multi-threading, the overhead of testing was 0.000134 seconds.\n",
      "You can set `force_col_wise=true` to remove the overhead.\n",
      "[LightGBM] [Info] Total Bins 895\n",
      "[LightGBM] [Info] Number of data points in the train set: 3969, number of used features: 8\n",
      "[LightGBM] [Info] Start training from score 78.291257\n",
      "[LightGBM] [Warning] No further splits with positive gain, best gain: -inf\n",
      "[LightGBM] [Warning] No further splits with positive gain, best gain: -inf\n",
      "Número de nodos: 34\n",
      "\n",
      "Valuación de dataset de prueba en light_model:  0.4393217666443575\n",
      "\n",
      "RMSE LightGBM model prueba: 43.841040197168034\n",
      "[LightGBM] [Warning] Auto-choosing col-wise multi-threading, the overhead of testing was 0.000168 seconds.\n",
      "You can set `force_col_wise=true` to remove the overhead.\n",
      "[LightGBM] [Info] Total Bins 895\n",
      "[LightGBM] [Info] Number of data points in the train set: 3969, number of used features: 8\n",
      "[LightGBM] [Info] Start training from score 78.291257\n"
     ]
    },
    {
     "name": "stderr",
     "output_type": "stream",
     "text": [
      "/opt/conda/envs/python3/lib/python3.9/site-packages/lightgbm/engine.py:177: UserWarning: Found `num_iterations` in params. Will use it instead of argument\n",
      "  _log_warning(f\"Found `{alias}` in params. Will use it instead of argument\")\n",
      "/opt/conda/envs/python3/lib/python3.9/site-packages/lightgbm/engine.py:177: UserWarning: Found `num_iterations` in params. Will use it instead of argument\n",
      "  _log_warning(f\"Found `{alias}` in params. Will use it instead of argument\")\n"
     ]
    },
    {
     "name": "stdout",
     "output_type": "stream",
     "text": [
      "[LightGBM] [Warning] No further splits with positive gain, best gain: -inf\n",
      "[LightGBM] [Warning] No further splits with positive gain, best gain: -inf\n",
      "[LightGBM] [Warning] No further splits with positive gain, best gain: -inf\n",
      "[LightGBM] [Warning] No further splits with positive gain, best gain: -inf\n",
      "Número de nodos: 35\n",
      "\n",
      "Valuación de dataset de prueba en light_model:  0.43045936077341396\n",
      "\n",
      "RMSE LightGBM model prueba: 44.18617018803976\n",
      "[LightGBM] [Warning] Auto-choosing col-wise multi-threading, the overhead of testing was 0.000138 seconds.\n",
      "You can set `force_col_wise=true` to remove the overhead.\n",
      "[LightGBM] [Info] Total Bins 895\n",
      "[LightGBM] [Info] Number of data points in the train set: 3969, number of used features: 8\n",
      "[LightGBM] [Info] Start training from score 78.291257\n",
      "[LightGBM] [Warning] No further splits with positive gain, best gain: -inf\n",
      "[LightGBM] [Warning] No further splits with positive gain, best gain: -inf\n",
      "[LightGBM] [Warning] No further splits with positive gain, best gain: -inf\n",
      "[LightGBM] [Warning] No further splits with positive gain, best gain: -inf\n"
     ]
    },
    {
     "name": "stderr",
     "output_type": "stream",
     "text": [
      "/opt/conda/envs/python3/lib/python3.9/site-packages/lightgbm/engine.py:177: UserWarning: Found `num_iterations` in params. Will use it instead of argument\n",
      "  _log_warning(f\"Found `{alias}` in params. Will use it instead of argument\")\n",
      "/opt/conda/envs/python3/lib/python3.9/site-packages/lightgbm/engine.py:177: UserWarning: Found `num_iterations` in params. Will use it instead of argument\n",
      "  _log_warning(f\"Found `{alias}` in params. Will use it instead of argument\")\n"
     ]
    },
    {
     "name": "stdout",
     "output_type": "stream",
     "text": [
      "Número de nodos: 36\n",
      "\n",
      "Valuación de dataset de prueba en light_model:  0.42465635220124276\n",
      "\n",
      "RMSE LightGBM model prueba: 44.410704549973296\n",
      "[LightGBM] [Warning] Auto-choosing col-wise multi-threading, the overhead of testing was 0.000134 seconds.\n",
      "You can set `force_col_wise=true` to remove the overhead.\n",
      "[LightGBM] [Info] Total Bins 895\n",
      "[LightGBM] [Info] Number of data points in the train set: 3969, number of used features: 8\n",
      "[LightGBM] [Info] Start training from score 78.291257\n",
      "[LightGBM] [Warning] No further splits with positive gain, best gain: -inf\n",
      "[LightGBM] [Warning] No further splits with positive gain, best gain: -inf\n",
      "[LightGBM] [Warning] No further splits with positive gain, best gain: -inf\n",
      "Número de nodos: 37\n",
      "\n",
      "Valuación de dataset de prueba en light_model:  0.4597481689625982\n",
      "\n",
      "RMSE LightGBM model prueba: 43.03503153374195\n",
      "[LightGBM] [Warning] Auto-choosing col-wise multi-threading, the overhead of testing was 0.000135 seconds.\n",
      "You can set `force_col_wise=true` to remove the overhead.\n",
      "[LightGBM] [Info] Total Bins 895\n",
      "[LightGBM] [Info] Number of data points in the train set: 3969, number of used features: 8\n",
      "[LightGBM] [Info] Start training from score 78.291257\n"
     ]
    },
    {
     "name": "stderr",
     "output_type": "stream",
     "text": [
      "/opt/conda/envs/python3/lib/python3.9/site-packages/lightgbm/engine.py:177: UserWarning: Found `num_iterations` in params. Will use it instead of argument\n",
      "  _log_warning(f\"Found `{alias}` in params. Will use it instead of argument\")\n",
      "/opt/conda/envs/python3/lib/python3.9/site-packages/lightgbm/engine.py:177: UserWarning: Found `num_iterations` in params. Will use it instead of argument\n",
      "  _log_warning(f\"Found `{alias}` in params. Will use it instead of argument\")\n"
     ]
    },
    {
     "name": "stdout",
     "output_type": "stream",
     "text": [
      "[LightGBM] [Warning] No further splits with positive gain, best gain: -inf\n",
      "[LightGBM] [Warning] No further splits with positive gain, best gain: -inf\n",
      "[LightGBM] [Warning] No further splits with positive gain, best gain: -inf\n",
      "[LightGBM] [Warning] No further splits with positive gain, best gain: -inf\n",
      "[LightGBM] [Warning] No further splits with positive gain, best gain: -inf\n",
      "Número de nodos: 38\n",
      "\n",
      "Valuación de dataset de prueba en light_model:  0.399346398091343\n",
      "\n",
      "RMSE LightGBM model prueba: 45.377027643899865\n",
      "[LightGBM] [Warning] Auto-choosing col-wise multi-threading, the overhead of testing was 0.000139 seconds.\n",
      "You can set `force_col_wise=true` to remove the overhead.\n",
      "[LightGBM] [Info] Total Bins 895\n",
      "[LightGBM] [Info] Number of data points in the train set: 3969, number of used features: 8\n",
      "[LightGBM] [Info] Start training from score 78.291257\n",
      "[LightGBM] [Warning] No further splits with positive gain, best gain: -inf\n",
      "[LightGBM] [Warning] No further splits with positive gain, best gain: -inf\n",
      "[LightGBM] [Warning] No further splits with positive gain, best gain: -inf\n",
      "[LightGBM] [Warning] No further splits with positive gain, best gain: -inf\n",
      "Número de nodos: 39\n",
      "\n",
      "Valuación de dataset de prueba en light_model:  0.4410720123416262\n",
      "\n",
      "RMSE LightGBM model prueba: 43.772558344049656\n",
      "[LightGBM] [Warning] Auto-choosing col-wise multi-threading, the overhead of testing was 0.000134 seconds.\n",
      "You can set `force_col_wise=true` to remove the overhead.\n",
      "[LightGBM] [Info] Total Bins 895\n",
      "[LightGBM] [Info] Number of data points in the train set: 3969, number of used features: 8\n",
      "[LightGBM] [Info] Start training from score 78.291257\n",
      "[LightGBM] [Warning] No further splits with positive gain, best gain: -inf\n",
      "[LightGBM] [Warning] No further splits with positive gain, best gain: -inf\n",
      "[LightGBM] [Warning] No further splits with positive gain, best gain: -inf\n",
      "[LightGBM] [Warning] No further splits with positive gain, best gain: -inf\n",
      "[LightGBM] [Warning] No further splits with positive gain, best gain: -inf\n",
      "[LightGBM] [Warning] No further splits with positive gain, best gain: -inf\n",
      "[LightGBM] [Warning] No further splits with positive gain, best gain: -inf\n",
      "Número de nodos: 40\n",
      "\n"
     ]
    },
    {
     "name": "stderr",
     "output_type": "stream",
     "text": [
      "/opt/conda/envs/python3/lib/python3.9/site-packages/lightgbm/engine.py:177: UserWarning: Found `num_iterations` in params. Will use it instead of argument\n",
      "  _log_warning(f\"Found `{alias}` in params. Will use it instead of argument\")\n",
      "/opt/conda/envs/python3/lib/python3.9/site-packages/lightgbm/engine.py:177: UserWarning: Found `num_iterations` in params. Will use it instead of argument\n",
      "  _log_warning(f\"Found `{alias}` in params. Will use it instead of argument\")\n"
     ]
    },
    {
     "name": "stdout",
     "output_type": "stream",
     "text": [
      "Valuación de dataset de prueba en light_model:  0.4221464938953716\n",
      "\n",
      "RMSE LightGBM model prueba: 44.507466961691335\n",
      "[LightGBM] [Warning] Auto-choosing col-wise multi-threading, the overhead of testing was 0.000134 seconds.\n",
      "You can set `force_col_wise=true` to remove the overhead.\n",
      "[LightGBM] [Info] Total Bins 895\n",
      "[LightGBM] [Info] Number of data points in the train set: 3969, number of used features: 8\n",
      "[LightGBM] [Info] Start training from score 78.291257\n",
      "[LightGBM] [Warning] No further splits with positive gain, best gain: -inf\n",
      "[LightGBM] [Warning] No further splits with positive gain, best gain: -inf\n",
      "[LightGBM] [Warning] No further splits with positive gain, best gain: -inf\n",
      "[LightGBM] [Warning] No further splits with positive gain, best gain: -inf\n",
      "[LightGBM] [Warning] No further splits with positive gain, best gain: -inf\n",
      "Número de nodos: 41\n",
      "\n",
      "Valuación de dataset de prueba en light_model:  0.3983625692635716\n",
      "\n",
      "RMSE LightGBM model prueba: 45.41417464685055\n"
     ]
    },
    {
     "name": "stderr",
     "output_type": "stream",
     "text": [
      "/opt/conda/envs/python3/lib/python3.9/site-packages/lightgbm/engine.py:177: UserWarning: Found `num_iterations` in params. Will use it instead of argument\n",
      "  _log_warning(f\"Found `{alias}` in params. Will use it instead of argument\")\n"
     ]
    },
    {
     "name": "stdout",
     "output_type": "stream",
     "text": [
      "[LightGBM] [Warning] Auto-choosing col-wise multi-threading, the overhead of testing was 0.000148 seconds.\n",
      "You can set `force_col_wise=true` to remove the overhead.\n",
      "[LightGBM] [Info] Total Bins 895\n",
      "[LightGBM] [Info] Number of data points in the train set: 3969, number of used features: 8\n",
      "[LightGBM] [Info] Start training from score 78.291257\n",
      "[LightGBM] [Warning] No further splits with positive gain, best gain: -inf\n",
      "[LightGBM] [Warning] No further splits with positive gain, best gain: -inf\n",
      "[LightGBM] [Warning] No further splits with positive gain, best gain: -inf\n",
      "[LightGBM] [Warning] No further splits with positive gain, best gain: -inf\n",
      "[LightGBM] [Warning] No further splits with positive gain, best gain: -inf\n",
      "[LightGBM] [Warning] No further splits with positive gain, best gain: -inf\n",
      "Número de nodos: 42\n",
      "\n",
      "Valuación de dataset de prueba en light_model:  0.40955008474701926\n",
      "\n",
      "RMSE LightGBM model prueba: 44.98995244299876\n"
     ]
    },
    {
     "name": "stderr",
     "output_type": "stream",
     "text": [
      "/opt/conda/envs/python3/lib/python3.9/site-packages/lightgbm/engine.py:177: UserWarning: Found `num_iterations` in params. Will use it instead of argument\n",
      "  _log_warning(f\"Found `{alias}` in params. Will use it instead of argument\")\n",
      "/opt/conda/envs/python3/lib/python3.9/site-packages/lightgbm/engine.py:177: UserWarning: Found `num_iterations` in params. Will use it instead of argument\n",
      "  _log_warning(f\"Found `{alias}` in params. Will use it instead of argument\")\n"
     ]
    },
    {
     "name": "stdout",
     "output_type": "stream",
     "text": [
      "[LightGBM] [Warning] Auto-choosing col-wise multi-threading, the overhead of testing was 0.000133 seconds.\n",
      "You can set `force_col_wise=true` to remove the overhead.\n",
      "[LightGBM] [Info] Total Bins 895\n",
      "[LightGBM] [Info] Number of data points in the train set: 3969, number of used features: 8\n",
      "[LightGBM] [Info] Start training from score 78.291257\n",
      "[LightGBM] [Warning] No further splits with positive gain, best gain: -inf\n",
      "[LightGBM] [Warning] No further splits with positive gain, best gain: -inf\n",
      "[LightGBM] [Warning] No further splits with positive gain, best gain: -inf\n",
      "[LightGBM] [Warning] No further splits with positive gain, best gain: -inf\n",
      "Número de nodos: 43\n",
      "\n",
      "Valuación de dataset de prueba en light_model:  0.4291647226131853\n",
      "\n",
      "RMSE LightGBM model prueba: 44.23636206762075\n",
      "[LightGBM] [Warning] Auto-choosing col-wise multi-threading, the overhead of testing was 0.000145 seconds.\n",
      "You can set `force_col_wise=true` to remove the overhead.\n",
      "[LightGBM] [Info] Total Bins 895\n",
      "[LightGBM] [Info] Number of data points in the train set: 3969, number of used features: 8\n",
      "[LightGBM] [Info] Start training from score 78.291257\n",
      "[LightGBM] [Warning] No further splits with positive gain, best gain: -inf\n",
      "[LightGBM] [Warning] No further splits with positive gain, best gain: -inf\n",
      "[LightGBM] [Warning] No further splits with positive gain, best gain: -inf\n",
      "[LightGBM] [Warning] No further splits with positive gain, best gain: -inf\n",
      "[LightGBM] [Warning] No further splits with positive gain, best gain: -inf\n",
      "[LightGBM] [Warning] No further splits with positive gain, best gain: -inf\n",
      "[LightGBM] [Warning] No further splits with positive gain, best gain: -inf\n",
      "[LightGBM] [Warning] No further splits with positive gain, best gain: -inf\n",
      "Número de nodos: 44\n",
      "\n",
      "Valuación de dataset de prueba en light_model:  0.4347050277783784\n",
      "\n",
      "RMSE LightGBM model prueba: 44.02116818563587\n",
      "[LightGBM] [Warning] Auto-choosing col-wise multi-threading, the overhead of testing was 0.000133 seconds.\n",
      "You can set `force_col_wise=true` to remove the overhead.\n",
      "[LightGBM] [Info] Total Bins 895\n",
      "[LightGBM] [Info] Number of data points in the train set: 3969, number of used features: 8\n",
      "[LightGBM] [Info] Start training from score 78.291257\n",
      "[LightGBM] [Warning] No further splits with positive gain, best gain: -inf\n"
     ]
    },
    {
     "name": "stderr",
     "output_type": "stream",
     "text": [
      "/opt/conda/envs/python3/lib/python3.9/site-packages/lightgbm/engine.py:177: UserWarning: Found `num_iterations` in params. Will use it instead of argument\n",
      "  _log_warning(f\"Found `{alias}` in params. Will use it instead of argument\")\n"
     ]
    },
    {
     "name": "stdout",
     "output_type": "stream",
     "text": [
      "[LightGBM] [Warning] No further splits with positive gain, best gain: -inf\n",
      "[LightGBM] [Warning] No further splits with positive gain, best gain: -inf\n",
      "[LightGBM] [Warning] No further splits with positive gain, best gain: -inf\n",
      "[LightGBM] [Warning] No further splits with positive gain, best gain: -inf\n",
      "[LightGBM] [Warning] No further splits with positive gain, best gain: -inf\n",
      "Número de nodos: 45\n",
      "\n",
      "Valuación de dataset de prueba en light_model:  0.450810016529241\n",
      "\n",
      "RMSE LightGBM model prueba: 43.38956594553429\n",
      "[LightGBM] [Warning] Auto-choosing col-wise multi-threading, the overhead of testing was 0.000136 seconds.\n",
      "You can set `force_col_wise=true` to remove the overhead.\n",
      "[LightGBM] [Info] Total Bins 895\n",
      "[LightGBM] [Info] Number of data points in the train set: 3969, number of used features: 8\n",
      "[LightGBM] [Info] Start training from score 78.291257\n",
      "[LightGBM] [Warning] No further splits with positive gain, best gain: -inf\n",
      "[LightGBM] [Warning] No further splits with positive gain, best gain: -inf\n",
      "[LightGBM] [Warning] No further splits with positive gain, best gain: -inf\n",
      "[LightGBM] [Warning] No further splits with positive gain, best gain: -inf\n",
      "[LightGBM] [Warning] No further splits with positive gain, best gain: -inf\n",
      "[LightGBM] [Warning] No further splits with positive gain, best gain: -inf\n",
      "[LightGBM] [Warning] No further splits with positive gain, best gain: -inf\n"
     ]
    },
    {
     "name": "stderr",
     "output_type": "stream",
     "text": [
      "/opt/conda/envs/python3/lib/python3.9/site-packages/lightgbm/engine.py:177: UserWarning: Found `num_iterations` in params. Will use it instead of argument\n",
      "  _log_warning(f\"Found `{alias}` in params. Will use it instead of argument\")\n",
      "/opt/conda/envs/python3/lib/python3.9/site-packages/lightgbm/engine.py:177: UserWarning: Found `num_iterations` in params. Will use it instead of argument\n",
      "  _log_warning(f\"Found `{alias}` in params. Will use it instead of argument\")\n"
     ]
    },
    {
     "name": "stdout",
     "output_type": "stream",
     "text": [
      "[LightGBM] [Warning] No further splits with positive gain, best gain: -inf\n",
      "[LightGBM] [Warning] No further splits with positive gain, best gain: -inf\n",
      "[LightGBM] [Warning] No further splits with positive gain, best gain: -inf\n",
      "[LightGBM] [Warning] No further splits with positive gain, best gain: -inf\n",
      "[LightGBM] [Warning] No further splits with positive gain, best gain: -inf\n",
      "Número de nodos: 46\n",
      "\n",
      "Valuación de dataset de prueba en light_model:  0.4097403364425629\n",
      "\n",
      "RMSE LightGBM model prueba: 44.98270364499135\n",
      "[LightGBM] [Warning] Auto-choosing col-wise multi-threading, the overhead of testing was 0.000135 seconds.\n",
      "You can set `force_col_wise=true` to remove the overhead.\n",
      "[LightGBM] [Info] Total Bins 895\n",
      "[LightGBM] [Info] Number of data points in the train set: 3969, number of used features: 8\n",
      "[LightGBM] [Info] Start training from score 78.291257\n",
      "[LightGBM] [Warning] No further splits with positive gain, best gain: -inf\n",
      "[LightGBM] [Warning] No further splits with positive gain, best gain: -inf\n",
      "[LightGBM] [Warning] No further splits with positive gain, best gain: -inf\n",
      "[LightGBM] [Warning] No further splits with positive gain, best gain: -inf\n",
      "[LightGBM] [Warning] No further splits with positive gain, best gain: -inf\n",
      "[LightGBM] [Warning] No further splits with positive gain, best gain: -inf\n",
      "[LightGBM] [Warning] No further splits with positive gain, best gain: -inf\n",
      "Número de nodos: 47\n",
      "\n",
      "Valuación de dataset de prueba en light_model:  0.4223300170855683\n",
      "\n",
      "RMSE LightGBM model prueba: 44.50039873342804\n",
      "[LightGBM] [Warning] Auto-choosing col-wise multi-threading, the overhead of testing was 0.000138 seconds.\n",
      "You can set `force_col_wise=true` to remove the overhead.\n",
      "[LightGBM] [Info] Total Bins 895\n",
      "[LightGBM] [Info] Number of data points in the train set: 3969, number of used features: 8\n",
      "[LightGBM] [Info] Start training from score 78.291257\n",
      "[LightGBM] [Warning] No further splits with positive gain, best gain: -inf\n",
      "[LightGBM] [Warning] No further splits with positive gain, best gain: -inf\n",
      "[LightGBM] [Warning] No further splits with positive gain, best gain: -inf\n",
      "[LightGBM] [Warning] No further splits with positive gain, best gain: -inf\n",
      "[LightGBM] [Warning] No further splits with positive gain, best gain: -inf\n",
      "[LightGBM] [Warning] No further splits with positive gain, best gain: -inf\n",
      "[LightGBM] [Warning] No further splits with positive gain, best gain: -inf\n",
      "[LightGBM] [Warning] No further splits with positive gain, best gain: -inf\n",
      "[LightGBM] [Warning] No further splits with positive gain, best gain: -inf\n",
      "Número de nodos: 48\n",
      "\n",
      "Valuación de dataset de prueba en light_model:  0.40461265352670484\n",
      "\n",
      "RMSE LightGBM model prueba: 45.17766721814411\n"
     ]
    },
    {
     "name": "stderr",
     "output_type": "stream",
     "text": [
      "/opt/conda/envs/python3/lib/python3.9/site-packages/lightgbm/engine.py:177: UserWarning: Found `num_iterations` in params. Will use it instead of argument\n",
      "  _log_warning(f\"Found `{alias}` in params. Will use it instead of argument\")\n",
      "/opt/conda/envs/python3/lib/python3.9/site-packages/lightgbm/engine.py:177: UserWarning: Found `num_iterations` in params. Will use it instead of argument\n",
      "  _log_warning(f\"Found `{alias}` in params. Will use it instead of argument\")\n"
     ]
    },
    {
     "name": "stdout",
     "output_type": "stream",
     "text": [
      "[LightGBM] [Warning] Auto-choosing col-wise multi-threading, the overhead of testing was 0.000144 seconds.\n",
      "You can set `force_col_wise=true` to remove the overhead.\n",
      "[LightGBM] [Info] Total Bins 895\n",
      "[LightGBM] [Info] Number of data points in the train set: 3969, number of used features: 8\n",
      "[LightGBM] [Info] Start training from score 78.291257\n",
      "[LightGBM] [Warning] No further splits with positive gain, best gain: -inf\n",
      "[LightGBM] [Warning] No further splits with positive gain, best gain: -inf\n",
      "[LightGBM] [Warning] No further splits with positive gain, best gain: -inf\n",
      "[LightGBM] [Warning] No further splits with positive gain, best gain: -inf\n",
      "[LightGBM] [Warning] No further splits with positive gain, best gain: -inf\n",
      "[LightGBM] [Warning] No further splits with positive gain, best gain: -inf\n",
      "[LightGBM] [Warning] No further splits with positive gain, best gain: -inf\n",
      "[LightGBM] [Warning] No further splits with positive gain, best gain: -inf\n",
      "[LightGBM] [Warning] No further splits with positive gain, best gain: -inf\n",
      "[LightGBM] [Warning] No further splits with positive gain, best gain: -inf\n",
      "Número de nodos: 49\n",
      "\n",
      "Valuación de dataset de prueba en light_model:  0.40233300152196005\n",
      "\n",
      "RMSE LightGBM model prueba: 45.26407396300783\n"
     ]
    }
   ],
   "source": [
    "for leaves in range (10, 50):\n",
    "    light_model = LGBMRegressor(num_iterations=60, num_leaves=leaves, max_depth=10, verbose=1, metric='rmse', random_state=12345)\n",
    "    light_model.fit(feat_train, target_train)\n",
    "    light_predict = light_model.predict(feat_test)\n",
    "    print(\"Número de nodos:\", leaves)\n",
    "    print()\n",
    "    print(\"Valuación de dataset de prueba en light_model: \", light_model.score(feat_test, target_test))\n",
    "    print()\n",
    "    print(f\"RMSE LightGBM model prueba: {rmse(light_predict, target_test)}\")"
   ]
  },
  {
   "cell_type": "code",
   "execution_count": 20,
   "metadata": {},
   "outputs": [
    {
     "name": "stderr",
     "output_type": "stream",
     "text": [
      "/opt/conda/envs/python3/lib/python3.9/site-packages/lightgbm/engine.py:177: UserWarning: Found `num_iterations` in params. Will use it instead of argument\n",
      "  _log_warning(f\"Found `{alias}` in params. Will use it instead of argument\")\n",
      "/opt/conda/envs/python3/lib/python3.9/site-packages/lightgbm/engine.py:177: UserWarning: Found `num_iterations` in params. Will use it instead of argument\n",
      "  _log_warning(f\"Found `{alias}` in params. Will use it instead of argument\")\n",
      "/opt/conda/envs/python3/lib/python3.9/site-packages/lightgbm/engine.py:177: UserWarning: Found `num_iterations` in params. Will use it instead of argument\n",
      "  _log_warning(f\"Found `{alias}` in params. Will use it instead of argument\")\n"
     ]
    },
    {
     "name": "stdout",
     "output_type": "stream",
     "text": [
      "[LightGBM] [Warning] Auto-choosing col-wise multi-threading, the overhead of testing was 0.000138 seconds.\n",
      "You can set `force_col_wise=true` to remove the overhead.\n",
      "[LightGBM] [Info] Total Bins 895\n",
      "[LightGBM] [Info] Number of data points in the train set: 3969, number of used features: 8\n",
      "[LightGBM] [Info] Start training from score 78.291257\n",
      "[LightGBM] [Warning] No further splits with positive gain, best gain: -inf\n",
      "[LightGBM] [Warning] No further splits with positive gain, best gain: -inf\n",
      "[LightGBM] [Warning] No further splits with positive gain, best gain: -inf\n",
      "[LightGBM] [Warning] No further splits with positive gain, best gain: -inf\n",
      "[LightGBM] [Warning] No further splits with positive gain, best gain: -inf\n",
      "[LightGBM] [Warning] No further splits with positive gain, best gain: -inf\n",
      "[LightGBM] [Warning] No further splits with positive gain, best gain: -inf\n",
      "[LightGBM] [Warning] No further splits with positive gain, best gain: -inf\n",
      "[LightGBM] [Warning] No further splits with positive gain, best gain: -inf\n",
      "[LightGBM] [Warning] No further splits with positive gain, best gain: -inf\n",
      "[LightGBM] [Warning] No further splits with positive gain, best gain: -inf\n",
      "[LightGBM] [Warning] No further splits with positive gain, best gain: -inf\n",
      "[LightGBM] [Warning] No further splits with positive gain, best gain: -inf\n",
      "[LightGBM] [Warning] No further splits with positive gain, best gain: -inf\n",
      "[LightGBM] [Warning] No further splits with positive gain, best gain: -inf\n",
      "[LightGBM] [Warning] No further splits with positive gain, best gain: -inf\n",
      "[LightGBM] [Warning] No further splits with positive gain, best gain: -inf\n",
      "[LightGBM] [Warning] No further splits with positive gain, best gain: -inf\n",
      "[LightGBM] [Warning] No further splits with positive gain, best gain: -inf\n",
      "[LightGBM] [Warning] No further splits with positive gain, best gain: -inf\n",
      "[LightGBM] [Warning] No further splits with positive gain, best gain: -inf\n",
      "[LightGBM] [Warning] No further splits with positive gain, best gain: -inf\n",
      "[LightGBM] [Warning] No further splits with positive gain, best gain: -inf\n",
      "[LightGBM] [Warning] No further splits with positive gain, best gain: -inf\n",
      "[LightGBM] [Warning] No further splits with positive gain, best gain: -inf\n",
      "[LightGBM] [Warning] No further splits with positive gain, best gain: -inf\n",
      "[LightGBM] [Warning] No further splits with positive gain, best gain: -inf\n",
      "[LightGBM] [Warning] No further splits with positive gain, best gain: -inf\n",
      "[LightGBM] [Warning] No further splits with positive gain, best gain: -inf\n",
      "[LightGBM] [Warning] No further splits with positive gain, best gain: -inf\n",
      "[LightGBM] [Warning] No further splits with positive gain, best gain: -inf\n",
      "[LightGBM] [Warning] No further splits with positive gain, best gain: -inf\n",
      "[LightGBM] [Warning] No further splits with positive gain, best gain: -inf\n",
      "[LightGBM] [Warning] No further splits with positive gain, best gain: -inf\n",
      "[LightGBM] [Warning] No further splits with positive gain, best gain: -inf\n",
      "[LightGBM] [Warning] No further splits with positive gain, best gain: -inf\n",
      "[LightGBM] [Warning] No further splits with positive gain, best gain: -inf\n",
      "[LightGBM] [Warning] No further splits with positive gain, best gain: -inf\n",
      "[LightGBM] [Warning] No further splits with positive gain, best gain: -inf\n",
      "[LightGBM] [Warning] No further splits with positive gain, best gain: -inf\n",
      "[LightGBM] [Warning] No further splits with positive gain, best gain: -inf\n",
      "Profundidad máxima: 4\n",
      "\n",
      "Valuación de dataset de prueba en light_model:  0.4116371561441966\n",
      "\n",
      "RMSE LightGBM model prueba: 44.91036875400588\n",
      "[LightGBM] [Warning] Auto-choosing col-wise multi-threading, the overhead of testing was 0.000136 seconds.\n",
      "You can set `force_col_wise=true` to remove the overhead.\n",
      "[LightGBM] [Info] Total Bins 895\n",
      "[LightGBM] [Info] Number of data points in the train set: 3969, number of used features: 8\n",
      "[LightGBM] [Info] Start training from score 78.291257\n",
      "[LightGBM] [Warning] No further splits with positive gain, best gain: -inf\n",
      "[LightGBM] [Warning] No further splits with positive gain, best gain: -inf\n",
      "[LightGBM] [Warning] No further splits with positive gain, best gain: -inf\n",
      "[LightGBM] [Warning] No further splits with positive gain, best gain: -inf\n",
      "[LightGBM] [Warning] No further splits with positive gain, best gain: -inf\n",
      "[LightGBM] [Warning] No further splits with positive gain, best gain: -inf\n",
      "[LightGBM] [Warning] No further splits with positive gain, best gain: -inf\n",
      "[LightGBM] [Warning] No further splits with positive gain, best gain: -inf\n",
      "[LightGBM] [Warning] No further splits with positive gain, best gain: -inf\n",
      "[LightGBM] [Warning] No further splits with positive gain, best gain: -inf\n",
      "[LightGBM] [Warning] No further splits with positive gain, best gain: -inf\n",
      "[LightGBM] [Warning] No further splits with positive gain, best gain: -inf\n",
      "[LightGBM] [Warning] No further splits with positive gain, best gain: -inf\n",
      "[LightGBM] [Warning] No further splits with positive gain, best gain: -inf\n",
      "[LightGBM] [Warning] No further splits with positive gain, best gain: -inf\n",
      "[LightGBM] [Warning] No further splits with positive gain, best gain: -inf\n",
      "[LightGBM] [Warning] No further splits with positive gain, best gain: -inf\n",
      "[LightGBM] [Warning] No further splits with positive gain, best gain: -inf\n",
      "[LightGBM] [Warning] No further splits with positive gain, best gain: -inf\n",
      "[LightGBM] [Warning] No further splits with positive gain, best gain: -inf\n",
      "[LightGBM] [Warning] No further splits with positive gain, best gain: -inf\n",
      "[LightGBM] [Warning] No further splits with positive gain, best gain: -inf\n",
      "[LightGBM] [Warning] No further splits with positive gain, best gain: -inf\n",
      "[LightGBM] [Warning] No further splits with positive gain, best gain: -inf\n",
      "[LightGBM] [Warning] No further splits with positive gain, best gain: -inf\n",
      "[LightGBM] [Warning] No further splits with positive gain, best gain: -inf\n",
      "[LightGBM] [Warning] No further splits with positive gain, best gain: -inf\n",
      "[LightGBM] [Warning] No further splits with positive gain, best gain: -inf\n",
      "[LightGBM] [Warning] No further splits with positive gain, best gain: -inf\n",
      "[LightGBM] [Warning] No further splits with positive gain, best gain: -inf\n",
      "[LightGBM] [Warning] No further splits with positive gain, best gain: -inf\n",
      "[LightGBM] [Warning] No further splits with positive gain, best gain: -inf\n",
      "[LightGBM] [Warning] No further splits with positive gain, best gain: -inf\n",
      "[LightGBM] [Warning] No further splits with positive gain, best gain: -inf\n",
      "[LightGBM] [Warning] No further splits with positive gain, best gain: -inf\n",
      "[LightGBM] [Warning] No further splits with positive gain, best gain: -inf\n",
      "[LightGBM] [Warning] No further splits with positive gain, best gain: -inf\n",
      "[LightGBM] [Warning] No further splits with positive gain, best gain: -inf\n",
      "[LightGBM] [Warning] No further splits with positive gain, best gain: -inf\n",
      "[LightGBM] [Warning] No further splits with positive gain, best gain: -inf\n",
      "[LightGBM] [Warning] No further splits with positive gain, best gain: -inf\n",
      "[LightGBM] [Warning] No further splits with positive gain, best gain: -inf\n",
      "[LightGBM] [Warning] No further splits with positive gain, best gain: -inf\n",
      "[LightGBM] [Warning] No further splits with positive gain, best gain: -inf\n",
      "[LightGBM] [Warning] No further splits with positive gain, best gain: -inf\n",
      "[LightGBM] [Warning] No further splits with positive gain, best gain: -inf\n",
      "[LightGBM] [Warning] No further splits with positive gain, best gain: -inf\n",
      "[LightGBM] [Warning] No further splits with positive gain, best gain: -inf\n",
      "[LightGBM] [Warning] No further splits with positive gain, best gain: -inf\n",
      "[LightGBM] [Warning] No further splits with positive gain, best gain: -inf\n",
      "[LightGBM] [Warning] No further splits with positive gain, best gain: -inf\n",
      "[LightGBM] [Warning] No further splits with positive gain, best gain: -inf\n",
      "[LightGBM] [Warning] No further splits with positive gain, best gain: -inf\n",
      "[LightGBM] [Warning] No further splits with positive gain, best gain: -inf\n",
      "[LightGBM] [Warning] No further splits with positive gain, best gain: -inf\n",
      "[LightGBM] [Warning] No further splits with positive gain, best gain: -inf\n",
      "[LightGBM] [Warning] No further splits with positive gain, best gain: -inf\n",
      "[LightGBM] [Warning] No further splits with positive gain, best gain: -inf\n",
      "[LightGBM] [Warning] No further splits with positive gain, best gain: -inf\n",
      "[LightGBM] [Warning] No further splits with positive gain, best gain: -inf\n",
      "Profundidad máxima: 5\n",
      "\n",
      "Valuación de dataset de prueba en light_model:  0.44533291196878977\n",
      "\n",
      "RMSE LightGBM model prueba: 43.60539253614652\n",
      "[LightGBM] [Warning] Auto-choosing col-wise multi-threading, the overhead of testing was 0.000183 seconds.\n",
      "You can set `force_col_wise=true` to remove the overhead.\n",
      "[LightGBM] [Info] Total Bins 895\n",
      "[LightGBM] [Info] Number of data points in the train set: 3969, number of used features: 8\n",
      "[LightGBM] [Info] Start training from score 78.291257\n",
      "[LightGBM] [Warning] No further splits with positive gain, best gain: -inf\n",
      "[LightGBM] [Warning] No further splits with positive gain, best gain: -inf\n",
      "[LightGBM] [Warning] No further splits with positive gain, best gain: -inf\n",
      "[LightGBM] [Warning] No further splits with positive gain, best gain: -inf\n",
      "[LightGBM] [Warning] No further splits with positive gain, best gain: -inf\n",
      "[LightGBM] [Warning] No further splits with positive gain, best gain: -inf\n",
      "[LightGBM] [Warning] No further splits with positive gain, best gain: -inf\n",
      "[LightGBM] [Warning] No further splits with positive gain, best gain: -inf\n",
      "[LightGBM] [Warning] No further splits with positive gain, best gain: -inf\n",
      "[LightGBM] [Warning] No further splits with positive gain, best gain: -inf\n",
      "[LightGBM] [Warning] No further splits with positive gain, best gain: -inf\n",
      "[LightGBM] [Warning] No further splits with positive gain, best gain: -inf\n",
      "[LightGBM] [Warning] No further splits with positive gain, best gain: -inf\n",
      "[LightGBM] [Warning] No further splits with positive gain, best gain: -inf\n",
      "[LightGBM] [Warning] No further splits with positive gain, best gain: -inf\n",
      "[LightGBM] [Warning] No further splits with positive gain, best gain: -inf\n",
      "[LightGBM] [Warning] No further splits with positive gain, best gain: -inf\n",
      "[LightGBM] [Warning] No further splits with positive gain, best gain: -inf\n",
      "[LightGBM] [Warning] No further splits with positive gain, best gain: -inf\n",
      "[LightGBM] [Warning] No further splits with positive gain, best gain: -inf\n",
      "[LightGBM] [Warning] No further splits with positive gain, best gain: -inf\n",
      "[LightGBM] [Warning] No further splits with positive gain, best gain: -inf\n",
      "[LightGBM] [Warning] No further splits with positive gain, best gain: -inf\n",
      "[LightGBM] [Warning] No further splits with positive gain, best gain: -inf\n",
      "[LightGBM] [Warning] No further splits with positive gain, best gain: -inf\n",
      "[LightGBM] [Warning] No further splits with positive gain, best gain: -inf\n",
      "[LightGBM] [Warning] No further splits with positive gain, best gain: -inf\n",
      "[LightGBM] [Warning] No further splits with positive gain, best gain: -inf\n",
      "[LightGBM] [Warning] No further splits with positive gain, best gain: -inf\n",
      "[LightGBM] [Warning] No further splits with positive gain, best gain: -inf\n",
      "[LightGBM] [Warning] No further splits with positive gain, best gain: -inf\n",
      "[LightGBM] [Warning] No further splits with positive gain, best gain: -inf\n",
      "[LightGBM] [Warning] No further splits with positive gain, best gain: -inf\n",
      "[LightGBM] [Warning] No further splits with positive gain, best gain: -inf\n",
      "[LightGBM] [Warning] No further splits with positive gain, best gain: -inf\n",
      "[LightGBM] [Warning] No further splits with positive gain, best gain: -inf\n",
      "[LightGBM] [Warning] No further splits with positive gain, best gain: -inf\n"
     ]
    },
    {
     "name": "stdout",
     "output_type": "stream",
     "text": [
      "[LightGBM] [Warning] No further splits with positive gain, best gain: -inf\n",
      "[LightGBM] [Warning] No further splits with positive gain, best gain: -inf\n",
      "[LightGBM] [Warning] No further splits with positive gain, best gain: -inf\n",
      "[LightGBM] [Warning] No further splits with positive gain, best gain: -inf\n",
      "[LightGBM] [Warning] No further splits with positive gain, best gain: -inf\n",
      "[LightGBM] [Warning] No further splits with positive gain, best gain: -inf\n",
      "[LightGBM] [Warning] No further splits with positive gain, best gain: -inf\n",
      "[LightGBM] [Warning] No further splits with positive gain, best gain: -inf\n",
      "Profundidad máxima: 6\n",
      "\n",
      "Valuación de dataset de prueba en light_model:  0.44335471216214184\n",
      "\n",
      "RMSE LightGBM model prueba: 43.683081844605674\n",
      "[LightGBM] [Warning] Auto-choosing col-wise multi-threading, the overhead of testing was 0.000156 seconds.\n",
      "You can set `force_col_wise=true` to remove the overhead.\n",
      "[LightGBM] [Info] Total Bins 895\n",
      "[LightGBM] [Info] Number of data points in the train set: 3969, number of used features: 8\n",
      "[LightGBM] [Info] Start training from score 78.291257\n",
      "[LightGBM] [Warning] No further splits with positive gain, best gain: -inf\n",
      "[LightGBM] [Warning] No further splits with positive gain, best gain: -inf\n",
      "[LightGBM] [Warning] No further splits with positive gain, best gain: -inf\n",
      "[LightGBM] [Warning] No further splits with positive gain, best gain: -inf\n",
      "[LightGBM] [Warning] No further splits with positive gain, best gain: -inf\n",
      "[LightGBM] [Warning] No further splits with positive gain, best gain: -inf\n",
      "[LightGBM] [Warning] No further splits with positive gain, best gain: -inf\n",
      "[LightGBM] [Warning] No further splits with positive gain, best gain: -inf\n",
      "[LightGBM] [Warning] No further splits with positive gain, best gain: -inf\n",
      "[LightGBM] [Warning] No further splits with positive gain, best gain: -inf\n",
      "[LightGBM] [Warning] No further splits with positive gain, best gain: -inf\n",
      "[LightGBM] [Warning] No further splits with positive gain, best gain: -inf\n",
      "[LightGBM] [Warning] No further splits with positive gain, best gain: -inf\n",
      "[LightGBM] [Warning] No further splits with positive gain, best gain: -inf\n",
      "[LightGBM] [Warning] No further splits with positive gain, best gain: -inf\n",
      "[LightGBM] [Warning] No further splits with positive gain, best gain: -inf\n",
      "[LightGBM] [Warning] No further splits with positive gain, best gain: -inf\n",
      "[LightGBM] [Warning] No further splits with positive gain, best gain: -inf\n",
      "[LightGBM] [Warning] No further splits with positive gain, best gain: -inf\n"
     ]
    },
    {
     "name": "stderr",
     "output_type": "stream",
     "text": [
      "/opt/conda/envs/python3/lib/python3.9/site-packages/lightgbm/engine.py:177: UserWarning: Found `num_iterations` in params. Will use it instead of argument\n",
      "  _log_warning(f\"Found `{alias}` in params. Will use it instead of argument\")\n",
      "/opt/conda/envs/python3/lib/python3.9/site-packages/lightgbm/engine.py:177: UserWarning: Found `num_iterations` in params. Will use it instead of argument\n",
      "  _log_warning(f\"Found `{alias}` in params. Will use it instead of argument\")\n"
     ]
    },
    {
     "name": "stdout",
     "output_type": "stream",
     "text": [
      "Profundidad máxima: 7\n",
      "\n",
      "Valuación de dataset de prueba en light_model:  0.4317640955859898\n",
      "\n",
      "RMSE LightGBM model prueba: 44.135529122215175\n",
      "[LightGBM] [Warning] Auto-choosing row-wise multi-threading, the overhead of testing was 0.000058 seconds.\n",
      "You can set `force_row_wise=true` to remove the overhead.\n",
      "And if memory is not enough, you can set `force_col_wise=true`.\n",
      "[LightGBM] [Info] Total Bins 895\n",
      "[LightGBM] [Info] Number of data points in the train set: 3969, number of used features: 8\n",
      "[LightGBM] [Info] Start training from score 78.291257\n",
      "[LightGBM] [Warning] No further splits with positive gain, best gain: -inf\n",
      "[LightGBM] [Warning] No further splits with positive gain, best gain: -inf\n",
      "[LightGBM] [Warning] No further splits with positive gain, best gain: -inf\n",
      "[LightGBM] [Warning] No further splits with positive gain, best gain: -inf\n",
      "[LightGBM] [Warning] No further splits with positive gain, best gain: -inf\n",
      "[LightGBM] [Warning] No further splits with positive gain, best gain: -inf\n",
      "[LightGBM] [Warning] No further splits with positive gain, best gain: -inf\n",
      "[LightGBM] [Warning] No further splits with positive gain, best gain: -inf\n",
      "[LightGBM] [Warning] No further splits with positive gain, best gain: -inf\n",
      "[LightGBM] [Warning] No further splits with positive gain, best gain: -inf\n",
      "Profundidad máxima: 8\n",
      "\n",
      "Valuación de dataset de prueba en light_model:  0.42729631440763294\n",
      "\n",
      "RMSE LightGBM model prueba: 44.30869822448961\n",
      "[LightGBM] [Warning] Auto-choosing col-wise multi-threading, the overhead of testing was 0.000130 seconds.\n",
      "You can set `force_col_wise=true` to remove the overhead.\n",
      "[LightGBM] [Info] Total Bins 895\n",
      "[LightGBM] [Info] Number of data points in the train set: 3969, number of used features: 8\n",
      "[LightGBM] [Info] Start training from score 78.291257\n",
      "[LightGBM] [Warning] No further splits with positive gain, best gain: -inf\n",
      "[LightGBM] [Warning] No further splits with positive gain, best gain: -inf\n",
      "[LightGBM] [Warning] No further splits with positive gain, best gain: -inf\n",
      "[LightGBM] [Warning] No further splits with positive gain, best gain: -inf\n",
      "[LightGBM] [Warning] No further splits with positive gain, best gain: -inf\n",
      "[LightGBM] [Warning] No further splits with positive gain, best gain: -inf\n",
      "[LightGBM] [Warning] No further splits with positive gain, best gain: -inf\n",
      "[LightGBM] [Warning] No further splits with positive gain, best gain: -inf\n",
      "Profundidad máxima: 9\n",
      "\n",
      "Valuación de dataset de prueba en light_model:  0.44977443948645324\n",
      "\n",
      "RMSE LightGBM model prueba: 43.43045532594997\n"
     ]
    },
    {
     "name": "stderr",
     "output_type": "stream",
     "text": [
      "/opt/conda/envs/python3/lib/python3.9/site-packages/lightgbm/engine.py:177: UserWarning: Found `num_iterations` in params. Will use it instead of argument\n",
      "  _log_warning(f\"Found `{alias}` in params. Will use it instead of argument\")\n"
     ]
    }
   ],
   "source": [
    "for depth in range (4, 10):\n",
    "    light_model = LGBMRegressor(num_iterations=60, num_leaves=45, max_depth=depth, verbose=1, metric='rmse', random_state=12345)\n",
    "    light_model.fit(feat_train, target_train)\n",
    "    light_predict = light_model.predict(feat_test)\n",
    "    print(\"Profundidad máxima:\", depth)\n",
    "    print()\n",
    "    print(\"Valuación de dataset de prueba en light_model: \", light_model.score(feat_test, target_test))\n",
    "    print()\n",
    "    print(f\"RMSE LightGBM model prueba: {rmse(light_predict, target_test)}\")"
   ]
  },
  {
   "cell_type": "code",
   "execution_count": 21,
   "metadata": {},
   "outputs": [
    {
     "name": "stdout",
     "output_type": "stream",
     "text": [
      "[LightGBM] [Warning] Auto-choosing col-wise multi-threading, the overhead of testing was 0.000134 seconds.\n",
      "You can set `force_col_wise=true` to remove the overhead.\n",
      "[LightGBM] [Info] Total Bins 895\n",
      "[LightGBM] [Info] Number of data points in the train set: 3969, number of used features: 8\n",
      "[LightGBM] [Info] Start training from score 78.291257\n",
      "[LightGBM] [Warning] No further splits with positive gain, best gain: -inf\n",
      "[LightGBM] [Warning] No further splits with positive gain, best gain: -inf\n",
      "[LightGBM] [Warning] No further splits with positive gain, best gain: -inf\n",
      "[LightGBM] [Warning] No further splits with positive gain, best gain: -inf\n",
      "[LightGBM] [Warning] No further splits with positive gain, best gain: -inf\n",
      "[LightGBM] [Warning] No further splits with positive gain, best gain: -inf\n",
      "[LightGBM] [Warning] No further splits with positive gain, best gain: -inf\n",
      "[LightGBM] [Warning] No further splits with positive gain, best gain: -inf\n",
      "\n",
      "Valuación de dataset de prueba en light_model:  0.44977443948645324\n",
      "\n",
      "RMSE LightGBM model prueba: 43.43045532594997\n"
     ]
    },
    {
     "name": "stderr",
     "output_type": "stream",
     "text": [
      "/opt/conda/envs/python3/lib/python3.9/site-packages/lightgbm/engine.py:177: UserWarning: Found `num_iterations` in params. Will use it instead of argument\n",
      "  _log_warning(f\"Found `{alias}` in params. Will use it instead of argument\")\n"
     ]
    }
   ],
   "source": [
    "light_model = LGBMRegressor(num_iterations=60, num_leaves=45, max_depth=9, verbose=1, metric='rmse', random_state=12345)\n",
    "light_model.fit(feat_train, target_train)\n",
    "light_predict = light_model.predict(feat_test)\n",
    "print()\n",
    "print(\"Valuación de dataset de prueba en light_model: \", light_model.score(feat_test, target_test))\n",
    "print()\n",
    "print(f\"RMSE LightGBM model prueba: {rmse(light_predict, target_test)}\")"
   ]
  },
  {
   "cell_type": "markdown",
   "metadata": {},
   "source": [
    "### Conclusión Modelo LightGBM\n",
    "\n",
    "Hemos iterado nuetro modelo y llegamos a la conclusión que la mejor manera de entrenarlo es la siguiente:\n",
    "\n",
    "Fijar el número de iteraciones a 60, el máximo de nodos que sea 45 y máxima profundidad del árbol en 9.\n",
    "\n",
    "Con esta combinación en los hiperparámetros pudimos alcanzar un error mínimo del 43.43 con el conjunto de prueba."
   ]
  },
  {
   "cell_type": "code",
   "execution_count": 23,
   "metadata": {
    "scrolled": true
   },
   "outputs": [
    {
     "name": "stdout",
     "output_type": "stream",
     "text": [
      "0:\tlearn: 32.1081976\ttotal: 2.2ms\tremaining: 130ms\n",
      "1:\tlearn: 28.2555847\ttotal: 3.96ms\tremaining: 115ms\n",
      "2:\tlearn: 26.2832391\ttotal: 5.47ms\tremaining: 104ms\n",
      "3:\tlearn: 25.0724734\ttotal: 7.02ms\tremaining: 98.3ms\n",
      "4:\tlearn: 24.1793293\ttotal: 8.56ms\tremaining: 94.2ms\n",
      "5:\tlearn: 23.5944209\ttotal: 10ms\tremaining: 90.2ms\n",
      "6:\tlearn: 23.2351080\ttotal: 11.5ms\tremaining: 87.2ms\n",
      "7:\tlearn: 22.9306457\ttotal: 12.9ms\tremaining: 84.2ms\n",
      "8:\tlearn: 22.6633001\ttotal: 14.5ms\tremaining: 82.3ms\n",
      "9:\tlearn: 22.4973205\ttotal: 16ms\tremaining: 79.8ms\n",
      "10:\tlearn: 22.0068204\ttotal: 17.4ms\tremaining: 77.6ms\n",
      "11:\tlearn: 21.9672251\ttotal: 18.9ms\tremaining: 75.6ms\n",
      "12:\tlearn: 21.7536910\ttotal: 20.5ms\tremaining: 74ms\n",
      "13:\tlearn: 21.4333996\ttotal: 22ms\tremaining: 72.4ms\n",
      "14:\tlearn: 21.2340231\ttotal: 23.5ms\tremaining: 70.4ms\n",
      "15:\tlearn: 20.9778467\ttotal: 24.9ms\tremaining: 68.6ms\n",
      "16:\tlearn: 20.7822810\ttotal: 26.5ms\tremaining: 67ms\n",
      "17:\tlearn: 20.6414963\ttotal: 27.9ms\tremaining: 65.1ms\n",
      "18:\tlearn: 20.5212220\ttotal: 29.4ms\tremaining: 63.5ms\n",
      "19:\tlearn: 20.2590320\ttotal: 31ms\tremaining: 61.9ms\n",
      "20:\tlearn: 20.0525890\ttotal: 32.5ms\tremaining: 60.3ms\n",
      "21:\tlearn: 19.8215413\ttotal: 34ms\tremaining: 58.7ms\n",
      "22:\tlearn: 19.6677800\ttotal: 35.6ms\tremaining: 57.3ms\n",
      "23:\tlearn: 19.5844846\ttotal: 37ms\tremaining: 55.5ms\n",
      "24:\tlearn: 19.3242596\ttotal: 38.6ms\tremaining: 54ms\n",
      "25:\tlearn: 19.3066212\ttotal: 40ms\tremaining: 52.3ms\n",
      "26:\tlearn: 19.1297655\ttotal: 41.5ms\tremaining: 50.7ms\n",
      "27:\tlearn: 19.1035083\ttotal: 42.9ms\tremaining: 49ms\n",
      "28:\tlearn: 18.9806280\ttotal: 44.4ms\tremaining: 47.5ms\n",
      "29:\tlearn: 18.8310632\ttotal: 45.9ms\tremaining: 45.9ms\n",
      "30:\tlearn: 18.6839350\ttotal: 47.4ms\tremaining: 44.4ms\n",
      "31:\tlearn: 18.6740559\ttotal: 48.4ms\tremaining: 42.3ms\n",
      "32:\tlearn: 18.5574983\ttotal: 49.9ms\tremaining: 40.8ms\n",
      "33:\tlearn: 18.3926706\ttotal: 51.4ms\tremaining: 39.3ms\n",
      "34:\tlearn: 18.3179559\ttotal: 52.8ms\tremaining: 37.7ms\n",
      "35:\tlearn: 18.1814168\ttotal: 54.4ms\tremaining: 36.2ms\n",
      "36:\tlearn: 18.1163991\ttotal: 55.8ms\tremaining: 34.7ms\n",
      "37:\tlearn: 17.9317724\ttotal: 57.3ms\tremaining: 33.1ms\n",
      "38:\tlearn: 17.7884348\ttotal: 58.8ms\tremaining: 31.6ms\n",
      "39:\tlearn: 17.6653121\ttotal: 60.3ms\tremaining: 30.2ms\n",
      "40:\tlearn: 17.5060514\ttotal: 61.9ms\tremaining: 28.7ms\n",
      "41:\tlearn: 17.3573319\ttotal: 63.4ms\tremaining: 27.2ms\n",
      "42:\tlearn: 17.2303465\ttotal: 65ms\tremaining: 25.7ms\n",
      "43:\tlearn: 17.1243971\ttotal: 66.5ms\tremaining: 24.2ms\n",
      "44:\tlearn: 16.9803163\ttotal: 68ms\tremaining: 22.7ms\n",
      "45:\tlearn: 16.9219212\ttotal: 69.5ms\tremaining: 21.1ms\n",
      "46:\tlearn: 16.8501285\ttotal: 71ms\tremaining: 19.6ms\n",
      "47:\tlearn: 16.7706105\ttotal: 72.6ms\tremaining: 18.1ms\n",
      "48:\tlearn: 16.7486925\ttotal: 74ms\tremaining: 16.6ms\n",
      "49:\tlearn: 16.6619177\ttotal: 75.4ms\tremaining: 15.1ms\n",
      "50:\tlearn: 16.5161218\ttotal: 77ms\tremaining: 13.6ms\n",
      "51:\tlearn: 16.4586055\ttotal: 78.5ms\tremaining: 12.1ms\n",
      "52:\tlearn: 16.4079372\ttotal: 79.8ms\tremaining: 10.5ms\n",
      "53:\tlearn: 16.3108324\ttotal: 81.3ms\tremaining: 9.03ms\n",
      "54:\tlearn: 16.2134074\ttotal: 82.8ms\tremaining: 7.52ms\n",
      "55:\tlearn: 16.1376891\ttotal: 84.3ms\tremaining: 6.02ms\n",
      "56:\tlearn: 16.0559269\ttotal: 85.8ms\tremaining: 4.52ms\n",
      "57:\tlearn: 16.0544781\ttotal: 87.2ms\tremaining: 3ms\n",
      "58:\tlearn: 15.9440414\ttotal: 88.7ms\tremaining: 1.5ms\n",
      "59:\tlearn: 15.8677806\ttotal: 90.2ms\tremaining: 0us\n",
      "Valuación de dataset de prueba en cat_model:  0.2764928797690033\n",
      "\n",
      "RMSE CatBoost model prueba: 49.801842046542056\n",
      "\n"
     ]
    }
   ],
   "source": [
    "#Por último observamos como funciona el modelo CatBoost\n",
    "cat_model = CatBoostRegressor(iterations=60, max_depth=7, learning_rate=0.4, loss_function='RMSE', random_state=12345)\n",
    "cat_model.fit(feat_train, target_train)\n",
    "cat_predict = cat_model.predict(feat_test)\n",
    "print(\"Valuación de dataset de prueba en cat_model: \", cat_model.score(feat_test, target_test))\n",
    "print()\n",
    "print(f\"RMSE CatBoost model prueba: {rmse(cat_predict, target_test)}\")\n",
    "print()"
   ]
  },
  {
   "cell_type": "code",
   "execution_count": 28,
   "metadata": {},
   "outputs": [
    {
     "name": "stdout",
     "output_type": "stream",
     "text": [
      "0:\tlearn: 33.7946670\ttotal: 899us\tremaining: 53ms\n",
      "1:\tlearn: 31.2222648\ttotal: 1.68ms\tremaining: 48.8ms\n",
      "2:\tlearn: 28.3893865\ttotal: 2.32ms\tremaining: 44.1ms\n",
      "3:\tlearn: 26.6986654\ttotal: 2.94ms\tremaining: 41.2ms\n",
      "4:\tlearn: 25.9156536\ttotal: 3.56ms\tremaining: 39.2ms\n",
      "5:\tlearn: 25.5650418\ttotal: 4.23ms\tremaining: 38.1ms\n",
      "6:\tlearn: 25.3295365\ttotal: 4.83ms\tremaining: 36.6ms\n",
      "7:\tlearn: 24.8172035\ttotal: 5.46ms\tremaining: 35.5ms\n",
      "8:\tlearn: 24.5877400\ttotal: 6.08ms\tremaining: 34.4ms\n",
      "9:\tlearn: 24.4281783\ttotal: 6.73ms\tremaining: 33.7ms\n",
      "10:\tlearn: 24.2740864\ttotal: 7.32ms\tremaining: 32.6ms\n",
      "11:\tlearn: 24.1309342\ttotal: 7.94ms\tremaining: 31.8ms\n",
      "12:\tlearn: 23.9334170\ttotal: 8.55ms\tremaining: 30.9ms\n",
      "13:\tlearn: 23.8929038\ttotal: 9.11ms\tremaining: 29.9ms\n",
      "14:\tlearn: 23.3930603\ttotal: 9.71ms\tremaining: 29.1ms\n",
      "15:\tlearn: 23.1522970\ttotal: 10.3ms\tremaining: 28.3ms\n",
      "16:\tlearn: 22.9251853\ttotal: 10.9ms\tremaining: 27.6ms\n",
      "17:\tlearn: 22.7378663\ttotal: 11.5ms\tremaining: 26.8ms\n",
      "18:\tlearn: 22.6998160\ttotal: 12.1ms\tremaining: 26.1ms\n",
      "19:\tlearn: 22.6054728\ttotal: 12.7ms\tremaining: 25.4ms\n",
      "20:\tlearn: 22.3759231\ttotal: 13.3ms\tremaining: 24.6ms\n",
      "21:\tlearn: 22.1962727\ttotal: 13.9ms\tremaining: 24ms\n",
      "22:\tlearn: 22.1721191\ttotal: 14.4ms\tremaining: 23.2ms\n",
      "23:\tlearn: 22.1489008\ttotal: 15ms\tremaining: 22.5ms\n",
      "24:\tlearn: 21.8221424\ttotal: 15.6ms\tremaining: 21.8ms\n",
      "25:\tlearn: 21.6311507\ttotal: 16.2ms\tremaining: 21.2ms\n",
      "26:\tlearn: 21.4882732\ttotal: 16.8ms\tremaining: 20.5ms\n",
      "27:\tlearn: 21.3833216\ttotal: 17.4ms\tremaining: 19.9ms\n",
      "28:\tlearn: 21.3639116\ttotal: 17.9ms\tremaining: 19.2ms\n",
      "29:\tlearn: 21.3493985\ttotal: 18.5ms\tremaining: 18.5ms\n",
      "30:\tlearn: 21.2110207\ttotal: 19.1ms\tremaining: 17.9ms\n",
      "31:\tlearn: 21.1163865\ttotal: 19.7ms\tremaining: 17.3ms\n",
      "32:\tlearn: 20.9572502\ttotal: 20.3ms\tremaining: 16.6ms\n",
      "33:\tlearn: 20.9444822\ttotal: 20.9ms\tremaining: 16ms\n",
      "34:\tlearn: 20.7626551\ttotal: 21.5ms\tremaining: 15.3ms\n",
      "35:\tlearn: 20.7486187\ttotal: 22ms\tremaining: 14.7ms\n",
      "36:\tlearn: 20.6453784\ttotal: 22.6ms\tremaining: 14.1ms\n",
      "37:\tlearn: 20.5520307\ttotal: 23.3ms\tremaining: 13.5ms\n",
      "38:\tlearn: 20.5403378\ttotal: 23.9ms\tremaining: 12.9ms\n",
      "39:\tlearn: 20.4565830\ttotal: 24.7ms\tremaining: 12.3ms\n",
      "40:\tlearn: 20.3456232\ttotal: 25.5ms\tremaining: 11.8ms\n",
      "41:\tlearn: 20.2859378\ttotal: 26.3ms\tremaining: 11.3ms\n",
      "42:\tlearn: 20.2784765\ttotal: 27ms\tremaining: 10.7ms\n",
      "43:\tlearn: 20.2055307\ttotal: 27.9ms\tremaining: 10.1ms\n",
      "44:\tlearn: 20.1374487\ttotal: 28.7ms\tremaining: 9.56ms\n",
      "45:\tlearn: 20.0881594\ttotal: 29.5ms\tremaining: 8.96ms\n",
      "46:\tlearn: 19.9779560\ttotal: 30.2ms\tremaining: 8.37ms\n",
      "47:\tlearn: 19.9073211\ttotal: 31ms\tremaining: 7.75ms\n",
      "48:\tlearn: 19.8555576\ttotal: 31.7ms\tremaining: 7.11ms\n",
      "49:\tlearn: 19.7761396\ttotal: 32.3ms\tremaining: 6.45ms\n",
      "50:\tlearn: 19.6998706\ttotal: 32.9ms\tremaining: 5.8ms\n",
      "51:\tlearn: 19.6926434\ttotal: 33.4ms\tremaining: 5.14ms\n",
      "52:\tlearn: 19.6382248\ttotal: 34ms\tremaining: 4.49ms\n",
      "53:\tlearn: 19.5815034\ttotal: 34.6ms\tremaining: 3.84ms\n",
      "54:\tlearn: 19.5230516\ttotal: 35.2ms\tremaining: 3.2ms\n",
      "55:\tlearn: 19.4691930\ttotal: 35.8ms\tremaining: 2.55ms\n",
      "56:\tlearn: 19.4169261\ttotal: 36.3ms\tremaining: 1.91ms\n",
      "57:\tlearn: 19.3072181\ttotal: 36.9ms\tremaining: 1.27ms\n",
      "58:\tlearn: 19.2469524\ttotal: 37.6ms\tremaining: 636us\n",
      "59:\tlearn: 19.1860314\ttotal: 38.1ms\tremaining: 0us\n",
      "Profundidad máxima: 4\n",
      "\n",
      "Valuación de dataset de prueba en cat_model:  0.4215658193267299\n",
      "\n",
      "RMSE CatBoost model prueba: 44.529823722128974\n",
      "\n",
      "0:\tlearn: 32.3828967\ttotal: 1.33ms\tremaining: 78.6ms\n",
      "1:\tlearn: 29.3426586\ttotal: 2.13ms\tremaining: 61.9ms\n",
      "2:\tlearn: 27.0225838\ttotal: 2.96ms\tremaining: 56.3ms\n",
      "3:\tlearn: 25.6538045\ttotal: 3.77ms\tremaining: 52.8ms\n",
      "4:\tlearn: 24.8306056\ttotal: 4.58ms\tremaining: 50.4ms\n",
      "5:\tlearn: 24.3172323\ttotal: 5.38ms\tremaining: 48.4ms\n",
      "6:\tlearn: 24.1460477\ttotal: 6.14ms\tremaining: 46.5ms\n",
      "7:\tlearn: 23.6796977\ttotal: 6.91ms\tremaining: 44.9ms\n",
      "8:\tlearn: 23.4246025\ttotal: 7.69ms\tremaining: 43.6ms\n",
      "9:\tlearn: 23.3591153\ttotal: 8.42ms\tremaining: 42.1ms\n",
      "10:\tlearn: 23.0370476\ttotal: 9.22ms\tremaining: 41.1ms\n",
      "11:\tlearn: 22.8700369\ttotal: 9.95ms\tremaining: 39.8ms\n",
      "12:\tlearn: 22.5315993\ttotal: 10.7ms\tremaining: 38.7ms\n",
      "13:\tlearn: 22.3562847\ttotal: 11.5ms\tremaining: 37.8ms\n",
      "14:\tlearn: 22.1996882\ttotal: 12.3ms\tremaining: 36.8ms\n",
      "15:\tlearn: 21.9091928\ttotal: 13.1ms\tremaining: 35.9ms\n",
      "16:\tlearn: 21.7508960\ttotal: 13.8ms\tremaining: 35ms\n",
      "17:\tlearn: 21.5506848\ttotal: 14.6ms\tremaining: 34.1ms\n",
      "18:\tlearn: 21.4756416\ttotal: 15.4ms\tremaining: 33.3ms\n",
      "19:\tlearn: 21.3594147\ttotal: 16.2ms\tremaining: 32.4ms\n",
      "20:\tlearn: 21.1505913\ttotal: 17ms\tremaining: 31.6ms\n",
      "21:\tlearn: 21.0549517\ttotal: 17.8ms\tremaining: 30.7ms\n",
      "22:\tlearn: 21.0029453\ttotal: 18.5ms\tremaining: 29.7ms\n",
      "23:\tlearn: 20.8938280\ttotal: 19.2ms\tremaining: 28.9ms\n",
      "24:\tlearn: 20.7325552\ttotal: 20ms\tremaining: 28ms\n",
      "25:\tlearn: 20.6086620\ttotal: 20.8ms\tremaining: 27.2ms\n",
      "26:\tlearn: 20.4575734\ttotal: 21.6ms\tremaining: 26.4ms\n",
      "27:\tlearn: 20.4408374\ttotal: 22.3ms\tremaining: 25.5ms\n",
      "28:\tlearn: 20.4287891\ttotal: 23ms\tremaining: 24.6ms\n",
      "29:\tlearn: 20.3394734\ttotal: 23.8ms\tremaining: 23.8ms\n",
      "30:\tlearn: 20.1870211\ttotal: 24.6ms\tremaining: 23ms\n",
      "31:\tlearn: 20.1725120\ttotal: 25.3ms\tremaining: 22.1ms\n",
      "32:\tlearn: 20.0868534\ttotal: 26.1ms\tremaining: 21.3ms\n",
      "33:\tlearn: 19.9647789\ttotal: 26.9ms\tremaining: 20.5ms\n",
      "34:\tlearn: 19.9526899\ttotal: 27.5ms\tremaining: 19.7ms\n",
      "35:\tlearn: 19.8253137\ttotal: 28.3ms\tremaining: 18.9ms\n",
      "36:\tlearn: 19.7158926\ttotal: 29.1ms\tremaining: 18.1ms\n",
      "37:\tlearn: 19.5645281\ttotal: 29.8ms\tremaining: 17.3ms\n",
      "38:\tlearn: 19.4991192\ttotal: 30.6ms\tremaining: 16.5ms\n",
      "39:\tlearn: 19.3891762\ttotal: 31.4ms\tremaining: 15.7ms\n",
      "40:\tlearn: 19.3251815\ttotal: 32.1ms\tremaining: 14.9ms\n",
      "41:\tlearn: 19.1691695\ttotal: 32.9ms\tremaining: 14.1ms\n",
      "42:\tlearn: 19.0893754\ttotal: 33.7ms\tremaining: 13.3ms\n",
      "43:\tlearn: 19.0373548\ttotal: 34.5ms\tremaining: 12.5ms\n",
      "44:\tlearn: 18.9995407\ttotal: 35.2ms\tremaining: 11.7ms\n",
      "45:\tlearn: 18.8896677\ttotal: 36ms\tremaining: 10.9ms\n",
      "46:\tlearn: 18.8312806\ttotal: 36.7ms\tremaining: 10.2ms\n",
      "47:\tlearn: 18.8218169\ttotal: 37.4ms\tremaining: 9.35ms\n",
      "48:\tlearn: 18.7359145\ttotal: 38.2ms\tremaining: 8.57ms\n",
      "49:\tlearn: 18.7293817\ttotal: 38.9ms\tremaining: 7.77ms\n",
      "50:\tlearn: 18.6357489\ttotal: 39.6ms\tremaining: 7ms\n",
      "51:\tlearn: 18.5661970\ttotal: 40.4ms\tremaining: 6.22ms\n",
      "52:\tlearn: 18.4972874\ttotal: 41.3ms\tremaining: 5.45ms\n",
      "53:\tlearn: 18.4551695\ttotal: 42ms\tremaining: 4.67ms\n",
      "54:\tlearn: 18.3984532\ttotal: 42.8ms\tremaining: 3.89ms\n",
      "55:\tlearn: 18.3435272\ttotal: 43.6ms\tremaining: 3.11ms\n",
      "56:\tlearn: 18.2474970\ttotal: 44.4ms\tremaining: 2.34ms\n",
      "57:\tlearn: 18.1431144\ttotal: 45.2ms\tremaining: 1.56ms\n",
      "58:\tlearn: 18.0935848\ttotal: 45.9ms\tremaining: 778us\n",
      "59:\tlearn: 18.0548242\ttotal: 46.7ms\tremaining: 0us\n",
      "Profundidad máxima: 5\n",
      "\n",
      "Valuación de dataset de prueba en cat_model:  0.3510245793131386\n",
      "\n",
      "RMSE CatBoost model prueba: 47.16698607183311\n",
      "\n",
      "0:\tlearn: 32.2631648\ttotal: 1.17ms\tremaining: 69.2ms\n",
      "1:\tlearn: 28.9314537\ttotal: 2.29ms\tremaining: 66.4ms\n",
      "2:\tlearn: 26.7748028\ttotal: 3.36ms\tremaining: 63.9ms\n",
      "3:\tlearn: 25.8385246\ttotal: 4.45ms\tremaining: 62.3ms\n",
      "4:\tlearn: 24.9488852\ttotal: 5.48ms\tremaining: 60.3ms\n",
      "5:\tlearn: 24.2855289\ttotal: 6.51ms\tremaining: 58.6ms\n",
      "6:\tlearn: 23.6415231\ttotal: 7.58ms\tremaining: 57.4ms\n",
      "7:\tlearn: 23.5887171\ttotal: 8.16ms\tremaining: 53.1ms\n",
      "8:\tlearn: 23.4794424\ttotal: 9.14ms\tremaining: 51.8ms\n",
      "9:\tlearn: 22.9719712\ttotal: 10.1ms\tremaining: 50.7ms\n",
      "10:\tlearn: 22.7192639\ttotal: 11.2ms\tremaining: 49.7ms\n",
      "11:\tlearn: 22.4256125\ttotal: 12.2ms\tremaining: 48.9ms\n",
      "12:\tlearn: 22.1734238\ttotal: 13.3ms\tremaining: 48ms\n",
      "13:\tlearn: 22.0805658\ttotal: 14.3ms\tremaining: 47.1ms\n",
      "14:\tlearn: 21.6936732\ttotal: 15.4ms\tremaining: 46.1ms\n",
      "15:\tlearn: 21.5133019\ttotal: 16.4ms\tremaining: 45.1ms\n",
      "16:\tlearn: 21.3422370\ttotal: 17.4ms\tremaining: 44.1ms\n",
      "17:\tlearn: 21.0702886\ttotal: 18.5ms\tremaining: 43.2ms\n",
      "18:\tlearn: 20.9092366\ttotal: 19.6ms\tremaining: 42.3ms\n",
      "19:\tlearn: 20.8562543\ttotal: 20.6ms\tremaining: 41.2ms\n",
      "20:\tlearn: 20.8369822\ttotal: 21.6ms\tremaining: 40.1ms\n",
      "21:\tlearn: 20.7086945\ttotal: 22.7ms\tremaining: 39.1ms\n",
      "22:\tlearn: 20.5363944\ttotal: 23.7ms\tremaining: 38.1ms\n",
      "23:\tlearn: 20.3518773\ttotal: 24.8ms\tremaining: 37.2ms\n",
      "24:\tlearn: 20.0147256\ttotal: 25.8ms\tremaining: 36.1ms\n",
      "25:\tlearn: 19.8166442\ttotal: 26.9ms\tremaining: 35.2ms\n",
      "26:\tlearn: 19.8034262\ttotal: 27.9ms\tremaining: 34.1ms\n",
      "27:\tlearn: 19.6008037\ttotal: 29ms\tremaining: 33.1ms\n",
      "28:\tlearn: 19.4485758\ttotal: 30ms\tremaining: 32.1ms\n",
      "29:\tlearn: 19.3697761\ttotal: 31ms\tremaining: 31ms\n",
      "30:\tlearn: 19.1978559\ttotal: 32ms\tremaining: 30ms\n",
      "31:\tlearn: 19.0701454\ttotal: 33.1ms\tremaining: 28.9ms\n",
      "32:\tlearn: 19.0004196\ttotal: 34.1ms\tremaining: 27.9ms\n",
      "33:\tlearn: 18.8245652\ttotal: 35.1ms\tremaining: 26.9ms\n",
      "34:\tlearn: 18.7438259\ttotal: 36.2ms\tremaining: 25.8ms\n",
      "35:\tlearn: 18.6516467\ttotal: 37.2ms\tremaining: 24.8ms\n",
      "36:\tlearn: 18.6409639\ttotal: 38.1ms\tremaining: 23.7ms\n",
      "37:\tlearn: 18.5635895\ttotal: 39.2ms\tremaining: 22.7ms\n",
      "38:\tlearn: 18.4507936\ttotal: 40.2ms\tremaining: 21.6ms\n",
      "39:\tlearn: 18.3174447\ttotal: 41.2ms\tremaining: 20.6ms\n",
      "40:\tlearn: 18.2220727\ttotal: 42.3ms\tremaining: 19.6ms\n",
      "41:\tlearn: 18.0945670\ttotal: 43.4ms\tremaining: 18.6ms\n",
      "42:\tlearn: 18.0365710\ttotal: 44.4ms\tremaining: 17.5ms\n",
      "43:\tlearn: 17.9511203\ttotal: 45.4ms\tremaining: 16.5ms\n",
      "44:\tlearn: 17.8930627\ttotal: 46.5ms\tremaining: 15.5ms\n",
      "45:\tlearn: 17.8122990\ttotal: 47.5ms\tremaining: 14.5ms\n",
      "46:\tlearn: 17.7733286\ttotal: 48.5ms\tremaining: 13.4ms\n",
      "47:\tlearn: 17.6638376\ttotal: 49.5ms\tremaining: 12.4ms\n",
      "48:\tlearn: 17.6061696\ttotal: 50.6ms\tremaining: 11.4ms\n",
      "49:\tlearn: 17.5025672\ttotal: 51.6ms\tremaining: 10.3ms\n",
      "50:\tlearn: 17.3766238\ttotal: 52.7ms\tremaining: 9.29ms\n",
      "51:\tlearn: 17.3438279\ttotal: 53.6ms\tremaining: 8.25ms\n",
      "52:\tlearn: 17.2721400\ttotal: 54.7ms\tremaining: 7.22ms\n",
      "53:\tlearn: 17.1779314\ttotal: 55.7ms\tremaining: 6.19ms\n",
      "54:\tlearn: 17.0710144\ttotal: 56.8ms\tremaining: 5.16ms\n",
      "55:\tlearn: 16.9909203\ttotal: 57.8ms\tremaining: 4.13ms\n",
      "56:\tlearn: 16.9525644\ttotal: 58.8ms\tremaining: 3.1ms\n",
      "57:\tlearn: 16.8783683\ttotal: 59.9ms\tremaining: 2.07ms\n",
      "58:\tlearn: 16.7855593\ttotal: 61ms\tremaining: 1.03ms\n",
      "59:\tlearn: 16.7068025\ttotal: 62.1ms\tremaining: 0us\n",
      "Profundidad máxima: 6\n",
      "\n",
      "Valuación de dataset de prueba en cat_model:  0.37761154830021004\n",
      "\n",
      "RMSE CatBoost model prueba: 46.19072348917672\n",
      "\n",
      "0:\tlearn: 32.1081976\ttotal: 1.97ms\tremaining: 116ms\n"
     ]
    },
    {
     "name": "stdout",
     "output_type": "stream",
     "text": [
      "1:\tlearn: 28.2555847\ttotal: 3.68ms\tremaining: 107ms\n",
      "2:\tlearn: 26.2832391\ttotal: 5.34ms\tremaining: 101ms\n",
      "3:\tlearn: 25.0724734\ttotal: 6.91ms\tremaining: 96.8ms\n",
      "4:\tlearn: 24.1793293\ttotal: 8.46ms\tremaining: 93.1ms\n",
      "5:\tlearn: 23.5944209\ttotal: 9.96ms\tremaining: 89.6ms\n",
      "6:\tlearn: 23.2351080\ttotal: 11.4ms\tremaining: 86.5ms\n",
      "7:\tlearn: 22.9306457\ttotal: 12.9ms\tremaining: 83.6ms\n",
      "8:\tlearn: 22.6633001\ttotal: 14.4ms\tremaining: 81.8ms\n",
      "9:\tlearn: 22.4973205\ttotal: 15.9ms\tremaining: 79.4ms\n",
      "10:\tlearn: 22.0068204\ttotal: 17.4ms\tremaining: 77.4ms\n",
      "11:\tlearn: 21.9672251\ttotal: 18.9ms\tremaining: 75.4ms\n",
      "12:\tlearn: 21.7536910\ttotal: 20.4ms\tremaining: 73.7ms\n",
      "13:\tlearn: 21.4333996\ttotal: 22ms\tremaining: 72.3ms\n",
      "14:\tlearn: 21.2340231\ttotal: 23.5ms\tremaining: 70.5ms\n",
      "15:\tlearn: 20.9778467\ttotal: 25ms\tremaining: 68.7ms\n",
      "16:\tlearn: 20.7822810\ttotal: 26.5ms\tremaining: 67.1ms\n",
      "17:\tlearn: 20.6414963\ttotal: 28ms\tremaining: 65.3ms\n",
      "18:\tlearn: 20.5212220\ttotal: 29.5ms\tremaining: 63.7ms\n",
      "19:\tlearn: 20.2590320\ttotal: 31ms\tremaining: 62ms\n",
      "20:\tlearn: 20.0525890\ttotal: 32.5ms\tremaining: 60.4ms\n",
      "21:\tlearn: 19.8215413\ttotal: 34.1ms\tremaining: 58.8ms\n",
      "22:\tlearn: 19.6677800\ttotal: 35.6ms\tremaining: 57.3ms\n",
      "23:\tlearn: 19.5844846\ttotal: 37.1ms\tremaining: 55.6ms\n",
      "24:\tlearn: 19.3242596\ttotal: 38.7ms\tremaining: 54.1ms\n",
      "25:\tlearn: 19.3066212\ttotal: 40ms\tremaining: 52.3ms\n",
      "26:\tlearn: 19.1297655\ttotal: 41.6ms\tremaining: 50.8ms\n",
      "27:\tlearn: 19.1035083\ttotal: 42.9ms\tremaining: 49.1ms\n",
      "28:\tlearn: 18.9806280\ttotal: 44.5ms\tremaining: 47.5ms\n",
      "29:\tlearn: 18.8310632\ttotal: 46ms\tremaining: 46ms\n",
      "30:\tlearn: 18.6839350\ttotal: 47.5ms\tremaining: 44.4ms\n",
      "31:\tlearn: 18.6740559\ttotal: 48.4ms\tremaining: 42.3ms\n",
      "32:\tlearn: 18.5574983\ttotal: 49.8ms\tremaining: 40.8ms\n",
      "33:\tlearn: 18.3926706\ttotal: 51.4ms\tremaining: 39.3ms\n",
      "34:\tlearn: 18.3179559\ttotal: 52.8ms\tremaining: 37.7ms\n",
      "35:\tlearn: 18.1814168\ttotal: 54.3ms\tremaining: 36.2ms\n",
      "36:\tlearn: 18.1163991\ttotal: 55.8ms\tremaining: 34.7ms\n",
      "37:\tlearn: 17.9317724\ttotal: 57.3ms\tremaining: 33.1ms\n",
      "38:\tlearn: 17.7884348\ttotal: 58.7ms\tremaining: 31.6ms\n",
      "39:\tlearn: 17.6653121\ttotal: 60.3ms\tremaining: 30.1ms\n",
      "40:\tlearn: 17.5060514\ttotal: 61.9ms\tremaining: 28.7ms\n",
      "41:\tlearn: 17.3573319\ttotal: 63.4ms\tremaining: 27.2ms\n",
      "42:\tlearn: 17.2303465\ttotal: 65ms\tremaining: 25.7ms\n",
      "43:\tlearn: 17.1243971\ttotal: 66.5ms\tremaining: 24.2ms\n",
      "44:\tlearn: 16.9803163\ttotal: 68.1ms\tremaining: 22.7ms\n",
      "45:\tlearn: 16.9219212\ttotal: 69.5ms\tremaining: 21.1ms\n",
      "46:\tlearn: 16.8501285\ttotal: 71ms\tremaining: 19.6ms\n",
      "47:\tlearn: 16.7706105\ttotal: 72.6ms\tremaining: 18.1ms\n",
      "48:\tlearn: 16.7486925\ttotal: 73.9ms\tremaining: 16.6ms\n",
      "49:\tlearn: 16.6619177\ttotal: 75.4ms\tremaining: 15.1ms\n",
      "50:\tlearn: 16.5161218\ttotal: 76.9ms\tremaining: 13.6ms\n",
      "51:\tlearn: 16.4586055\ttotal: 78.4ms\tremaining: 12.1ms\n",
      "52:\tlearn: 16.4079372\ttotal: 79.8ms\tremaining: 10.5ms\n",
      "53:\tlearn: 16.3108324\ttotal: 81.3ms\tremaining: 9.03ms\n",
      "54:\tlearn: 16.2134074\ttotal: 82.8ms\tremaining: 7.53ms\n",
      "55:\tlearn: 16.1376891\ttotal: 84.4ms\tremaining: 6.03ms\n",
      "56:\tlearn: 16.0559269\ttotal: 85.8ms\tremaining: 4.52ms\n",
      "57:\tlearn: 16.0544781\ttotal: 87.2ms\tremaining: 3.01ms\n",
      "58:\tlearn: 15.9440414\ttotal: 88.7ms\tremaining: 1.5ms\n",
      "59:\tlearn: 15.8677806\ttotal: 90.2ms\tremaining: 0us\n",
      "Profundidad máxima: 7\n",
      "\n",
      "Valuación de dataset de prueba en cat_model:  0.2764928797690033\n",
      "\n",
      "RMSE CatBoost model prueba: 49.801842046542056\n",
      "\n",
      "0:\tlearn: 32.0529064\ttotal: 3.49ms\tremaining: 206ms\n",
      "1:\tlearn: 28.3005145\ttotal: 6.04ms\tremaining: 175ms\n",
      "2:\tlearn: 25.8718802\ttotal: 8.41ms\tremaining: 160ms\n",
      "3:\tlearn: 24.7278021\ttotal: 10.9ms\tremaining: 152ms\n",
      "4:\tlearn: 24.1947854\ttotal: 13.2ms\tremaining: 145ms\n",
      "5:\tlearn: 23.3049768\ttotal: 15.7ms\tremaining: 141ms\n",
      "6:\tlearn: 22.7003844\ttotal: 18.1ms\tremaining: 137ms\n",
      "7:\tlearn: 22.4541500\ttotal: 20.6ms\tremaining: 134ms\n",
      "8:\tlearn: 22.2932153\ttotal: 22.9ms\tremaining: 130ms\n",
      "9:\tlearn: 21.9889854\ttotal: 25.3ms\tremaining: 127ms\n",
      "10:\tlearn: 21.6836785\ttotal: 27.6ms\tremaining: 123ms\n",
      "11:\tlearn: 21.1061045\ttotal: 30ms\tremaining: 120ms\n",
      "12:\tlearn: 20.8736365\ttotal: 33ms\tremaining: 119ms\n",
      "13:\tlearn: 20.6086442\ttotal: 35.4ms\tremaining: 116ms\n",
      "14:\tlearn: 20.4986436\ttotal: 37.6ms\tremaining: 113ms\n",
      "15:\tlearn: 20.4750031\ttotal: 38.2ms\tremaining: 105ms\n",
      "16:\tlearn: 20.3297046\ttotal: 40.6ms\tremaining: 103ms\n",
      "17:\tlearn: 20.2484564\ttotal: 42.9ms\tremaining: 100ms\n",
      "18:\tlearn: 20.0366329\ttotal: 45.3ms\tremaining: 97.8ms\n",
      "19:\tlearn: 19.9121535\ttotal: 47.8ms\tremaining: 95.6ms\n",
      "20:\tlearn: 19.6353540\ttotal: 50.5ms\tremaining: 93.8ms\n",
      "21:\tlearn: 19.5494534\ttotal: 53ms\tremaining: 91.5ms\n",
      "22:\tlearn: 19.1805850\ttotal: 55.6ms\tremaining: 89.5ms\n",
      "23:\tlearn: 18.9551626\ttotal: 58ms\tremaining: 87ms\n",
      "24:\tlearn: 18.7874105\ttotal: 60.3ms\tremaining: 84.5ms\n",
      "25:\tlearn: 18.6938085\ttotal: 62.6ms\tremaining: 81.9ms\n",
      "26:\tlearn: 18.5223744\ttotal: 65ms\tremaining: 79.5ms\n",
      "27:\tlearn: 18.3225932\ttotal: 67.3ms\tremaining: 76.9ms\n",
      "28:\tlearn: 18.0547581\ttotal: 69.8ms\tremaining: 74.6ms\n",
      "29:\tlearn: 18.0444341\ttotal: 71.2ms\tremaining: 71.2ms\n",
      "30:\tlearn: 18.0318383\ttotal: 73.5ms\tremaining: 68.8ms\n",
      "31:\tlearn: 17.8385102\ttotal: 75.9ms\tremaining: 66.4ms\n",
      "32:\tlearn: 17.6572142\ttotal: 78.3ms\tremaining: 64.1ms\n",
      "33:\tlearn: 17.4618721\ttotal: 80.9ms\tremaining: 61.9ms\n",
      "34:\tlearn: 17.3612861\ttotal: 83.2ms\tremaining: 59.4ms\n",
      "35:\tlearn: 17.1727274\ttotal: 85.6ms\tremaining: 57.1ms\n",
      "36:\tlearn: 17.0041100\ttotal: 88.1ms\tremaining: 54.7ms\n",
      "37:\tlearn: 16.9039605\ttotal: 90.5ms\tremaining: 52.4ms\n",
      "38:\tlearn: 16.7673367\ttotal: 92.8ms\tremaining: 50ms\n",
      "39:\tlearn: 16.5696507\ttotal: 95.2ms\tremaining: 47.6ms\n",
      "40:\tlearn: 16.5078386\ttotal: 97.6ms\tremaining: 45.2ms\n",
      "41:\tlearn: 16.3742745\ttotal: 99.9ms\tremaining: 42.8ms\n",
      "42:\tlearn: 16.1893800\ttotal: 102ms\tremaining: 40.4ms\n",
      "43:\tlearn: 16.0522880\ttotal: 105ms\tremaining: 38ms\n",
      "44:\tlearn: 15.9507588\ttotal: 107ms\tremaining: 35.7ms\n",
      "45:\tlearn: 15.8088527\ttotal: 110ms\tremaining: 33.3ms\n",
      "46:\tlearn: 15.7040135\ttotal: 112ms\tremaining: 31ms\n",
      "47:\tlearn: 15.4729134\ttotal: 115ms\tremaining: 28.6ms\n",
      "48:\tlearn: 15.3974691\ttotal: 117ms\tremaining: 26.3ms\n",
      "49:\tlearn: 15.2198056\ttotal: 119ms\tremaining: 23.9ms\n",
      "50:\tlearn: 15.0825301\ttotal: 122ms\tremaining: 21.5ms\n",
      "51:\tlearn: 14.9813342\ttotal: 124ms\tremaining: 19.1ms\n",
      "52:\tlearn: 14.8962947\ttotal: 127ms\tremaining: 16.7ms\n",
      "53:\tlearn: 14.7581697\ttotal: 129ms\tremaining: 14.3ms\n",
      "54:\tlearn: 14.7191271\ttotal: 131ms\tremaining: 11.9ms\n",
      "55:\tlearn: 14.6210640\ttotal: 134ms\tremaining: 9.55ms\n",
      "56:\tlearn: 14.5617332\ttotal: 136ms\tremaining: 7.16ms\n",
      "57:\tlearn: 14.4518947\ttotal: 138ms\tremaining: 4.77ms\n",
      "58:\tlearn: 14.4076580\ttotal: 141ms\tremaining: 2.39ms\n",
      "59:\tlearn: 14.2942571\ttotal: 143ms\tremaining: 0us\n",
      "Profundidad máxima: 8\n",
      "\n",
      "Valuación de dataset de prueba en cat_model:  0.31008445181135436\n",
      "\n",
      "RMSE CatBoost model prueba: 48.631981820175675\n",
      "\n",
      "0:\tlearn: 31.7155046\ttotal: 5.03ms\tremaining: 297ms\n",
      "1:\tlearn: 28.1835001\ttotal: 9.91ms\tremaining: 287ms\n",
      "2:\tlearn: 25.6894003\ttotal: 14ms\tremaining: 267ms\n",
      "3:\tlearn: 24.5400768\ttotal: 18.2ms\tremaining: 255ms\n",
      "4:\tlearn: 23.2119230\ttotal: 22.8ms\tremaining: 251ms\n",
      "5:\tlearn: 22.8661048\ttotal: 27ms\tremaining: 243ms\n",
      "6:\tlearn: 22.0171554\ttotal: 31ms\tremaining: 235ms\n",
      "7:\tlearn: 21.7264842\ttotal: 34.9ms\tremaining: 227ms\n",
      "8:\tlearn: 21.5278666\ttotal: 39.1ms\tremaining: 222ms\n",
      "9:\tlearn: 21.1473230\ttotal: 43.3ms\tremaining: 216ms\n",
      "10:\tlearn: 20.9028948\ttotal: 47.4ms\tremaining: 211ms\n",
      "11:\tlearn: 20.4511652\ttotal: 51.4ms\tremaining: 205ms\n",
      "12:\tlearn: 20.1372652\ttotal: 55.6ms\tremaining: 201ms\n",
      "13:\tlearn: 19.9818576\ttotal: 59.5ms\tremaining: 195ms\n",
      "14:\tlearn: 19.6808895\ttotal: 63.8ms\tremaining: 191ms\n",
      "15:\tlearn: 19.4833781\ttotal: 68ms\tremaining: 187ms\n",
      "16:\tlearn: 19.2791404\ttotal: 71.9ms\tremaining: 182ms\n",
      "17:\tlearn: 19.1739114\ttotal: 76ms\tremaining: 177ms\n",
      "18:\tlearn: 18.8563039\ttotal: 80.4ms\tremaining: 173ms\n",
      "19:\tlearn: 18.6506301\ttotal: 84.4ms\tremaining: 169ms\n",
      "20:\tlearn: 18.3053159\ttotal: 88.4ms\tremaining: 164ms\n",
      "21:\tlearn: 18.0540413\ttotal: 92.6ms\tremaining: 160ms\n",
      "22:\tlearn: 17.9037417\ttotal: 96.5ms\tremaining: 155ms\n",
      "23:\tlearn: 17.6259107\ttotal: 101ms\tremaining: 151ms\n",
      "24:\tlearn: 17.3699061\ttotal: 104ms\tremaining: 146ms\n",
      "25:\tlearn: 17.3148416\ttotal: 108ms\tremaining: 142ms\n",
      "26:\tlearn: 17.1126046\ttotal: 113ms\tremaining: 138ms\n",
      "27:\tlearn: 16.8815328\ttotal: 116ms\tremaining: 133ms\n",
      "28:\tlearn: 16.8524704\ttotal: 121ms\tremaining: 129ms\n",
      "29:\tlearn: 16.8323022\ttotal: 126ms\tremaining: 126ms\n",
      "30:\tlearn: 16.5486019\ttotal: 132ms\tremaining: 123ms\n",
      "31:\tlearn: 16.2508303\ttotal: 137ms\tremaining: 120ms\n",
      "32:\tlearn: 16.1880438\ttotal: 142ms\tremaining: 117ms\n",
      "33:\tlearn: 15.9981112\ttotal: 148ms\tremaining: 113ms\n",
      "34:\tlearn: 15.9845057\ttotal: 153ms\tremaining: 110ms\n",
      "35:\tlearn: 15.9819506\ttotal: 154ms\tremaining: 103ms\n",
      "36:\tlearn: 15.8444536\ttotal: 159ms\tremaining: 98.8ms\n",
      "37:\tlearn: 15.6318100\ttotal: 163ms\tremaining: 94.5ms\n",
      "38:\tlearn: 15.5271585\ttotal: 167ms\tremaining: 90.1ms\n",
      "39:\tlearn: 15.3787316\ttotal: 171ms\tremaining: 85.7ms\n",
      "40:\tlearn: 15.2985157\ttotal: 175ms\tremaining: 81.3ms\n",
      "41:\tlearn: 15.1309793\ttotal: 179ms\tremaining: 76.9ms\n",
      "42:\tlearn: 14.9419388\ttotal: 184ms\tremaining: 72.6ms\n",
      "43:\tlearn: 14.8089147\ttotal: 188ms\tremaining: 68.4ms\n",
      "44:\tlearn: 14.7440564\ttotal: 192ms\tremaining: 64ms\n",
      "45:\tlearn: 14.6562689\ttotal: 196ms\tremaining: 59.6ms\n",
      "46:\tlearn: 14.6106302\ttotal: 200ms\tremaining: 55.3ms\n",
      "47:\tlearn: 14.4622889\ttotal: 204ms\tremaining: 51ms\n",
      "48:\tlearn: 14.2838447\ttotal: 208ms\tremaining: 46.7ms\n"
     ]
    },
    {
     "name": "stdout",
     "output_type": "stream",
     "text": [
      "49:\tlearn: 14.0908013\ttotal: 213ms\tremaining: 42.6ms\n",
      "50:\tlearn: 13.9690949\ttotal: 217ms\tremaining: 38.3ms\n",
      "51:\tlearn: 13.9171955\ttotal: 221ms\tremaining: 34.1ms\n",
      "52:\tlearn: 13.7426459\ttotal: 226ms\tremaining: 29.8ms\n",
      "53:\tlearn: 13.6345056\ttotal: 230ms\tremaining: 25.5ms\n",
      "54:\tlearn: 13.5559467\ttotal: 234ms\tremaining: 21.2ms\n",
      "55:\tlearn: 13.4174621\ttotal: 238ms\tremaining: 17ms\n",
      "56:\tlearn: 13.2611225\ttotal: 242ms\tremaining: 12.7ms\n",
      "57:\tlearn: 13.1841963\ttotal: 246ms\tremaining: 8.47ms\n",
      "58:\tlearn: 13.0642264\ttotal: 250ms\tremaining: 4.23ms\n",
      "59:\tlearn: 12.9960456\ttotal: 254ms\tremaining: 0us\n",
      "Profundidad máxima: 9\n",
      "\n",
      "Valuación de dataset de prueba en cat_model:  0.27112373406862345\n",
      "\n",
      "RMSE CatBoost model prueba: 49.98629019459919\n",
      "\n"
     ]
    }
   ],
   "source": [
    "for depth in range (4, 10):\n",
    "    cat_model = CatBoostRegressor(iterations=60, max_depth=depth, learning_rate=0.4, loss_function='RMSE', random_state=12345)\n",
    "    cat_model.fit(feat_train, target_train)\n",
    "    cat_predict = cat_model.predict(feat_test)\n",
    "    print(\"Profundidad máxima:\", depth)\n",
    "    print()\n",
    "    print(\"Valuación de dataset de prueba en cat_model: \", cat_model.score(feat_test, target_test))\n",
    "    print()\n",
    "    print(f\"RMSE CatBoost model prueba: {rmse(cat_predict, target_test)}\")\n",
    "    print()"
   ]
  },
  {
   "cell_type": "code",
   "execution_count": 31,
   "metadata": {},
   "outputs": [
    {
     "name": "stdout",
     "output_type": "stream",
     "text": [
      "0:\tlearn: 33.7946670\ttotal: 1.32ms\tremaining: 77.7ms\n",
      "1:\tlearn: 31.2222648\ttotal: 2.15ms\tremaining: 62.2ms\n",
      "2:\tlearn: 28.3893865\ttotal: 2.79ms\tremaining: 53ms\n",
      "3:\tlearn: 26.6986654\ttotal: 3.41ms\tremaining: 47.8ms\n",
      "4:\tlearn: 25.9156536\ttotal: 4.02ms\tremaining: 44.3ms\n",
      "5:\tlearn: 25.5650418\ttotal: 4.65ms\tremaining: 41.9ms\n",
      "6:\tlearn: 25.3295365\ttotal: 5.26ms\tremaining: 39.8ms\n",
      "7:\tlearn: 24.8172035\ttotal: 5.92ms\tremaining: 38.5ms\n",
      "8:\tlearn: 24.5877400\ttotal: 6.54ms\tremaining: 37.1ms\n",
      "9:\tlearn: 24.4281783\ttotal: 7.14ms\tremaining: 35.7ms\n",
      "10:\tlearn: 24.2740864\ttotal: 7.71ms\tremaining: 34.3ms\n",
      "11:\tlearn: 24.1309342\ttotal: 8.29ms\tremaining: 33.2ms\n",
      "12:\tlearn: 23.9334170\ttotal: 8.91ms\tremaining: 32.2ms\n",
      "13:\tlearn: 23.8929038\ttotal: 9.48ms\tremaining: 31.1ms\n",
      "14:\tlearn: 23.3930603\ttotal: 10.1ms\tremaining: 30.4ms\n",
      "15:\tlearn: 23.1522970\ttotal: 10.7ms\tremaining: 29.5ms\n",
      "16:\tlearn: 22.9251853\ttotal: 11.3ms\tremaining: 28.7ms\n",
      "17:\tlearn: 22.7378663\ttotal: 11.9ms\tremaining: 27.8ms\n",
      "18:\tlearn: 22.6998160\ttotal: 12.5ms\tremaining: 26.9ms\n",
      "19:\tlearn: 22.6054728\ttotal: 13.1ms\tremaining: 26.2ms\n",
      "20:\tlearn: 22.3759231\ttotal: 13.7ms\tremaining: 25.5ms\n",
      "21:\tlearn: 22.1962727\ttotal: 14.4ms\tremaining: 24.8ms\n",
      "22:\tlearn: 22.1721191\ttotal: 14.9ms\tremaining: 24ms\n",
      "23:\tlearn: 22.1489008\ttotal: 15.5ms\tremaining: 23.2ms\n",
      "24:\tlearn: 21.8221424\ttotal: 16.1ms\tremaining: 22.5ms\n",
      "25:\tlearn: 21.6311507\ttotal: 16.7ms\tremaining: 21.8ms\n",
      "26:\tlearn: 21.4882732\ttotal: 17.3ms\tremaining: 21.1ms\n",
      "27:\tlearn: 21.3833216\ttotal: 17.9ms\tremaining: 20.4ms\n",
      "28:\tlearn: 21.3639116\ttotal: 18.5ms\tremaining: 19.7ms\n",
      "29:\tlearn: 21.3493985\ttotal: 19ms\tremaining: 19ms\n",
      "30:\tlearn: 21.2110207\ttotal: 19.6ms\tremaining: 18.4ms\n",
      "31:\tlearn: 21.1163865\ttotal: 20.2ms\tremaining: 17.7ms\n",
      "32:\tlearn: 20.9572502\ttotal: 20.8ms\tremaining: 17.1ms\n",
      "33:\tlearn: 20.9444822\ttotal: 21.4ms\tremaining: 16.4ms\n",
      "34:\tlearn: 20.7626551\ttotal: 22ms\tremaining: 15.7ms\n",
      "35:\tlearn: 20.7486187\ttotal: 22.6ms\tremaining: 15.1ms\n",
      "36:\tlearn: 20.6453784\ttotal: 23.2ms\tremaining: 14.4ms\n",
      "37:\tlearn: 20.5520307\ttotal: 23.8ms\tremaining: 13.8ms\n",
      "38:\tlearn: 20.5403378\ttotal: 24.3ms\tremaining: 13.1ms\n",
      "39:\tlearn: 20.4565830\ttotal: 24.9ms\tremaining: 12.4ms\n",
      "40:\tlearn: 20.3456232\ttotal: 25.5ms\tremaining: 11.8ms\n",
      "41:\tlearn: 20.2859378\ttotal: 26.2ms\tremaining: 11.2ms\n",
      "42:\tlearn: 20.2784765\ttotal: 26.7ms\tremaining: 10.5ms\n",
      "43:\tlearn: 20.2055307\ttotal: 27.3ms\tremaining: 9.93ms\n",
      "44:\tlearn: 20.1374487\ttotal: 27.9ms\tremaining: 9.3ms\n",
      "45:\tlearn: 20.0881594\ttotal: 28.5ms\tremaining: 8.67ms\n",
      "46:\tlearn: 19.9779560\ttotal: 29.1ms\tremaining: 8.05ms\n",
      "47:\tlearn: 19.9073211\ttotal: 29.7ms\tremaining: 7.43ms\n",
      "48:\tlearn: 19.8555576\ttotal: 30.3ms\tremaining: 6.81ms\n",
      "49:\tlearn: 19.7761396\ttotal: 30.9ms\tremaining: 6.19ms\n",
      "50:\tlearn: 19.6998706\ttotal: 31.6ms\tremaining: 5.57ms\n",
      "51:\tlearn: 19.6926434\ttotal: 32.1ms\tremaining: 4.94ms\n",
      "52:\tlearn: 19.6382248\ttotal: 32.7ms\tremaining: 4.32ms\n",
      "53:\tlearn: 19.5815034\ttotal: 33.3ms\tremaining: 3.7ms\n",
      "54:\tlearn: 19.5230516\ttotal: 33.9ms\tremaining: 3.08ms\n",
      "55:\tlearn: 19.4691930\ttotal: 34.5ms\tremaining: 2.46ms\n",
      "56:\tlearn: 19.4169261\ttotal: 35ms\tremaining: 1.84ms\n",
      "57:\tlearn: 19.3072181\ttotal: 35.6ms\tremaining: 1.23ms\n",
      "58:\tlearn: 19.2469524\ttotal: 36.2ms\tremaining: 614us\n",
      "59:\tlearn: 19.1860314\ttotal: 36.8ms\tremaining: 0us\n",
      "Valuación de dataset de prueba en cat_model:  0.4215658193267299\n",
      "\n",
      "RMSE CatBoost model prueba: 44.529823722128974\n",
      "\n"
     ]
    }
   ],
   "source": [
    "cat_model = CatBoostRegressor(iterations=60, max_depth=4, learning_rate=0.4, loss_function='RMSE', random_state=12345)\n",
    "cat_model.fit(feat_train, target_train)\n",
    "cat_predict = cat_model.predict(feat_test)\n",
    "print(\"Valuación de dataset de prueba en cat_model: \", cat_model.score(feat_test, target_test))\n",
    "print()\n",
    "print(f\"RMSE CatBoost model prueba: {rmse(cat_predict, target_test)}\")\n",
    "print()"
   ]
  },
  {
   "cell_type": "markdown",
   "metadata": {},
   "source": [
    "### Conclusiones modelo CatBoost\n",
    "\n",
    "Al iterar sobre este modelo llegamos a la conclusion que estos son los valores ideales para entrenar el modelo:\n",
    "\n",
    "Fijar el número de iteraciones en 60, profunidad máxima por árbol en 4 y un learning rate de 0.4\n",
    "\n",
    "Con esta combinación de valores llegamos a obtener un error mínimo de 44.52 con el conjunto de prueba."
   ]
  },
  {
   "cell_type": "markdown",
   "metadata": {},
   "source": [
    "<div class=\"alert alert-block alert-danger\">\n",
    "<b>Comentario del revisor (1ra Iteracion)</b> <a class=“tocSkip”></a>\n",
    "\n",
    "Buen avance con el proyecto Arturo! Si, veo que no se logró bajar a menos de 48 la métrica, te recomendaría que extraigas un poco más de información de los datos temporales para esto, por ejemplo, puedes agregar la hora del día al dataset para complementar mejor la información que le pasas a los modelos.\n",
    "</div>"
   ]
  },
  {
   "cell_type": "markdown",
   "metadata": {},
   "source": [
    "<div class=\"alert alert-block alert-success\">\n",
    "<b>Comentario del revisor (2da Iteracion)</b> <a class=“tocSkip”></a>\n",
    "\n",
    "Excelente trabajo Arturo, se nota que vas por buen camino como Data Scientist. Este proceso de experimentación de poner o quitar características a los modelos es parte de una técnica llamada `Feature Engineering`, y es normal que te tome un poco de tiempo llegar a la combinación correcta para obtener el correcto desempeño de un modelo ya que eso es parte del proceso de experimentación.\n",
    "    \n",
    "Saludos!\n",
    "</div>"
   ]
  },
  {
   "cell_type": "markdown",
   "metadata": {},
   "source": [
    "## Conclusiones Generales\n",
    "\n",
    "Al iterar nuestro modelos podemos observar que LightGBM y CatBoost llegan a satisfacer nuestro objetivos.\n",
    "En este caso yo recomendaría utilizar el modelo CatBoost ya que alcanza el objetivo utilizando menos recursos, eficientando el tiempo computacional.\n",
    "Aunque LightGBM alcanza un error menor a CatBoost, el segundo modelo itera de manera más rápìda y eficiente.\n",
    "Dejaría la decisión a criterio del cliente, para que utilizen un modelo que más les acomode."
   ]
  },
  {
   "cell_type": "markdown",
   "metadata": {},
   "source": []
  },
  {
   "cell_type": "markdown",
   "metadata": {},
   "source": [
    "# Lista de revisión"
   ]
  },
  {
   "cell_type": "markdown",
   "metadata": {},
   "source": [
    "- [x]  \t\n",
    "Jupyter Notebook está abierto.\n",
    "- [ ]  El código no tiene errores\n",
    "- [ ]  Las celdas con el código han sido colocadas en el orden de ejecución.\n",
    "- [ ]  \t\n",
    "Los datos han sido descargados y preparados.\n",
    "- [ ]  Se ha realizado el paso 2: los datos han sido analizados\n",
    "- [ ]  Se entrenó el modelo y se seleccionaron los hiperparámetros\n",
    "- [ ]  Se han evaluado los modelos. Se expuso una conclusión\n",
    "- [ ] La *RECM* para el conjunto de prueba no es más de 48"
   ]
  }
 ],
 "metadata": {
  "ExecuteTimeLog": [
   {
    "duration": 321,
    "start_time": "2024-12-19T21:47:53.472Z"
   },
   {
    "duration": 179,
    "start_time": "2024-12-19T21:48:52.350Z"
   },
   {
    "duration": 13,
    "start_time": "2024-12-19T21:49:21.211Z"
   },
   {
    "duration": 419,
    "start_time": "2024-12-19T21:49:56.171Z"
   },
   {
    "duration": 19,
    "start_time": "2024-12-19T21:50:14.188Z"
   },
   {
    "duration": 23,
    "start_time": "2024-12-19T21:50:22.518Z"
   },
   {
    "duration": 27,
    "start_time": "2024-12-19T21:50:47.644Z"
   },
   {
    "duration": 25,
    "start_time": "2024-12-19T22:24:04.626Z"
   },
   {
    "duration": 26,
    "start_time": "2024-12-19T22:24:36.990Z"
   },
   {
    "duration": 20,
    "start_time": "2024-12-19T22:27:33.318Z"
   },
   {
    "duration": 8,
    "start_time": "2024-12-19T22:27:39.535Z"
   },
   {
    "duration": 7,
    "start_time": "2024-12-19T22:27:50.361Z"
   },
   {
    "duration": 337,
    "start_time": "2024-12-19T22:29:04.502Z"
   },
   {
    "duration": 1837,
    "start_time": "2024-12-19T22:29:42.173Z"
   },
   {
    "duration": 8,
    "start_time": "2024-12-19T22:33:59.322Z"
   },
   {
    "duration": 597,
    "start_time": "2024-12-19T22:38:16.360Z"
   },
   {
    "duration": 10,
    "start_time": "2024-12-19T22:39:21.332Z"
   },
   {
    "duration": 7,
    "start_time": "2024-12-19T23:01:56.271Z"
   },
   {
    "duration": 4,
    "start_time": "2024-12-19T23:02:48.780Z"
   },
   {
    "duration": 9,
    "start_time": "2024-12-19T23:03:25.962Z"
   },
   {
    "duration": 14,
    "start_time": "2024-12-19T23:03:34.205Z"
   },
   {
    "duration": 4,
    "start_time": "2024-12-19T23:03:55.277Z"
   },
   {
    "duration": 14,
    "start_time": "2024-12-19T23:03:55.901Z"
   },
   {
    "duration": 4,
    "start_time": "2024-12-19T23:04:09.126Z"
   },
   {
    "duration": 13,
    "start_time": "2024-12-19T23:04:09.632Z"
   },
   {
    "duration": 14,
    "start_time": "2024-12-19T23:04:12.098Z"
   },
   {
    "duration": 4,
    "start_time": "2024-12-19T23:06:08.697Z"
   },
   {
    "duration": 13,
    "start_time": "2024-12-19T23:06:09.328Z"
   },
   {
    "duration": 4,
    "start_time": "2024-12-19T23:06:23.524Z"
   },
   {
    "duration": 14,
    "start_time": "2024-12-19T23:06:24.001Z"
   },
   {
    "duration": 14,
    "start_time": "2024-12-19T23:07:33.777Z"
   },
   {
    "duration": 3,
    "start_time": "2024-12-19T23:08:15.484Z"
   },
   {
    "duration": 14,
    "start_time": "2024-12-19T23:08:16.074Z"
   },
   {
    "duration": 14,
    "start_time": "2024-12-19T23:12:07.493Z"
   },
   {
    "duration": 812,
    "start_time": "2024-12-19T23:12:15.546Z"
   },
   {
    "duration": 31,
    "start_time": "2024-12-19T23:12:16.360Z"
   },
   {
    "duration": 18,
    "start_time": "2024-12-19T23:12:16.392Z"
   },
   {
    "duration": 7,
    "start_time": "2024-12-19T23:12:16.412Z"
   },
   {
    "duration": 517,
    "start_time": "2024-12-19T23:12:16.420Z"
   },
   {
    "duration": 4,
    "start_time": "2024-12-19T23:12:16.939Z"
   },
   {
    "duration": 71,
    "start_time": "2024-12-19T23:12:16.944Z"
   },
   {
    "duration": 3,
    "start_time": "2024-12-19T23:12:53.648Z"
   },
   {
    "duration": 13,
    "start_time": "2024-12-19T23:12:54.126Z"
   },
   {
    "duration": 758,
    "start_time": "2024-12-19T23:13:02.512Z"
   },
   {
    "duration": 27,
    "start_time": "2024-12-19T23:13:03.273Z"
   },
   {
    "duration": 14,
    "start_time": "2024-12-19T23:13:03.301Z"
   },
   {
    "duration": 7,
    "start_time": "2024-12-19T23:13:03.316Z"
   },
   {
    "duration": 552,
    "start_time": "2024-12-19T23:13:03.325Z"
   },
   {
    "duration": 4,
    "start_time": "2024-12-19T23:13:03.879Z"
   },
   {
    "duration": 69,
    "start_time": "2024-12-19T23:13:03.885Z"
   },
   {
    "duration": 1992,
    "start_time": "2024-12-19T23:13:27.098Z"
   },
   {
    "duration": 1899,
    "start_time": "2024-12-19T23:13:37.055Z"
   },
   {
    "duration": 227,
    "start_time": "2024-12-19T23:14:33.247Z"
   },
   {
    "duration": 1856,
    "start_time": "2024-12-19T23:14:41.009Z"
   },
   {
    "duration": 1826,
    "start_time": "2024-12-19T23:14:42.868Z"
   },
   {
    "duration": 1026,
    "start_time": "2024-12-19T23:14:44.696Z"
   },
   {
    "duration": 28,
    "start_time": "2024-12-19T23:14:45.724Z"
   },
   {
    "duration": 7,
    "start_time": "2024-12-19T23:14:45.755Z"
   },
   {
    "duration": 7,
    "start_time": "2024-12-19T23:14:45.763Z"
   },
   {
    "duration": 578,
    "start_time": "2024-12-19T23:14:45.772Z"
   },
   {
    "duration": 3,
    "start_time": "2024-12-19T23:14:46.352Z"
   },
   {
    "duration": 17,
    "start_time": "2024-12-19T23:14:46.358Z"
   },
   {
    "duration": 20,
    "start_time": "2024-12-19T23:16:55.889Z"
   },
   {
    "duration": 16,
    "start_time": "2024-12-19T23:17:43.936Z"
   },
   {
    "duration": 5,
    "start_time": "2024-12-19T23:19:20.809Z"
   },
   {
    "duration": 233,
    "start_time": "2024-12-19T23:19:58.165Z"
   },
   {
    "duration": 3,
    "start_time": "2024-12-19T23:20:12.329Z"
   },
   {
    "duration": 2,
    "start_time": "2024-12-19T23:20:29.193Z"
   },
   {
    "duration": 14,
    "start_time": "2024-12-19T23:21:02.542Z"
   },
   {
    "duration": 3,
    "start_time": "2024-12-19T23:21:18.888Z"
   },
   {
    "duration": 240,
    "start_time": "2024-12-19T23:22:29.974Z"
   },
   {
    "duration": 1847,
    "start_time": "2024-12-19T23:23:09.797Z"
   },
   {
    "duration": 1858,
    "start_time": "2024-12-19T23:23:11.647Z"
   },
   {
    "duration": 1029,
    "start_time": "2024-12-19T23:23:13.507Z"
   },
   {
    "duration": 29,
    "start_time": "2024-12-19T23:23:14.537Z"
   },
   {
    "duration": 8,
    "start_time": "2024-12-19T23:23:14.569Z"
   },
   {
    "duration": 5,
    "start_time": "2024-12-19T23:23:14.579Z"
   },
   {
    "duration": 532,
    "start_time": "2024-12-19T23:23:14.585Z"
   },
   {
    "duration": 4,
    "start_time": "2024-12-19T23:23:15.119Z"
   },
   {
    "duration": 16,
    "start_time": "2024-12-19T23:23:15.125Z"
   },
   {
    "duration": 15,
    "start_time": "2024-12-19T23:23:15.143Z"
   },
   {
    "duration": 4,
    "start_time": "2024-12-19T23:23:15.159Z"
   },
   {
    "duration": 3,
    "start_time": "2024-12-19T23:23:15.165Z"
   },
   {
    "duration": 471,
    "start_time": "2024-12-19T23:23:15.170Z"
   },
   {
    "duration": 10,
    "start_time": "2024-12-19T23:23:35.938Z"
   },
   {
    "duration": 7,
    "start_time": "2024-12-19T23:23:37.279Z"
   },
   {
    "duration": 2,
    "start_time": "2024-12-19T23:23:37.995Z"
   },
   {
    "duration": 1087,
    "start_time": "2024-12-19T23:23:38.984Z"
   },
   {
    "duration": 136,
    "start_time": "2024-12-19T23:25:38.150Z"
   },
   {
    "duration": 2,
    "start_time": "2024-12-19T23:27:36.884Z"
   },
   {
    "duration": 143,
    "start_time": "2024-12-19T23:28:24.114Z"
   },
   {
    "duration": 154,
    "start_time": "2024-12-19T23:29:24.234Z"
   },
   {
    "duration": 159,
    "start_time": "2024-12-19T23:29:39.863Z"
   },
   {
    "duration": 3,
    "start_time": "2024-12-19T23:30:03.189Z"
   },
   {
    "duration": 142,
    "start_time": "2024-12-19T23:30:09.425Z"
   },
   {
    "duration": 21,
    "start_time": "2024-12-19T23:31:21.815Z"
   },
   {
    "duration": 24,
    "start_time": "2024-12-19T23:32:15.794Z"
   },
   {
    "duration": 20,
    "start_time": "2024-12-19T23:32:23.555Z"
   },
   {
    "duration": 15502,
    "start_time": "2024-12-19T23:33:56.319Z"
   },
   {
    "duration": 177,
    "start_time": "2024-12-19T23:34:11.823Z"
   },
   {
    "duration": 190,
    "start_time": "2024-12-19T23:34:50.790Z"
   },
   {
    "duration": 150,
    "start_time": "2024-12-19T23:35:13.228Z"
   },
   {
    "duration": 307,
    "start_time": "2024-12-19T23:35:47.704Z"
   },
   {
    "duration": 365,
    "start_time": "2024-12-19T23:35:58.935Z"
   },
   {
    "duration": 374,
    "start_time": "2024-12-19T23:36:09.210Z"
   },
   {
    "duration": 36839,
    "start_time": "2024-12-19T23:36:22.546Z"
   },
   {
    "duration": 4100,
    "start_time": "2024-12-19T23:38:09.787Z"
   },
   {
    "duration": 327,
    "start_time": "2024-12-19T23:38:18.083Z"
   },
   {
    "duration": 30,
    "start_time": "2024-12-19T23:38:35.787Z"
   },
   {
    "duration": 27,
    "start_time": "2024-12-19T23:38:44.635Z"
   },
   {
    "duration": 219,
    "start_time": "2024-12-19T23:39:02.558Z"
   },
   {
    "duration": 292,
    "start_time": "2024-12-19T23:39:17.257Z"
   },
   {
    "duration": 71572,
    "start_time": "2024-12-19T23:44:29.233Z"
   },
   {
    "duration": 14881,
    "start_time": "2024-12-19T23:46:38.837Z"
   },
   {
    "duration": 4976,
    "start_time": "2024-12-19T23:47:28.833Z"
   },
   {
    "duration": 22289,
    "start_time": "2024-12-19T23:48:46.965Z"
   },
   {
    "duration": 22192,
    "start_time": "2024-12-19T23:49:29.116Z"
   },
   {
    "duration": 78312,
    "start_time": "2024-12-19T23:49:52.497Z"
   },
   {
    "duration": 155259,
    "start_time": "2024-12-19T23:51:11.934Z"
   },
   {
    "duration": 0,
    "start_time": "2024-12-19T23:55:27.258Z"
   },
   {
    "duration": 68421,
    "start_time": "2024-12-19T23:55:35.407Z"
   },
   {
    "duration": 33271,
    "start_time": "2024-12-19T23:58:20.467Z"
   },
   {
    "duration": 30673,
    "start_time": "2024-12-19T23:59:03.824Z"
   },
   {
    "duration": 27491,
    "start_time": "2024-12-20T00:00:33.833Z"
   },
   {
    "duration": 664,
    "start_time": "2024-12-20T00:02:16.698Z"
   },
   {
    "duration": 602,
    "start_time": "2024-12-20T00:02:31.762Z"
   },
   {
    "duration": 601,
    "start_time": "2024-12-20T00:02:41.038Z"
   },
   {
    "duration": 715,
    "start_time": "2024-12-20T00:02:51.801Z"
   },
   {
    "duration": 587,
    "start_time": "2024-12-20T00:03:05.423Z"
   },
   {
    "duration": 214,
    "start_time": "2024-12-20T00:03:18.212Z"
   },
   {
    "duration": 29099,
    "start_time": "2024-12-20T00:03:39.665Z"
   },
   {
    "duration": 3362,
    "start_time": "2024-12-20T00:04:56.454Z"
   },
   {
    "duration": 3111,
    "start_time": "2024-12-20T00:05:13.598Z"
   },
   {
    "duration": 8109,
    "start_time": "2024-12-20T00:05:42.010Z"
   },
   {
    "duration": 8141,
    "start_time": "2024-12-20T01:08:07.832Z"
   },
   {
    "duration": 4,
    "start_time": "2024-12-20T01:10:17.464Z"
   },
   {
    "duration": 1015,
    "start_time": "2024-12-20T01:10:29.928Z"
   },
   {
    "duration": 7600,
    "start_time": "2024-12-20T01:12:05.847Z"
   },
   {
    "duration": 8516,
    "start_time": "2024-12-20T01:15:24.454Z"
   },
   {
    "duration": 8530,
    "start_time": "2024-12-20T01:15:34.137Z"
   },
   {
    "duration": 6021,
    "start_time": "2024-12-20T01:16:32.994Z"
   },
   {
    "duration": 890,
    "start_time": "2024-12-20T01:18:12.631Z"
   },
   {
    "duration": 1283,
    "start_time": "2024-12-20T01:20:08.542Z"
   },
   {
    "duration": 17,
    "start_time": "2024-12-20T01:21:24.059Z"
   },
   {
    "duration": 18,
    "start_time": "2024-12-20T01:21:44.349Z"
   },
   {
    "duration": 24,
    "start_time": "2024-12-20T01:22:37.171Z"
   },
   {
    "duration": 270,
    "start_time": "2024-12-20T01:22:42.859Z"
   },
   {
    "duration": 270,
    "start_time": "2024-12-20T01:23:02.004Z"
   },
   {
    "duration": 263,
    "start_time": "2024-12-20T01:23:10.353Z"
   },
   {
    "duration": 261,
    "start_time": "2024-12-20T01:23:21.733Z"
   },
   {
    "duration": 261,
    "start_time": "2024-12-20T01:23:31.078Z"
   },
   {
    "duration": 265,
    "start_time": "2024-12-20T01:23:41.443Z"
   },
   {
    "duration": 262,
    "start_time": "2024-12-20T01:23:49.767Z"
   },
   {
    "duration": 2336,
    "start_time": "2024-12-20T20:34:26.163Z"
   },
   {
    "duration": 1802,
    "start_time": "2024-12-20T20:34:28.501Z"
   },
   {
    "duration": 1003,
    "start_time": "2024-12-20T20:34:30.305Z"
   },
   {
    "duration": 30,
    "start_time": "2024-12-20T20:34:31.310Z"
   },
   {
    "duration": 8,
    "start_time": "2024-12-20T20:34:31.343Z"
   },
   {
    "duration": 18,
    "start_time": "2024-12-20T20:34:31.353Z"
   },
   {
    "duration": 510,
    "start_time": "2024-12-20T20:34:31.373Z"
   },
   {
    "duration": 4,
    "start_time": "2024-12-20T20:34:31.885Z"
   },
   {
    "duration": 17,
    "start_time": "2024-12-20T20:34:31.890Z"
   },
   {
    "duration": 7,
    "start_time": "2024-12-20T20:34:31.908Z"
   },
   {
    "duration": 4,
    "start_time": "2024-12-20T20:34:31.916Z"
   },
   {
    "duration": 15,
    "start_time": "2024-12-20T20:35:51.446Z"
   },
   {
    "duration": 1948,
    "start_time": "2024-12-21T03:10:00.513Z"
   },
   {
    "duration": 1803,
    "start_time": "2024-12-21T03:10:02.464Z"
   },
   {
    "duration": 2676,
    "start_time": "2024-12-21T03:10:04.269Z"
   },
   {
    "duration": 39,
    "start_time": "2024-12-21T03:10:06.947Z"
   },
   {
    "duration": 8,
    "start_time": "2024-12-21T03:10:06.989Z"
   },
   {
    "duration": 6,
    "start_time": "2024-12-21T03:10:06.999Z"
   },
   {
    "duration": 569,
    "start_time": "2024-12-21T03:10:07.006Z"
   },
   {
    "duration": 3,
    "start_time": "2024-12-21T03:10:07.578Z"
   },
   {
    "duration": 16,
    "start_time": "2024-12-21T03:10:07.583Z"
   },
   {
    "duration": 6,
    "start_time": "2024-12-21T03:10:07.601Z"
   },
   {
    "duration": 4,
    "start_time": "2024-12-21T03:10:07.609Z"
   },
   {
    "duration": 3,
    "start_time": "2024-12-21T03:10:07.614Z"
   },
   {
    "duration": 8980,
    "start_time": "2024-12-21T03:10:07.618Z"
   },
   {
    "duration": 1137,
    "start_time": "2024-12-21T03:10:16.602Z"
   },
   {
    "duration": 245,
    "start_time": "2024-12-21T03:10:17.742Z"
   },
   {
    "duration": 0,
    "start_time": "2024-12-21T03:10:17.989Z"
   },
   {
    "duration": 0,
    "start_time": "2024-12-21T03:10:17.990Z"
   },
   {
    "duration": 0,
    "start_time": "2024-12-21T03:10:17.991Z"
   },
   {
    "duration": 0,
    "start_time": "2024-12-21T03:10:17.992Z"
   },
   {
    "duration": 0,
    "start_time": "2024-12-21T03:10:17.994Z"
   },
   {
    "duration": 0,
    "start_time": "2024-12-21T03:10:17.995Z"
   },
   {
    "duration": 8346,
    "start_time": "2024-12-21T03:10:38.850Z"
   },
   {
    "duration": 7955,
    "start_time": "2024-12-21T03:12:41.651Z"
   },
   {
    "duration": 7093,
    "start_time": "2024-12-21T03:12:58.752Z"
   },
   {
    "duration": 6122,
    "start_time": "2024-12-21T03:13:54.540Z"
   },
   {
    "duration": 876,
    "start_time": "2024-12-21T03:16:04.180Z"
   },
   {
    "duration": 118,
    "start_time": "2024-12-21T03:17:21.740Z"
   },
   {
    "duration": 257,
    "start_time": "2024-12-21T03:20:09.990Z"
   },
   {
    "duration": 185,
    "start_time": "2024-12-21T03:20:19.504Z"
   },
   {
    "duration": 1280,
    "start_time": "2024-12-21T03:20:31.738Z"
   },
   {
    "duration": 140,
    "start_time": "2024-12-21T03:21:10.836Z"
   },
   {
    "duration": 134,
    "start_time": "2024-12-21T03:21:22.218Z"
   },
   {
    "duration": 122,
    "start_time": "2024-12-21T03:21:33.359Z"
   },
   {
    "duration": 1148,
    "start_time": "2024-12-21T03:21:51.384Z"
   },
   {
    "duration": 132,
    "start_time": "2024-12-21T03:22:31.999Z"
   },
   {
    "duration": 127,
    "start_time": "2024-12-21T03:22:39.278Z"
   },
   {
    "duration": 127,
    "start_time": "2024-12-21T03:22:46.423Z"
   }
  ],
  "kernelspec": {
   "display_name": "Python 3 (ipykernel)",
   "language": "python",
   "name": "python3"
  },
  "language_info": {
   "codemirror_mode": {
    "name": "ipython",
    "version": 3
   },
   "file_extension": ".py",
   "mimetype": "text/x-python",
   "name": "python",
   "nbconvert_exporter": "python",
   "pygments_lexer": "ipython3",
   "version": "3.9.19"
  },
  "toc": {
   "base_numbering": 1,
   "nav_menu": {},
   "number_sections": true,
   "sideBar": true,
   "skip_h1_title": true,
   "title_cell": "Table of Contents",
   "title_sidebar": "Contents",
   "toc_cell": false,
   "toc_position": {},
   "toc_section_display": true,
   "toc_window_display": false
  }
 },
 "nbformat": 4,
 "nbformat_minor": 2
}
